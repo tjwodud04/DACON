{
 "cells": [
  {
   "cell_type": "code",
   "execution_count": null,
   "id": "d64788ef",
   "metadata": {},
   "outputs": [],
   "source": [
    "# Importing the libraries needed\n",
    "import torch\n",
    "import random\n",
    "import numpy as np\n",
    "import transformers\n",
    "\n",
    "from torch import nn\n",
    "\n",
    "SEED = 42\n",
    "\n",
    "random.seed(SEED)\n",
    "np.random.seed(SEED)\n",
    "torch.manual_seed(SEED)\n",
    "torch.backends.cudnn.deterministic = True"
   ]
  },
  {
   "cell_type": "code",
   "execution_count": null,
   "id": "86e278ea",
   "metadata": {},
   "outputs": [],
   "source": [
    "from torch import cuda\n",
    "\n",
    "device = 'cuda' if cuda.is_available() else 'cpu'"
   ]
  },
  {
   "cell_type": "code",
   "execution_count": null,
   "id": "c9a062f8",
   "metadata": {},
   "outputs": [],
   "source": [
    "import pandas as pd\n",
    "\n",
    "train = pd.read_csv('./train.csv')\n",
    "test = pd.read_csv('./test.csv')\n",
    "submit = pd.read_csv('./sample_submission.csv')\n",
    "\n",
    "test_list = test[\"Utterance\"].values.tolist()"
   ]
  },
  {
   "cell_type": "code",
   "execution_count": null,
   "id": "8645babb",
   "metadata": {},
   "outputs": [],
   "source": [
    "train.head()"
   ]
  },
  {
   "cell_type": "code",
   "execution_count": null,
   "id": "e3b3c632",
   "metadata": {},
   "outputs": [],
   "source": [
    "train['Target'].unique()"
   ]
  },
  {
   "cell_type": "code",
   "execution_count": null,
   "id": "9fbc09be",
   "metadata": {},
   "outputs": [],
   "source": [
    "test_list[0]"
   ]
  },
  {
   "cell_type": "markdown",
   "id": "85cc8164",
   "metadata": {},
   "source": [
    "**Making a model inference as a function**"
   ]
  },
  {
   "cell_type": "code",
   "execution_count": null,
   "id": "297b0dc1",
   "metadata": {},
   "outputs": [],
   "source": [
    "from transformers import AutoTokenizer, AutoModelForSequenceClassification, pipeline\n",
    "\n",
    "def sentiment_classification(modelname):\n",
    "    result = list()\n",
    "    final_labels = list()\n",
    "\n",
    "    model = modelname\n",
    "\n",
    "    tokenizer = AutoTokenizer.from_pretrained(model)    \n",
    "    \n",
    "    model = AutoModelForSequenceClassification.from_pretrained(model)\n",
    "\n",
    "    classification = pipeline(\"sentiment-analysis\", model=model, tokenizer=tokenizer, device=0)\n",
    "\n",
    "    for i in range(len(test_list)):\n",
    "        print(classification(test_list[i]))\n",
    "        result.append(classification(test_list[i]))\n",
    "\n",
    "    for i in range(len(result)):\n",
    "        for j in range(len(result[i])):\n",
    "            final_labels.append([result[i][j]['label'], result[i][j]['score']])\n",
    "    \n",
    "    return final_labels"
   ]
  },
  {
   "cell_type": "markdown",
   "id": "ebe531cd",
   "metadata": {},
   "source": [
    "**base model inference**"
   ]
  },
  {
   "cell_type": "markdown",
   "id": "23a16a83",
   "metadata": {},
   "source": [
    "EmoBERTa paper : https://arxiv.org/abs/2108.12009  \n",
    "(Base) HuggingFace link : https://huggingface.co/tae898/emoberta-base?text=I+like+you.+I+love+you"
   ]
  },
  {
   "cell_type": "code",
   "execution_count": null,
   "id": "a794216e",
   "metadata": {},
   "outputs": [],
   "source": [
    "inference01 = sentiment_classification(\"tae898/emoberta-base\")"
   ]
  },
  {
   "cell_type": "code",
   "execution_count": null,
   "id": "0d4b5d87",
   "metadata": {},
   "outputs": [],
   "source": [
    "inference01[:5]"
   ]
  },
  {
   "cell_type": "markdown",
   "id": "c408d971",
   "metadata": {},
   "source": [
    "**large model inference**"
   ]
  },
  {
   "cell_type": "markdown",
   "id": "126e45f7",
   "metadata": {},
   "source": [
    "(Large) HuggingFace link : https://huggingface.co/tae898/emoberta-large?text=I+like+you.+I+love+you"
   ]
  },
  {
   "cell_type": "code",
   "execution_count": null,
   "id": "5232fc1d",
   "metadata": {},
   "outputs": [],
   "source": [
    "inference02 = sentiment_classification(\"tae898/emoberta-large\")"
   ]
  },
  {
   "cell_type": "code",
   "execution_count": null,
   "id": "b69d2289",
   "metadata": {},
   "outputs": [],
   "source": [
    "inference02[:5]"
   ]
  },
  {
   "cell_type": "code",
   "execution_count": null,
   "id": "363cfaa5",
   "metadata": {},
   "outputs": [],
   "source": [
    "final_concatenation = list()\n",
    "\n",
    "for i in range(len(inference01)):\n",
    "    if max(float(inference01[i][1]), float(inference02[i][1])) == float(inference01[i][1]):\n",
    "        final_concatenation.append(inference01[i][0])\n",
    "    elif max(float(inference01[i][1]), float(inference02[i][1])) == float(inference02[i][1]):\n",
    "        final_concatenation.append(inference02[i][0])\n",
    "    elif float(inference01[i][1]) == float(inference02[i][1]) :\n",
    "        final_concatenation.append(inference01[i][0])"
   ]
  },
  {
   "cell_type": "code",
   "execution_count": null,
   "id": "d77a6be0",
   "metadata": {},
   "outputs": [],
   "source": [
    "final_concatenation[0]"
   ]
  },
  {
   "cell_type": "code",
   "execution_count": null,
   "id": "3500f9dc",
   "metadata": {},
   "outputs": [],
   "source": [
    "submit['Target'] = final_concatenation\n",
    "submit.head()"
   ]
  },
  {
   "cell_type": "code",
   "execution_count": null,
   "id": "4ed4c0e9",
   "metadata": {},
   "outputs": [],
   "source": [
    "submit.to_csv('./HuggingFace_pipeline_concatenation.csv', index=False)"
   ]
  },
  {
   "cell_type": "code",
   "execution_count": null,
   "id": "c646aa4c",
   "metadata": {},
   "outputs": [],
   "source": []
  }
 ],
 "metadata": {
  "kernelspec": {
   "display_name": "dpdb_api_test",
   "language": "python",
   "name": "dpdb_api_test"
  },
  "language_info": {
   "codemirror_mode": {
    "name": "ipython",
    "version": 3
   },
   "file_extension": ".py",
   "mimetype": "text/x-python",
   "name": "python",
   "nbconvert_exporter": "python",
   "pygments_lexer": "ipython3",
   "version": "3.9.13"
  }
 },
 "nbformat": 4,
 "nbformat_minor": 5
}
