{
 "cells": [
  {
   "cell_type": "code",
   "execution_count": null,
   "metadata": {
    "id": "Ips1ZEWMYzbO"
   },
   "outputs": [],
   "source": [
    "!pip install autokeras\n",
    "!pip install keras-tuner"
   ]
  },
  {
   "cell_type": "code",
   "execution_count": 3,
   "metadata": {
    "id": "82WptEVUYp-I"
   },
   "outputs": [],
   "source": [
    "import pandas as pd\n",
    "import numpy as np\n",
    "import tensorflow as tf\n",
    "import autokeras as ak"
   ]
  },
  {
   "cell_type": "code",
   "execution_count": 4,
   "metadata": {
    "id": "mN-k0CvrYZCM"
   },
   "outputs": [],
   "source": [
    "train = pd.read_csv('/content/drive/My Drive/open/train.csv', encoding = 'utf-8')\n",
    "test = pd.read_csv('/content/drive/My Drive/open/test_x.csv', encoding = 'utf-8')\n",
    "sample_submission = pd.read_csv('/content/drive/My Drive/open/sample_submission.csv', encoding = 'utf-8')"
   ]
  },
  {
   "cell_type": "code",
   "execution_count": 5,
   "metadata": {
    "id": "p5roK7v8XT3e"
   },
   "outputs": [],
   "source": [
    "text_train = train.text.values\n",
    "author_train = train.author.values\n",
    "test = test.text.values"
   ]
  },
  {
   "cell_type": "code",
   "execution_count": 6,
   "metadata": {
    "colab": {
     "base_uri": "https://localhost:8080/"
    },
    "id": "IHr1IM1gXGzN",
    "outputId": "7503afaa-4aa6-452a-f465-e2574595fa7a"
   },
   "outputs": [
    {
     "name": "stdout",
     "output_type": "stream",
     "text": [
      "Trial 3 Complete [01h 05m 34s]\n",
      "val_loss: 0.134598970413208\n",
      "\n",
      "Best val_loss So Far: 0.134598970413208\n",
      "Total elapsed time: 01h 08m 55s\n",
      "INFO:tensorflow:Oracle triggered exit\n",
      "Epoch 1/5\n",
      "Not enough memory, reduce batch size to 16.\n",
      "Epoch 1/5\n",
      "      3/Unknown - 1s 192ms/step - loss: 0.6546 - accuracy: 0.2500Not enough memory, reduce batch size to 8.\n",
      "Epoch 1/5\n",
      "6860/6860 [==============================] - 869s 127ms/step - loss: 0.2133 - accuracy: 0.7612\n",
      "Epoch 2/5\n",
      "6860/6860 [==============================] - 870s 127ms/step - loss: 0.0956 - accuracy: 0.9076\n",
      "Epoch 3/5\n",
      "6860/6860 [==============================] - 873s 127ms/step - loss: 0.0901 - accuracy: 0.9146\n",
      "Epoch 4/5\n",
      "6860/6860 [==============================] - 869s 127ms/step - loss: 0.0905 - accuracy: 0.9139\n",
      "Epoch 5/5\n",
      "6860/6860 [==============================] - 866s 126ms/step - loss: 0.0906 - accuracy: 0.9132\n",
      "WARNING:tensorflow:From /usr/local/lib/python3.6/dist-packages/tensorflow/python/training/tracking/tracking.py:111: Model.state_updates (from tensorflow.python.keras.engine.training) is deprecated and will be removed in a future version.\n",
      "Instructions for updating:\n",
      "This property should not be used in TensorFlow 2.0, as updates are applied automatically.\n",
      "WARNING:tensorflow:From /usr/local/lib/python3.6/dist-packages/tensorflow/python/training/tracking/tracking.py:111: Layer.updates (from tensorflow.python.keras.engine.base_layer) is deprecated and will be removed in a future version.\n",
      "Instructions for updating:\n",
      "This property should not be used in TensorFlow 2.0, as updates are applied automatically.\n",
      "INFO:tensorflow:Assets written to: ./text_classifier/best_model/assets\n",
      "WARNING:tensorflow:Unresolved object in checkpoint: (root).model._config_dict\n",
      "WARNING:tensorflow:Unresolved object in checkpoint: (root).model._config_dict.initializer\n",
      "WARNING:tensorflow:Unresolved object in checkpoint: (root).model._config_dict.initializer.config\n",
      "WARNING:tensorflow:A checkpoint was restored (e.g. tf.train.Checkpoint.restore or tf.keras.Model.load_weights) but not all checkpointed values were used. See above for specific issues. Use expect_partial() on the load status object, e.g. tf.train.Checkpoint.restore(...).expect_partial(), to silence these warnings, or use assert_consumed() to make the check explicit. See https://www.tensorflow.org/guide/checkpoint#loading_mechanics for details.\n"
     ]
    }
   ],
   "source": [
    "clf = ak.TextClassifier(\n",
    "    multi_label=True,\n",
    "    overwrite=True,\n",
    "    max_trials=3)\n",
    "\n",
    "clf.fit(text_train, author_train, epochs=5)\n",
    "\n",
    "model = clf.export_model()"
   ]
  },
  {
   "cell_type": "code",
   "execution_count": 7,
   "metadata": {
    "colab": {
     "base_uri": "https://localhost:8080/"
    },
    "id": "xIYYzeCAstuT",
    "outputId": "1db8ff2f-9be3-4020-e76f-a0010f0fcbf8"
   },
   "outputs": [
    {
     "name": "stdout",
     "output_type": "stream",
     "text": [
      "Model: \"functional_1\"\n",
      "__________________________________________________________________________________________________\n",
      "Layer (type)                    Output Shape         Param #     Connected to                     \n",
      "==================================================================================================\n",
      "input_1 (InputLayer)            [(None,)]            0                                            \n",
      "__________________________________________________________________________________________________\n",
      "expand_last_dim (ExpandLastDim) (None, 1)            0           input_1[0][0]                    \n",
      "__________________________________________________________________________________________________\n",
      "bert_tokenizer (BertTokenizer)  ((None, None), (None 0           expand_last_dim[0][0]            \n",
      "__________________________________________________________________________________________________\n",
      "bert_encoder (BertEncoder)      (None, 768)          109482240   bert_tokenizer[0][0]             \n",
      "                                                                 bert_tokenizer[0][1]             \n",
      "                                                                 bert_tokenizer[0][2]             \n",
      "__________________________________________________________________________________________________\n",
      "dense (Dense)                   (None, 5)            3845        bert_encoder[0][0]               \n",
      "__________________________________________________________________________________________________\n",
      "classification_head_1 (Activati (None, 5)            0           dense[0][0]                      \n",
      "==================================================================================================\n",
      "Total params: 109,486,085\n",
      "Trainable params: 109,486,085\n",
      "Non-trainable params: 0\n",
      "__________________________________________________________________________________________________\n"
     ]
    }
   ],
   "source": [
    "model.summary()"
   ]
  },
  {
   "cell_type": "code",
   "execution_count": 8,
   "metadata": {
    "id": "dQ6dDq9RkhIK"
   },
   "outputs": [],
   "source": [
    "pred = model.predict(test)"
   ]
  },
  {
   "cell_type": "code",
   "execution_count": 9,
   "metadata": {
    "colab": {
     "base_uri": "https://localhost:8080/"
    },
    "id": "2hgd4mcDddh7",
    "outputId": "b7bd2e3b-80bd-45c5-a9a2-7f34acfa14bf"
   },
   "outputs": [
    {
     "data": {
      "text/plain": [
       "array([[1.8117669e-03, 2.6700616e-01, 7.9508448e-01, 3.1030464e-03,\n",
       "        9.7165153e-05],\n",
       "       [1.1682726e-02, 9.8544902e-01, 8.1119622e-04, 2.0636134e-03,\n",
       "        7.1362825e-03],\n",
       "       [9.9808830e-01, 1.7916613e-03, 5.1144877e-04, 2.4360940e-03,\n",
       "        3.9635471e-04],\n",
       "       ...,\n",
       "       [4.1369884e-03, 9.9594861e-01, 1.5580514e-03, 1.5368141e-03,\n",
       "        1.4620089e-03],\n",
       "       [1.7783111e-03, 9.9608910e-01, 3.0923074e-03, 1.7797820e-03,\n",
       "        1.6755707e-03],\n",
       "       [3.4923011e-01, 1.1492617e-03, 3.4817084e-04, 5.0263083e-01,\n",
       "        1.4887305e-01]], dtype=float32)"
      ]
     },
     "execution_count": 9,
     "metadata": {
      "tags": []
     },
     "output_type": "execute_result"
    }
   ],
   "source": [
    "pred"
   ]
  },
  {
   "cell_type": "code",
   "execution_count": 10,
   "metadata": {
    "id": "tZrJbD5QZ53y"
   },
   "outputs": [],
   "source": [
    "sample_submission[['0','1','2','3','4']] = pred"
   ]
  },
  {
   "cell_type": "code",
   "execution_count": 11,
   "metadata": {
    "id": "sHmZZx72Z65P"
   },
   "outputs": [],
   "source": [
    "sample_submission.to_csv('/content/drive/My Drive/submission.csv', index = False, encoding = 'utf-8')"
   ]
  },
  {
   "cell_type": "code",
   "execution_count": null,
   "metadata": {},
   "outputs": [],
   "source": []
  },
  {
   "cell_type": "markdown",
   "metadata": {
    "id": "g05FUrw8X5gm"
   },
   "source": [
    " "
   ]
  }
 ],
 "metadata": {
  "accelerator": "GPU",
  "colab": {
   "collapsed_sections": [],
   "name": "Text+AutoML.ipynb",
   "provenance": []
  },
  "kernelspec": {
   "display_name": "Python 3",
   "language": "python",
   "name": "python3"
  },
  "language_info": {
   "codemirror_mode": {
    "name": "ipython",
    "version": 3
   },
   "file_extension": ".py",
   "mimetype": "text/x-python",
   "name": "python",
   "nbconvert_exporter": "python",
   "pygments_lexer": "ipython3",
   "version": "3.7.9"
  }
 },
 "nbformat": 4,
 "nbformat_minor": 1
}
