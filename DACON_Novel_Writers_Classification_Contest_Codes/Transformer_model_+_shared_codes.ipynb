{
 "cells": [
  {
   "cell_type": "code",
   "execution_count": 2,
   "metadata": {
    "executionInfo": {
     "elapsed": 34809,
     "status": "ok",
     "timestamp": 1605544041884,
     "user": {
      "displayName": "Jae Always",
      "photoUrl": "https://lh3.googleusercontent.com/a-/AOh14Gi5h3Ny0rA1n5V5ILL3PinjLBxD23LGv1_n_J1AEw=s64",
      "userId": "06764597596017867424"
     },
     "user_tz": -540
    },
    "id": "gi6q7VdSlvYL"
   },
   "outputs": [],
   "source": [
    "%reload_ext autoreload\n",
    "%autoreload 2\n",
    "%matplotlib inline"
   ]
  },
  {
   "cell_type": "code",
   "execution_count": 3,
   "metadata": {
    "executionInfo": {
     "elapsed": 36807,
     "status": "ok",
     "timestamp": 1605544043884,
     "user": {
      "displayName": "Jae Always",
      "photoUrl": "https://lh3.googleusercontent.com/a-/AOh14Gi5h3Ny0rA1n5V5ILL3PinjLBxD23LGv1_n_J1AEw=s64",
      "userId": "06764597596017867424"
     },
     "user_tz": -540
    },
    "id": "BFCvLB4ylvh3"
   },
   "outputs": [],
   "source": [
    "from matplotlib import rcParams, pyplot as plt\n",
    "import numpy as np\n",
    "import os\n",
    "import pandas as pd\n",
    "from pathlib import Path\n",
    "import re\n",
    "from sklearn.metrics import accuracy_score, log_loss\n",
    "from sklearn.model_selection import StratifiedKFold\n",
    "import tensorflow as tf\n",
    "from tensorflow.keras import Sequential\n",
    "from tensorflow import keras\n",
    "from tensorflow.keras import layers\n",
    "from tensorflow.keras.preprocessing.sequence import pad_sequences\n",
    "from tensorflow.keras.preprocessing.text import Tokenizer\n",
    "from tensorflow.keras.callbacks import EarlyStopping, ReduceLROnPlateau\n",
    "from tensorflow.keras.utils import plot_model, to_categorical\n",
    "import warnings \n",
    "warnings.filterwarnings(action='ignore')"
   ]
  },
  {
   "cell_type": "code",
   "execution_count": 4,
   "metadata": {
    "executionInfo": {
     "elapsed": 36807,
     "status": "ok",
     "timestamp": 1605544043885,
     "user": {
      "displayName": "Jae Always",
      "photoUrl": "https://lh3.googleusercontent.com/a-/AOh14Gi5h3Ny0rA1n5V5ILL3PinjLBxD23LGv1_n_J1AEw=s64",
      "userId": "06764597596017867424"
     },
     "user_tz": -540
    },
    "id": "MQ95xx-XlvsY"
   },
   "outputs": [],
   "source": [
    "data_dir = Path('/content/drive/My Drive/open')\n",
    "feature_dir = Path('/content/drive/My Drive/build/feature')\n",
    "val_dir = Path('/content/drive/My Drive/build02/val')\n",
    "tst_dir = Path('/content/drive/My Drive/build02/tst')\n",
    "sub_dir = Path('/content/drive/My Drive/build02/sub')\n",
    "\n",
    "dirs = [feature_dir, val_dir, tst_dir, sub_dir]\n",
    "\n",
    "for d in dirs:\n",
    "    os.makedirs(d, exist_ok=True)\n",
    "\n",
    "trn_file = data_dir / 'train.csv'\n",
    "tst_file = data_dir / 'test_x.csv'\n",
    "sample_file = data_dir / 'sample_submission.csv'\n",
    "\n",
    "target_col = 'author'\n",
    "n_fold = 5\n",
    "n_class = 5\n",
    "seed = 42"
   ]
  },
  {
   "cell_type": "code",
   "execution_count": 5,
   "metadata": {
    "executionInfo": {
     "elapsed": 36805,
     "status": "ok",
     "timestamp": 1605544043885,
     "user": {
      "displayName": "Jae Always",
      "photoUrl": "https://lh3.googleusercontent.com/a-/AOh14Gi5h3Ny0rA1n5V5ILL3PinjLBxD23LGv1_n_J1AEw=s64",
      "userId": "06764597596017867424"
     },
     "user_tz": -540
    },
    "id": "-UInu3kvlv25"
   },
   "outputs": [],
   "source": [
    "algo_name = 'lstm'\n",
    "feature_name = 'emb'\n",
    "model_name = f'{algo_name}_{feature_name}'\n",
    "\n",
    "feature_file = feature_dir / f'{feature_name}.csv'\n",
    "p_val_file = val_dir / f'{model_name}.val.csv'\n",
    "p_tst_file = tst_dir / f'{model_name}.tst.csv'\n",
    "sub_file = sub_dir / f'{model_name}.csv'"
   ]
  },
  {
   "cell_type": "code",
   "execution_count": 6,
   "metadata": {
    "colab": {
     "base_uri": "https://localhost:8080/",
     "height": 235
    },
    "executionInfo": {
     "elapsed": 39328,
     "status": "ok",
     "timestamp": 1605544046409,
     "user": {
      "displayName": "Jae Always",
      "photoUrl": "https://lh3.googleusercontent.com/a-/AOh14Gi5h3Ny0rA1n5V5ILL3PinjLBxD23LGv1_n_J1AEw=s64",
      "userId": "06764597596017867424"
     },
     "user_tz": -540
    },
    "id": "srX7nka7lvrs",
    "outputId": "a47c35a9-c7bc-4f02-c56f-8024ed003fb0"
   },
   "outputs": [
    {
     "data": {
      "text/html": [
       "<div>\n",
       "<style scoped>\n",
       "    .dataframe tbody tr th:only-of-type {\n",
       "        vertical-align: middle;\n",
       "    }\n",
       "\n",
       "    .dataframe tbody tr th {\n",
       "        vertical-align: top;\n",
       "    }\n",
       "\n",
       "    .dataframe thead th {\n",
       "        text-align: right;\n",
       "    }\n",
       "</style>\n",
       "<table border=\"1\" class=\"dataframe\">\n",
       "  <thead>\n",
       "    <tr style=\"text-align: right;\">\n",
       "      <th></th>\n",
       "      <th>text</th>\n",
       "      <th>author</th>\n",
       "    </tr>\n",
       "    <tr>\n",
       "      <th>index</th>\n",
       "      <th></th>\n",
       "      <th></th>\n",
       "    </tr>\n",
       "  </thead>\n",
       "  <tbody>\n",
       "    <tr>\n",
       "      <th>0</th>\n",
       "      <td>He was almost choking. There was so much, so m...</td>\n",
       "      <td>3</td>\n",
       "    </tr>\n",
       "    <tr>\n",
       "      <th>1</th>\n",
       "      <td>“Your sister asked for it, I suppose?”</td>\n",
       "      <td>2</td>\n",
       "    </tr>\n",
       "    <tr>\n",
       "      <th>2</th>\n",
       "      <td>She was engaged one day as she walked, in per...</td>\n",
       "      <td>1</td>\n",
       "    </tr>\n",
       "    <tr>\n",
       "      <th>3</th>\n",
       "      <td>The captain was in the porch, keeping himself ...</td>\n",
       "      <td>4</td>\n",
       "    </tr>\n",
       "    <tr>\n",
       "      <th>4</th>\n",
       "      <td>“Have mercy, gentlemen!” odin flung up his han...</td>\n",
       "      <td>3</td>\n",
       "    </tr>\n",
       "  </tbody>\n",
       "</table>\n",
       "</div>"
      ],
      "text/plain": [
       "                                                    text  author\n",
       "index                                                           \n",
       "0      He was almost choking. There was so much, so m...       3\n",
       "1                 “Your sister asked for it, I suppose?”       2\n",
       "2       She was engaged one day as she walked, in per...       1\n",
       "3      The captain was in the porch, keeping himself ...       4\n",
       "4      “Have mercy, gentlemen!” odin flung up his han...       3"
      ]
     },
     "execution_count": 6,
     "metadata": {
      "tags": []
     },
     "output_type": "execute_result"
    }
   ],
   "source": [
    "train = pd.read_csv(trn_file, index_col=0)\n",
    "train.head()"
   ]
  },
  {
   "cell_type": "code",
   "execution_count": 7,
   "metadata": {
    "colab": {
     "base_uri": "https://localhost:8080/",
     "height": 235
    },
    "executionInfo": {
     "elapsed": 39327,
     "status": "ok",
     "timestamp": 1605544046410,
     "user": {
      "displayName": "Jae Always",
      "photoUrl": "https://lh3.googleusercontent.com/a-/AOh14Gi5h3Ny0rA1n5V5ILL3PinjLBxD23LGv1_n_J1AEw=s64",
      "userId": "06764597596017867424"
     },
     "user_tz": -540
    },
    "id": "degtuWlHlvrT",
    "outputId": "7ef5feb0-e942-4d0c-f63b-52acc4922905"
   },
   "outputs": [
    {
     "data": {
      "text/html": [
       "<div>\n",
       "<style scoped>\n",
       "    .dataframe tbody tr th:only-of-type {\n",
       "        vertical-align: middle;\n",
       "    }\n",
       "\n",
       "    .dataframe tbody tr th {\n",
       "        vertical-align: top;\n",
       "    }\n",
       "\n",
       "    .dataframe thead th {\n",
       "        text-align: right;\n",
       "    }\n",
       "</style>\n",
       "<table border=\"1\" class=\"dataframe\">\n",
       "  <thead>\n",
       "    <tr style=\"text-align: right;\">\n",
       "      <th></th>\n",
       "      <th>text</th>\n",
       "    </tr>\n",
       "    <tr>\n",
       "      <th>index</th>\n",
       "      <th></th>\n",
       "    </tr>\n",
       "  </thead>\n",
       "  <tbody>\n",
       "    <tr>\n",
       "      <th>0</th>\n",
       "      <td>“Not at all. I think she is one of the most ch...</td>\n",
       "    </tr>\n",
       "    <tr>\n",
       "      <th>1</th>\n",
       "      <td>\"No,\" replied he, with sudden consciousness, \"...</td>\n",
       "    </tr>\n",
       "    <tr>\n",
       "      <th>2</th>\n",
       "      <td>As the lady had stated her intention of scream...</td>\n",
       "    </tr>\n",
       "    <tr>\n",
       "      <th>3</th>\n",
       "      <td>“And then suddenly in the silence I heard a so...</td>\n",
       "    </tr>\n",
       "    <tr>\n",
       "      <th>4</th>\n",
       "      <td>His conviction remained unchanged. So far as I...</td>\n",
       "    </tr>\n",
       "  </tbody>\n",
       "</table>\n",
       "</div>"
      ],
      "text/plain": [
       "                                                    text\n",
       "index                                                   \n",
       "0      “Not at all. I think she is one of the most ch...\n",
       "1      \"No,\" replied he, with sudden consciousness, \"...\n",
       "2      As the lady had stated her intention of scream...\n",
       "3      “And then suddenly in the silence I heard a so...\n",
       "4      His conviction remained unchanged. So far as I..."
      ]
     },
     "execution_count": 7,
     "metadata": {
      "tags": []
     },
     "output_type": "execute_result"
    }
   ],
   "source": [
    "test = pd.read_csv(tst_file, index_col=0)\n",
    "test.head()"
   ]
  },
  {
   "cell_type": "code",
   "execution_count": 8,
   "metadata": {
    "executionInfo": {
     "elapsed": 39325,
     "status": "ok",
     "timestamp": 1605544046410,
     "user": {
      "displayName": "Jae Always",
      "photoUrl": "https://lh3.googleusercontent.com/a-/AOh14Gi5h3Ny0rA1n5V5ILL3PinjLBxD23LGv1_n_J1AEw=s64",
      "userId": "06764597596017867424"
     },
     "user_tz": -540
    },
    "id": "0QWJYKetlvq5"
   },
   "outputs": [],
   "source": [
    "def decontract(sentence):\n",
    "    # specific\n",
    "    sentence = re.sub(r\"won't\", \"will not\", sentence)\n",
    "    sentence = re.sub(r\"can\\'t\", \"can not\", sentence)\n",
    "\n",
    "    # general\n",
    "    sentence = re.sub(r\"n\\'t\", \" not\", sentence)\n",
    "    sentence = re.sub(r\"\\'re\", \" are\", sentence)\n",
    "    sentence = re.sub(r\"\\'s\", \" is\", sentence)\n",
    "    sentence = re.sub(r\"\\'d\", \" would\", sentence)\n",
    "    sentence = re.sub(r\"\\'ll\", \" will\", sentence)\n",
    "    sentence = re.sub(r\"\\'t\", \" not\", sentence)\n",
    "    sentence = re.sub(r\"\\'ve\", \" have\", sentence)\n",
    "    sentence = re.sub(r\"\\'m\", \" am\", sentence)\n",
    "    return sentence\n",
    "\n",
    "def cleanPunc(sentence): \n",
    "    cleaned = re.sub(r'[?|!|\\'|\"|#]',r'',sentence)\n",
    "    cleaned = re.sub(r'[.|,|)|(|\\|/]',r' ',cleaned)\n",
    "    cleaned = cleaned.strip()\n",
    "    cleaned = cleaned.replace(\"\\n\",\" \")\n",
    "    return cleaned\n",
    "\n",
    "def keepAlpha(sentence):\n",
    "    alpha_sent = \"\"\n",
    "    for word in sentence.split():\n",
    "        alpha_word = re.sub('[^a-z A-Z]+', '', word)\n",
    "        alpha_sent += alpha_word\n",
    "        alpha_sent += \" \"\n",
    "    alpha_sent = alpha_sent.strip()\n",
    "    return alpha_sent\n",
    "\n",
    "def removeStopWords(sentence):\n",
    "    global re_stop_words\n",
    "    return re_stop_words.sub(\"\", sentence)"
   ]
  },
  {
   "cell_type": "code",
   "execution_count": 9,
   "metadata": {
    "executionInfo": {
     "elapsed": 39324,
     "status": "ok",
     "timestamp": 1605544046410,
     "user": {
      "displayName": "Jae Always",
      "photoUrl": "https://lh3.googleusercontent.com/a-/AOh14Gi5h3Ny0rA1n5V5ILL3PinjLBxD23LGv1_n_J1AEw=s64",
      "userId": "06764597596017867424"
     },
     "user_tz": -540
    },
    "id": "RQYtMltHlvhL"
   },
   "outputs": [],
   "source": [
    "stopwords= set(['br', 'the', 'i', 'me', 'my', 'myself', 'we', 'our', 'ours', 'ourselves', 'you', \"you're\", \"you've\",\\\n",
    "            \"you'll\", \"you'd\", 'your', 'yours', 'yourself', 'yourselves', 'he', 'him', 'his', 'himself', \\\n",
    "            'she', \"she's\", 'her', 'hers', 'herself', 'it', \"it's\", 'its', 'itself', 'they', 'them', 'their',\\\n",
    "            'theirs', 'themselves', 'what', 'which', 'who', 'whom', 'this', 'that', \"that'll\", 'these', 'those', \\\n",
    "            'am', 'is', 'are', 'was', 'were', 'be', 'been', 'being', 'have', 'has', 'had', 'having', 'do', 'does', \\\n",
    "            'did', 'doing', 'a', 'an', 'the', 'and', 'but', 'if', 'or', 'because', 'as', 'until', 'while', 'of', \\\n",
    "            'at', 'by', 'for', 'with', 'about', 'against', 'between', 'into', 'through', 'during', 'before', 'after',\\\n",
    "            'above', 'below', 'to', 'from', 'up', 'down', 'in', 'out', 'on', 'off', 'over', 'under', 'again', 'further',\\\n",
    "            'then', 'once', 'here', 'there', 'when', 'where', 'why', 'how', 'all', 'any', 'both', 'each', 'few', 'more',\\\n",
    "            'most', 'other', 'some', 'such', 'only', 'own', 'same', 'so', 'than', 'too', 'very', \\\n",
    "            's', 't', 'can', 'will', 'just', 'don', \"don't\", 'should', \"should've\", 'now', 'd', 'll', 'm', 'o', 're', \\\n",
    "            've', 'y', 'ain', 'aren', \"aren't\", 'couldn', \"couldn't\", 'didn', \"didn't\", 'doesn', \"doesn't\", 'hadn',\\\n",
    "            \"hadn't\", 'hasn', \"hasn't\", 'haven', \"haven't\", 'isn', \"isn't\", 'ma', 'mightn', \"mightn't\", 'mustn',\\\n",
    "            \"mustn't\", 'needn', \"needn't\", 'shan', \"shan't\", 'shouldn', \"shouldn't\", 'wasn', \"wasn't\", 'weren', \"weren't\", \\\n",
    "            'won', \"won't\", 'wouldn', \"wouldn't\"])\n",
    "\n",
    "re_stop_words = re.compile(r\"\\b(\" + \"|\".join(stopwords) + \")\\\\W\", re.I)"
   ]
  },
  {
   "cell_type": "code",
   "execution_count": 10,
   "metadata": {
    "executionInfo": {
     "elapsed": 40902,
     "status": "ok",
     "timestamp": 1605544047989,
     "user": {
      "displayName": "Jae Always",
      "photoUrl": "https://lh3.googleusercontent.com/a-/AOh14Gi5h3Ny0rA1n5V5ILL3PinjLBxD23LGv1_n_J1AEw=s64",
      "userId": "06764597596017867424"
     },
     "user_tz": -540
    },
    "id": "px1t4wQ3lvgm"
   },
   "outputs": [],
   "source": [
    "from nltk.stem.snowball import SnowballStemmer\n",
    "\n",
    "stemmer = SnowballStemmer(\"english\")\n",
    "\n",
    "def stemming(sentence):\n",
    "    stemSentence = \"\"\n",
    "    \n",
    "    for word in sentence.split():\n",
    "        stem = stemmer.stem(word)\n",
    "        stemSentence += stem\n",
    "        stemSentence += \" \"\n",
    "        \n",
    "    stemSentence = stemSentence.strip()\n",
    "    \n",
    "    return stemSentence"
   ]
  },
  {
   "cell_type": "code",
   "execution_count": 11,
   "metadata": {
    "executionInfo": {
     "elapsed": 87985,
     "status": "ok",
     "timestamp": 1605544095074,
     "user": {
      "displayName": "Jae Always",
      "photoUrl": "https://lh3.googleusercontent.com/a-/AOh14Gi5h3Ny0rA1n5V5ILL3PinjLBxD23LGv1_n_J1AEw=s64",
      "userId": "06764597596017867424"
     },
     "user_tz": -540
    },
    "id": "mOcVf0M6nIbw"
   },
   "outputs": [],
   "source": [
    "train['text'] = train['text'].str.lower()\n",
    "train['text'] = train['text'].apply(decontract)\n",
    "train['text'] = train['text'].apply(cleanPunc)\n",
    "train['text'] = train['text'].apply(keepAlpha)\n",
    "train['text'] = train['text'].apply(removeStopWords)\n",
    "train['text'] = train['text'].apply(stemming)\n",
    "\n",
    "test['text'] = test['text'].str.lower()\n",
    "test['text'] = test['text'].apply(decontract)\n",
    "test['text'] = test['text'].apply(cleanPunc)\n",
    "test['text'] = test['text'].apply(keepAlpha)\n",
    "test['text'] = test['text'].apply(removeStopWords)\n",
    "test['text'] = test['text'].apply(stemming)"
   ]
  },
  {
   "cell_type": "code",
   "execution_count": 12,
   "metadata": {
    "executionInfo": {
     "elapsed": 88398,
     "status": "ok",
     "timestamp": 1605544095488,
     "user": {
      "displayName": "Jae Always",
      "photoUrl": "https://lh3.googleusercontent.com/a-/AOh14Gi5h3Ny0rA1n5V5ILL3PinjLBxD23LGv1_n_J1AEw=s64",
      "userId": "06764597596017867424"
     },
     "user_tz": -540
    },
    "id": "OkituA0fnIfE"
   },
   "outputs": [],
   "source": [
    "X_train = np.array([x for x in train['text']])\n",
    "X_test = np.array([x for x in test['text']])\n",
    "y_train = np.array([x for x in train['author']])"
   ]
  },
  {
   "cell_type": "code",
   "execution_count": 13,
   "metadata": {
    "executionInfo": {
     "elapsed": 88397,
     "status": "ok",
     "timestamp": 1605544095488,
     "user": {
      "displayName": "Jae Always",
      "photoUrl": "https://lh3.googleusercontent.com/a-/AOh14Gi5h3Ny0rA1n5V5ILL3PinjLBxD23LGv1_n_J1AEw=s64",
      "userId": "06764597596017867424"
     },
     "user_tz": -540
    },
    "id": "gdhAdM-mnJD0"
   },
   "outputs": [],
   "source": [
    "X_train = train['text'].values\n",
    "X_test = test['text'].values\n",
    "y = train['author'].values"
   ]
  },
  {
   "cell_type": "code",
   "execution_count": 14,
   "metadata": {
    "executionInfo": {
     "elapsed": 89594,
     "status": "ok",
     "timestamp": 1605544096686,
     "user": {
      "displayName": "Jae Always",
      "photoUrl": "https://lh3.googleusercontent.com/a-/AOh14Gi5h3Ny0rA1n5V5ILL3PinjLBxD23LGv1_n_J1AEw=s64",
      "userId": "06764597596017867424"
     },
     "user_tz": -540
    },
    "id": "B0RJdnu6nJHX"
   },
   "outputs": [],
   "source": [
    "tokenizer = Tokenizer()\n",
    "tokenizer.fit_on_texts(X_train)\n",
    "word_index = tokenizer.word_index"
   ]
  },
  {
   "cell_type": "code",
   "execution_count": 15,
   "metadata": {
    "executionInfo": {
     "elapsed": 89594,
     "status": "ok",
     "timestamp": 1605544096687,
     "user": {
      "displayName": "Jae Always",
      "photoUrl": "https://lh3.googleusercontent.com/a-/AOh14Gi5h3Ny0rA1n5V5ILL3PinjLBxD23LGv1_n_J1AEw=s64",
      "userId": "06764597596017867424"
     },
     "user_tz": -540
    },
    "id": "k5j7Fq50nJAR"
   },
   "outputs": [],
   "source": [
    "vocab_size = len(word_index) + 1\n",
    "embed_dim = 16 #32\n",
    "maxlen = 500\n",
    "padding_type='post'\n",
    "num_heads = 2 #4 #3\n",
    "ff_dim = 32"
   ]
  },
  {
   "cell_type": "code",
   "execution_count": 16,
   "metadata": {
    "executionInfo": {
     "elapsed": 91305,
     "status": "ok",
     "timestamp": 1605544098400,
     "user": {
      "displayName": "Jae Always",
      "photoUrl": "https://lh3.googleusercontent.com/a-/AOh14Gi5h3Ny0rA1n5V5ILL3PinjLBxD23LGv1_n_J1AEw=s64",
      "userId": "06764597596017867424"
     },
     "user_tz": -540
    },
    "id": "2poqeYKqnI_1"
   },
   "outputs": [],
   "source": [
    "train_sequences = tokenizer.texts_to_sequences(X_train)\n",
    "test_sequences = tokenizer.texts_to_sequences(X_test)"
   ]
  },
  {
   "cell_type": "code",
   "execution_count": 17,
   "metadata": {
    "executionInfo": {
     "elapsed": 91306,
     "status": "ok",
     "timestamp": 1605544098402,
     "user": {
      "displayName": "Jae Always",
      "photoUrl": "https://lh3.googleusercontent.com/a-/AOh14Gi5h3Ny0rA1n5V5ILL3PinjLBxD23LGv1_n_J1AEw=s64",
      "userId": "06764597596017867424"
     },
     "user_tz": -540
    },
    "id": "ra4xgzyLnI_O"
   },
   "outputs": [],
   "source": [
    "trn = pad_sequences(train_sequences, padding=padding_type, maxlen=maxlen)\n",
    "tst = pad_sequences(test_sequences, padding=padding_type, maxlen=maxlen)"
   ]
  },
  {
   "cell_type": "code",
   "execution_count": 18,
   "metadata": {
    "executionInfo": {
     "elapsed": 91304,
     "status": "ok",
     "timestamp": 1605544098402,
     "user": {
      "displayName": "Jae Always",
      "photoUrl": "https://lh3.googleusercontent.com/a-/AOh14Gi5h3Ny0rA1n5V5ILL3PinjLBxD23LGv1_n_J1AEw=s64",
      "userId": "06764597596017867424"
     },
     "user_tz": -540
    },
    "id": "BLy8oVNcn-Bc"
   },
   "outputs": [],
   "source": [
    "cv = StratifiedKFold(n_splits=n_fold, shuffle=True, random_state=seed)"
   ]
  },
  {
   "cell_type": "code",
   "execution_count": 19,
   "metadata": {
    "executionInfo": {
     "elapsed": 92131,
     "status": "ok",
     "timestamp": 1605544099230,
     "user": {
      "displayName": "Jae Always",
      "photoUrl": "https://lh3.googleusercontent.com/a-/AOh14Gi5h3Ny0rA1n5V5ILL3PinjLBxD23LGv1_n_J1AEw=s64",
      "userId": "06764597596017867424"
     },
     "user_tz": -540
    },
    "id": "hg9zX9-hn-Wi"
   },
   "outputs": [],
   "source": [
    "class MultiHeadSelfAttention(layers.Layer):\n",
    "    def __init__(self, embed_dim, num_heads=8):\n",
    "        super(MultiHeadSelfAttention, self).__init__()\n",
    "        self.embed_dim = embed_dim\n",
    "        self.num_heads = num_heads\n",
    "        if embed_dim % num_heads != 0:\n",
    "            raise ValueError(\n",
    "                f\"embedding dimension = {embed_dim} should be divisible by number of heads = {num_heads}\"\n",
    "            )\n",
    "        self.projection_dim = embed_dim // num_heads\n",
    "        self.query_dense = layers.Dense(embed_dim)\n",
    "        self.key_dense = layers.Dense(embed_dim)\n",
    "        self.value_dense = layers.Dense(embed_dim)\n",
    "        self.combine_heads = layers.Dense(embed_dim)\n",
    "\n",
    "    def attention(self, query, key, value):\n",
    "        score = tf.matmul(query, key, transpose_b=True)\n",
    "        dim_key = tf.cast(tf.shape(key)[-1], tf.float32)\n",
    "        scaled_score = score / tf.math.sqrt(dim_key)\n",
    "        weights = tf.nn.softmax(scaled_score, axis=-1)\n",
    "        output = tf.matmul(weights, value)\n",
    "        return output, weights\n",
    "\n",
    "    def separate_heads(self, x, batch_size):\n",
    "        x = tf.reshape(x, (batch_size, -1, self.num_heads, self.projection_dim))\n",
    "        return tf.transpose(x, perm=[0, 2, 1, 3])\n",
    "\n",
    "    def call(self, inputs):\n",
    "        # x.shape = [batch_size, seq_len, embedding_dim]\n",
    "        batch_size = tf.shape(inputs)[0]\n",
    "        query = self.query_dense(inputs)  # (batch_size, seq_len, embed_dim)\n",
    "        key = self.key_dense(inputs)  # (batch_size, seq_len, embed_dim)\n",
    "        value = self.value_dense(inputs)  # (batch_size, seq_len, embed_dim)\n",
    "        query = self.separate_heads(\n",
    "            query, batch_size\n",
    "        )  # (batch_size, num_heads, seq_len, projection_dim)\n",
    "        key = self.separate_heads(\n",
    "            key, batch_size\n",
    "        )  # (batch_size, num_heads, seq_len, projection_dim)\n",
    "        value = self.separate_heads(\n",
    "            value, batch_size\n",
    "        )  # (batch_size, num_heads, seq_len, projection_dim)\n",
    "        attention, weights = self.attention(query, key, value)\n",
    "        attention = tf.transpose(\n",
    "            attention, perm=[0, 2, 1, 3]\n",
    "        )  # (batch_size, seq_len, num_heads, projection_dim)\n",
    "        concat_attention = tf.reshape(\n",
    "            attention, (batch_size, -1, self.embed_dim)\n",
    "        )  # (batch_size, seq_len, embed_dim)\n",
    "        output = self.combine_heads(\n",
    "            concat_attention\n",
    "        )  # (batch_size, seq_len, embed_dim)\n",
    "        return output"
   ]
  },
  {
   "cell_type": "code",
   "execution_count": 20,
   "metadata": {
    "executionInfo": {
     "elapsed": 92130,
     "status": "ok",
     "timestamp": 1605544099230,
     "user": {
      "displayName": "Jae Always",
      "photoUrl": "https://lh3.googleusercontent.com/a-/AOh14Gi5h3Ny0rA1n5V5ILL3PinjLBxD23LGv1_n_J1AEw=s64",
      "userId": "06764597596017867424"
     },
     "user_tz": -540
    },
    "id": "HoxDhurAn-WE"
   },
   "outputs": [],
   "source": [
    "class TransformerBlock(layers.Layer):\n",
    "    def __init__(self, embed_dim, num_heads, ff_dim, rate=0.1):\n",
    "        super(TransformerBlock, self).__init__()\n",
    "        self.att = MultiHeadSelfAttention(embed_dim, num_heads)\n",
    "        self.ffn = keras.Sequential(\n",
    "            [layers.Dense(ff_dim, activation=\"relu\"), layers.Dense(embed_dim),]\n",
    "        )\n",
    "        self.layernorm1 = layers.LayerNormalization(epsilon=1e-6)\n",
    "        self.layernorm2 = layers.LayerNormalization(epsilon=1e-6)\n",
    "        self.dropout1 = layers.Dropout(rate)\n",
    "        self.dropout2 = layers.Dropout(rate)\n",
    "\n",
    "    def call(self, inputs, training):\n",
    "        attn_output = self.att(inputs)\n",
    "        attn_output = self.dropout1(attn_output, training=training)\n",
    "        out1 = self.layernorm1(inputs + attn_output)\n",
    "        ffn_output = self.ffn(out1)\n",
    "        ffn_output = self.dropout2(ffn_output, training=training)\n",
    "        return self.layernorm2(out1 + ffn_output)"
   ]
  },
  {
   "cell_type": "code",
   "execution_count": 21,
   "metadata": {
    "executionInfo": {
     "elapsed": 92128,
     "status": "ok",
     "timestamp": 1605544099230,
     "user": {
      "displayName": "Jae Always",
      "photoUrl": "https://lh3.googleusercontent.com/a-/AOh14Gi5h3Ny0rA1n5V5ILL3PinjLBxD23LGv1_n_J1AEw=s64",
      "userId": "06764597596017867424"
     },
     "user_tz": -540
    },
    "id": "4cfq6QlCn-Vm"
   },
   "outputs": [],
   "source": [
    "class TokenAndPositionEmbedding(layers.Layer):\n",
    "    def __init__(self, maxlen, vocab_size, embed_dim):\n",
    "        super(TokenAndPositionEmbedding, self).__init__()\n",
    "        self.token_emb = layers.Embedding(input_dim=vocab_size, output_dim=embed_dim)\n",
    "        self.pos_emb = layers.Embedding(input_dim=maxlen, output_dim=embed_dim)\n",
    "\n",
    "    def call(self, x):\n",
    "        maxlen = tf.shape(x)[-1]\n",
    "        positions = tf.range(start=0, limit=maxlen, delta=1)\n",
    "        positions = self.pos_emb(positions)\n",
    "        x = self.token_emb(x)\n",
    "        return x + positions"
   ]
  },
  {
   "cell_type": "code",
   "execution_count": 22,
   "metadata": {
    "executionInfo": {
     "elapsed": 92128,
     "status": "ok",
     "timestamp": 1605544099231,
     "user": {
      "displayName": "Jae Always",
      "photoUrl": "https://lh3.googleusercontent.com/a-/AOh14Gi5h3Ny0rA1n5V5ILL3PinjLBxD23LGv1_n_J1AEw=s64",
      "userId": "06764597596017867424"
     },
     "user_tz": -540
    },
    "id": "jkoYtGPsn-VE"
   },
   "outputs": [],
   "source": [
    "def get_model():\n",
    "  inputs = layers.Input(shape=(maxlen,))\n",
    "  embedding_layer = TokenAndPositionEmbedding(maxlen, vocab_size, embed_dim)\n",
    "  x = embedding_layer(inputs)\n",
    "  transformer_block = TransformerBlock(embed_dim, num_heads, ff_dim)\n",
    "  x = transformer_block(x)\n",
    "  x = layers.GlobalAveragePooling1D()(x)\n",
    "  x = layers.Dropout(0.1)(x)\n",
    "  x = layers.Dense(20, activation=\"relu\")(x)\n",
    "  x = layers.Dropout(0.1)(x)\n",
    "  outputs = layers.Dense(n_class, activation=\"softmax\")(x)\n",
    "\n",
    "  model = keras.Model(inputs=inputs, outputs=outputs)\n",
    "\n",
    "  model.compile(loss='categorical_crossentropy', optimizer='adam')\n",
    "  \n",
    "  return model"
   ]
  },
  {
   "cell_type": "code",
   "execution_count": 23,
   "metadata": {
    "colab": {
     "base_uri": "https://localhost:8080/"
    },
    "executionInfo": {
     "elapsed": 1675024,
     "status": "ok",
     "timestamp": 1605545682128,
     "user": {
      "displayName": "Jae Always",
      "photoUrl": "https://lh3.googleusercontent.com/a-/AOh14Gi5h3Ny0rA1n5V5ILL3PinjLBxD23LGv1_n_J1AEw=s64",
      "userId": "06764597596017867424"
     },
     "user_tz": -540
    },
    "id": "CbGCj8R4oHOM",
    "outputId": "a18a841d-230b-40ec-c2ae-989c77aa8799"
   },
   "outputs": [
    {
     "name": "stdout",
     "output_type": "stream",
     "text": [
      "training model for CV #1\n",
      "Epoch 1/15\n",
      "1372/1372 [==============================] - ETA: 0s - loss: 1.3539WARNING:tensorflow:Callbacks method `on_test_batch_end` is slow compared to the batch time (batch time: 0.0024s vs `on_test_batch_end` time: 0.0065s). Check your callbacks.\n",
      "1372/1372 [==============================] - 47s 34ms/step - loss: 1.3539 - val_loss: 0.9899\n",
      "Epoch 2/15\n",
      "1372/1372 [==============================] - 47s 34ms/step - loss: 0.8542 - val_loss: 0.7993\n",
      "Epoch 3/15\n",
      "1372/1372 [==============================] - 46s 34ms/step - loss: 0.6606 - val_loss: 0.7747\n",
      "Epoch 4/15\n",
      "1372/1372 [==============================] - 46s 34ms/step - loss: 0.5536 - val_loss: 0.7901\n",
      "Epoch 5/15\n",
      "1372/1372 [==============================] - 46s 34ms/step - loss: 0.4820 - val_loss: 0.8217\n",
      "Epoch 6/15\n",
      "1371/1372 [============================>.] - ETA: 0s - loss: 0.4287Restoring model weights from the end of the best epoch.\n",
      "1372/1372 [==============================] - 47s 34ms/step - loss: 0.4286 - val_loss: 0.8517\n",
      "Epoch 00006: early stopping\n",
      "training model for CV #2\n",
      "Epoch 1/15\n",
      "1371/1372 [============================>.] - ETA: 0s - loss: 1.4154WARNING:tensorflow:Callbacks method `on_test_batch_end` is slow compared to the batch time (batch time: 0.0023s vs `on_test_batch_end` time: 0.0062s). Check your callbacks.\n",
      "1372/1372 [==============================] - 47s 34ms/step - loss: 1.4150 - val_loss: 1.0768\n",
      "Epoch 2/15\n",
      "1372/1372 [==============================] - 46s 34ms/step - loss: 0.9034 - val_loss: 0.8470\n",
      "Epoch 3/15\n",
      "1372/1372 [==============================] - 46s 34ms/step - loss: 0.7016 - val_loss: 0.7902\n",
      "Epoch 4/15\n",
      "1372/1372 [==============================] - 47s 34ms/step - loss: 0.5801 - val_loss: 0.7569\n",
      "Epoch 5/15\n",
      "1372/1372 [==============================] - 47s 34ms/step - loss: 0.4929 - val_loss: 0.7903\n",
      "Epoch 6/15\n",
      "1372/1372 [==============================] - 47s 34ms/step - loss: 0.4345 - val_loss: 0.8302\n",
      "Epoch 7/15\n",
      "1371/1372 [============================>.] - ETA: 0s - loss: 0.3929Restoring model weights from the end of the best epoch.\n",
      "1372/1372 [==============================] - 47s 34ms/step - loss: 0.3928 - val_loss: 0.9240\n",
      "Epoch 00007: early stopping\n",
      "training model for CV #3\n",
      "Epoch 1/15\n",
      "1371/1372 [============================>.] - ETA: 0s - loss: 1.4544WARNING:tensorflow:Callbacks method `on_test_batch_end` is slow compared to the batch time (batch time: 0.0025s vs `on_test_batch_end` time: 0.0061s). Check your callbacks.\n",
      "1372/1372 [==============================] - 47s 34ms/step - loss: 1.4541 - val_loss: 1.0753\n",
      "Epoch 2/15\n",
      "1372/1372 [==============================] - 46s 34ms/step - loss: 0.8929 - val_loss: 0.7942\n",
      "Epoch 3/15\n",
      "1372/1372 [==============================] - 46s 34ms/step - loss: 0.6521 - val_loss: 0.7364\n",
      "Epoch 4/15\n",
      "1372/1372 [==============================] - 46s 34ms/step - loss: 0.5413 - val_loss: 0.7293\n",
      "Epoch 5/15\n",
      "1372/1372 [==============================] - 47s 34ms/step - loss: 0.4658 - val_loss: 0.7454\n",
      "Epoch 6/15\n",
      "1372/1372 [==============================] - 47s 34ms/step - loss: 0.4183 - val_loss: 0.8311\n",
      "Epoch 7/15\n",
      "1372/1372 [==============================] - ETA: 0s - loss: 0.3859Restoring model weights from the end of the best epoch.\n",
      "1372/1372 [==============================] - 46s 34ms/step - loss: 0.3859 - val_loss: 0.8771\n",
      "Epoch 00007: early stopping\n",
      "training model for CV #4\n",
      "Epoch 1/15\n",
      "1372/1372 [==============================] - ETA: 0s - loss: 1.4511WARNING:tensorflow:Callbacks method `on_test_batch_end` is slow compared to the batch time (batch time: 0.0023s vs `on_test_batch_end` time: 0.0060s). Check your callbacks.\n",
      "1372/1372 [==============================] - 47s 34ms/step - loss: 1.4511 - val_loss: 1.1005\n",
      "Epoch 2/15\n",
      "1372/1372 [==============================] - 47s 34ms/step - loss: 0.8977 - val_loss: 0.8553\n",
      "Epoch 3/15\n",
      "1372/1372 [==============================] - 46s 34ms/step - loss: 0.6845 - val_loss: 0.7686\n",
      "Epoch 4/15\n",
      "1372/1372 [==============================] - 46s 34ms/step - loss: 0.5780 - val_loss: 0.7769\n",
      "Epoch 5/15\n",
      "1372/1372 [==============================] - 47s 34ms/step - loss: 0.5004 - val_loss: 0.7708\n",
      "Epoch 6/15\n",
      "1372/1372 [==============================] - ETA: 0s - loss: 0.4455Restoring model weights from the end of the best epoch.\n",
      "1372/1372 [==============================] - 46s 34ms/step - loss: 0.4455 - val_loss: 0.8404\n",
      "Epoch 00006: early stopping\n",
      "training model for CV #5\n",
      "Epoch 1/15\n",
      "1372/1372 [==============================] - 44s 32ms/step - loss: 1.4649 - val_loss: 1.0553\n",
      "Epoch 2/15\n",
      "1372/1372 [==============================] - 44s 32ms/step - loss: 0.8665 - val_loss: 0.7566\n",
      "Epoch 3/15\n",
      "1372/1372 [==============================] - 44s 32ms/step - loss: 0.6368 - val_loss: 0.7401\n",
      "Epoch 4/15\n",
      "1372/1372 [==============================] - 44s 32ms/step - loss: 0.5326 - val_loss: 0.7291\n",
      "Epoch 5/15\n",
      "1372/1372 [==============================] - 44s 32ms/step - loss: 0.4685 - val_loss: 0.7671\n",
      "Epoch 6/15\n",
      "1372/1372 [==============================] - 44s 32ms/step - loss: 0.4221 - val_loss: 0.7950\n",
      "Epoch 7/15\n",
      "1371/1372 [============================>.] - ETA: 0s - loss: 0.3882Restoring model weights from the end of the best epoch.\n",
      "1372/1372 [==============================] - 44s 32ms/step - loss: 0.3882 - val_loss: 0.9028\n",
      "Epoch 00007: early stopping\n"
     ]
    }
   ],
   "source": [
    "p_val = np.zeros((trn.shape[0], n_class))\n",
    "p_tst = np.zeros((tst.shape[0], n_class))\n",
    "\n",
    "for i, (i_trn, i_val) in enumerate(cv.split(trn, y), 1):\n",
    "    print(f'training model for CV #{i}')\n",
    "    clf = get_model()\n",
    "    \n",
    "    es = EarlyStopping(monitor='val_loss', min_delta=0.001, patience=3,\n",
    "                       verbose=1, mode='min', baseline=None, restore_best_weights=True)\n",
    "\n",
    "    clf.fit(trn[i_trn], \n",
    "            to_categorical(y[i_trn]),\n",
    "            validation_data=(trn[i_val], to_categorical(y[i_val])),\n",
    "            epochs=15,\n",
    "            batch_size=32,\n",
    "            #batch_size=512,\n",
    "            callbacks=[es])\n",
    "    p_val[i_val, :] = clf.predict(trn[i_val])\n",
    "    p_tst += clf.predict(tst) / n_fold"
   ]
  },
  {
   "cell_type": "code",
   "execution_count": 24,
   "metadata": {
    "colab": {
     "base_uri": "https://localhost:8080/"
    },
    "executionInfo": {
     "elapsed": 1675025,
     "status": "ok",
     "timestamp": 1605545682131,
     "user": {
      "displayName": "Jae Always",
      "photoUrl": "https://lh3.googleusercontent.com/a-/AOh14Gi5h3Ny0rA1n5V5ILL3PinjLBxD23LGv1_n_J1AEw=s64",
      "userId": "06764597596017867424"
     },
     "user_tz": -540
    },
    "id": "PCx38qYHoHRx",
    "outputId": "b0651dbe-9e5b-4b4a-91f3-63c7b54fc639"
   },
   "outputs": [
    {
     "name": "stdout",
     "output_type": "stream",
     "text": [
      "Accuracy (CV):  72.2353%\n",
      "Log Loss (CV):   0.7517\n"
     ]
    }
   ],
   "source": [
    "print(f'Accuracy (CV): {accuracy_score(y, np.argmax(p_val, axis=1)) * 100:8.4f}%')\n",
    "print(f'Log Loss (CV): {log_loss(pd.get_dummies(y), p_val):8.4f}')"
   ]
  },
  {
   "cell_type": "code",
   "execution_count": 25,
   "metadata": {
    "colab": {
     "base_uri": "https://localhost:8080/"
    },
    "executionInfo": {
     "elapsed": 1675025,
     "status": "ok",
     "timestamp": 1605545682132,
     "user": {
      "displayName": "Jae Always",
      "photoUrl": "https://lh3.googleusercontent.com/a-/AOh14Gi5h3Ny0rA1n5V5ILL3PinjLBxD23LGv1_n_J1AEw=s64",
      "userId": "06764597596017867424"
     },
     "user_tz": -540
    },
    "id": "Zpwxi3yOoHLL",
    "outputId": "6c6adce0-cb4c-44fa-a995-30ccc301ce3a"
   },
   "outputs": [
    {
     "name": "stdout",
     "output_type": "stream",
     "text": [
      "Model: \"functional_9\"\n",
      "_________________________________________________________________\n",
      "Layer (type)                 Output Shape              Param #   \n",
      "=================================================================\n",
      "input_5 (InputLayer)         [(None, 500)]             0         \n",
      "_________________________________________________________________\n",
      "token_and_position_embedding (None, 500, 16)           510864    \n",
      "_________________________________________________________________\n",
      "transformer_block_4 (Transfo (None, 500, 16)           2224      \n",
      "_________________________________________________________________\n",
      "global_average_pooling1d_4 ( (None, 16)                0         \n",
      "_________________________________________________________________\n",
      "dropout_18 (Dropout)         (None, 16)                0         \n",
      "_________________________________________________________________\n",
      "dense_38 (Dense)             (None, 20)                340       \n",
      "_________________________________________________________________\n",
      "dropout_19 (Dropout)         (None, 20)                0         \n",
      "_________________________________________________________________\n",
      "dense_39 (Dense)             (None, 5)                 105       \n",
      "=================================================================\n",
      "Total params: 513,533\n",
      "Trainable params: 513,533\n",
      "Non-trainable params: 0\n",
      "_________________________________________________________________\n"
     ]
    }
   ],
   "source": [
    "clf.summary()"
   ]
  },
  {
   "cell_type": "code",
   "execution_count": 26,
   "metadata": {
    "colab": {
     "base_uri": "https://localhost:8080/",
     "height": 253
    },
    "executionInfo": {
     "elapsed": 1675347,
     "status": "ok",
     "timestamp": 1605545682455,
     "user": {
      "displayName": "Jae Always",
      "photoUrl": "https://lh3.googleusercontent.com/a-/AOh14Gi5h3Ny0rA1n5V5ILL3PinjLBxD23LGv1_n_J1AEw=s64",
      "userId": "06764597596017867424"
     },
     "user_tz": -540
    },
    "id": "z3YvGylqoQg2",
    "outputId": "ad96676d-dcd3-4ab5-d324-7d5d14383cc0"
   },
   "outputs": [
    {
     "name": "stdout",
     "output_type": "stream",
     "text": [
      "(19617, 5)\n"
     ]
    },
    {
     "data": {
      "text/html": [
       "<div>\n",
       "<style scoped>\n",
       "    .dataframe tbody tr th:only-of-type {\n",
       "        vertical-align: middle;\n",
       "    }\n",
       "\n",
       "    .dataframe tbody tr th {\n",
       "        vertical-align: top;\n",
       "    }\n",
       "\n",
       "    .dataframe thead th {\n",
       "        text-align: right;\n",
       "    }\n",
       "</style>\n",
       "<table border=\"1\" class=\"dataframe\">\n",
       "  <thead>\n",
       "    <tr style=\"text-align: right;\">\n",
       "      <th></th>\n",
       "      <th>0</th>\n",
       "      <th>1</th>\n",
       "      <th>2</th>\n",
       "      <th>3</th>\n",
       "      <th>4</th>\n",
       "    </tr>\n",
       "    <tr>\n",
       "      <th>index</th>\n",
       "      <th></th>\n",
       "      <th></th>\n",
       "      <th></th>\n",
       "      <th></th>\n",
       "      <th></th>\n",
       "    </tr>\n",
       "  </thead>\n",
       "  <tbody>\n",
       "    <tr>\n",
       "      <th>0</th>\n",
       "      <td>0</td>\n",
       "      <td>0</td>\n",
       "      <td>0</td>\n",
       "      <td>0</td>\n",
       "      <td>0</td>\n",
       "    </tr>\n",
       "    <tr>\n",
       "      <th>1</th>\n",
       "      <td>0</td>\n",
       "      <td>0</td>\n",
       "      <td>0</td>\n",
       "      <td>0</td>\n",
       "      <td>0</td>\n",
       "    </tr>\n",
       "    <tr>\n",
       "      <th>2</th>\n",
       "      <td>0</td>\n",
       "      <td>0</td>\n",
       "      <td>0</td>\n",
       "      <td>0</td>\n",
       "      <td>0</td>\n",
       "    </tr>\n",
       "    <tr>\n",
       "      <th>3</th>\n",
       "      <td>0</td>\n",
       "      <td>0</td>\n",
       "      <td>0</td>\n",
       "      <td>0</td>\n",
       "      <td>0</td>\n",
       "    </tr>\n",
       "    <tr>\n",
       "      <th>4</th>\n",
       "      <td>0</td>\n",
       "      <td>0</td>\n",
       "      <td>0</td>\n",
       "      <td>0</td>\n",
       "      <td>0</td>\n",
       "    </tr>\n",
       "  </tbody>\n",
       "</table>\n",
       "</div>"
      ],
      "text/plain": [
       "       0  1  2  3  4\n",
       "index               \n",
       "0      0  0  0  0  0\n",
       "1      0  0  0  0  0\n",
       "2      0  0  0  0  0\n",
       "3      0  0  0  0  0\n",
       "4      0  0  0  0  0"
      ]
     },
     "execution_count": 26,
     "metadata": {
      "tags": []
     },
     "output_type": "execute_result"
    }
   ],
   "source": [
    "sub = pd.read_csv(sample_file, index_col=0)\n",
    "print(sub.shape)\n",
    "sub.head()"
   ]
  },
  {
   "cell_type": "code",
   "execution_count": 27,
   "metadata": {
    "colab": {
     "base_uri": "https://localhost:8080/",
     "height": 235
    },
    "executionInfo": {
     "elapsed": 1675691,
     "status": "ok",
     "timestamp": 1605545682800,
     "user": {
      "displayName": "Jae Always",
      "photoUrl": "https://lh3.googleusercontent.com/a-/AOh14Gi5h3Ny0rA1n5V5ILL3PinjLBxD23LGv1_n_J1AEw=s64",
      "userId": "06764597596017867424"
     },
     "user_tz": -540
    },
    "id": "yfENpvsAoQ9X",
    "outputId": "751565a4-0b46-41a5-9d14-0f2d8d46ded4"
   },
   "outputs": [
    {
     "data": {
      "text/html": [
       "<div>\n",
       "<style scoped>\n",
       "    .dataframe tbody tr th:only-of-type {\n",
       "        vertical-align: middle;\n",
       "    }\n",
       "\n",
       "    .dataframe tbody tr th {\n",
       "        vertical-align: top;\n",
       "    }\n",
       "\n",
       "    .dataframe thead th {\n",
       "        text-align: right;\n",
       "    }\n",
       "</style>\n",
       "<table border=\"1\" class=\"dataframe\">\n",
       "  <thead>\n",
       "    <tr style=\"text-align: right;\">\n",
       "      <th></th>\n",
       "      <th>0</th>\n",
       "      <th>1</th>\n",
       "      <th>2</th>\n",
       "      <th>3</th>\n",
       "      <th>4</th>\n",
       "    </tr>\n",
       "    <tr>\n",
       "      <th>index</th>\n",
       "      <th></th>\n",
       "      <th></th>\n",
       "      <th></th>\n",
       "      <th></th>\n",
       "      <th></th>\n",
       "    </tr>\n",
       "  </thead>\n",
       "  <tbody>\n",
       "    <tr>\n",
       "      <th>0</th>\n",
       "      <td>0.029105</td>\n",
       "      <td>0.561353</td>\n",
       "      <td>0.253559</td>\n",
       "      <td>0.094397</td>\n",
       "      <td>0.061587</td>\n",
       "    </tr>\n",
       "    <tr>\n",
       "      <th>1</th>\n",
       "      <td>0.119505</td>\n",
       "      <td>0.481664</td>\n",
       "      <td>0.063419</td>\n",
       "      <td>0.148274</td>\n",
       "      <td>0.187137</td>\n",
       "    </tr>\n",
       "    <tr>\n",
       "      <th>2</th>\n",
       "      <td>0.975591</td>\n",
       "      <td>0.020378</td>\n",
       "      <td>0.001054</td>\n",
       "      <td>0.000211</td>\n",
       "      <td>0.002767</td>\n",
       "    </tr>\n",
       "    <tr>\n",
       "      <th>3</th>\n",
       "      <td>0.001406</td>\n",
       "      <td>0.002417</td>\n",
       "      <td>0.984094</td>\n",
       "      <td>0.006605</td>\n",
       "      <td>0.005478</td>\n",
       "    </tr>\n",
       "    <tr>\n",
       "      <th>4</th>\n",
       "      <td>0.691326</td>\n",
       "      <td>0.060179</td>\n",
       "      <td>0.028893</td>\n",
       "      <td>0.196414</td>\n",
       "      <td>0.023187</td>\n",
       "    </tr>\n",
       "  </tbody>\n",
       "</table>\n",
       "</div>"
      ],
      "text/plain": [
       "              0         1         2         3         4\n",
       "index                                                  \n",
       "0      0.029105  0.561353  0.253559  0.094397  0.061587\n",
       "1      0.119505  0.481664  0.063419  0.148274  0.187137\n",
       "2      0.975591  0.020378  0.001054  0.000211  0.002767\n",
       "3      0.001406  0.002417  0.984094  0.006605  0.005478\n",
       "4      0.691326  0.060179  0.028893  0.196414  0.023187"
      ]
     },
     "execution_count": 27,
     "metadata": {
      "tags": []
     },
     "output_type": "execute_result"
    }
   ],
   "source": [
    "sub[sub.columns] = p_tst\n",
    "sub.head()"
   ]
  },
  {
   "cell_type": "code",
   "execution_count": 28,
   "metadata": {
    "executionInfo": {
     "elapsed": 1677352,
     "status": "ok",
     "timestamp": 1605545684463,
     "user": {
      "displayName": "Jae Always",
      "photoUrl": "https://lh3.googleusercontent.com/a-/AOh14Gi5h3Ny0rA1n5V5ILL3PinjLBxD23LGv1_n_J1AEw=s64",
      "userId": "06764597596017867424"
     },
     "user_tz": -540
    },
    "id": "yqZ9N_rBoQkF"
   },
   "outputs": [],
   "source": [
    "sub.to_csv(sub_file)"
   ]
  },
  {
   "cell_type": "code",
   "execution_count": 28,
   "metadata": {
    "executionInfo": {
     "elapsed": 1677352,
     "status": "ok",
     "timestamp": 1605545684464,
     "user": {
      "displayName": "Jae Always",
      "photoUrl": "https://lh3.googleusercontent.com/a-/AOh14Gi5h3Ny0rA1n5V5ILL3PinjLBxD23LGv1_n_J1AEw=s64",
      "userId": "06764597596017867424"
     },
     "user_tz": -540
    },
    "id": "AOKe8GWpoXK_"
   },
   "outputs": [],
   "source": []
  }
 ],
 "metadata": {
  "accelerator": "GPU",
  "colab": {
   "authorship_tag": "ABX9TyPUghE+Kz6cdDX0qESYTz4Q",
   "collapsed_sections": [],
   "name": "Transformer_model_+_shared_codes",
   "provenance": []
  },
  "kernelspec": {
   "display_name": "Python 3",
   "language": "python",
   "name": "python3"
  },
  "language_info": {
   "codemirror_mode": {
    "name": "ipython",
    "version": 3
   },
   "file_extension": ".py",
   "mimetype": "text/x-python",
   "name": "python",
   "nbconvert_exporter": "python",
   "pygments_lexer": "ipython3",
   "version": "3.7.9"
  }
 },
 "nbformat": 4,
 "nbformat_minor": 1
}
