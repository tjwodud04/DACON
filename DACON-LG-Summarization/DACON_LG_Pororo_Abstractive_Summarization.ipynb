{
  "nbformat": 4,
  "nbformat_minor": 0,
  "metadata": {
    "colab": {
      "name": "DACON_LG_Pororo_Abstractive_Summarization.ipynb",
      "provenance": [],
      "collapsed_sections": [],
      "machine_shape": "hm"
    },
    "kernelspec": {
      "name": "python3",
      "display_name": "Python 3"
    },
    "language_info": {
      "name": "python"
    },
    "accelerator": "GPU"
  },
  "cells": [
    {
      "cell_type": "markdown",
      "metadata": {
        "id": "ecBnd4_0hoFb"
      },
      "source": [
        "Pororo Abstractive Summarization"
      ]
    },
    {
      "cell_type": "markdown",
      "metadata": {
        "id": "ClPILKucUBwE"
      },
      "source": [
        "Public Score ROUGE-N에 대한 F1 SCORE : 0.38461862\t0.27563649\t0.3336278"
      ]
    },
    {
      "cell_type": "code",
      "metadata": {
        "id": "H1e7Eevvhv_z"
      },
      "source": [
        "%%bash\n",
        "apt-get update\n",
        "apt-get install g++ openjdk-8-jdk python-dev python3-dev\n",
        "pip3 install JPype1\n",
        "pip3 install konlpy"
      ],
      "execution_count": null,
      "outputs": []
    },
    {
      "cell_type": "code",
      "metadata": {
        "id": "uHa9YMlThyxy"
      },
      "source": [
        "%env JAVA_HOME \"/usr/lib/jvm/java-8-openjdk-amd64\""
      ],
      "execution_count": null,
      "outputs": []
    },
    {
      "cell_type": "code",
      "metadata": {
        "id": "W8KcydLehzSk"
      },
      "source": [
        "%%bash\n",
        "bash <(curl -s https://raw.githubusercontent.com/konlpy/konlpy/master/scripts/mecab.sh)\n",
        "pip3 install /tmp/mecab-python-0.996"
      ],
      "execution_count": null,
      "outputs": []
    },
    {
      "cell_type": "code",
      "metadata": {
        "id": "IUXyH8CKiMY0"
      },
      "source": [
        "import numpy as np\n",
        "import pandas as pd\n",
        "\n",
        "import json\n",
        "from pandas.io.json import json_normalize\n",
        "\n",
        "import re\n",
        "from tqdm.notebook import tqdm\n",
        "\n",
        "import warnings\n",
        "warnings.filterwarnings('ignore')"
      ],
      "execution_count": null,
      "outputs": []
    },
    {
      "cell_type": "code",
      "metadata": {
        "id": "7m5KnAvPkbtq"
      },
      "source": [
        "import os\n",
        "\n",
        "DIR = \"/content/drive/MyDrive/DACON_LG/data/\"\n",
        "TRAIN_SOURCE = os.path.join(DIR, \"train.json\")\n",
        "TEST_SOURCE = os.path.join(DIR, \"test.json\")"
      ],
      "execution_count": null,
      "outputs": []
    },
    {
      "cell_type": "code",
      "metadata": {
        "id": "PNn7iuTGkJFJ"
      },
      "source": [
        "with open(TRAIN_SOURCE) as f:\n",
        "    TRAIN_DATA = json.loads(f.read())\n",
        "    \n",
        "with open(TEST_SOURCE) as f:\n",
        "    TEST_DATA = json.loads(f.read())"
      ],
      "execution_count": null,
      "outputs": []
    },
    {
      "cell_type": "code",
      "metadata": {
        "id": "I25qLYXYkJth"
      },
      "source": [
        "train = pd.DataFrame(columns=['uid', 'title', 'region', 'context', 'summary'])\n",
        "uid = 1000\n",
        "for data in TRAIN_DATA:\n",
        "    for agenda in data['context'].keys():\n",
        "        context = ''\n",
        "        for line in data['context'][agenda]:\n",
        "            context += data['context'][agenda][line]\n",
        "            context += ' '\n",
        "        train.loc[uid, 'uid'] = uid\n",
        "        train.loc[uid, 'title'] = data['title']\n",
        "        train.loc[uid, 'region'] = data['region']\n",
        "        train.loc[uid, 'context'] = context[:-1]\n",
        "        train.loc[uid, 'summary'] = data['label'][agenda]['summary']\n",
        "        uid += 1\n",
        "\n",
        "test = pd.DataFrame(columns=['uid', 'title', 'region', 'context'])\n",
        "uid = 2000\n",
        "for data in TEST_DATA:\n",
        "    for agenda in data['context'].keys():\n",
        "        context = ''\n",
        "        for line in data['context'][agenda]:\n",
        "            context += data['context'][agenda][line]\n",
        "            context += ' '\n",
        "        test.loc[uid, 'uid'] = uid\n",
        "        test.loc[uid, 'title'] = data['title']\n",
        "        test.loc[uid, 'region'] = data['region']\n",
        "        test.loc[uid, 'context'] = context[:-1]\n",
        "        uid += 1"
      ],
      "execution_count": null,
      "outputs": []
    },
    {
      "cell_type": "code",
      "metadata": {
        "id": "yAaIBZvBkOHS"
      },
      "source": [
        "train['total'] = train.title + ' ' + train.region + ' ' + train.context\n",
        "test['total'] = test.title + ' ' + test.region + ' ' + test.context"
      ],
      "execution_count": null,
      "outputs": []
    },
    {
      "cell_type": "code",
      "metadata": {
        "id": "9EBy4JZ-PKFi"
      },
      "source": [
        "train.head()"
      ],
      "execution_count": null,
      "outputs": []
    },
    {
      "cell_type": "code",
      "metadata": {
        "id": "YwxJwFhlRn9r"
      },
      "source": [
        "test.head()"
      ],
      "execution_count": null,
      "outputs": []
    },
    {
      "cell_type": "code",
      "metadata": {
        "id": "sd31HljMON3B"
      },
      "source": [
        "testcopy = test['total']"
      ],
      "execution_count": null,
      "outputs": []
    },
    {
      "cell_type": "code",
      "metadata": {
        "id": "LdkPuyzfOTZV"
      },
      "source": [
        "testcopy"
      ],
      "execution_count": null,
      "outputs": []
    },
    {
      "cell_type": "code",
      "metadata": {
        "id": "lHWvctE-H1wS"
      },
      "source": [
        "!pip install --upgrade pororo"
      ],
      "execution_count": null,
      "outputs": []
    },
    {
      "cell_type": "code",
      "metadata": {
        "id": "dkOJm3DLH1zv"
      },
      "source": [
        "!pip install kollocate"
      ],
      "execution_count": null,
      "outputs": []
    },
    {
      "cell_type": "code",
      "metadata": {
        "id": "EARij8WPH2Ai"
      },
      "source": [
        "!pip install koparadigm"
      ],
      "execution_count": null,
      "outputs": []
    },
    {
      "cell_type": "code",
      "metadata": {
        "id": "yCJI95_kIXID"
      },
      "source": [
        "!pip install g2pk"
      ],
      "execution_count": null,
      "outputs": []
    },
    {
      "cell_type": "code",
      "metadata": {
        "id": "vlvhl_ndOzCr"
      },
      "source": [
        "testcopy_total_list = testcopy.tolist()"
      ],
      "execution_count": null,
      "outputs": []
    },
    {
      "cell_type": "code",
      "metadata": {
        "id": "RycqMptQtFGc"
      },
      "source": [
        "testcopy_total_list[0]"
      ],
      "execution_count": null,
      "outputs": []
    },
    {
      "cell_type": "code",
      "metadata": {
        "id": "Qf3AB0j3IXK5"
      },
      "source": [
        "'''\n",
        "running this cell, error occurs\n",
        "Change 'generations_utils.py' line 1835 from \n",
        "# next_indices = (next_tokens / vocab_size).long()\n",
        "-> next_indices = next_tokens.true_divide(vocab_size).long()\n",
        "'''\n",
        "from pororo import Pororo\n",
        "\n",
        "summ_abs = Pororo(task=\"summarization\", model=\"abstractive\", lang=\"ko\")\n",
        "\n",
        "abs_result = []\n",
        "\n",
        "for i in range(0,len(testcopy_total_list)):\n",
        "  abs_result.append(summ_abs(testcopy_total_list[i]))"
      ],
      "execution_count": null,
      "outputs": []
    },
    {
      "cell_type": "code",
      "metadata": {
        "id": "rarwgEYDIXQ3"
      },
      "source": [
        "abs_result[:10]"
      ],
      "execution_count": null,
      "outputs": []
    },
    {
      "cell_type": "code",
      "metadata": {
        "id": "JZWYf38x3izU"
      },
      "source": [
        "submission = pd.read_csv('/content/drive/MyDrive/DACON_LG/data/sample_submission.csv')"
      ],
      "execution_count": null,
      "outputs": []
    },
    {
      "cell_type": "code",
      "metadata": {
        "id": "LF0rDOZo9wrw"
      },
      "source": [
        "submission"
      ],
      "execution_count": null,
      "outputs": []
    },
    {
      "cell_type": "code",
      "metadata": {
        "id": "bzp74H80_5hb"
      },
      "source": [
        "abs_result = pd.Series(abs_result)"
      ],
      "execution_count": null,
      "outputs": []
    },
    {
      "cell_type": "code",
      "metadata": {
        "id": "EkjY_8TMFQyU"
      },
      "source": [
        "submission['summary'] = abs_result"
      ],
      "execution_count": null,
      "outputs": []
    },
    {
      "cell_type": "code",
      "metadata": {
        "id": "6lR46LTLU4Ol",
        "colab": {
          "base_uri": "https://localhost:8080/",
          "height": 585
        },
        "outputId": "22db3a0c-9834-44a2-f0a2-e1f60a23f86b"
      },
      "source": [
        "submission"
      ],
      "execution_count": null,
      "outputs": [
        {
          "output_type": "execute_result",
          "data": {
            "text/html": [
              "<div>\n",
              "<style scoped>\n",
              "    .dataframe tbody tr th:only-of-type {\n",
              "        vertical-align: middle;\n",
              "    }\n",
              "\n",
              "    .dataframe tbody tr th {\n",
              "        vertical-align: top;\n",
              "    }\n",
              "\n",
              "    .dataframe thead th {\n",
              "        text-align: right;\n",
              "    }\n",
              "</style>\n",
              "<table border=\"1\" class=\"dataframe\">\n",
              "  <thead>\n",
              "    <tr style=\"text-align: right;\">\n",
              "      <th></th>\n",
              "      <th>uid</th>\n",
              "      <th>summary</th>\n",
              "    </tr>\n",
              "  </thead>\n",
              "  <tbody>\n",
              "    <tr>\n",
              "      <th>0</th>\n",
              "      <td>id_2000-AGENDA_1</td>\n",
              "      <td>군의회 제235회 제1차 정례회 제1차 본회의에서는 의회사무과장이 보고드리겠습니다.</td>\n",
              "    </tr>\n",
              "    <tr>\n",
              "      <th>1</th>\n",
              "      <td>id_2000-AGENDA_2</td>\n",
              "      <td>군의회 제235회 제1차 정례회 회기결정건에서 환경분야 현지확인 특위 구성의 건, ...</td>\n",
              "    </tr>\n",
              "    <tr>\n",
              "      <th>2</th>\n",
              "      <td>id_2000-AGENDA_3</td>\n",
              "      <td>제2 의사일정 제2항, 회의록 서명의원 선출의 건에서  조천희 의원님, 손달섭 의원...</td>\n",
              "    </tr>\n",
              "    <tr>\n",
              "      <th>3</th>\n",
              "      <td>id_2000-AGENDA_4</td>\n",
              "      <td>의사일정 제3항, 예산결산특별위원회 구성의 건을 상정하여, 제가 제의한 구성안에 대...</td>\n",
              "    </tr>\n",
              "    <tr>\n",
              "      <th>4</th>\n",
              "      <td>id_2000-AGENDA_5</td>\n",
              "      <td>제235회 제1차 정례회 제1차 본회의를 맞이하여 음성군 환경분야 현지확인을 발의하...</td>\n",
              "    </tr>\n",
              "    <tr>\n",
              "      <th>...</th>\n",
              "      <td>...</td>\n",
              "      <td>...</td>\n",
              "    </tr>\n",
              "    <tr>\n",
              "      <th>501</th>\n",
              "      <td>id_2096-AGENDA_2</td>\n",
              "      <td>당초74회 음성군의회 임시회 회기연장은 농협 축산물공판장 이전관련 특별위원회에서 위...</td>\n",
              "    </tr>\n",
              "    <tr>\n",
              "      <th>502</th>\n",
              "      <td>id_2096-AGENDA_3</td>\n",
              "      <td>본태완 위원장님께서는  지난 10월 10일 제1차 본회의시 농협 축산물공판장 이전 ...</td>\n",
              "    </tr>\n",
              "    <tr>\n",
              "      <th>503</th>\n",
              "      <td>id_2096-AGENDA_4</td>\n",
              "      <td>문화공보과장은 문화공보과에서 제출한 대소도서관 관리운영조례안을 상정하였는데 그 내용...</td>\n",
              "    </tr>\n",
              "    <tr>\n",
              "      <th>504</th>\n",
              "      <td>id_2096-AGENDA_5</td>\n",
              "      <td>보건기구에 의하면 제4기 음성군 지역보건 의료계획은 지역보건법 제3조 및 동법시행령...</td>\n",
              "    </tr>\n",
              "    <tr>\n",
              "      <th>505</th>\n",
              "      <td>id_2096-AGENDA_6</td>\n",
              "      <td>농협축산물공판장 이전관련 현지확인 특별위원회 활동기간 연장에 따라 10월 20일까지...</td>\n",
              "    </tr>\n",
              "  </tbody>\n",
              "</table>\n",
              "<p>506 rows × 2 columns</p>\n",
              "</div>"
            ],
            "text/plain": [
              "                  uid                                            summary\n",
              "0    id_2000-AGENDA_1     군의회 제235회 제1차 정례회 제1차 본회의에서는 의회사무과장이 보고드리겠습니다.\n",
              "1    id_2000-AGENDA_2  군의회 제235회 제1차 정례회 회기결정건에서 환경분야 현지확인 특위 구성의 건, ...\n",
              "2    id_2000-AGENDA_3  제2 의사일정 제2항, 회의록 서명의원 선출의 건에서  조천희 의원님, 손달섭 의원...\n",
              "3    id_2000-AGENDA_4  의사일정 제3항, 예산결산특별위원회 구성의 건을 상정하여, 제가 제의한 구성안에 대...\n",
              "4    id_2000-AGENDA_5  제235회 제1차 정례회 제1차 본회의를 맞이하여 음성군 환경분야 현지확인을 발의하...\n",
              "..                ...                                                ...\n",
              "501  id_2096-AGENDA_2  당초74회 음성군의회 임시회 회기연장은 농협 축산물공판장 이전관련 특별위원회에서 위...\n",
              "502  id_2096-AGENDA_3  본태완 위원장님께서는  지난 10월 10일 제1차 본회의시 농협 축산물공판장 이전 ...\n",
              "503  id_2096-AGENDA_4  문화공보과장은 문화공보과에서 제출한 대소도서관 관리운영조례안을 상정하였는데 그 내용...\n",
              "504  id_2096-AGENDA_5  보건기구에 의하면 제4기 음성군 지역보건 의료계획은 지역보건법 제3조 및 동법시행령...\n",
              "505  id_2096-AGENDA_6  농협축산물공판장 이전관련 현지확인 특별위원회 활동기간 연장에 따라 10월 20일까지...\n",
              "\n",
              "[506 rows x 2 columns]"
            ]
          },
          "metadata": {},
          "execution_count": 25
        }
      ]
    },
    {
      "cell_type": "code",
      "metadata": {
        "id": "dbP4pKHo6gpR"
      },
      "source": [
        "submission.to_csv('/content/drive/MyDrive/DACON_LG/data/1012_dacon_pororo_strong_abstract.csv', index=False)"
      ],
      "execution_count": null,
      "outputs": []
    },
    {
      "cell_type": "code",
      "metadata": {
        "id": "XTsk35tQGQoJ"
      },
      "source": [
        ""
      ],
      "execution_count": null,
      "outputs": []
    }
  ]
}