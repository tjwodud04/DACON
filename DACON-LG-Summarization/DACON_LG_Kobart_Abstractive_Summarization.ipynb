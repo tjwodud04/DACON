{
  "nbformat": 4,
  "nbformat_minor": 0,
  "metadata": {
    "colab": {
      "name": "DACON_LG_Kobart_Abstractive_Summarization",
      "provenance": [],
      "collapsed_sections": []
    },
    "kernelspec": {
      "name": "python3",
      "display_name": "Python 3"
    },
    "language_info": {
      "name": "python"
    }
  },
  "cells": [
    {
      "cell_type": "code",
      "metadata": {
        "colab": {
          "base_uri": "https://localhost:8080/"
        },
        "id": "U3WQ72VSZNyo",
        "outputId": "198ca263-0b93-419f-8405-f49e15a63b3d"
      },
      "source": [
        "!pip install --upgrade kobart-transformers"
      ],
      "execution_count": null,
      "outputs": [
        {
          "output_type": "stream",
          "name": "stdout",
          "text": [
            "Requirement already satisfied: kobart-transformers in /usr/local/lib/python3.7/dist-packages (0.1.4)\n"
          ]
        }
      ]
    },
    {
      "cell_type": "code",
      "metadata": {
        "colab": {
          "base_uri": "https://localhost:8080/"
        },
        "id": "NQLbRVXdZWzN",
        "outputId": "646183ae-ee1b-46ae-a82d-a96406255e6c"
      },
      "source": [
        "!pip install --upgrade transformers"
      ],
      "execution_count": null,
      "outputs": [
        {
          "output_type": "stream",
          "name": "stdout",
          "text": [
            "Requirement already satisfied: transformers in /usr/local/lib/python3.7/dist-packages (4.11.3)\n",
            "Requirement already satisfied: numpy>=1.17 in /usr/local/lib/python3.7/dist-packages (from transformers) (1.19.5)\n",
            "Requirement already satisfied: sacremoses in /usr/local/lib/python3.7/dist-packages (from transformers) (0.0.46)\n",
            "Requirement already satisfied: importlib-metadata in /usr/local/lib/python3.7/dist-packages (from transformers) (4.8.1)\n",
            "Requirement already satisfied: tokenizers<0.11,>=0.10.1 in /usr/local/lib/python3.7/dist-packages (from transformers) (0.10.3)\n",
            "Requirement already satisfied: packaging>=20.0 in /usr/local/lib/python3.7/dist-packages (from transformers) (21.0)\n",
            "Requirement already satisfied: filelock in /usr/local/lib/python3.7/dist-packages (from transformers) (3.3.0)\n",
            "Requirement already satisfied: tqdm>=4.27 in /usr/local/lib/python3.7/dist-packages (from transformers) (4.62.3)\n",
            "Requirement already satisfied: pyyaml>=5.1 in /usr/local/lib/python3.7/dist-packages (from transformers) (6.0)\n",
            "Requirement already satisfied: requests in /usr/local/lib/python3.7/dist-packages (from transformers) (2.23.0)\n",
            "Requirement already satisfied: huggingface-hub>=0.0.17 in /usr/local/lib/python3.7/dist-packages (from transformers) (0.0.19)\n",
            "Requirement already satisfied: regex!=2019.12.17 in /usr/local/lib/python3.7/dist-packages (from transformers) (2019.12.20)\n",
            "Requirement already satisfied: typing-extensions in /usr/local/lib/python3.7/dist-packages (from huggingface-hub>=0.0.17->transformers) (3.7.4.3)\n",
            "Requirement already satisfied: pyparsing>=2.0.2 in /usr/local/lib/python3.7/dist-packages (from packaging>=20.0->transformers) (2.4.7)\n",
            "Requirement already satisfied: zipp>=0.5 in /usr/local/lib/python3.7/dist-packages (from importlib-metadata->transformers) (3.6.0)\n",
            "Requirement already satisfied: urllib3!=1.25.0,!=1.25.1,<1.26,>=1.21.1 in /usr/local/lib/python3.7/dist-packages (from requests->transformers) (1.24.3)\n",
            "Requirement already satisfied: chardet<4,>=3.0.2 in /usr/local/lib/python3.7/dist-packages (from requests->transformers) (3.0.4)\n",
            "Requirement already satisfied: idna<3,>=2.5 in /usr/local/lib/python3.7/dist-packages (from requests->transformers) (2.10)\n",
            "Requirement already satisfied: certifi>=2017.4.17 in /usr/local/lib/python3.7/dist-packages (from requests->transformers) (2021.5.30)\n",
            "Requirement already satisfied: joblib in /usr/local/lib/python3.7/dist-packages (from sacremoses->transformers) (1.0.1)\n",
            "Requirement already satisfied: click in /usr/local/lib/python3.7/dist-packages (from sacremoses->transformers) (7.1.2)\n",
            "Requirement already satisfied: six in /usr/local/lib/python3.7/dist-packages (from sacremoses->transformers) (1.15.0)\n"
          ]
        }
      ]
    },
    {
      "cell_type": "code",
      "metadata": {
        "id": "f0j_OZ0vYDfZ"
      },
      "source": [
        "import json\n",
        "import numpy as np\n",
        "import pandas as pd"
      ],
      "execution_count": null,
      "outputs": []
    },
    {
      "cell_type": "code",
      "metadata": {
        "id": "c9q0FQgmYXE6"
      },
      "source": [
        "import os\n",
        "\n",
        "DIR = \"/content/drive/MyDrive/DACON_LG/data/\"\n",
        "TRAIN_SOURCE = os.path.join(DIR, \"train.json\")\n",
        "TEST_SOURCE = os.path.join(DIR, \"test.json\")"
      ],
      "execution_count": null,
      "outputs": []
    },
    {
      "cell_type": "code",
      "metadata": {
        "id": "2wZJEMHMYXHz"
      },
      "source": [
        "with open(TRAIN_SOURCE) as f:\n",
        "    TRAIN_DATA = json.loads(f.read())\n",
        "    \n",
        "with open(TEST_SOURCE) as f:\n",
        "    TEST_DATA = json.loads(f.read())"
      ],
      "execution_count": null,
      "outputs": []
    },
    {
      "cell_type": "code",
      "metadata": {
        "id": "1lfCnPxcYXKZ"
      },
      "source": [
        "train = pd.DataFrame(columns=['uid', 'title', 'region', 'context', 'summary'])\n",
        "uid = 1000\n",
        "for data in TRAIN_DATA:\n",
        "    for agenda in data['context'].keys():\n",
        "        context = ''\n",
        "        for line in data['context'][agenda]:\n",
        "            context += data['context'][agenda][line]\n",
        "            context += ' '\n",
        "        train.loc[uid, 'uid'] = uid\n",
        "        train.loc[uid, 'title'] = data['title']\n",
        "        train.loc[uid, 'region'] = data['region']\n",
        "        train.loc[uid, 'context'] = context[:-1]\n",
        "        train.loc[uid, 'summary'] = data['label'][agenda]['summary']\n",
        "        uid += 1\n",
        "\n",
        "test = pd.DataFrame(columns=['uid', 'title', 'region', 'context'])\n",
        "uid = 2000\n",
        "for data in TEST_DATA:\n",
        "    for agenda in data['context'].keys():\n",
        "        context = ''\n",
        "        for line in data['context'][agenda]:\n",
        "            context += data['context'][agenda][line]\n",
        "            context += ' '\n",
        "        test.loc[uid, 'uid'] = uid\n",
        "        test.loc[uid, 'title'] = data['title']\n",
        "        test.loc[uid, 'region'] = data['region']\n",
        "        test.loc[uid, 'context'] = context[:-1]\n",
        "        uid += 1"
      ],
      "execution_count": null,
      "outputs": []
    },
    {
      "cell_type": "code",
      "metadata": {
        "id": "pfoclgkuYXNk"
      },
      "source": [
        "train['total'] = train.title + ' ' + train.region + ' ' + train.context\n",
        "test['total'] = test.title + ' ' + test.region + ' ' + test.context"
      ],
      "execution_count": null,
      "outputs": []
    },
    {
      "cell_type": "code",
      "metadata": {
        "colab": {
          "base_uri": "https://localhost:8080/"
        },
        "id": "Fxzd9ImzYXQd",
        "outputId": "a4f1cab4-c29d-418d-bf09-6958d5f59e7b"
      },
      "source": [
        "test['total'].head()"
      ],
      "execution_count": null,
      "outputs": [
        {
          "output_type": "execute_result",
          "data": {
            "text/plain": [
              "2000    제235회    본회의 제1차(2012.06.21.) 음성 의석을 정돈하여 주시기 ...\n",
              "2001    제235회    본회의 제1차(2012.06.21.) 음성 의사일정 제1항, 음성군...\n",
              "2002    제235회    본회의 제1차(2012.06.21.) 음성 의사일정 제2항, 회의록...\n",
              "2003    제235회    본회의 제1차(2012.06.21.) 음성 의사일정 제3항, 예산결...\n",
              "2004    제235회    본회의 제1차(2012.06.21.) 음성 의사일정 제4항, 환경분...\n",
              "Name: total, dtype: object"
            ]
          },
          "metadata": {},
          "execution_count": 6
        }
      ]
    },
    {
      "cell_type": "code",
      "metadata": {
        "id": "ZfgpNNRqYXTL"
      },
      "source": [
        "experiment_samples = test['total'].tolist()"
      ],
      "execution_count": null,
      "outputs": []
    },
    {
      "cell_type": "code",
      "metadata": {
        "colab": {
          "base_uri": "https://localhost:8080/"
        },
        "id": "Fe-upzh_bwdJ",
        "outputId": "e5fff644-764d-40a8-92d5-f11842c2427c"
      },
      "source": [
        "print(len(max(experiment_samples, key=len)))\n",
        "print(len(min(experiment_samples, key=len)))"
      ],
      "execution_count": null,
      "outputs": [
        {
          "output_type": "stream",
          "name": "stdout",
          "text": [
            "10983\n",
            "96\n"
          ]
        }
      ]
    },
    {
      "cell_type": "code",
      "metadata": {
        "id": "KblZ5TOvYhGD"
      },
      "source": [
        "from transformers import BartTokenizer, BartForConditionalGeneration, BartConfig\n",
        "from kobart_transformers import get_kobart_for_conditional_generation\n",
        "\n",
        "result_list = []\n",
        "# model = BartForConditionalGeneration.from_pretrained('facebook/bart-large-cnn')\n",
        "# model = get_kobart_model()\n",
        "model = get_kobart_for_conditional_generation()\n",
        "# tokenizer = BartTokenizer.from_pretrained('facebook/bart-large-cnn')\n",
        "kobart_tokenizer = get_kobart_tokenizer()\n",
        "\n",
        "for i in range(len(experiment_samples)):\n",
        "  ARTICLE_TO_SUMMARIZE = experiment_samples[i]\n",
        "  inputs = kobart_tokenizer([ARTICLE_TO_SUMMARIZE], max_length=10983, return_tensors='pt')\n",
        "\n",
        "  # Generate Summary\n",
        "  summary_ids = model.generate(inputs['input_ids'], num_beams=10, max_length=140, no_repeat_ngram_size=1, top_p=0.80, early_stopping=True)\n",
        "  result = [kobart_tokenizer.decode(g, skip_special_tokens=True, clean_up_tokenization_spaces=False) for g in summary_ids]\n",
        "  result_list.append(result)"
      ],
      "execution_count": null,
      "outputs": []
    },
    {
      "cell_type": "code",
      "metadata": {
        "colab": {
          "base_uri": "https://localhost:8080/"
        },
        "id": "x-ZhsztpZlNY",
        "outputId": "464b57d1-e788-4d80-c35b-ca90a097a85a"
      },
      "source": [
        "from kobart_transformers import get_kobart_model, get_kobart_tokenizer\n",
        "from kobart_transformers import get_kobart_for_conditional_generation\n",
        "\n",
        "kobart_tokenizer = get_kobart_tokenizer()\n",
        "model = get_kobart_for_conditional_generation()\n",
        "\n",
        "ARTICLE_TO_SUMMARIZE = experiment_samples[0]\n",
        "inputs = kobart_tokenizer([ARTICLE_TO_SUMMARIZE], max_length=10983, return_tensors='pt')\n",
        "summary_ids = model.generate(inputs['input_ids'],\n",
        "                             num_beams=10,\n",
        "                             max_length=140,\n",
        "                             no_repeat_ngram_size=1,\n",
        "                             top_p=0.90,\n",
        "                            #  num_return_sequences = 3,\n",
        "                            #  top_k=50,\n",
        "                             early_stopping=True)\n",
        "\n",
        "print([kobart_tokenizer.decode(g, skip_special_tokens=True, clean_up_tokenization_spaces=False) for g in summary_ids])"
      ],
      "execution_count": null,
      "outputs": [
        {
          "output_type": "stream",
          "name": "stderr",
          "text": [
            "The tokenizer class you load from this checkpoint is not the same type as the class this function is called from. It may result in unexpected tokenization. \n",
            "The tokenizer class you load from this checkpoint is 'BartTokenizer'. \n",
            "The class this function is called from is 'PreTrainedTokenizerFast'.\n",
            "Truncation was not explicitly activated but `max_length` is provided a specific value, please use `truncation=True` to explicitly truncate examples to max length. Defaulting to 'longest_first' truncation strategy. If you encode pairs of sequences (GLUE-style) with the tokenizer you can select this strategy more precisely by providing a specific strategy to `truncation`.\n"
          ]
        },
        {
          "output_type": "stream",
          "name": "stdout",
          "text": [
            "[\"- 제회 제235 회 ' 연차(2012.06.21.) 음성 의석을 정돈하여 주시기 바랍니다. 성원이 되었으므로 지금 이제 음성 군이 있는 단, 이동에 진거(합원 대문 한자 동회의를 개의하겠습니다. 먼저 사제무과장으로부터 보고가 있으니까 있습니다. 거고정 김 저저와 함께 적 제가 있겠겠습니다. 구회사 무과장입니다. 따라서 지난 2012년 5월 29일 제134조 제주 경남 김해는 지방 제3 제4일 부산 및 본에서 서울을 조정 등 상 개정 고 외 결정 중에서 이송한 안건에 대해서 보고를 드리 합니다. 시작적으로 있던 것입니다. 그렇게 올해 5029 전 인터넷 북북 전북도 일\", \"- 제회 제235 회 ' 연차(2012.06.21.) 음성 의석을 정돈하여 주시기 바랍니다. 성원이 되었으므로 지금 이제 음성 군이 있는 단, 이동에 진거(합원 대문 한자 동회의를 개의하겠습니다. 먼저 사제무과장으로부터 보고가 있으니까 있습니다. 거고정 김 저가지와 같이 적 제가 있겠겠습니다. 구회사 무과장입니다. 따라서 지난 2012년 5월 29일 제134조 제주 경남 김해는 지방 제3 제4일 부산 및 본에서 서울을 조정 등 상 개정 고 외 결정 중에서 이송한 안건에 대해서 보고를 드리 합니다. 시작적으로 있던 것입니다. 그렇게 올해 5029 전 인터넷 북북 전북도 일\", \"- 제회 제235 회 ' 연차(2012.06.21.) 음성 의석을 정돈하여 주시기 바랍니다. 성원이 되었으므로 지금 이제 음성 군이 있는 단, 이동에 진거(합원 대문 한자 동회의를 개의하겠습니다. 먼저 사제무과장으로부터 보고가 있으니까 있습니다. 거고정 김 저저와 함께 적 제가 있겠겠습니다. 구회사 무과장입니다. 따라서 지난 2012년 5월 29일 제134조 제주 경남 김해는 지방 제3 제4일 부산 및 본에서 서울을 조정 등 상 개정 고 외 결정 중에서 이송한 안건에 대해서 보고를 드리 합니다. 시작적으로 있던 것입니다. 그렇게 올해 5029 전 인터넷 북북 전북산군\"]\n"
          ]
        }
      ]
    },
    {
      "cell_type": "code",
      "metadata": {
        "id": "d_BZEHO3YhI3"
      },
      "source": [
        "result_list[:10]"
      ],
      "execution_count": null,
      "outputs": []
    },
    {
      "cell_type": "code",
      "metadata": {
        "id": "0URLUXu7YhLY"
      },
      "source": [
        "submission = pd.read_csv('/content/drive/MyDrive/DACON_LG/data/sample_submission.csv')"
      ],
      "execution_count": null,
      "outputs": []
    },
    {
      "cell_type": "code",
      "metadata": {
        "id": "986njqeiYhOI"
      },
      "source": [
        "submission['summary'] = result_list"
      ],
      "execution_count": null,
      "outputs": []
    },
    {
      "cell_type": "code",
      "metadata": {
        "id": "h60kelBkYhRI"
      },
      "source": [
        "submission.to_csv('/content/drive/MyDrive/DACON_LG/data/kobart-trial.csv', index=False)"
      ],
      "execution_count": null,
      "outputs": []
    },
    {
      "cell_type": "code",
      "metadata": {
        "id": "iSiVwj05YsO-"
      },
      "source": [
        ""
      ],
      "execution_count": null,
      "outputs": []
    }
  ]
}