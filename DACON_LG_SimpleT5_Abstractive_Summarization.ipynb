{
  "nbformat": 4,
  "nbformat_minor": 0,
  "metadata": {
    "accelerator": "GPU",
    "colab": {
      "name": "DACON_LG_SimpleT5_Abstractive_Summarization",
      "provenance": [],
      "collapsed_sections": [],
      "machine_shape": "hm"
    },
    "kernelspec": {
      "display_name": "Python 3",
      "name": "python3"
    },
    "language_info": {
      "name": "python"
    }
  },
  "cells": [
    {
      "cell_type": "markdown",
      "metadata": {
        "id": "t_uMDDCgeIz4"
      },
      "source": [
        "[simpleT5](https://github.com/Shivanandroy/simpleT5)"
      ]
    },
    {
      "cell_type": "markdown",
      "metadata": {
        "id": "60PrM5KVNP_T"
      },
      "source": [
        "mT5(multilingual T5)의 ROUGE-N에 대한 F1 SCORE 0.745570.676280.72491"
      ]
    },
    {
      "cell_type": "code",
      "metadata": {
        "id": "aw2X56RzbAbb"
      },
      "source": [
        "!pip install simplet5"
      ],
      "execution_count": null,
      "outputs": []
    },
    {
      "cell_type": "code",
      "metadata": {
        "id": "p5oQEkTpJmVv"
      },
      "source": [
        "import json\n",
        "import numpy as np\n",
        "import pandas as pd"
      ],
      "execution_count": null,
      "outputs": []
    },
    {
      "cell_type": "code",
      "metadata": {
        "id": "9xJfIuYoJPSy"
      },
      "source": [
        "import os\n",
        "\n",
        "DIR = \"/content/drive/MyDrive/DACON_LG/data/\"\n",
        "TRAIN_SOURCE = os.path.join(DIR, \"train.json\")\n",
        "TEST_SOURCE = os.path.join(DIR, \"test.json\")"
      ],
      "execution_count": null,
      "outputs": []
    },
    {
      "cell_type": "code",
      "metadata": {
        "id": "qhWeqgJzJQv3"
      },
      "source": [
        "with open(TRAIN_SOURCE) as f:\n",
        "    TRAIN_DATA = json.loads(f.read())\n",
        "    \n",
        "with open(TEST_SOURCE) as f:\n",
        "    TEST_DATA = json.loads(f.read())"
      ],
      "execution_count": null,
      "outputs": []
    },
    {
      "cell_type": "code",
      "metadata": {
        "id": "6GAqSKsUJQ4x"
      },
      "source": [
        "train = pd.DataFrame(columns=['uid', 'title', 'region', 'context', 'summary'])\n",
        "uid = 1000\n",
        "for data in TRAIN_DATA:\n",
        "    for agenda in data['context'].keys():\n",
        "        context = ''\n",
        "        for line in data['context'][agenda]:\n",
        "            context += data['context'][agenda][line]\n",
        "            context += ' '\n",
        "        train.loc[uid, 'uid'] = uid\n",
        "        train.loc[uid, 'title'] = data['title']\n",
        "        train.loc[uid, 'region'] = data['region']\n",
        "        train.loc[uid, 'context'] = context[:-1]\n",
        "        train.loc[uid, 'summary'] = data['label'][agenda]['summary']\n",
        "        uid += 1\n",
        "\n",
        "test = pd.DataFrame(columns=['uid', 'title', 'region', 'context'])\n",
        "uid = 2000\n",
        "for data in TEST_DATA:\n",
        "    for agenda in data['context'].keys():\n",
        "        context = ''\n",
        "        for line in data['context'][agenda]:\n",
        "            context += data['context'][agenda][line]\n",
        "            context += ' '\n",
        "        test.loc[uid, 'uid'] = uid\n",
        "        test.loc[uid, 'title'] = data['title']\n",
        "        test.loc[uid, 'region'] = data['region']\n",
        "        test.loc[uid, 'context'] = context[:-1]\n",
        "        uid += 1"
      ],
      "execution_count": null,
      "outputs": []
    },
    {
      "cell_type": "code",
      "metadata": {
        "id": "ESUtNf4EtBVa"
      },
      "source": [
        "train['total'] = train.title + ' ' + train.region + ' ' + train.context\n",
        "test['total'] = test.title + ' ' + test.region + ' ' + test.context"
      ],
      "execution_count": null,
      "outputs": []
    },
    {
      "cell_type": "code",
      "metadata": {
        "id": "16oOeSkphaPP"
      },
      "source": [
        "# simpleT5 expects dataframe to have 2 columns: \"source_text\" and \"target_text\"\n",
        "df = train.rename(columns={\"summary\":\"target_text\", \"total\":\"source_text\"})\n",
        "df = df[['source_text', 'target_text']]\n",
        "\n",
        "# T5 model expects a task related prefix: since it is a summarization task, we will add a prefix \"summarize: \"\n",
        "df['source_text'] = \"summarize: \" + df['source_text']"
      ],
      "execution_count": null,
      "outputs": []
    },
    {
      "cell_type": "code",
      "metadata": {
        "id": "_tLLdOPGl7gv"
      },
      "source": [
        "from sklearn.model_selection import train_test_split\n",
        "\n",
        "train_df, test_df = train_test_split(df, test_size=0.2)"
      ],
      "execution_count": null,
      "outputs": []
    },
    {
      "cell_type": "code",
      "metadata": {
        "id": "zWE4rl2vhaLZ"
      },
      "source": [
        "from simplet5 import SimpleT5\n",
        "\n",
        "model = SimpleT5()\n",
        "model.from_pretrained(model_type=\"mt5\", model_name=\"google/mt5-small\")\n",
        "model.train(train_df=train_df,\n",
        "            eval_df=test_df, \n",
        "            # source_max_token_len=1724, \n",
        "            target_max_token_len=139, \n",
        "            batch_size=8, max_epochs=100, early_stopping_patience_epochs = 2, use_gpu=True)"
      ],
      "execution_count": null,
      "outputs": []
    },
    {
      "cell_type": "code",
      "metadata": {
        "id": "qxkdViDPLhMY"
      },
      "source": [
        "text_to_summarize = test['total'].tolist()"
      ],
      "execution_count": null,
      "outputs": []
    },
    {
      "cell_type": "code",
      "metadata": {
        "id": "7PVmAPLUSBMh"
      },
      "source": [
        "# let's load the trained model for inferencing:\n",
        "\n",
        "result = []\n",
        "\n",
        "model.load_model(\"mt5\",\"/content/outputs/simplet5-epoch-29-train-loss-0.7763\", use_gpu=True)\n",
        "\n",
        "for i in range(len(text_to_summarize)):\n",
        "  result.append(model.predict(text_to_summarize[i]))\n",
        "\n",
        "result[:10]"
      ],
      "execution_count": null,
      "outputs": []
    },
    {
      "cell_type": "code",
      "metadata": {
        "id": "pIYKj0W3igGi"
      },
      "source": [
        "final_result = sum(result, [])"
      ],
      "execution_count": null,
      "outputs": []
    },
    {
      "cell_type": "code",
      "metadata": {
        "id": "2WN-QEgNjBEc"
      },
      "source": [
        "final_result[:10]"
      ],
      "execution_count": null,
      "outputs": []
    },
    {
      "cell_type": "code",
      "metadata": {
        "id": "EisduPXUrD-G"
      },
      "source": [
        "submission = pd.read_csv('/content/drive/MyDrive/DACON_LG/data/sample_submission.csv')"
      ],
      "execution_count": null,
      "outputs": []
    },
    {
      "cell_type": "code",
      "metadata": {
        "id": "BRQUO-nedqcK"
      },
      "source": [
        "submission['summary'] = final_result"
      ],
      "execution_count": null,
      "outputs": []
    },
    {
      "cell_type": "code",
      "metadata": {
        "colab": {
          "background_save": true
        },
        "id": "lFskFXtidqoM"
      },
      "source": [
        "submission.head()"
      ],
      "execution_count": null,
      "outputs": []
    },
    {
      "cell_type": "code",
      "metadata": {
        "id": "gMv_Fu_tdqr9"
      },
      "source": [
        "submission.to_csv('/content/drive/MyDrive/DACON_LG/data/mt5-trial.csv', index=False)"
      ],
      "execution_count": null,
      "outputs": []
    },
    {
      "cell_type": "code",
      "metadata": {
        "colab": {
          "background_save": true
        },
        "id": "e7GfHtgKjJAa"
      },
      "source": [
        ""
      ],
      "execution_count": null,
      "outputs": []
    }
  ]
}