{
 "cells": [
  {
   "cell_type": "markdown",
   "metadata": {
    "id": "ecBnd4_0hoFb"
   },
   "source": [
    "Pororo Summarization Extract"
   ]
  },
  {
   "cell_type": "markdown",
   "metadata": {},
   "source": [
    "ROUGE-N에 대한 F1 SCORE 0.32505909\t0.24971946\t0.29309712"
   ]
  },
  {
   "cell_type": "code",
   "execution_count": 1,
   "metadata": {
    "colab": {
     "base_uri": "https://localhost:8080/"
    },
    "id": "H1e7Eevvhv_z",
    "outputId": "637e69ba-60a2-4efa-cf6f-518dd7551bfb"
   },
   "outputs": [
    {
     "name": "stdout",
     "output_type": "stream",
     "text": [
      "Hit:1 https://cloud.r-project.org/bin/linux/ubuntu bionic-cran40/ InRelease\n",
      "Ign:2 https://developer.download.nvidia.com/compute/cuda/repos/ubuntu1804/x86_64  InRelease\n",
      "Get:3 http://security.ubuntu.com/ubuntu bionic-security InRelease [88.7 kB]\n",
      "Ign:4 https://developer.download.nvidia.com/compute/machine-learning/repos/ubuntu1804/x86_64  InRelease\n",
      "Hit:5 https://developer.download.nvidia.com/compute/cuda/repos/ubuntu1804/x86_64  Release\n",
      "Hit:6 https://developer.download.nvidia.com/compute/machine-learning/repos/ubuntu1804/x86_64  Release\n",
      "Hit:7 http://ppa.launchpad.net/c2d4u.team/c2d4u4.0+/ubuntu bionic InRelease\n",
      "Hit:8 http://archive.ubuntu.com/ubuntu bionic InRelease\n",
      "Get:10 http://archive.ubuntu.com/ubuntu bionic-updates InRelease [88.7 kB]\n",
      "Hit:12 http://ppa.launchpad.net/cran/libgit2/ubuntu bionic InRelease\n",
      "Hit:13 http://ppa.launchpad.net/deadsnakes/ppa/ubuntu bionic InRelease\n",
      "Get:14 http://archive.ubuntu.com/ubuntu bionic-backports InRelease [74.6 kB]\n",
      "Hit:15 http://ppa.launchpad.net/graphics-drivers/ppa/ubuntu bionic InRelease\n",
      "Fetched 252 kB in 2s (145 kB/s)\n",
      "Reading package lists...\n",
      "Reading package lists...\n",
      "Building dependency tree...\n",
      "Reading state information...\n",
      "python-dev is already the newest version (2.7.15~rc1-1).\n",
      "g++ is already the newest version (4:7.4.0-1ubuntu2.3).\n",
      "python3-dev is already the newest version (3.6.7-1~18.04).\n",
      "openjdk-8-jdk is already the newest version (8u292-b10-0ubuntu1~18.04).\n",
      "0 upgraded, 0 newly installed, 0 to remove and 39 not upgraded.\n",
      "Requirement already satisfied: JPype1 in /usr/local/lib/python3.7/dist-packages (1.3.0)\n",
      "Requirement already satisfied: typing-extensions in /usr/local/lib/python3.7/dist-packages (from JPype1) (3.7.4.3)\n",
      "Requirement already satisfied: konlpy in /usr/local/lib/python3.7/dist-packages (0.5.2)\n",
      "Requirement already satisfied: lxml>=4.1.0 in /usr/local/lib/python3.7/dist-packages (from konlpy) (4.2.6)\n",
      "Requirement already satisfied: JPype1>=0.7.0 in /usr/local/lib/python3.7/dist-packages (from konlpy) (1.3.0)\n",
      "Requirement already satisfied: colorama in /usr/local/lib/python3.7/dist-packages (from konlpy) (0.4.4)\n",
      "Requirement already satisfied: numpy>=1.6 in /usr/local/lib/python3.7/dist-packages (from konlpy) (1.19.5)\n",
      "Requirement already satisfied: tweepy>=3.7.0 in /usr/local/lib/python3.7/dist-packages (from konlpy) (3.10.0)\n",
      "Requirement already satisfied: beautifulsoup4==4.6.0 in /usr/local/lib/python3.7/dist-packages (from konlpy) (4.6.0)\n",
      "Requirement already satisfied: typing-extensions in /usr/local/lib/python3.7/dist-packages (from JPype1>=0.7.0->konlpy) (3.7.4.3)\n",
      "Requirement already satisfied: requests-oauthlib>=0.7.0 in /usr/local/lib/python3.7/dist-packages (from tweepy>=3.7.0->konlpy) (1.3.0)\n",
      "Requirement already satisfied: six>=1.10.0 in /usr/local/lib/python3.7/dist-packages (from tweepy>=3.7.0->konlpy) (1.15.0)\n",
      "Requirement already satisfied: requests[socks]>=2.11.1 in /usr/local/lib/python3.7/dist-packages (from tweepy>=3.7.0->konlpy) (2.23.0)\n",
      "Requirement already satisfied: oauthlib>=3.0.0 in /usr/local/lib/python3.7/dist-packages (from requests-oauthlib>=0.7.0->tweepy>=3.7.0->konlpy) (3.1.1)\n",
      "Requirement already satisfied: certifi>=2017.4.17 in /usr/local/lib/python3.7/dist-packages (from requests[socks]>=2.11.1->tweepy>=3.7.0->konlpy) (2021.5.30)\n",
      "Requirement already satisfied: urllib3!=1.25.0,!=1.25.1,<1.26,>=1.21.1 in /usr/local/lib/python3.7/dist-packages (from requests[socks]>=2.11.1->tweepy>=3.7.0->konlpy) (1.24.3)\n",
      "Requirement already satisfied: chardet<4,>=3.0.2 in /usr/local/lib/python3.7/dist-packages (from requests[socks]>=2.11.1->tweepy>=3.7.0->konlpy) (3.0.4)\n",
      "Requirement already satisfied: idna<3,>=2.5 in /usr/local/lib/python3.7/dist-packages (from requests[socks]>=2.11.1->tweepy>=3.7.0->konlpy) (2.10)\n",
      "Requirement already satisfied: PySocks!=1.5.7,>=1.5.6 in /usr/local/lib/python3.7/dist-packages (from requests[socks]>=2.11.1->tweepy>=3.7.0->konlpy) (1.7.1)\n"
     ]
    }
   ],
   "source": [
    "%%bash\n",
    "apt-get update\n",
    "apt-get install g++ openjdk-8-jdk python-dev python3-dev\n",
    "pip3 install JPype1\n",
    "pip3 install konlpy"
   ]
  },
  {
   "cell_type": "code",
   "execution_count": 2,
   "metadata": {
    "colab": {
     "base_uri": "https://localhost:8080/"
    },
    "id": "uHa9YMlThyxy",
    "outputId": "5f65f0c0-d6b8-4aef-f56d-21df5fa512d8"
   },
   "outputs": [
    {
     "name": "stdout",
     "output_type": "stream",
     "text": [
      "env: JAVA_HOME=\"/usr/lib/jvm/java-8-openjdk-amd64\"\n"
     ]
    }
   ],
   "source": [
    "%env JAVA_HOME \"/usr/lib/jvm/java-8-openjdk-amd64\""
   ]
  },
  {
   "cell_type": "code",
   "execution_count": 3,
   "metadata": {
    "colab": {
     "base_uri": "https://localhost:8080/"
    },
    "id": "W8KcydLehzSk",
    "outputId": "f12e3fac-8118-48fb-9387-f6a6e1406432"
   },
   "outputs": [
    {
     "name": "stdout",
     "output_type": "stream",
     "text": [
      "mecab-ko is already installed\n",
      "mecab-ko-dic is already installed\n",
      "mecab-python is already installed\n",
      "Done.\n",
      "Processing /tmp/mecab-python-0.996\n",
      "Building wheels for collected packages: mecab-python\n",
      "  Building wheel for mecab-python (setup.py): started\n",
      "  Building wheel for mecab-python (setup.py): finished with status 'done'\n",
      "  Created wheel for mecab-python: filename=mecab_python-0.996_ko_0.9.2-cp37-cp37m-linux_x86_64.whl size=141815 sha256=5582081f1422d780b9ae8f43556a6fdb6354ca953a854e8c622be10e65e847c1\n",
      "  Stored in directory: /root/.cache/pip/wheels/40/7b/9f/2922869bef86c3354ae7034f7a3647c573ee1997c2dad0290a\n",
      "Failed to build mecab-python\n",
      "Installing collected packages: mecab-python\n",
      "  Attempting uninstall: mecab-python\n",
      "    Found existing installation: mecab-python 0.996-ko-0.9.2\n",
      "    Uninstalling mecab-python-0.996-ko-0.9.2:\n",
      "      Successfully uninstalled mecab-python-0.996-ko-0.9.2\n",
      "    Running setup.py install for mecab-python: started\n",
      "    Running setup.py install for mecab-python: finished with status 'done'\n",
      "Successfully installed mecab-python-0.996-ko-0.9.2\n"
     ]
    },
    {
     "name": "stderr",
     "output_type": "stream",
     "text": [
      "  DEPRECATION: A future pip version will change local packages to be built in-place without first copying to a temporary directory. We recommend you use --use-feature=in-tree-build to test your packages with this new behavior before it becomes the default.\n",
      "   pip 21.3 will remove support for this functionality. You can find discussion regarding this at https://github.com/pypa/pip/issues/7555.\n",
      "  WARNING: Built wheel for mecab-python is invalid: Metadata 1.2 mandates PEP 440 version, but '0.996-ko-0.9.2' is not\n",
      "  DEPRECATION: mecab-python was installed using the legacy 'setup.py install' method, because a wheel could not be built for it. A possible replacement is to fix the wheel build issue reported above. You can find discussion regarding this at https://github.com/pypa/pip/issues/8368.\n"
     ]
    }
   ],
   "source": [
    "%%bash\n",
    "bash <(curl -s https://raw.githubusercontent.com/konlpy/konlpy/master/scripts/mecab.sh)\n",
    "pip3 install /tmp/mecab-python-0.996"
   ]
  },
  {
   "cell_type": "code",
   "execution_count": 4,
   "metadata": {
    "id": "IUXyH8CKiMY0"
   },
   "outputs": [],
   "source": [
    "import numpy as np\n",
    "import pandas as pd\n",
    "\n",
    "import json\n",
    "from pandas.io.json import json_normalize\n",
    "\n",
    "import re\n",
    "from tqdm.notebook import tqdm\n",
    "\n",
    "import warnings\n",
    "warnings.filterwarnings('ignore')"
   ]
  },
  {
   "cell_type": "code",
   "execution_count": 5,
   "metadata": {
    "id": "7m5KnAvPkbtq"
   },
   "outputs": [],
   "source": [
    "import os\n",
    "\n",
    "DIR = \"/content/drive/MyDrive/DACON_LG/data/\"\n",
    "TRAIN_SOURCE = os.path.join(DIR, \"train.json\")\n",
    "TEST_SOURCE = os.path.join(DIR, \"test.json\")"
   ]
  },
  {
   "cell_type": "code",
   "execution_count": 6,
   "metadata": {
    "id": "PNn7iuTGkJFJ"
   },
   "outputs": [],
   "source": [
    "with open(TRAIN_SOURCE) as f:\n",
    "    TRAIN_DATA = json.loads(f.read())\n",
    "    \n",
    "with open(TEST_SOURCE) as f:\n",
    "    TEST_DATA = json.loads(f.read())"
   ]
  },
  {
   "cell_type": "code",
   "execution_count": 7,
   "metadata": {
    "id": "I25qLYXYkJth"
   },
   "outputs": [],
   "source": [
    "train = pd.DataFrame(columns=['uid', 'title', 'region', 'context', 'summary'])\n",
    "uid = 1000\n",
    "for data in TRAIN_DATA:\n",
    "    for agenda in data['context'].keys():\n",
    "        context = ''\n",
    "        for line in data['context'][agenda]:\n",
    "            context += data['context'][agenda][line]\n",
    "            context += ' '\n",
    "        train.loc[uid, 'uid'] = uid\n",
    "        train.loc[uid, 'title'] = data['title']\n",
    "        train.loc[uid, 'region'] = data['region']\n",
    "        train.loc[uid, 'context'] = context[:-1]\n",
    "        train.loc[uid, 'summary'] = data['label'][agenda]['summary']\n",
    "        uid += 1\n",
    "\n",
    "test = pd.DataFrame(columns=['uid', 'title', 'region', 'context'])\n",
    "uid = 2000\n",
    "for data in TEST_DATA:\n",
    "    for agenda in data['context'].keys():\n",
    "        context = ''\n",
    "        for line in data['context'][agenda]:\n",
    "            context += data['context'][agenda][line]\n",
    "            context += ' '\n",
    "        test.loc[uid, 'uid'] = uid\n",
    "        test.loc[uid, 'title'] = data['title']\n",
    "        test.loc[uid, 'region'] = data['region']\n",
    "        test.loc[uid, 'context'] = context[:-1]\n",
    "        uid += 1"
   ]
  },
  {
   "cell_type": "code",
   "execution_count": 8,
   "metadata": {
    "id": "yAaIBZvBkOHS"
   },
   "outputs": [],
   "source": [
    "train['total'] = train.title + ' ' + train.region + ' ' + train.context\n",
    "test['total'] = test.title + ' ' + test.region + ' ' + test.context"
   ]
  },
  {
   "cell_type": "code",
   "execution_count": 9,
   "metadata": {
    "colab": {
     "base_uri": "https://localhost:8080/",
     "height": 357
    },
    "id": "9EBy4JZ-PKFi",
    "outputId": "8b9bc0c7-7c24-4cb3-e5e1-8ebafc996dbc"
   },
   "outputs": [
    {
     "data": {
      "text/html": [
       "<div>\n",
       "<style scoped>\n",
       "    .dataframe tbody tr th:only-of-type {\n",
       "        vertical-align: middle;\n",
       "    }\n",
       "\n",
       "    .dataframe tbody tr th {\n",
       "        vertical-align: top;\n",
       "    }\n",
       "\n",
       "    .dataframe thead th {\n",
       "        text-align: right;\n",
       "    }\n",
       "</style>\n",
       "<table border=\"1\" class=\"dataframe\">\n",
       "  <thead>\n",
       "    <tr style=\"text-align: right;\">\n",
       "      <th></th>\n",
       "      <th>uid</th>\n",
       "      <th>title</th>\n",
       "      <th>region</th>\n",
       "      <th>context</th>\n",
       "      <th>summary</th>\n",
       "      <th>total</th>\n",
       "    </tr>\n",
       "  </thead>\n",
       "  <tbody>\n",
       "    <tr>\n",
       "      <th>1000</th>\n",
       "      <td>1000</td>\n",
       "      <td>제207회 완주군의회(임시회) 제 1 차 본회의회의록</td>\n",
       "      <td>완주</td>\n",
       "      <td>의석을 정돈하여 주시기 바랍니다. 성원이 되었으므로 제207회 완주군의회 임시회 제...</td>\n",
       "      <td>제207회 완주군의회 임시회 제1차 본회의 개의 선포.</td>\n",
       "      <td>제207회 완주군의회(임시회) 제 1 차 본회의회의록 완주 의석을 정돈하여 주시기 ...</td>\n",
       "    </tr>\n",
       "    <tr>\n",
       "      <th>1001</th>\n",
       "      <td>1001</td>\n",
       "      <td>제207회 완주군의회(임시회) 제 1 차 본회의회의록</td>\n",
       "      <td>완주</td>\n",
       "      <td>의사팀장 수고하셨습니다. 먼저 의사일정 제1항 제207회 완주군의회 임시회 회기 결...</td>\n",
       "      <td>제207회 완주군의회 임시회 회기는 8월 26일부터 9월 4일까지 10일간으로 가결됨.</td>\n",
       "      <td>제207회 완주군의회(임시회) 제 1 차 본회의회의록 완주 의사팀장 수고하셨습니다....</td>\n",
       "    </tr>\n",
       "    <tr>\n",
       "      <th>1002</th>\n",
       "      <td>1002</td>\n",
       "      <td>제207회 완주군의회(임시회) 제 1 차 본회의회의록</td>\n",
       "      <td>완주</td>\n",
       "      <td>다음은 의사일정 제2항 제207회 완주군의회 임시회 회의록 서명의원 선출의 건을 상...</td>\n",
       "      <td>제207회 완주군의회 임시회 회의록 서명의원으로 최등원 의원과 박웅배 의원이 선출됨.</td>\n",
       "      <td>제207회 완주군의회(임시회) 제 1 차 본회의회의록 완주 다음은 의사일정 제2항 ...</td>\n",
       "    </tr>\n",
       "    <tr>\n",
       "      <th>1003</th>\n",
       "      <td>1003</td>\n",
       "      <td>제207회 완주군의회(임시회) 제 1 차 본회의회의록</td>\n",
       "      <td>완주</td>\n",
       "      <td>다음은 의사일정 제3항 본회의 휴회의 건을 상정합니다. 상임의원회 의정활동을 위하여...</td>\n",
       "      <td>8월 27일부터 9월 3일까지 8일간 휴회가 가결됨. 제2차 본회의는 9월 4일 오...</td>\n",
       "      <td>제207회 완주군의회(임시회) 제 1 차 본회의회의록 완주 다음은 의사일정 제3항 ...</td>\n",
       "    </tr>\n",
       "    <tr>\n",
       "      <th>1004</th>\n",
       "      <td>1004</td>\n",
       "      <td>제251회 완주군의회(제1차 정례회) 제1차 본 회 의 회 의 록</td>\n",
       "      <td>완주</td>\n",
       "      <td>의석을 정돈하여 주시기 바랍니다. 성원이 되었으므로 제251회 완주군의회 제1차 정...</td>\n",
       "      <td>제251회 완주군의회 제1차 정례회 제1차 본회의 개의 선포.</td>\n",
       "      <td>제251회 완주군의회(제1차 정례회) 제1차 본 회 의 회 의 록 완주 의석을 정돈...</td>\n",
       "    </tr>\n",
       "  </tbody>\n",
       "</table>\n",
       "</div>"
      ],
      "text/plain": [
       "       uid  ...                                              total\n",
       "1000  1000  ...  제207회 완주군의회(임시회) 제 1 차 본회의회의록 완주 의석을 정돈하여 주시기 ...\n",
       "1001  1001  ...  제207회 완주군의회(임시회) 제 1 차 본회의회의록 완주 의사팀장 수고하셨습니다....\n",
       "1002  1002  ...  제207회 완주군의회(임시회) 제 1 차 본회의회의록 완주 다음은 의사일정 제2항 ...\n",
       "1003  1003  ...  제207회 완주군의회(임시회) 제 1 차 본회의회의록 완주 다음은 의사일정 제3항 ...\n",
       "1004  1004  ...  제251회 완주군의회(제1차 정례회) 제1차 본 회 의 회 의 록 완주 의석을 정돈...\n",
       "\n",
       "[5 rows x 6 columns]"
      ]
     },
     "execution_count": 9,
     "metadata": {},
     "output_type": "execute_result"
    }
   ],
   "source": [
    "train.head()"
   ]
  },
  {
   "cell_type": "code",
   "execution_count": 10,
   "metadata": {
    "colab": {
     "base_uri": "https://localhost:8080/",
     "height": 289
    },
    "id": "YwxJwFhlRn9r",
    "outputId": "037b9b76-be13-4b9a-ddfb-108de293c51f"
   },
   "outputs": [
    {
     "data": {
      "text/html": [
       "<div>\n",
       "<style scoped>\n",
       "    .dataframe tbody tr th:only-of-type {\n",
       "        vertical-align: middle;\n",
       "    }\n",
       "\n",
       "    .dataframe tbody tr th {\n",
       "        vertical-align: top;\n",
       "    }\n",
       "\n",
       "    .dataframe thead th {\n",
       "        text-align: right;\n",
       "    }\n",
       "</style>\n",
       "<table border=\"1\" class=\"dataframe\">\n",
       "  <thead>\n",
       "    <tr style=\"text-align: right;\">\n",
       "      <th></th>\n",
       "      <th>uid</th>\n",
       "      <th>title</th>\n",
       "      <th>region</th>\n",
       "      <th>context</th>\n",
       "      <th>total</th>\n",
       "    </tr>\n",
       "  </thead>\n",
       "  <tbody>\n",
       "    <tr>\n",
       "      <th>2000</th>\n",
       "      <td>2000</td>\n",
       "      <td>제235회    본회의 제1차(2012.06.21.)</td>\n",
       "      <td>음성</td>\n",
       "      <td>의석을 정돈하여 주시기 바랍니다. 성원이 되었으므로 지금부터 음성군의회 제235회 ...</td>\n",
       "      <td>제235회    본회의 제1차(2012.06.21.) 음성 의석을 정돈하여 주시기 ...</td>\n",
       "    </tr>\n",
       "    <tr>\n",
       "      <th>2001</th>\n",
       "      <td>2001</td>\n",
       "      <td>제235회    본회의 제1차(2012.06.21.)</td>\n",
       "      <td>음성</td>\n",
       "      <td>의사일정 제1항, 음성군의회 제235회 제1차 정례회 회기결정의 건을 상정합니다. ...</td>\n",
       "      <td>제235회    본회의 제1차(2012.06.21.) 음성 의사일정 제1항, 음성군...</td>\n",
       "    </tr>\n",
       "    <tr>\n",
       "      <th>2002</th>\n",
       "      <td>2002</td>\n",
       "      <td>제235회    본회의 제1차(2012.06.21.)</td>\n",
       "      <td>음성</td>\n",
       "      <td>의사일정 제2항, 회의록 서명의원 선출의 건을 상정합니다. 제235회 제1차 정례회...</td>\n",
       "      <td>제235회    본회의 제1차(2012.06.21.) 음성 의사일정 제2항, 회의록...</td>\n",
       "    </tr>\n",
       "    <tr>\n",
       "      <th>2003</th>\n",
       "      <td>2003</td>\n",
       "      <td>제235회    본회의 제1차(2012.06.21.)</td>\n",
       "      <td>음성</td>\n",
       "      <td>의사일정 제3항, 예산결산특별위원회 구성의 건을 상정합니다. 예산결산특별위원회 구성...</td>\n",
       "      <td>제235회    본회의 제1차(2012.06.21.) 음성 의사일정 제3항, 예산결...</td>\n",
       "    </tr>\n",
       "    <tr>\n",
       "      <th>2004</th>\n",
       "      <td>2004</td>\n",
       "      <td>제235회    본회의 제1차(2012.06.21.)</td>\n",
       "      <td>음성</td>\n",
       "      <td>의사일정 제4항, 환경분야 현지확인 특별위원회 구성결의안을 상정합니다. 대표발의하신...</td>\n",
       "      <td>제235회    본회의 제1차(2012.06.21.) 음성 의사일정 제4항, 환경분...</td>\n",
       "    </tr>\n",
       "  </tbody>\n",
       "</table>\n",
       "</div>"
      ],
      "text/plain": [
       "       uid  ...                                              total\n",
       "2000  2000  ...  제235회    본회의 제1차(2012.06.21.) 음성 의석을 정돈하여 주시기 ...\n",
       "2001  2001  ...  제235회    본회의 제1차(2012.06.21.) 음성 의사일정 제1항, 음성군...\n",
       "2002  2002  ...  제235회    본회의 제1차(2012.06.21.) 음성 의사일정 제2항, 회의록...\n",
       "2003  2003  ...  제235회    본회의 제1차(2012.06.21.) 음성 의사일정 제3항, 예산결...\n",
       "2004  2004  ...  제235회    본회의 제1차(2012.06.21.) 음성 의사일정 제4항, 환경분...\n",
       "\n",
       "[5 rows x 5 columns]"
      ]
     },
     "execution_count": 10,
     "metadata": {},
     "output_type": "execute_result"
    }
   ],
   "source": [
    "test.head()"
   ]
  },
  {
   "cell_type": "code",
   "execution_count": 11,
   "metadata": {
    "id": "sd31HljMON3B"
   },
   "outputs": [],
   "source": [
    "testcopy = test['total']"
   ]
  },
  {
   "cell_type": "code",
   "execution_count": 12,
   "metadata": {
    "colab": {
     "base_uri": "https://localhost:8080/"
    },
    "id": "LdkPuyzfOTZV",
    "outputId": "1fd74672-b0c8-4cd4-99dc-ea2c40b236a0"
   },
   "outputs": [
    {
     "data": {
      "text/plain": [
       "2000    제235회    본회의 제1차(2012.06.21.) 음성 의석을 정돈하여 주시기 ...\n",
       "2001    제235회    본회의 제1차(2012.06.21.) 음성 의사일정 제1항, 음성군...\n",
       "2002    제235회    본회의 제1차(2012.06.21.) 음성 의사일정 제2항, 회의록...\n",
       "2003    제235회    본회의 제1차(2012.06.21.) 음성 의사일정 제3항, 예산결...\n",
       "2004    제235회    본회의 제1차(2012.06.21.) 음성 의사일정 제4항, 환경분...\n",
       "                              ...                        \n",
       "2501    제174회    본회의 제2차(2006.10.16.) 음성 의사일정 제1항, 제17...\n",
       "2502    제174회    본회의 제2차(2006.10.16.) 음성 의사일정 제2항, 농협 ...\n",
       "2503    제174회    본회의 제2차(2006.10.16.) 음성 의사일정 제3항, 음성군...\n",
       "2504    제174회    본회의 제2차(2006.10.16.) 음성 의사일정 제4항, 제4기...\n",
       "2505    제174회    본회의 제2차(2006.10.16.) 음성 의사일정 제5항, 휴회의...\n",
       "Name: total, Length: 506, dtype: object"
      ]
     },
     "execution_count": 12,
     "metadata": {},
     "output_type": "execute_result"
    }
   ],
   "source": [
    "testcopy"
   ]
  },
  {
   "cell_type": "code",
   "execution_count": 13,
   "metadata": {
    "colab": {
     "base_uri": "https://localhost:8080/"
    },
    "id": "lHWvctE-H1wS",
    "outputId": "70446a7d-a4d2-4391-9516-814cc5f32227"
   },
   "outputs": [
    {
     "name": "stdout",
     "output_type": "stream",
     "text": [
      "Requirement already satisfied: pororo in /usr/local/lib/python3.7/dist-packages (0.4.2)\n",
      "Requirement already satisfied: joblib in /usr/local/lib/python3.7/dist-packages (from pororo) (1.0.1)\n",
      "Requirement already satisfied: marisa-trie in /usr/local/lib/python3.7/dist-packages (from pororo) (0.7.7)\n",
      "Requirement already satisfied: torchvision==0.7.0 in /usr/local/lib/python3.7/dist-packages (from pororo) (0.7.0)\n",
      "Requirement already satisfied: pillow>=4.1.1 in /usr/local/lib/python3.7/dist-packages (from pororo) (7.1.2)\n",
      "Requirement already satisfied: wget in /usr/local/lib/python3.7/dist-packages (from pororo) (3.2)\n",
      "Requirement already satisfied: sentence-transformers>=0.4.1.2 in /usr/local/lib/python3.7/dist-packages (from pororo) (2.1.0)\n",
      "Requirement already satisfied: nltk>=3.5 in /usr/local/lib/python3.7/dist-packages (from pororo) (3.6.3)\n",
      "Requirement already satisfied: lxml in /usr/local/lib/python3.7/dist-packages (from pororo) (4.2.6)\n",
      "Requirement already satisfied: word2word in /usr/local/lib/python3.7/dist-packages (from pororo) (1.0.0)\n",
      "Requirement already satisfied: fairseq>=0.10.2 in /usr/local/lib/python3.7/dist-packages (from pororo) (0.10.2)\n",
      "Requirement already satisfied: kss in /usr/local/lib/python3.7/dist-packages (from pororo) (3.2.0)\n",
      "Requirement already satisfied: g2p-en in /usr/local/lib/python3.7/dist-packages (from pororo) (2.1.0)\n",
      "Requirement already satisfied: whoosh in /usr/local/lib/python3.7/dist-packages (from pororo) (2.7.4)\n",
      "Requirement already satisfied: torch==1.6.0 in /usr/local/lib/python3.7/dist-packages (from pororo) (1.6.0)\n",
      "Requirement already satisfied: transformers>=4.0.0 in /usr/local/lib/python3.7/dist-packages (from pororo) (4.11.3)\n",
      "Requirement already satisfied: future in /usr/local/lib/python3.7/dist-packages (from torch==1.6.0->pororo) (0.16.0)\n",
      "Requirement already satisfied: numpy in /usr/local/lib/python3.7/dist-packages (from torch==1.6.0->pororo) (1.19.5)\n",
      "Requirement already satisfied: hydra-core in /usr/local/lib/python3.7/dist-packages (from fairseq>=0.10.2->pororo) (1.1.1)\n",
      "Requirement already satisfied: regex in /usr/local/lib/python3.7/dist-packages (from fairseq>=0.10.2->pororo) (2019.12.20)\n",
      "Requirement already satisfied: dataclasses in /usr/local/lib/python3.7/dist-packages (from fairseq>=0.10.2->pororo) (0.6)\n",
      "Requirement already satisfied: cython in /usr/local/lib/python3.7/dist-packages (from fairseq>=0.10.2->pororo) (0.29.24)\n",
      "Requirement already satisfied: tqdm in /usr/local/lib/python3.7/dist-packages (from fairseq>=0.10.2->pororo) (4.62.3)\n",
      "Requirement already satisfied: cffi in /usr/local/lib/python3.7/dist-packages (from fairseq>=0.10.2->pororo) (1.14.6)\n",
      "Requirement already satisfied: sacrebleu>=1.4.12 in /usr/local/lib/python3.7/dist-packages (from fairseq>=0.10.2->pororo) (2.0.0)\n",
      "Requirement already satisfied: click in /usr/local/lib/python3.7/dist-packages (from nltk>=3.5->pororo) (7.1.2)\n",
      "Requirement already satisfied: tabulate>=0.8.9 in /usr/local/lib/python3.7/dist-packages (from sacrebleu>=1.4.12->fairseq>=0.10.2->pororo) (0.8.9)\n",
      "Requirement already satisfied: colorama in /usr/local/lib/python3.7/dist-packages (from sacrebleu>=1.4.12->fairseq>=0.10.2->pororo) (0.4.4)\n",
      "Requirement already satisfied: portalocker in /usr/local/lib/python3.7/dist-packages (from sacrebleu>=1.4.12->fairseq>=0.10.2->pororo) (2.3.2)\n",
      "Requirement already satisfied: huggingface-hub in /usr/local/lib/python3.7/dist-packages (from sentence-transformers>=0.4.1.2->pororo) (0.0.19)\n",
      "Requirement already satisfied: sentencepiece in /usr/local/lib/python3.7/dist-packages (from sentence-transformers>=0.4.1.2->pororo) (0.1.96)\n",
      "Requirement already satisfied: scikit-learn in /usr/local/lib/python3.7/dist-packages (from sentence-transformers>=0.4.1.2->pororo) (0.22.2.post1)\n",
      "Requirement already satisfied: scipy in /usr/local/lib/python3.7/dist-packages (from sentence-transformers>=0.4.1.2->pororo) (1.4.1)\n",
      "Requirement already satisfied: tokenizers>=0.10.3 in /usr/local/lib/python3.7/dist-packages (from sentence-transformers>=0.4.1.2->pororo) (0.10.3)\n",
      "Requirement already satisfied: pyyaml>=5.1 in /usr/local/lib/python3.7/dist-packages (from transformers>=4.0.0->pororo) (5.4.1)\n",
      "Requirement already satisfied: sacremoses in /usr/local/lib/python3.7/dist-packages (from transformers>=4.0.0->pororo) (0.0.46)\n",
      "Requirement already satisfied: requests in /usr/local/lib/python3.7/dist-packages (from transformers>=4.0.0->pororo) (2.23.0)\n",
      "Requirement already satisfied: packaging>=20.0 in /usr/local/lib/python3.7/dist-packages (from transformers>=4.0.0->pororo) (21.0)\n",
      "Requirement already satisfied: importlib-metadata in /usr/local/lib/python3.7/dist-packages (from transformers>=4.0.0->pororo) (4.8.1)\n",
      "Requirement already satisfied: filelock in /usr/local/lib/python3.7/dist-packages (from transformers>=4.0.0->pororo) (3.3.0)\n",
      "Requirement already satisfied: typing-extensions in /usr/local/lib/python3.7/dist-packages (from huggingface-hub->sentence-transformers>=0.4.1.2->pororo) (3.7.4.3)\n",
      "Requirement already satisfied: pyparsing>=2.0.2 in /usr/local/lib/python3.7/dist-packages (from packaging>=20.0->transformers>=4.0.0->pororo) (2.4.7)\n",
      "Requirement already satisfied: pycparser in /usr/local/lib/python3.7/dist-packages (from cffi->fairseq>=0.10.2->pororo) (2.20)\n",
      "Requirement already satisfied: distance>=0.1.3 in /usr/local/lib/python3.7/dist-packages (from g2p-en->pororo) (0.1.3)\n",
      "Requirement already satisfied: inflect>=0.3.1 in /usr/local/lib/python3.7/dist-packages (from g2p-en->pororo) (2.1.0)\n",
      "Requirement already satisfied: importlib-resources in /usr/local/lib/python3.7/dist-packages (from hydra-core->fairseq>=0.10.2->pororo) (5.2.2)\n",
      "Requirement already satisfied: omegaconf==2.1.* in /usr/local/lib/python3.7/dist-packages (from hydra-core->fairseq>=0.10.2->pororo) (2.1.1)\n",
      "Requirement already satisfied: antlr4-python3-runtime==4.8 in /usr/local/lib/python3.7/dist-packages (from hydra-core->fairseq>=0.10.2->pororo) (4.8)\n",
      "Requirement already satisfied: zipp>=0.5 in /usr/local/lib/python3.7/dist-packages (from importlib-metadata->transformers>=4.0.0->pororo) (3.6.0)\n",
      "Requirement already satisfied: emoji in /usr/local/lib/python3.7/dist-packages (from kss->pororo) (1.6.0)\n",
      "Requirement already satisfied: setuptools in /usr/local/lib/python3.7/dist-packages (from marisa-trie->pororo) (57.4.0)\n",
      "Requirement already satisfied: certifi>=2017.4.17 in /usr/local/lib/python3.7/dist-packages (from requests->transformers>=4.0.0->pororo) (2021.5.30)\n",
      "Requirement already satisfied: urllib3!=1.25.0,!=1.25.1,<1.26,>=1.21.1 in /usr/local/lib/python3.7/dist-packages (from requests->transformers>=4.0.0->pororo) (1.24.3)\n",
      "Requirement already satisfied: idna<3,>=2.5 in /usr/local/lib/python3.7/dist-packages (from requests->transformers>=4.0.0->pororo) (2.10)\n",
      "Requirement already satisfied: chardet<4,>=3.0.2 in /usr/local/lib/python3.7/dist-packages (from requests->transformers>=4.0.0->pororo) (3.0.4)\n",
      "Requirement already satisfied: six in /usr/local/lib/python3.7/dist-packages (from sacremoses->transformers>=4.0.0->pororo) (1.15.0)\n"
     ]
    }
   ],
   "source": [
    "!pip install --upgrade pororo"
   ]
  },
  {
   "cell_type": "code",
   "execution_count": 14,
   "metadata": {
    "colab": {
     "base_uri": "https://localhost:8080/"
    },
    "id": "dkOJm3DLH1zv",
    "outputId": "ece7d41e-5d9d-4724-9cf0-0051442d1893"
   },
   "outputs": [
    {
     "name": "stdout",
     "output_type": "stream",
     "text": [
      "Requirement already satisfied: kollocate in /usr/local/lib/python3.7/dist-packages (0.0.2)\n",
      "Requirement already satisfied: whoosh in /usr/local/lib/python3.7/dist-packages (from kollocate) (2.7.4)\n"
     ]
    }
   ],
   "source": [
    "!pip install kollocate"
   ]
  },
  {
   "cell_type": "code",
   "execution_count": 15,
   "metadata": {
    "colab": {
     "base_uri": "https://localhost:8080/"
    },
    "id": "EARij8WPH2Ai",
    "outputId": "1bb57ea4-61eb-45a4-f99b-76f35ed5801b"
   },
   "outputs": [
    {
     "name": "stdout",
     "output_type": "stream",
     "text": [
      "Requirement already satisfied: koparadigm in /usr/local/lib/python3.7/dist-packages (0.10.0)\n",
      "Requirement already satisfied: xlrd==1.2.0 in /usr/local/lib/python3.7/dist-packages (from koparadigm) (1.2.0)\n",
      "Requirement already satisfied: jamo>=0.4.1 in /usr/local/lib/python3.7/dist-packages (from koparadigm) (0.4.1)\n"
     ]
    }
   ],
   "source": [
    "!pip install koparadigm"
   ]
  },
  {
   "cell_type": "code",
   "execution_count": 16,
   "metadata": {
    "colab": {
     "base_uri": "https://localhost:8080/"
    },
    "id": "yCJI95_kIXID",
    "outputId": "2b1f88d6-fca8-443d-acf8-c8323838a1cf"
   },
   "outputs": [
    {
     "name": "stdout",
     "output_type": "stream",
     "text": [
      "Requirement already satisfied: g2pk in /usr/local/lib/python3.7/dist-packages (0.9.4)\n",
      "Requirement already satisfied: python-mecab-ko in /usr/local/lib/python3.7/dist-packages (from g2pk) (1.0.12)\n",
      "Requirement already satisfied: nltk in /usr/local/lib/python3.7/dist-packages (from g2pk) (3.6.3)\n",
      "Requirement already satisfied: jamo in /usr/local/lib/python3.7/dist-packages (from g2pk) (0.4.1)\n",
      "Requirement already satisfied: konlpy in /usr/local/lib/python3.7/dist-packages (from g2pk) (0.5.2)\n",
      "Requirement already satisfied: colorama in /usr/local/lib/python3.7/dist-packages (from konlpy->g2pk) (0.4.4)\n",
      "Requirement already satisfied: lxml>=4.1.0 in /usr/local/lib/python3.7/dist-packages (from konlpy->g2pk) (4.2.6)\n",
      "Requirement already satisfied: numpy>=1.6 in /usr/local/lib/python3.7/dist-packages (from konlpy->g2pk) (1.19.5)\n",
      "Requirement already satisfied: JPype1>=0.7.0 in /usr/local/lib/python3.7/dist-packages (from konlpy->g2pk) (1.3.0)\n",
      "Requirement already satisfied: tweepy>=3.7.0 in /usr/local/lib/python3.7/dist-packages (from konlpy->g2pk) (3.10.0)\n",
      "Requirement already satisfied: beautifulsoup4==4.6.0 in /usr/local/lib/python3.7/dist-packages (from konlpy->g2pk) (4.6.0)\n",
      "Requirement already satisfied: typing-extensions in /usr/local/lib/python3.7/dist-packages (from JPype1>=0.7.0->konlpy->g2pk) (3.7.4.3)\n",
      "Requirement already satisfied: requests-oauthlib>=0.7.0 in /usr/local/lib/python3.7/dist-packages (from tweepy>=3.7.0->konlpy->g2pk) (1.3.0)\n",
      "Requirement already satisfied: requests[socks]>=2.11.1 in /usr/local/lib/python3.7/dist-packages (from tweepy>=3.7.0->konlpy->g2pk) (2.23.0)\n",
      "Requirement already satisfied: six>=1.10.0 in /usr/local/lib/python3.7/dist-packages (from tweepy>=3.7.0->konlpy->g2pk) (1.15.0)\n",
      "Requirement already satisfied: oauthlib>=3.0.0 in /usr/local/lib/python3.7/dist-packages (from requests-oauthlib>=0.7.0->tweepy>=3.7.0->konlpy->g2pk) (3.1.1)\n",
      "Requirement already satisfied: urllib3!=1.25.0,!=1.25.1,<1.26,>=1.21.1 in /usr/local/lib/python3.7/dist-packages (from requests[socks]>=2.11.1->tweepy>=3.7.0->konlpy->g2pk) (1.24.3)\n",
      "Requirement already satisfied: idna<3,>=2.5 in /usr/local/lib/python3.7/dist-packages (from requests[socks]>=2.11.1->tweepy>=3.7.0->konlpy->g2pk) (2.10)\n",
      "Requirement already satisfied: certifi>=2017.4.17 in /usr/local/lib/python3.7/dist-packages (from requests[socks]>=2.11.1->tweepy>=3.7.0->konlpy->g2pk) (2021.5.30)\n",
      "Requirement already satisfied: chardet<4,>=3.0.2 in /usr/local/lib/python3.7/dist-packages (from requests[socks]>=2.11.1->tweepy>=3.7.0->konlpy->g2pk) (3.0.4)\n",
      "Requirement already satisfied: PySocks!=1.5.7,>=1.5.6 in /usr/local/lib/python3.7/dist-packages (from requests[socks]>=2.11.1->tweepy>=3.7.0->konlpy->g2pk) (1.7.1)\n",
      "Requirement already satisfied: regex in /usr/local/lib/python3.7/dist-packages (from nltk->g2pk) (2019.12.20)\n",
      "Requirement already satisfied: joblib in /usr/local/lib/python3.7/dist-packages (from nltk->g2pk) (1.0.1)\n",
      "Requirement already satisfied: tqdm in /usr/local/lib/python3.7/dist-packages (from nltk->g2pk) (4.62.3)\n",
      "Requirement already satisfied: click in /usr/local/lib/python3.7/dist-packages (from nltk->g2pk) (7.1.2)\n",
      "Requirement already satisfied: pybind11~=2.0 in /usr/local/lib/python3.7/dist-packages (from python-mecab-ko->g2pk) (2.8.0)\n"
     ]
    }
   ],
   "source": [
    "!pip install g2pk"
   ]
  },
  {
   "cell_type": "code",
   "execution_count": 17,
   "metadata": {
    "id": "vlvhl_ndOzCr"
   },
   "outputs": [],
   "source": [
    "testcopy_total_list = testcopy.tolist()"
   ]
  },
  {
   "cell_type": "code",
   "execution_count": 18,
   "metadata": {
    "colab": {
     "base_uri": "https://localhost:8080/",
     "height": 143
    },
    "id": "RycqMptQtFGc",
    "outputId": "7834566f-932f-4fa9-c607-453b4deb07d1"
   },
   "outputs": [
    {
     "data": {
      "application/vnd.google.colaboratory.intrinsic+json": {
       "type": "string"
      },
      "text/plain": [
       "'제235회    본회의 제1차(2012.06.21.) 음성 의석을 정돈하여 주시기 바랍니다. 성원이 되었으므로 지금부터 음성군의회 제235회 제1차 정례회 제1차 본회의를 개의하겠습니다. 먼저 의회사무과장으로부터 보고가 있겠습니다. 의회사무과장입니다. 먼저 지난 제234회 임시회 제1차 본회의에서 의결하여 이송한 안건에 대해서 보고를 드리겠습니다. 2012년 5월 29일 제1차 본회의에서 의결하여 이송한 음성군 지방공무원 정원 조례 일부개정조례안은 2012년 6월 15일자로 공포되었습니다. 다음은 제235회 제1차 정례회 제1차 본회의와 관련하여 보고 드리겠습니다. 「지방자치법」제44조 및 「음성군 회기와 그 운영 등에 관한 조례」제4조제1항에 따라 정례회를 개최하고자 6월 10일자로 집회공고를 하였습니다. 6월 14일 이대웅 의원님 외 2분의 의원님으로 환경분야 현지확인 특별위원회 구성 결의안이, 손달섭 의원님 외 2분의 의원님으로부터 제234회 임시회 시 활동한 주요사업 현지확인 결과 보고의 건이 각각 접수되었습니다. 음성군수로부터 2012년 6월 14일자로 2011회계 세입ㆍ세출 결산 승인안이, 6월 19일자로 2011년도 예비비 지출 승인안이 각각 접수되어 오늘 제1차 정례회를 개최하게 되었습니다. 이상으로 보고를 마치겠습니다. 사무과장님 수고 많이 하셨습니다.'"
      ]
     },
     "execution_count": 18,
     "metadata": {},
     "output_type": "execute_result"
    }
   ],
   "source": [
    "testcopy_total_list[0]"
   ]
  },
  {
   "cell_type": "code",
   "execution_count": 21,
   "metadata": {
    "colab": {
     "base_uri": "https://localhost:8080/",
     "height": 376
    },
    "id": "Ga8kQy6lIXN4",
    "outputId": "192b0670-4bb9-415a-a9f2-315385306760"
   },
   "outputs": [
    {
     "ename": "IndexError",
     "evalue": "ignored",
     "output_type": "error",
     "traceback": [
      "\u001b[0;31m---------------------------------------------------------------------------\u001b[0m",
      "\u001b[0;31mIndexError\u001b[0m                                Traceback (most recent call last)",
      "\u001b[0;32m<ipython-input-21-ff474167a49e>\u001b[0m in \u001b[0;36m<module>\u001b[0;34m()\u001b[0m\n\u001b[1;32m      3\u001b[0m \u001b[0mext_result\u001b[0m \u001b[0;34m=\u001b[0m \u001b[0;34m[\u001b[0m\u001b[0;34m]\u001b[0m\u001b[0;34m\u001b[0m\u001b[0;34m\u001b[0m\u001b[0m\n\u001b[1;32m      4\u001b[0m \u001b[0;32mfor\u001b[0m \u001b[0mi\u001b[0m \u001b[0;32min\u001b[0m \u001b[0mrange\u001b[0m\u001b[0;34m(\u001b[0m\u001b[0;36m0\u001b[0m\u001b[0;34m,\u001b[0m\u001b[0mlen\u001b[0m\u001b[0;34m(\u001b[0m\u001b[0mtestcopy_total_list\u001b[0m\u001b[0;34m)\u001b[0m\u001b[0;34m-\u001b[0m\u001b[0;36m1\u001b[0m\u001b[0;34m)\u001b[0m\u001b[0;34m:\u001b[0m\u001b[0;34m\u001b[0m\u001b[0;34m\u001b[0m\u001b[0m\n\u001b[0;32m----> 5\u001b[0;31m   \u001b[0mext_result\u001b[0m\u001b[0;34m.\u001b[0m\u001b[0mappend\u001b[0m\u001b[0;34m(\u001b[0m\u001b[0msumm_ext\u001b[0m\u001b[0;34m(\u001b[0m\u001b[0mtestcopy_total_list\u001b[0m\u001b[0;34m[\u001b[0m\u001b[0mi\u001b[0m\u001b[0;34m]\u001b[0m\u001b[0;34m)\u001b[0m\u001b[0;34m)\u001b[0m\u001b[0;34m\u001b[0m\u001b[0;34m\u001b[0m\u001b[0m\n\u001b[0m",
      "\u001b[0;32m/usr/local/lib/python3.7/dist-packages/pororo/tasks/text_summarization.py\u001b[0m in \u001b[0;36m__call__\u001b[0;34m(self, text, return_list)\u001b[0m\n\u001b[1;32m    502\u001b[0m     \u001b[0;32mdef\u001b[0m \u001b[0m__call__\u001b[0m\u001b[0;34m(\u001b[0m\u001b[0mself\u001b[0m\u001b[0;34m,\u001b[0m \u001b[0mtext\u001b[0m\u001b[0;34m:\u001b[0m \u001b[0mUnion\u001b[0m\u001b[0;34m[\u001b[0m\u001b[0mstr\u001b[0m\u001b[0;34m,\u001b[0m \u001b[0mList\u001b[0m\u001b[0;34m[\u001b[0m\u001b[0mstr\u001b[0m\u001b[0;34m]\u001b[0m\u001b[0;34m]\u001b[0m\u001b[0;34m,\u001b[0m \u001b[0mreturn_list\u001b[0m\u001b[0;34m:\u001b[0m \u001b[0mbool\u001b[0m \u001b[0;34m=\u001b[0m \u001b[0;32mFalse\u001b[0m\u001b[0;34m)\u001b[0m\u001b[0;34m:\u001b[0m\u001b[0;34m\u001b[0m\u001b[0;34m\u001b[0m\u001b[0m\n\u001b[1;32m    503\u001b[0m         \u001b[0;32mif\u001b[0m \u001b[0misinstance\u001b[0m\u001b[0;34m(\u001b[0m\u001b[0mtext\u001b[0m\u001b[0;34m,\u001b[0m \u001b[0mstr\u001b[0m\u001b[0;34m)\u001b[0m\u001b[0;34m:\u001b[0m\u001b[0;34m\u001b[0m\u001b[0;34m\u001b[0m\u001b[0m\n\u001b[0;32m--> 504\u001b[0;31m             \u001b[0;32mreturn\u001b[0m \u001b[0mself\u001b[0m\u001b[0;34m.\u001b[0m\u001b[0mpredict\u001b[0m\u001b[0;34m(\u001b[0m\u001b[0mtext\u001b[0m\u001b[0;34m,\u001b[0m \u001b[0mreturn_list\u001b[0m\u001b[0;34m)\u001b[0m\u001b[0;34m\u001b[0m\u001b[0;34m\u001b[0m\u001b[0m\n\u001b[0m\u001b[1;32m    505\u001b[0m         \u001b[0;32melif\u001b[0m \u001b[0misinstance\u001b[0m\u001b[0;34m(\u001b[0m\u001b[0mtext\u001b[0m\u001b[0;34m,\u001b[0m \u001b[0mlist\u001b[0m\u001b[0;34m)\u001b[0m\u001b[0;34m:\u001b[0m\u001b[0;34m\u001b[0m\u001b[0;34m\u001b[0m\u001b[0m\n\u001b[1;32m    506\u001b[0m             \u001b[0;32mreturn\u001b[0m \u001b[0;34m[\u001b[0m\u001b[0mself\u001b[0m\u001b[0;34m.\u001b[0m\u001b[0mpredict\u001b[0m\u001b[0;34m(\u001b[0m\u001b[0mt\u001b[0m\u001b[0;34m,\u001b[0m \u001b[0mreturn_list\u001b[0m\u001b[0;34m)\u001b[0m \u001b[0;32mfor\u001b[0m \u001b[0mt\u001b[0m \u001b[0;32min\u001b[0m \u001b[0mtext\u001b[0m\u001b[0;34m]\u001b[0m\u001b[0;34m\u001b[0m\u001b[0;34m\u001b[0m\u001b[0m\n",
      "\u001b[0;32m/usr/local/lib/python3.7/dist-packages/torch/autograd/grad_mode.py\u001b[0m in \u001b[0;36mdecorate_context\u001b[0;34m(*args, **kwargs)\u001b[0m\n\u001b[1;32m     13\u001b[0m         \u001b[0;32mdef\u001b[0m \u001b[0mdecorate_context\u001b[0m\u001b[0;34m(\u001b[0m\u001b[0;34m*\u001b[0m\u001b[0margs\u001b[0m\u001b[0;34m,\u001b[0m \u001b[0;34m**\u001b[0m\u001b[0mkwargs\u001b[0m\u001b[0;34m)\u001b[0m\u001b[0;34m:\u001b[0m\u001b[0;34m\u001b[0m\u001b[0;34m\u001b[0m\u001b[0m\n\u001b[1;32m     14\u001b[0m             \u001b[0;32mwith\u001b[0m \u001b[0mself\u001b[0m\u001b[0;34m:\u001b[0m\u001b[0;34m\u001b[0m\u001b[0;34m\u001b[0m\u001b[0m\n\u001b[0;32m---> 15\u001b[0;31m                 \u001b[0;32mreturn\u001b[0m \u001b[0mfunc\u001b[0m\u001b[0;34m(\u001b[0m\u001b[0;34m*\u001b[0m\u001b[0margs\u001b[0m\u001b[0;34m,\u001b[0m \u001b[0;34m**\u001b[0m\u001b[0mkwargs\u001b[0m\u001b[0;34m)\u001b[0m\u001b[0;34m\u001b[0m\u001b[0;34m\u001b[0m\u001b[0m\n\u001b[0m\u001b[1;32m     16\u001b[0m         \u001b[0;32mreturn\u001b[0m \u001b[0mdecorate_context\u001b[0m\u001b[0;34m\u001b[0m\u001b[0;34m\u001b[0m\u001b[0m\n\u001b[1;32m     17\u001b[0m \u001b[0;34m\u001b[0m\u001b[0m\n",
      "\u001b[0;32m/usr/local/lib/python3.7/dist-packages/pororo/tasks/text_summarization.py\u001b[0m in \u001b[0;36mpredict\u001b[0;34m(self, text, return_list)\u001b[0m\n\u001b[1;32m    444\u001b[0m \u001b[0;34m\u001b[0m\u001b[0m\n\u001b[1;32m    445\u001b[0m         \"\"\"\n\u001b[0;32m--> 446\u001b[0;31m         \u001b[0mencoded\u001b[0m \u001b[0;34m=\u001b[0m \u001b[0mself\u001b[0m\u001b[0;34m.\u001b[0m\u001b[0m_tokenizer\u001b[0m\u001b[0;34m.\u001b[0m\u001b[0mencode_batch\u001b[0m\u001b[0;34m(\u001b[0m\u001b[0mtext\u001b[0m\u001b[0;34m,\u001b[0m \u001b[0mmax_length\u001b[0m\u001b[0;34m=\u001b[0m\u001b[0;36m512\u001b[0m\u001b[0;34m)\u001b[0m\u001b[0;34m\u001b[0m\u001b[0;34m\u001b[0m\u001b[0m\n\u001b[0m\u001b[1;32m    447\u001b[0m         \u001b[0minput_ids\u001b[0m \u001b[0;34m=\u001b[0m \u001b[0mencoded\u001b[0m\u001b[0;34m[\u001b[0m\u001b[0;34m\"input_ids\"\u001b[0m\u001b[0;34m]\u001b[0m\u001b[0;34m.\u001b[0m\u001b[0mto\u001b[0m\u001b[0;34m(\u001b[0m\u001b[0mself\u001b[0m\u001b[0;34m.\u001b[0m\u001b[0m_device\u001b[0m\u001b[0;34m)\u001b[0m\u001b[0;34m\u001b[0m\u001b[0;34m\u001b[0m\u001b[0m\n\u001b[1;32m    448\u001b[0m         \u001b[0msegment_ids\u001b[0m \u001b[0;34m=\u001b[0m \u001b[0mencoded\u001b[0m\u001b[0;34m[\u001b[0m\u001b[0;34m\"segment_ids\"\u001b[0m\u001b[0;34m]\u001b[0m\u001b[0;34m.\u001b[0m\u001b[0mto\u001b[0m\u001b[0;34m(\u001b[0m\u001b[0mself\u001b[0m\u001b[0;34m.\u001b[0m\u001b[0m_device\u001b[0m\u001b[0;34m)\u001b[0m\u001b[0;34m\u001b[0m\u001b[0;34m\u001b[0m\u001b[0m\n",
      "\u001b[0;32m/usr/local/lib/python3.7/dist-packages/pororo/tasks/text_summarization.py\u001b[0m in \u001b[0;36mencode_batch\u001b[0;34m(self, texts, max_length)\u001b[0m\n\u001b[1;32m    579\u001b[0m \u001b[0;34m\u001b[0m\u001b[0m\n\u001b[1;32m    580\u001b[0m         \u001b[0;32mfor\u001b[0m \u001b[0mtext\u001b[0m \u001b[0;32min\u001b[0m \u001b[0mtexts\u001b[0m\u001b[0;34m:\u001b[0m\u001b[0;34m\u001b[0m\u001b[0;34m\u001b[0m\u001b[0m\n\u001b[0;32m--> 581\u001b[0;31m             \u001b[0mtoken_ids\u001b[0m\u001b[0;34m,\u001b[0m \u001b[0msegment_ids\u001b[0m\u001b[0;34m,\u001b[0m \u001b[0msentences\u001b[0m \u001b[0;34m=\u001b[0m \u001b[0mself\u001b[0m\u001b[0;34m.\u001b[0m\u001b[0mencode_line\u001b[0m\u001b[0;34m(\u001b[0m\u001b[0mtext\u001b[0m\u001b[0;34m)\u001b[0m\u001b[0;34m\u001b[0m\u001b[0;34m\u001b[0m\u001b[0m\n\u001b[0m\u001b[1;32m    582\u001b[0m             \u001b[0mtoken_ids\u001b[0m \u001b[0;34m=\u001b[0m \u001b[0mtoken_ids\u001b[0m\u001b[0;34m[\u001b[0m\u001b[0;34m:\u001b[0m\u001b[0mmax_length\u001b[0m\u001b[0;34m]\u001b[0m\u001b[0;34m\u001b[0m\u001b[0;34m\u001b[0m\u001b[0m\n\u001b[1;32m    583\u001b[0m             \u001b[0msegment_ids\u001b[0m \u001b[0;34m=\u001b[0m \u001b[0msegment_ids\u001b[0m\u001b[0;34m[\u001b[0m\u001b[0;34m:\u001b[0m\u001b[0mmax_length\u001b[0m\u001b[0;34m]\u001b[0m\u001b[0;34m\u001b[0m\u001b[0;34m\u001b[0m\u001b[0m\n",
      "\u001b[0;32m/usr/local/lib/python3.7/dist-packages/pororo/tasks/text_summarization.py\u001b[0m in \u001b[0;36mencode_line\u001b[0;34m(self, text)\u001b[0m\n\u001b[1;32m    532\u001b[0m         \"\"\"\n\u001b[1;32m    533\u001b[0m         \u001b[0;32mif\u001b[0m \u001b[0misinstance\u001b[0m\u001b[0;34m(\u001b[0m\u001b[0mtext\u001b[0m\u001b[0;34m,\u001b[0m \u001b[0mstr\u001b[0m\u001b[0;34m)\u001b[0m\u001b[0;34m:\u001b[0m\u001b[0;34m\u001b[0m\u001b[0;34m\u001b[0m\u001b[0m\n\u001b[0;32m--> 534\u001b[0;31m             \u001b[0msentences\u001b[0m \u001b[0;34m=\u001b[0m \u001b[0mself\u001b[0m\u001b[0;34m.\u001b[0m\u001b[0m_sent_tokenizer\u001b[0m\u001b[0;34m(\u001b[0m\u001b[0mtext\u001b[0m\u001b[0;34m)\u001b[0m\u001b[0;34m\u001b[0m\u001b[0;34m\u001b[0m\u001b[0m\n\u001b[0m\u001b[1;32m    535\u001b[0m         \u001b[0;32melse\u001b[0m\u001b[0;34m:\u001b[0m\u001b[0;34m\u001b[0m\u001b[0;34m\u001b[0m\u001b[0m\n\u001b[1;32m    536\u001b[0m             \u001b[0msentences\u001b[0m \u001b[0;34m=\u001b[0m \u001b[0mtext\u001b[0m\u001b[0;34m\u001b[0m\u001b[0;34m\u001b[0m\u001b[0m\n",
      "\u001b[0;32m/usr/local/lib/python3.7/dist-packages/pororo/tasks/text_summarization.py\u001b[0m in \u001b[0;36m<lambda>\u001b[0;34m(text)\u001b[0m\n\u001b[1;32m    181\u001b[0m                 \u001b[0mlang\u001b[0m\u001b[0;34m=\u001b[0m\u001b[0mself\u001b[0m\u001b[0;34m.\u001b[0m\u001b[0mconfig\u001b[0m\u001b[0;34m.\u001b[0m\u001b[0mlang\u001b[0m\u001b[0;34m,\u001b[0m\u001b[0;34m\u001b[0m\u001b[0;34m\u001b[0m\u001b[0m\n\u001b[1;32m    182\u001b[0m                 \u001b[0mmodel\u001b[0m\u001b[0;34m=\u001b[0m\u001b[0;34mf\"sent_{self.config.lang}\"\u001b[0m\u001b[0;34m,\u001b[0m\u001b[0;34m\u001b[0m\u001b[0;34m\u001b[0m\u001b[0m\n\u001b[0;32m--> 183\u001b[0;31m             ).load(device).predict(text))\n\u001b[0m\u001b[1;32m    184\u001b[0m \u001b[0;34m\u001b[0m\u001b[0m\n\u001b[1;32m    185\u001b[0m             return PororoRobertaSummary(\n",
      "\u001b[0;32m/usr/local/lib/python3.7/dist-packages/pororo/tasks/tokenization.py\u001b[0m in \u001b[0;36mpredict\u001b[0;34m(self, text, **kwargs)\u001b[0m\n\u001b[1;32m    244\u001b[0m             \u001b[0;32mreturn\u001b[0m \u001b[0mself\u001b[0m\u001b[0;34m.\u001b[0m\u001b[0mcj_tokenize\u001b[0m\u001b[0;34m(\u001b[0m\u001b[0mtext\u001b[0m\u001b[0;34m)\u001b[0m\u001b[0;34m\u001b[0m\u001b[0;34m\u001b[0m\u001b[0m\n\u001b[1;32m    245\u001b[0m         \u001b[0;32melif\u001b[0m \u001b[0mself\u001b[0m\u001b[0;34m.\u001b[0m\u001b[0mlang\u001b[0m \u001b[0;34m==\u001b[0m \u001b[0;34m\"ko\"\u001b[0m\u001b[0;34m:\u001b[0m\u001b[0;34m\u001b[0m\u001b[0;34m\u001b[0m\u001b[0m\n\u001b[0;32m--> 246\u001b[0;31m             \u001b[0;32mreturn\u001b[0m \u001b[0msplit_sentences\u001b[0m\u001b[0;34m(\u001b[0m\u001b[0mtext\u001b[0m\u001b[0;34m)\u001b[0m\u001b[0;34m\u001b[0m\u001b[0;34m\u001b[0m\u001b[0m\n\u001b[0m\u001b[1;32m    247\u001b[0m         \u001b[0;32mreturn\u001b[0m \u001b[0mself\u001b[0m\u001b[0;34m.\u001b[0m\u001b[0m_model\u001b[0m\u001b[0;34m(\u001b[0m\u001b[0mtext\u001b[0m\u001b[0;34m)\u001b[0m\u001b[0;34m\u001b[0m\u001b[0;34m\u001b[0m\u001b[0m\n\u001b[1;32m    248\u001b[0m \u001b[0;34m\u001b[0m\u001b[0m\n",
      "\u001b[0;32m/usr/local/lib/python3.7/dist-packages/kss/kss.py\u001b[0m in \u001b[0;36msplit_sentences\u001b[0;34m(text, use_heuristic, use_quotes_brackets_processing, max_recover_step, max_recover_length, backend, num_workers, disable_gc)\u001b[0m\n\u001b[1;32m    156\u001b[0m \u001b[0;34m\u001b[0m\u001b[0m\n\u001b[1;32m    157\u001b[0m     \u001b[0;32mif\u001b[0m \u001b[0misinstance\u001b[0m\u001b[0;34m(\u001b[0m\u001b[0mtext\u001b[0m\u001b[0;34m,\u001b[0m \u001b[0mstr\u001b[0m\u001b[0;34m)\u001b[0m\u001b[0;34m:\u001b[0m\u001b[0;34m\u001b[0m\u001b[0;34m\u001b[0m\u001b[0m\n\u001b[0;32m--> 158\u001b[0;31m         \u001b[0;32mreturn\u001b[0m \u001b[0mresults\u001b[0m\u001b[0;34m[\u001b[0m\u001b[0;36m0\u001b[0m\u001b[0;34m]\u001b[0m\u001b[0;34m\u001b[0m\u001b[0;34m\u001b[0m\u001b[0m\n\u001b[0m\u001b[1;32m    159\u001b[0m     \u001b[0;32melse\u001b[0m\u001b[0;34m:\u001b[0m\u001b[0;34m\u001b[0m\u001b[0;34m\u001b[0m\u001b[0m\n\u001b[1;32m    160\u001b[0m         \u001b[0;32mreturn\u001b[0m \u001b[0mresults\u001b[0m\u001b[0;34m\u001b[0m\u001b[0;34m\u001b[0m\u001b[0m\n",
      "\u001b[0;31mIndexError\u001b[0m: list index out of range"
     ]
    }
   ],
   "source": [
    "from pororo import Pororo\n",
    "\n",
    "# 235\n",
    "summ_ext = Pororo(task=\"summarization\", model=\"extractive\", lang=\"ko\")\n",
    "ext_result = []\n",
    "for i in range(0,236):\n",
    "  ext_result.append(summ_ext(testcopy_total_list[i]))"
   ]
  },
  {
   "cell_type": "code",
   "execution_count": 26,
   "metadata": {
    "id": "hT-NpJyaDqeq"
   },
   "outputs": [],
   "source": [
    "# 236\n",
    "ext_result.append(summ_ext(testcopy_total_list[235]))"
   ]
  },
  {
   "cell_type": "code",
   "execution_count": 28,
   "metadata": {
    "id": "iarD9Xi3EChY"
   },
   "outputs": [],
   "source": [
    "# 237\n",
    "for i in range(237,len(testcopy_total_list)):\n",
    "  ext_result.append(summ_ext(testcopy_total_list[i]))"
   ]
  },
  {
   "cell_type": "code",
   "execution_count": 29,
   "metadata": {
    "colab": {
     "base_uri": "https://localhost:8080/"
    },
    "id": "rarwgEYDIXQ3",
    "outputId": "ec000233-9d4e-4fb4-b16c-9d5023771184"
   },
   "outputs": [
    {
     "data": {
      "text/plain": [
       "['성원이 되었으므로 지금부터 음성군의회 제235회 제1차 정례회 제1차 본회의를 개의하겠습니다. 먼저 의회사무과장으로부터 보고가 있겠습니다. 음성군수로부터 2012년 6월 14일자로 2011회계 세입ㆍ세출 결산 승인안이, 6월 19일자로 2011년도 예비비 지출 승인안이 각각 접수되어 오늘 제1차 정례회를 개최하게 되었습니다.',\n",
       " '제235회 본회의 제1차(2012.06.21.) 음성 의사일정 제1항, 음성군의회 제235회 제1차 정례회 회기결정의 건을 상정합니다. 음성군의회 제235회 제1차 정례회 회기는 「음성군의회 회기와 그 운영 등에 관한 조례」제4조제1항의 규정과 의원님들께서 사전에 협의하여 주신 대로 2012년 6월 21일부터 6월 28일까지 8일간 하고자 합니다. 그리고 이번 제1차 정례회 주요의사일정은 환경분야 현지확인 특위 구성의 건, 주요사업 현지확인 결과 보고의 건과 조례안 2건, 2011년도 예비비 지출 승인안, 2011회계 세입ㆍ세출결산 승인안, 2012년도 하반기 군정주요업무 계획 보고 등이 있습니다.',\n",
       " '제235회 본회의 제1차(2012.06.21.) 음성 의사일정 제2항, 회의록 서명의원 선출의 건을 상정합니다. 제235회 제1차 정례회 회의록 서명의원으로는 의원님들이 사전에 양해하여 주신대로 조천희 의원님, 손달섭 의원님을 선출하고자 하는데, 의원 여러분! 이의가 없으신지요? (「없습니다」하는 의원 있음) 이의가 없으므로 조천희 의원님, 손달섭 의원님이 회의록 서명의원으로 선출되었음을 선포합니다. 두 분 의원님께서는 수고하여 주시기 바랍니다.',\n",
       " '제235회 본회의 제1차(2012.06.21.) 음성 의사일정 제3항, 예산결산특별위원회 구성의 건을 상정합니다. 먼저 예산결산특별위원회 위원은 손수종 의원님, 이한철 의원님, 남궁유 의원님, 조천희 의원님, 손달섭 의원님, 이대웅 의원님, 김순옥 의원님으로 구성하고자 합니다. 그리고 본 특별위원회 운영기간은 6월 25일 하루 동안 운영하고자 하며, 2011년도 예비비 지출 승인안, 2011회계 세입ㆍ세출 결산 승인안, 2011년도 회계 기금운용 성과분석보고 등을 회부하여 의사일정에 따라 심사토록 하고자 합니다.',\n",
       " '제235회 제1차 정례회 제1차 본회의를 맞이하여 음성군 환경분야 현지확인을 발의하여 제안하게 되었습니다. 제안이유는 주요 환경 분야의 현황 및 실태를 현지확인하여 제반 문제를 확인, 개선토록 하고, 기업체와 지역주민에게 환경에 대한 중요성을 인식시켜 깨끗하고 쾌적한 환경을 만들어 군민의 삶의 질을 높이고자 함입니다. 현지확인 기간은 6월 27일부터 6월 28일까지 이틀 동안이며, 음성하수종말처리장, 구제역 매립지, 오갑천 생태하천조성사업, 금왕산단 폐수처리장, 쓰레기 매립장, 고려그린, 음성축산물유통단지, 삼성시장 부산물판매장 등 8곳을 확인하겠습니다.',\n",
       " '지난 234회 임시회 시 바쁘신 가운데도 2012년도 주요사업에 대한 현지확인 특별위원회 활동에 적극적으로 참여하여 주신 동료의원 여러분과 관계공무원 여러분께 감사드리며, 지금부터 현지확인 결과에 대해 보고를 드리겠습니다. 2012년 주요사업 중 사업규모가 큰 사업을 대상으로 현장을 직접 방문 확인ㆍ점검하여 사업 추진상에 도출된 제반 문제점에 대하여는 합리적인 대책 강구와 설계에 의한 정확하고 견고한 시공이 요구되며, 소규모 사업 위주의 근시안적 사업을 지양하고 장기적인 안목으로 각종 사업을 추진하기 바라며, 보조금이 투자되어 추진하는 사업이 공공사업 촉진 및 더 많은 주민에게 이익이 돌아갈 수 있도록 군 산하 공무원들이 열심히 노력해야 할 것입니다. 특별위원회 위원님들이 현장에서 파악한 사업별 추진 효과와 문제점, 그리고 지역 주민들의 여론을 면밀히 검토하여 주민 편익증진과 지역경제 활성화 및 투자사업 우선 순위를 결정함에 있어 예산 심사 시 적극 활용할 계획인바, 금번 현지확인을 통하여 지적된 현지확인 점검사항에 대하여는 시정조치를 통하여 군민들의 불편사항을 하루빨리 해결해주고, 열악한 재정형편을 감안할 때 현안사업에 대한 사업비 확보가 최우선 과제임을 명심하고 국ㆍ도비 확보에 최선을 다해 주시기 바라며, 사업 추진 시 계획 수립을 철저히 하여 예산이 중복투자되거나 낭비되는 사례가 없도록 특단의 대책을 강구하여 주시기 바랍니다.',\n",
       " '성원이 되었으므로 지금부터 제322회 음성군의회 임시회 제1차 본회의를 개의하겠습니다. 그러면 사무과장으로부터 의사보고를 듣겠습니다. 금번 임시회는 임옥순 의원 외 2분의 의원으로부터 소집요구가 있어 「지방자치법」제45조의 규정에 따라 집회하게 되었습니다.',\n",
       " '제322회 본회의 제1차(2020.04.22.) 음성 의사일정 제1항, 제322회 음성군의회 임시회 회기결정의 건을 상정합니다. 제322회 음성군의회 회기는 「음성군의회 회기와 그 운영 등에 관한 조례」제3조제2항의 규정과 의원님들께서 사전에 협의하여 주신 대로 4월 22일부터 4월 27일까지 6일간으로 하고자 합니다. 그러면 배부하여 드린 유인물과 같이 의사일정을 결정하고자 하는데, 의원 여러분! 이의 없으십니까? (「없습니다」하는 의원 있음) 이의가 없으므로 가결되었음을 선포합니다.',\n",
       " '제322회 본회의 제1차(2020.04.22.) 음성 의사일정 제2항, 회의록 서명의원 선출의 건을 상정합니다. 제322회 임시회 회의록 서명의원으로는 의원님들께서 사전에 양해하여 주신 대로 김영섭 부의장님, 김영호 의원님을 선출하고자 하는데, 의원 여러분! 이의 없으십니까? (「없습니다」하는 의원 있음) 이의가 없으므로 김영섭 부의장님, 김영호 의원님이 회의록 서명의원으로 선출되었음을 선포합니다. 두 분 의원님께서는 수고하여 주시기 바랍니다.',\n",
       " '우리 음성군은 코로나19 사태에 대응하여 군민의 안전한 삶 보장과 지역경제 위기 극복을 위하여 최선을 다하고 있습니다. 이를 위해 금번 추경예산은 정부형 긴급재난지원금과 소상공인, 휴직근로자 및 실직자, 운수업체 종사자, 미취업 청년, 영세농가, 정부 미지원 어린이집 지원 등 코로나19 감염병의 위기 극복과 심각한 경제위기 대응 및 지역경제 회복에 중점을 두었습니다. 이번 추가경정예산안의 총규모는 기정예산 6,172억 4,600만원보다 582억 3,600만원이 증가된 6,754억 8,300만원입니다.',\n",
       " '제322회 본회의 제1차(2020.04.22.) 음성 의사일정 제4항, 예산결산특별위원회 구성의 건을 상정합니다. 예산결산특별위원회 위원으로는 김영섭 부의장님, 안해성 의원님, 서효석 의원님, 서형석 의원님, 김영호 의원님, 최용락 의원님, 임옥순 의원님으로 구성하고자 합니다. 특별위원회 운영은 4월 22일부터 4월 27일까지 6일간 운영하고자 하며, 2020년도 제1회 세입ㆍ세출 추가경정예산안 및 기금운용계획 변경안을 의사일정에 따라 심사하고자 합니다.',\n",
       " '제322회 본회의 제1차(2020.04.22.) 음성 의사일정 제5항, 어려운 한자어 기획정비에 따른 음성군 건축물관리자의 제설ㆍ제빙 책임에 관한 조례 등 일부개정조례안을 상정합니다. 기획감사실에서 제출한 의안번호 제681호, 어려운 한자어 기획정비에 따른 음성군 건축물관리자의 제설ㆍ제빙 책임에 관한 조례 등 일부개정조례안에 대하여 제안설명드리겠습니다. 주요 내용으로는 한자어 정비대상에 포함된 조례 음성군 건축물관리자의 제설ㆍ제빙 책임에 관한 조례 등 4개의 조례에 사용된 5가지 한자어의 정비대상 용어를 순화된 단어로 바꾸는 내용입니다.',\n",
       " '2020년 「지방세특례제한법」 및 같은 법 시행령의 개정사항을 반영하여 음성군 군세 감면 조례를 일부 개정하고자 합니다. 첫째, 시각장애인 소유 자동차의 공동명의자 및 영주 자격을 가진 등록외국인 면제대상 확대입니다. 「지방세특례제한법 시행령」제8조에 규정하고 있는 장애인 소유 자동차 면제대상인 공동명의자의 범위를 현행 장애인의 배우자, 장애인의 직계존속 및 직계비속, 장애인의 형제자매 또는 장애인의 직계비속의 배우자에서 장애인의 배우자 직계존속 및 직계비속과 장애인 배우자의 형제자매까지 그 대상을 확대하였으며, 영주자격을 가진 등록외국인도 면제대상에 포함하여 시각장애인에 대한 자동차세 면제 적용대상을 확대하였습니다. 현대사회의 다양한 가족형태를 반영하여 시각장애인 소유 자동차세 공동명의자 면제 대상자를 확대하고, 상위법령 이관에 따른 외국인투자기업에 대한 재산세 감면기간 규정을 명확하게 하기 위해 본 조례를 개정하고자 하는 것으로 원안대로 심의ㆍ의결하여 주시기 바랍니다.',\n",
       " '개정이유입니다. 「건축법」 개정에 따른 위임사무와 음성군 건축 조례에 따른 건축업무 수행 중 일부 미비점을 현실에 맞도록 개선ㆍ보완하고 그 시행에 필요한 사항을 조례로 규정하여 음성군 건축행정의 건실화를 이루고자 합니다. 음성군 건축 조례 일부개정은 건축업무 수행 중 일부 미비점을 현실에 맞도록 본 조례를 개정하고자 하는 것으로 원안대로 심의ㆍ의결하여 주시기 바랍니다. 본 개정 조례안은 농업인의 편의를 위하여 농업용 소규모 저온저장고를 가설건축물의 범위에 포함시키고, 건축허가ㆍ사용승인 등 인허가 업무대행비를 현실화하고 「건축법」 일부개정사항을 반영하여 음성군 건축행정을 효율적으로 추진하고자 개정하는 안으로 원안대로 의결함이 타당한 것으로 판단됩니다.',\n",
       " '사업 주요 내용은 균형개발과 소관 감곡면 왕장리 도시재생 뉴딜사업입니다. 도시재생 전략계획에 따라 도시재생 활성화 최우선 지역으로 선정된 감곡면 왕장리 지역에 도시재생 공모를 추진하는 것으로 위치는 감곡면 왕장리 489-1번지 일원이며, 사업기간은 2023년까지입니다. 감곡면 왕장리 뉴딜사업 공모추진을 통해 생활SOC 복합화시설 조성 및 노후 주택 및 골목길 정비로 침체된 장감로 골목상권을 회복하고 취약계층의 주거복지를 실현하여 감곡면 도시재생 활성화에 기여할 것으로 판단되오니 원안대로 의결하여 주시기 바랍니다.',\n",
       " '사회복지과에서 제출한 의안번호 제686호, 공립어린이집 민간위탁(신규) 동의안 및 의안번호 제687호, 공립어린이집(삼성ㆍ동성) 재위탁 동의안에 대하여 일괄 제안설명드리겠습니다. 제안이유는 신규설치 예정인 공립어린이집에 대해 전문적으로 운영할 수 있는 민간위탁체를 선정하여 어린이집을 보다 효율적으로 운영하고자 「음성군 사무의 민간위탁 촉진 및 관리 조례」제7조에 의거 의회의 동의를 받고자 합니다. 위탁기간은 5년, 위탁내용은 어린이집 운영 및 시설관리 전반이며, 운영재원은 지방정부지원 보조금 및 보육료 수입 등입니다.',\n",
       " '이번 휴회의 건은 예산결산특별위원회 운영을 위한 것으로 4월 23일부터 24일까지 휴회하고자 하는데, 의원 여러분! 이의 없으십니까? (「없습니다」하는 의원 있음) 이의가 없으므로 가결되었음을 선포합니다. 제2차 본회의를 4월 27일 오전 10시에 개의하겠으며, 잠시 후 11시 10분부터 소회의실에서 예산결산특별위원회가 개최되오니 참석하여 주시기 바랍니다. 다른 의견이 없으면 제322회 음성군의회 임시회 제1차 본회의를 모두 마치고자 합니다.',\n",
       " '성원이 되었으므로 지금부터 제296회 음성군의회 임시회 제1차 본회의를 개의하겠습니다. 안건 처리에 앞서 한동완 의원님께서 5분 자유발언을 신청하셨습니다. 한동완 의원님께서는 나오셔서 발언하여 주시기 바랍니다.',\n",
       " '맹동면 정욱리싸이클링 폐기물처리업체 건축허가 취소의 문제와 진천ㆍ음성 광역쓰레기매립장 소각장 증설 사업계획에 대해서 말씀을 드리겠습니다. 정욱 측은 건축허가를 어렵게 받아놓고도 지속적으로 허가된 규모로 건축하지 않고 음성군에 증설허가를 신청하였고 이에 따른 증설 적합처분을 음성군은 이미 3차례에 걸쳐서 동의한 것입니다. 향후 정욱 측은 음성군의 지속적인 적합 처분에 따른 건축허가를 새로이 신청할 것으로 예상되며, 이에 따른 문제는 기존의 건축허가 취소와는 또 다른 문제입니다.',\n",
       " '제296회 본회의 제1차(2018.02.12.) 음성 의사일정 제1항, 제296회 음성군의회 임시회 회기결정의 건을 상정합니다. 제296회 음성군의회 임시회 회기는 「음성군의회 회기와 그 운영 등에 관한 조례」제3조제2항 규정과 의원님들께서 사전에 협의하여 주신 대로 2월 12일 하루로 하고자 합니다. 그러면 배부하여 드린 유인물과 같이 의사일정을 결정하고자 하는데, 의원 여러분! 이의 없으십니까? (「없습니다」하는 의원 있음) 이의가 없으므로 가결되었음을 선포합니다.',\n",
       " '제296회 본회의 제1차(2018.02.12.) 음성 의사일정 제2항, 회의록 서명의원 선출의 건을 상정합니다. 제296회 임시회 회의록 서명의원으로는 사전에 양해하여 주신 대로 남궁유 의원님, 우성수 의원님을 선출하고자 하는데, 의원 여러분! 이의 없으십니까? (「없습니다」하는 의원 있음) 이의가 없으므로 남궁유 의원님, 우성수 의원님이 회의록 서명의원으로 선출되었음을 선포합니다. 두 분 의원님께서는 수고하여 주시기 바랍니다.',\n",
       " '제296회 본회의 제1차(2018.02.12.) 음성 의사일정 제3항, 음성군 사회복지협의회 지원 조례안을 상정합니다. 본 조례안에 대한 제정 이유는 음성군 사회복지협의회가 지역사회 복지증진에 기여하고 업무를 효율적으로 수행할 수 있도록 지원에 필요한 사항을 제정하려는 것입니다. 음성군 사회복지협의회에 필요한 사항을 제정해서 지역사회의 복지증진에 기여하고자 하는 것으로 원안대로 심의ㆍ의결하여 주시기 바랍니다.',\n",
       " '제296회 본회의 제1차(2018.02.12.) 음성 의사일정 제4항, 음성군 사회복지사 등의 처우 및 지위 향상에 관한 조례안을 상정합니다. 본 조례안에 대한 제정이유는 사회복지사 등에 대한 처우를 개선하고 신분 보장을 강화하여 그 지위를 향상하도록 지원함으로써 사기진작 도모 및 지역사회 복지증진에 기여하기 위하여 조례안을 제정하려는 것입니다. 사회복지업무의 최일선에서 활동하는 사회복지사 등에 대한 처우를 개선하여 지역사회 복지증진에 기여하기 위한 것으로 원안대로 심의ㆍ의결하여 주시기 바랍니다.',\n",
       " '제296회 본회의 제1차(2018.02.12.) 음성 의사일정 제5항, 정욱리싸이클링에 대한 행정사무조사 계획서 승인의 건을 상정합니다. 본 특별위원회에서 제출한 정욱리싸이클링에 대한 행정사무조사 계획서에 대한 제안설명을 드리겠습니다. 배부하여 드린 조사계획서는 정욱리싸이클링의 인허가 사항과 주민들의 여론수렴 절차 등 부적절한 행정절차 이행 여부에 대하여 주민들의 의혹을 해소시키고 문제점에 대한 대책을 마련하고자 행정사무조사를 실시하게 된 사항으로 조사특위에서 동료 위원님들의 협의를 거쳐 작성하여 본회의에 제출하게 되어 있습니다.',\n",
       " '제296회 본회의 제1차(2018.02.12.) 음성 의사일정 제6항, 충북혁신도시 내 「소방복합치유센터」유치 건의안을 상정합니다. 정부 정책인 혁신도시 활성화와 의료사각지대 해소, 전국적인 교통 접근성을 갖추고 있는 충북혁신도시에 소방가족의 염원인 소방복합치유센터 유치가 절실하여 본 건의안을 제안하게 되었습니다. 연인원 500만 명 이상이 방문하게 되는 소방종합병원이 건립되면 혁신도시가 활성화되는 가장 빠른 지름길이 될 것이며, 이로 인해 공공기관 직원 이주율과 주민 유입율이 더욱 빨리 진행될 것입니다.',\n",
       " '제296회 본회의 제1차(2018.02.12.) 음성 의사일정 제7항, 음성군 맹동면ㆍ진천군 덕산면 택시공동사업구역 확대 지정 촉구 건의안을 상정합니다. 충청북도의 충북혁신도시 택시공동사업구역 직권 지정에 대하여 음성군 맹동면과 진천군 덕산면 지역 전체에 대해서도 금년 상반기 중에 택시공동사업구역 지정이 절실하여 본 건의안을 제안하게 되었습니다. 금번 택시공동사업구역 직권 지정은 음성군과 진천군 택시요금이 동일한 체계에서 혁신도시만 지정되었기에 요금에는 전혀 변화가 없으며, 혁신도시 이외의 지역으로 운행할 경우에는 시계 외 할증이 부과되어 이로 인해 요금시비를 우려한 승차거부 문제와 택시요금과 관련한 주민불만이 해소되지 않을 것입니다.',\n",
       " '제296회 본회의 제1차(2018.02.12.) 음성 의사일정 제8항, 음성군 청렴이행 서약제 운영 조례 일부개정조례안을 상정합니다. 공공계약과 관련하여 공직자가 계약 체결을 매개로 민간에 부당한 청탁을 할 가능성을 사전에 방지하기 위해서 청렴이행서약서에 부정한 취업 제공 금지를 포함하는 것으로 조례를 개정하고자 하는 사항입니다. 현행 조례에 공직자가 민간에 하는 부정한 청탁을 막을 수 있는 규정이 명확치 않아 이를 보완하여 투명한 행정을 실현하기 위하여 본 조례를 개정하고자 하는 것으로 원안대로 심의ㆍ의결하여 주시기 바랍니다.',\n",
       " '제296회 본회의 제1차(2018.02.12.) 음성 의사일정 제9항, 음성군 참전유공자 지원 조례 일부개정조례안, 의사일정10항, 음성군 국가보훈대상자 예우 및 지원에 관한 조례 일부개정조례안을 일괄 상정합니다. 개정이유는 참전유공자와 그 유족에게 합당한 예우를 하기 위하여 월남참전유공자에게 참전명예수당을 매월 10만원으로 인상하여 지급하고 참전유공자가 사망한 경우 그 배우자에게 매월 5만원을 지급하는 내용입니다. 참전유공자와 그 유족에게 합당한 예우를 하여 군민의 나라사랑정신 함양에 이바지 하고자 본 조례를 개정하는 것으로 원안대로 심의ㆍ의결하여 주시기 바랍니다.',\n",
       " '제296회 본회의 제1차(2018.02.12.) 음성 의사일정 제11항, 2018년도 수시분 공유재산 관리계획안을 상정합니다. 안건은 1건으로 시설관리사업소 소관 혁신도시 어린이도서관 건립사업 공유재산 취득계획안입니다. 제안사유로는 혁신도시 내 어린이 인구비율이 높은 실정으로 어린이도서관 필요성이 대두됨에 따라 어린이와 청소년 등 주민이 함께 이용하는 문화공간을 조성하고자 함입니다.',\n",
       " '제296회 본회의 제1차(2018.02.12.) 음성 의사일정 제12항, 음성군 공동주택관리 조례 일부개정조례안을 상정합니다. 음성군 공동주택관리 조례 일부개정조례안에 대하여 설명드리겠습니다. 개정이유는 음성군 공동주택관리 조례에 따른 공동주택관리비용 지원 과정에서 나타난 일부 미비점을 현실에 맞도록 개선ㆍ보완하고 공동주택을 체계적ㆍ효율적으로 관리하여 쾌적한 주거환경을 조성하고자 합니다.',\n",
       " '제72회 전라북도 완주군의회 (임시회) 제1호 본 회 의 회 의 록 완주 좌석을 정돈하여 주시기 바랍니다. 성원이 되었으므로 제72회 완주군의회 임시회 제1차 본회의를 개의하겠습니다. 먼저 의사담당으로 부터 보고가 있겠습니다.',\n",
       " '제72회 전라북도 완주군의회 (임시회) 제1호 본 회 의 회 의 록 완주 의사일정 제1항 제72회 완주군의회 임시회 회기결정의 건을 상정합니다. 제72회 완주군의회 임시회 회기 결정의 건에 대하여는 운영위원회 안성근 위원장 외 4인이 발의한대로 11월 12일부터 11월 16일까지 5일간으로 결정코자 하는데 의원 여러분 이의 없으십니까? (『없습니다』하는 의원 있음 ) 이의가 없으므로 가결되었음을 선포합니다. 이번 회기중의 의사일정은 배부해 드린 유인물을 참고하여 주시기 바랍니다.',\n",
       " '제72회 전라북도 완주군의회 (임시회) 제1호 본 회 의 회 의 록 완주 다음은 의사일정 제2항 행정사무감사특별위원회구성의 건을 상정합니다. 본 건은 완주군의회행정사무감사및조사에관한조례 제2조제1항의 규정에 의하여 감사특별위원회를 구성하여 이번 제72회 임시회에서 행정사무감사 계획서를 작성하고 정기회에서 행정사무감사를 실시하고자 하는데 의원 여러분 이의 없으십니까? (『없습니다』하는 의원 있음 ) 이의가 없으므로 감사특별위원회는 방대한 완주군행정사무 전 분야를 보아야 하기 때문에 의장을 제외한 전 의원으로 구성코자 합니다. 감사특별위원회 존속 기간은 금일부터 정기회의시 행정사무감사를 실시하고 그 결과를 본회의에 보고하여 의결될 때까지 존속하여 주시기 바랍니다.',\n",
       " '제72회 전라북도 완주군의회 (임시회) 제1호 본 회 의 회 의 록 완주 다음은 의사일정 제3항 휴회의 건을 상정합니다. 본 건은 감사특별위원회와 상임위원회 활동을 하기 위하여 11월 13일부터 11월 15일까지 3일간 본회의를 휴회하고자 하는데 의원 여러분 이의 없으십니까? (『없습니다』하는 의원 있음 ) 이의가 없으므로 가결되었음을 선포합니다.',\n",
       " '제72회 전라북도 완주군의회 (임시회) 제1호 본 회 의 회 의 록 완주 이의가 없으므로 가결되었음을 선포합니다. 다음은 지방자치법 제64조제2항과 완주군의회 회의규칙 제46조제1항의 규정에 의거 제72회 완주군의회 임시회 회의록에 서명하실 의원을 선임하고자 합니다. 이번 임시회 회의록 서명 의원은 조정석 의원과 이진철 의원을 선임하고자 하는데 의원 여러분 이의 없으십니까? (『없습니다』하는 의원 있음 ) 이의가 없으므로 두분 의원이 회의록 서명의원으로 선임되었음을 선포합니다.',\n",
       " '제76회 본회의 제1차(1998.07.10.) 음성 의사일정 제1항 의장·부의장 선거를 상정합니다. 의장·부의장 선거는 지방자치법 제42조 제1항 및 음성군의회 회의규칙 제8조 제1항 규정에 의하여 의장 1인과 부의장 1인을 각각 무기명 투표로 선출하게 되겠습니다. 감표위원으로는 의원여러분들이 사전에 협의 하신대로 고재협 의원님을 지명 합니다.',\n",
       " '회의는 11시 10분에 속개하기로 하고 정회를 선포합니다.(10시 55분 회의중지)(11시 07분 계속개의) 의석을 정돈해 주시기 바랍니다. 제76회 음성군의회 임시회 회기는 여러 의원님들이 양해하여 주신 것으로 7월 10일부터 7월 15일까지 6일간으로 하고자 합니다. 그리고 배부하여 드린 유인물중 상정된 조례 8건에 대하여는 7월 13일 처리하는 것으로 하고 기타 안건은 의사일정대로 결정하고자 하는데 이의가 없으십니까? (「없습니다」하는 의원 있음) 이의가 없으므로 가결되었음을 선포합니다.',\n",
       " '제76회 본회의 제1차(1998.07.10.) 음성 의사일정 제3항 회의록서명의원 선출의 건을 상정합니다. 의원님들께서 사전 양해하여 주신대로 금번 회의록 서명의원으로는 고재협 의원님과 김성채 의원님을 선출하고자 하는데 이의 없습니까? (「없습니다」하는 의원 있음) 이의가 없으므로 서명의원으로는 고재협 의원님과 김성채 의원님이 선출되었음을 선포합니다. 두 분 의원님께서는 수고하여 주시기 바랍니다.',\n",
       " '제76회 본회의 제1차(1998.07.10.) 음성 의원여러분께서 사전 협의하신 바와 같이 금번 임시회에 상정할 안건에 대한 사전 설명을 듣기 위해 간담회를 갖고자 7월 11일은 본회의를 휴회하고자 하는데 의원여러분! 이의 없습니까? (「없습니다」하는 의원 있음) 이의가 없으므로 본회의 휴회의 건은 가결되었음을 선포합니다. 이상으로 오늘에 계획된 회의는 모두 마쳤습니다. 제2차 본회의는 7월 13일 오전 10시에 개의하고자 하오니 참고하여 주시기 바랍니다.',\n",
       " '제129회 본회의 제1차(2003.06.10.) 음성 의석을 정돈하여 주시기 바랍니다. 성원이 되었으므로 지금부터 제129회 음성군의회 임시회 제1차 본회의를 개의하겠습니다. 먼저 사무과장으로부터 보고가 있겠습니다.',\n",
       " '제129회 본회의 제1차(2003.06.10.) 음성 의사일정 제1항, 제129회 음성군의회 임시회 회기결정의건을 상정합니다. 제129회 음성군의회 임시회 회기는 여러 의원님들께서 사전에 양해하여 주신 것과 같이 6월 10일부터 6월 17일까지 8일간으로 하고자 합니다. 그리고 배부하여 드린 유인물과 같이 의사일정을 결정하고자 하는데, 의원 여러분! 이의가 없으십니까? (「없습니다」하는 의원 있음) 의원 여러분들의 이의가 없으시므로 가결되었음을 선포합니다.',\n",
       " '제129회 본회의 제1차(2003.06.10.) 음성 의사일정 제2항, 회의록서명의원선출의건을 상정합니다. 제129회 임시회 회의록 서명의원으로는 여러 의원님들이 사전에 양해하여 주신대로 정지태 의원님과 이한철 의원님을 선출하고자 하는데, 의원님들의 이의가 없으십니까? (「없습니다」하는 의원 있음) 의원님들의 이의가 없으시므로 정지태 의원님과 이한철 의원님께서 회의록 서명의원으로 선출되었음을 선포합니다. 두 분 의원님들께서는 수고하여 주시기 바랍니다.',\n",
       " '제129회 임시회를 맞이하여 2002년도이월사업및2003년도주요사업현지확인특별위원회구성결의안에 대하여 제안설명을 드리겠습니다. 먼저 주문으로 2002년도 이월사업 및 2003년도 주요사업에 대한 현지 확인을 통하여 사업의 완벽한 시공을 도모하고 사업추진실태와 문제점을 파악하여 부실공사의 근원적 예방과 성실한 공사 문화를 확립해 나가고자 합니다. 제안이유로는 2002년도 이월 및 수해복구사업장, 2003년도 주요사업장에 대하여 직접현장을 방문, 사업추진상의 문제점을 도출하여 군정에 반영함은 물론 현지 주민들의 의견을 충분히 수렴하였는지, 다가오는 장마철에 대비하여 완전한 수해복구를 하였는지를 점검하고 설계에 의한 정확한 시공을 촉진하여 내실 있고 견실한 공사로 사업의 성과를 높이고자 제안하게 되었습니다.',\n",
       " '오늘 제129회 임시회 제1차 본회의를 맞아 본 의안을 동료의원과 함께 발의하여 제안 설명을 드리게 된 것을 매우 뜻 깊게 생각합니다. 음성군표준정원제재산정건의문을 채택하여 행정자치부 장관에게 건의하고자 합니다. 제안이유로는 행정자치부에서 금번 시행한 공무원표준정원제가 음성군의 인구, 기업체, 특별회계 등 지역 여건 및 통계를 전혀 고려하지 않은 실정으로 타 자치단체에 비하여 매우 불합리하고 형평성이 결여된 표준 정원이 산정 되었다고 사료됩니다.',\n",
       " '제129회 본회의 제1차(2003.06.10.) 음성 의사일정 제5항, 제129회 임시회 휴회의건은 금번 회기 중 이월사업및주요사업현지확인특별위원회 활동을 하고자 하는 것으로 휴회의건은 의사일정으로 갈음하겠으니, 양해하여 주시기 바랍니다. 그리고 이월사업 및 주요사업 현지확인특별위원회활동과 관련하여 본회의가 끝나는 대로 소회의실에서 특별위원회 회의를 개최하고자 하오니 참고하여 주시기 바랍니다. 별다른 의견이 없으십니까? (「없습니다」하는 의원 있음) 산회를 선포합니다. (10시 25분 산회)',\n",
       " '성원이 되었으므로 지금부터 제323회 음성군의회 임시회 제1차 본회의를 개의하겠습니다. 금번 임시회는 최용락 의원 외 2분의 의원으로부터 소집요구가 있어 「지방자치법」제45조의 규정에 따라 집회하게 되었습니다. 먼저 의회에서는 2020년 5월 12일자로 최용락 의원 외 2분의 의원으로부터 음성군의회 의원 윤리강령 및 행동강령 조례 일부개정조례안이, 2020년 5월 15일자로 임옥순 의원 외 2분의 의원으로부터 중북내륙철도 지선(중부선) 연결 제4차 국가철도망 구축계획 반영 건의안이 접수되었으며, 음성군수로부터 5월 14일자로 음성군 재정안정화기금 설치 및 운용 조례안, 음성군 사무의 민간위탁 촉진 및 관리 조례 전부개정조례안, 음성군 마을세무사 운영에 관한 조례안, 2020년 재산세 도시지역분 적용 대상지역 고시안, 음성군 산학융합지구 활성화 지원 조례안, 음성군 보도구역 내 횡단차도 설치에 관한 조례 폐지조례안, 2020년도 수시분 공유재산 관리계획안이 접수되어 총 9건의 의안이 상정되었습니다.',\n",
       " '제323회 본회의 제1차(2020.05.19.) 음성 의사일정 제1항, 제323회 음성군의회 임시회 회기결정의 건을 상정합니다. 제323회 음성군의회 임시회 회기는 「음성군의회 회기와 그 운영 등에 관한 조례」제3조제2항의 규정과 의원님들께서 사전에 협의하여 주신 대로 5월 19일부터 5월 22일까지 4일간으로 하고자 합니다. 그러면 배부하여 드린 유인물과 같이 의사일정을 결정하고자 하는데, 의원 여러분! 이의 없으십니까? (「없습니다」하는 의원 있음) 이의가 없으므로 가결되었음을 선포합니다.',\n",
       " '제323회 본회의 제1차(2020.05.19.) 음성 의사일정 제2항, 회의록 서명의원 선출의 건을 상정합니다. 제323회 임시회 회의록 서명의원으로는 의원님들께서 사전에 양해하여 주신 대로 서형석 의원님, 서효석 의원님을 선출하고자 하는데, 의원 여러분! 이의 없으십니까? (「없습니다」하는 의원 있음) 이의가 없으므로 서형석 의원님, 서효석 의원님이 회의록 서명의원으로 선출되었음을 선포합니다. 두 분 의원님께서는 수고하여 주시기 바랍니다.',\n",
       " '제323회 본회의 제1차(2020.05.19.) 음성 의사일정 제3항, 주요사업 현지확인 특별위원회 구성의 건을 상정합니다. 주요사업 현지확인 특별위원회 위원으로는 김영섭 부의장님, 안해성 의원님, 서효석 의원님, 서형석 의원님, 김영호 의원님, 최용락 의원님, 임옥순 의원님으로 구성하고자 합니다. 특별위원회 운영은 5월 19일부터 5월 22일까지 4일간 운영하고자 하며, 주요사업 현지확인은 의사일정에 따라 확인하고자 합니다.',\n",
       " '제323회 본회의 제1차(2020.05.19.) 음성 의사일정 제4항, 음성군의회 의원 윤리강령 및 행동강령 조례 일부개정조례안을 상정합니다. 본 조례안에 대한 개정이유는 지방의회의원 행동강령이 개정됨에 따라 제도의 통일성 있는 운영을 위해 해당 내용을 반영하여 필요한 사항을 개정하려는 것입니다. 본 조례안은 상위법령의 법령 및 조문을 반영하고 제도의 통일성 있는 운영을 위해 해당 내용을 현실에 맞게 정비하고자 개정하는 것으로 원안대로 심의ㆍ의결하여 주시기 바랍니다.',\n",
       " '기획감사실에서 제출한 의안번호 제695호, 음성군 재정안정화기금 설치 및 운용 조례안에 대하여 제안설명드리겠습니다. 제안이유는 본 기금을 조성 활용함으로써 회계연도 간의 재정수입 불균형을 조정하고 경기 불확실성에 대비한 자금 비축으로 재정운용의 안정을 도모하고자 함입니다. 회계연도 간의 재정수입 불균형을 해소하고 경기 불확실성에 대비하여 재정안정화기금을 조성함으로써 안정적 재정 운용을 도모하기 위하여 본 조례를 제정하고자 하는 안으로 원안대로 심의ㆍ의결하여 주시기 바랍니다.',\n",
       " '제323회 본회의 제1차(2020.05.19.) 음성 의사일정 제6항, 음성군 사무의 민간위탁 촉진 및 관리 조례 전부개정조례안을 상정합니다. 개정이유는 국민권익위원회 권고에 따라 민간위탁 사무의 공정성과 투명성을 확보하고자 함입니다. 민간위탁 사무의 공정성과 투명성을 확보하기 위하여 본 조례를 개정하고자 하는 것으로 원안대로 심의ㆍ의결하여 주시기 바랍니다.',\n",
       " '안 제1조와 제2조에서는 마을세무사 운영의 목적과 위촉 등에 관한 사항을, 안 제3조에서는 마을세무사의 역할에 관한 사항을, 안 제4조와 제5조에서는 마을세무사 이용대상 및 상담방법에 관한 사항을, 안 제6조에서는 상담실적 관리에 관한 사항을, 안 제7조와 제8조에서는 마을세무사의 포상 및 수당에 관한 사항을, 안 제9조에서는 마을세무사의 개인정보 활용 동의에 관한 사항을 규정하였습니다. 조례ㆍ규칙심의회는 5월 6일 원안 가결되었습니다. 세무사 이용이 어려운 영세사업자 및 취약계층의 납세자 권익보호 실현을 위해 세무 상담운영 서비스를 무료로 제공하는 마을세무사 운영제도에 필요한 사항을 정하고자 본 조례를 제정하는 것으로 원안대로 심의ㆍ의결하여 주시기 바랍니다.',\n",
       " '제323회 본회의 제1차(2020.05.19.) 음성 의사일정 제9항, 음성군 산학융합지구 활성화 지원 조례안을 상정합니다. 1페이지 제정이유는 충북혁신도시 산학융합지구 지정 등 산업 활성화 육성관리 및 지원과 산학융합형 인력양성 및 운영에 필요한 사항을 정하여 산학융합지구 활성화를 도모하고자 하는 데 있습니다. 주요 내용으로는 산학융합지구 활성화 지원사업의 종류를 안 제5조제1항에 명시하고, 산학융합지구 활성화를 위한 재정지원 근거를 안 제5조제2항에 마련했습니다.',\n",
       " '제323회 본회의 제1차(2020.05.19.) 음성 의사일정 제10항, 음성군 보도구역 내 횡단차도 설치에 관한 조례 폐지조례안을 상정합니다. 먼저 폐지이유는 보도구역 내 횡단차도 설치는 도로점용 허가대상으로 상위법인 「도로법」제61조에 규정되어 있으며, 원인자부담금의 부과징수에 대한 사항도 「음성군 도로복구 원인자부담금 징수 조례」에서 규정하고 있어 중복되는 규정 정비를 위하여 본 조례를 폐지하고자 합니다. 본 조례는 2019년 법제처 협업과제로 선정한 자치법규 정비대상에 포함되어 개정을 검토하던 중 「도로법」과 「음성군 도로복구 원인자부담금 징수 조례」의 규정과 중복되어 따로 규정할 실익이 없어 본 조례를 폐지하고자 하는 것으로 원안대로 심의ㆍ의결하여 주시기 바랍니다.',\n",
       " '제323회 본회의 제1차(2020.05.19.) 음성 의사일정 제11항, 2020년도 수시분 공유재산 관리계획안을 상정합니다. 의안번호 제701호, 2020년도 수시분 공유재산 관리계획안에 대해서 제안설명드리겠습니다. 2020년도 수시분 음성군 공유재산 관리계획안에 대하여 「공유재산 및 물품 관리법」제10조제3항 및 동법 시행령 제7조에 따라 음성군의회의 의결을 얻고자 합니다.',\n",
       " \"제323회 본회의 제1차(2020.05.19.) 음성 의사일정 제12항, 중부내륙철도 지선(중부선) 연결 제4차 국가철도망 구축계획 반영 건의안을 상정합니다. 또한 수서~감곡~금왕~혁신도시~청주공항을 중부내륙철도 지선은 수도권의 철도 수혜지역 확대와 서해안을 잇는 물류운송기능 강화로 청주공항을 중심으로 한 접근성 향상과 수도권과 중부내륙 교통망 확충에 큰 역할을 담당할 것으로 기대되며, 이 외에도 수서~광주 및 중부내륙철도의 기존노선 활용사업비를 최소화하여 수서~중부내륙 간 철도연계 구축, 충북선철도 고속화사업, 천안~청주공항 복선사업과 더불어 중부권 네트워크 구축으로 철도이용 편의성 증대, 청주공항, 충북혁신도시 및 수서역 연계를 통한 중부내륙권 철도 서비스 제공으로 국토의 균형발전을 도모할 수 있습니다. 따라서 음성군의회는 수도권과의 연계 강화와 중부권의 성장발전동력이 될 수 있도록 11만 음성군민의 한결같은 염원을 담아 국토교통부 중부내륙철도 지선 연결(감곡~청주공항) 사업이 제4차 국가철도망 구축계획('21~'30)에 반영되기를 강력하게 건의합니다.\",\n",
       " '제323회 본회의 제1차(2020.05.19.) 음성 의사일정 제13항, 휴회의 건을 상정합니다. 이번 휴회의 건은 주요사업 현지확인 특별위원회 운영을 위한 것으로 5월 20일부터 22일까지 휴회하고자 하는데, 의원 여러분! 이의 없으십니까? (「없습니다」하는 의원 있음) 이의가 없으므로 가결되었음을 선포합니다. 다른 의견 없으시면 제323회 음성군의회 임시회 제2차 본회의를 모두 마치고자 합니다.',\n",
       " '2019년 5월 10일 이재길 의원 외 열두 분의 의원으로부터 ｢청주시 자율방범대 지원에 관한 조례 일부개정조례안｣ 등 부의된 안건을 처리하기 위한 집회요구가 있어 2019년 5월 17일 집회공고를 하고, 금일 제43회 청주시의회(임시회)를 개의하게 되었습니다. 의장으로부터 제43회 청주시의회(임시회) 회기결정의 건이 제의되었습니다. 다음은 의원 발의 의안으로 이재길 의원님이 대표 발의하신 청주시장 및 관계공무원 출석요구의 건, 김기동 의원님이 대표 발의하신 ｢청주시 자율방범대 지원에 관한 조례 일부개정조례안｣, 박미자 의원님이 대표 발의하신 ｢청주시 공중화장실 설치 및 관리 조례 일부개정조례안｣, 최충진 의원님이 대표 발의하신 ｢청주시 정보취약계층 웹접근성 향상을 위한 조례안｣, 신언식 의원님이 대표 발의하신 ｢청주시 청소년 노동인권 보호 및 증진 조례안｣ 등 모두 5건의 의원 발의 안건이 접수되었습니다.',\n",
       " '10년 전 청주시민들이 고 노무현 전 대통령을 추모하는 마음으로 성금을 모아 만든 추모비가 아직/지금도 제자리를 찾지 못하고 있습니다. 이것은 단순히 추모비를 세우는 문제만이 아닌 청주시민들의 마음이 외면되어 온 것이기에 이제라도 제자리를 찾는 것이 필요하다고 생각되어 간곡히 제안드리는 바입니다. 그 후 추모비를 둘 곳이 없어 어느 성당의 마당에 두었다가 다시 청주 문의면 마동리 두메산골의 한 미술공방으로 옮겨져 지금까지 10년의 세월 동안 쓸쓸하게 방치되어 왔습니다.',\n",
       " '의사일정 제1항 제43회 청주시의회(임시회) 회기결정의 건을 상정합니다. 이번 임시회 회기는 의회운영위원회와 협의한 바와 같이 5월 22일부터 5월 28일까지 7일간으로 하고자 하는데 의원 여러분, 이의가 없으십니까? 이의가 없으므로 가결되었음을 선포합니다.',\n",
       " '청주시의회 회의록 >제43회 제1호 본회의(2019.05.22 수요일) 청주 다음은 의사일정 제2항 청주시장 및 관계공무원 출석요구의 건을 상정합니다. 본 안건은 5월 27일 시정질문을 위한 청주시장 및 관계공무원 출석요구의 건으로 의원님들께 배부해 드린 안건의 내용과 같이 의결하고자 하는데 의원 여러분, 이의가 없으십니까? 이의가 없으므로 가결되었음을 선포합니다.',\n",
       " '상정된 안건 심사 등 각종 상임위원회 활동을 위하여 5월 23일부터 26일까지 4일간 휴회를 하고자 하는데 의원 여러분, 이의가 없으십니까? 이의가 없으므로 가결되었음을 선포합니다. 이상으로 제43회 청주시의회(임시회) 제1차 본회의 산회를 선포합니다.',\n",
       " '제235회 완주군의회(제2차 정례회) 제1차 본 회 의 회 의 록 완주 의석을 정돈하여 주시기 바랍니다. 성원이 되었으므로 제235회 완주군의회 제2차 정례회 제1차 본회의 개의를 선포합니다. 먼저 의사팀장으로부터 의회 관련 사항에 대한 보고가 있겠습니다.',\n",
       " '제235회 완주군의회(제2차 정례회) 제1차 본 회 의 회 의 록 완주 먼저, 의사일정 제1항 제235회 완주군의회 제2차 정례회 회기 결정의 건을 상정합니다. 제235회 완주군의회 제2차 정례회 회기 결정의 건에 대하여는 운영위원회 협의 및 의원 간담회를 통해 협의해 주신대로 11월 20일부터 12월 14일까지 25일간으로 회기를 결정하고자 하는데 의원 여러분 이의 있습니까? (“없습니다” 하는 의원 있음) 이의가 없으므로 가결되었음을 선포합니다.',\n",
       " '제235회 완주군의회(제2차 정례회) 제1차 본 회 의 회 의 록 완주 다음은 의사일정 제2항 제235회 완주군의회 제2차 정례회 회의록 서명의원 선출의 건을 상정합니다. 회의록 서명의원으로 서남용 의원님과 임귀현 의원님을 선출하고자 하는데 의원 여러분 이의 있습니까? (“없습니다” 하는 의원 있음) 이의가 없으므로 가결되었음을 선포합니다. 그럼 두 분 의원님들께서는 본 회기동안 수고하여 주시기 바랍니다.',\n",
       " '제235회 완주군의회(제2차 정례회) 제1차 본 회 의 회 의 록 완주 다음은 의사일정 제3항 완주군수 및 관계공무원 출석요구의 건을 상정합니다. 본 안건은 지방자치법 제42조제2항 및 완주군의회 회의규칙 제66조 규정에 따른 것으로 이번 제2차 정례회 기간 중에 실시되는 군정질문에 대해서 집행부 측의 책임 있는 답변을 듣기 위해 다가오는 11월 30일 제2차 본회의에 완주군수 등 관계 공무원들의 출석을 요구하는 것입니다. 군정질문은 집행부가 추진 중인 주요 현안사업 등에 대한 질문으로 그동안 우리 의원님들께서 의정활동을 통해 수집한 자료와 군민들의 의견을 바탕으로 집행부에서 추진하거나 계획 중인 시책들의 문제점을 도출하고 발전적 대안을 제시함은 물론, 군민들의 대의기관인 완주군의회의 의사를 집행부에 전달하기 위한 것으로 집행부의 책임 있는 답변을 기대하며 완주군수 및 관계공무원 출석요구의 건에 대한 제안 설명을 마치겠습니다.',\n",
       " '제235회 완주군의회(제2차 정례회) 제1차 본 회 의 회 의 록 완주 다음은 의사일정 제4항 본회의 휴회의 건을 상정합니다. 특별위원회 등 의정활동을 위하여 11월 21일부터 11월 29일까지 9일간 본회의를 휴회하고자 합니다. 다음 제2차 본회의는 11월 30일 오전 10시에 개의하겠습니다.',\n",
       " '오늘 제283회 임시회 제1차 본회의에서 주요사업 현지확인 특별위원회 위원으로 7분이 선출되셨습니다. 선출되신 7분 모두 참석하시어 정족수에 달하였으므로 「음성군의회 위원회 조례」제3조제2항의 규정에 따라 최다선위원이신 남궁유 위원님의 사회로 위원장을 선출하겠습니다. 지금부터 주요사업 현지확인 특별위원회 제1차 회의를 개회하겠습니다.',\n",
       " '특별위원회 위원장과 간사 선임은 「음성군의회 위원회 조례」제3조제1항 및 제6조제2항에 따라 위원회에서 호선하여 본회의에 보고하게 되어 있습니다. 위원장 선임이 끝났으므로 방금 선임된 위원장과 사회를 교대하도록 하겠습니다. (남궁유 위원장직무대행, 이상정 위원장과 사회교대) 제283회 임시회를 맞아 주요사업 현지확인 특별위원회 구성안을 대표발의한 위원으로서 특별위원회 위원장이라는 중책을 맡겨 주셔서 감사합니다. 이번 특별위원회의 현지확인은 명품가로숲길 조성, 조촌권역단위 종합정비, 음성휴게소하이패스IC 등 총 12개소를 24일부터 25일까지 이틀 동안 확인하겠습니다.',\n",
       " '제283회 주요사업현지확인특별위원회 제1차(2016.10.17.) 음성 의사일정 제2항, 주요사업 현지확인 특별위원회 운영계획안을 상정합니다. 위원님들께서는 배부하여 드린 계획안을 자세히 살펴봐 주시기 바랍니다. 계획안에 대해서 위원 여러분! 이의 없으십니까? (「없습니다」하는 위원 있음) 이의가 없으므로 주요사업 현지확인 특별위원회 운영계획안이 원안대로 가결되었음을 선포합니다.',\n",
       " '제135회 전라북도 완주군의회(임시회) 제1호 본 회 의 회 의 록 완주 의석을 정돈하여 주시기 바랍니다. 성원이 되었으므로 제135회 완주군의회 임시회 제1차 본회의 개의를 선포합니다. 지난 4월 26일 운영위원회 송지용 위원장 외 네분 의원으로부터 임시회 집회 요구가 있어 지방자치법 제39조 제2항의 규정에 의하여 4월 30일 집회공고를 하고 오늘 제135회 임시회를 개회하게 되었습니다.',\n",
       " '제135회 전라북도 완주군의회(임시회) 제1호 본 회 의 회 의 록 완주 의사일정 제1항, 제135 완주군의회 임시회 회기 결정의 건을 상정합니다. 제135회 완주군의회 임시회 회기 결정의 건에 대하여는 운영위원회 송지용 위원장 외 4인이 발의 한대로 5월 7일부터 5월 16일까지 10일간으로 결정하고자 합니다. 의원 여러분 이의 없으십니까? (『없습니다』하는 의원 있음) 이의가 없으므로 가결되었음을 선포합니다.',\n",
       " '제135회 전라북도 완주군의회(임시회) 제1호 본 회 의 회 의 록 완주 다음은 의사일정 제2항, 2007년도제2회추가경정세입세출예산안을 상정합니다. 2007년도 본예산 편성이후 지방교부세의 확정과 국 도비 변경내시로 보조사업의 재조정과 주민소득 증대사업 등 군정현안사업 추진을 위하여 제2회 추가경정예산을 편성하게 되었습니다. 예산안 총 규모는 2,737억 6,800만원으로써 일반회계 2,519억 7,000만원, 특별회계 217억 9,800만원입니다.',\n",
       " '제135회 전라북도 완주군의회(임시회) 제1호 본 회 의 회 의 록 완주 다음은 의사일정 제3항, 예산결산 특별위원회 구성의 건을 상정합니다. 본 건은 2007년도 제2회 추가경정 세입세출예산안을 심사하기 위하여 완주군의회 위원회 조례 제7조 제2항의 규정에 따라 예산결산 특별위원회를 구성하고자 합니다. 예산결산 특별위원회는 완주군의회 위원회조례 제8조제1항 및 제11조 제2항의 규정에 따라 위원장 1인과 간사 1인을 호선하여 본 회의에 보고하여 주시기 바랍니다.',\n",
       " '제135회 전라북도 완주군의회(임시회) 제1호 본 회 의 회 의 록 완주 다음은 의사일정 제4항 2006년도세입 세출결산검사위원선임의 건을 상정합니다. 본 건은 완주군 결산검사 위원 선임 및 운영에 관한 조례 제3조 제1항의 규정에 의장의 추천에 의하여 본회의에서 선임하도록 되어 있으므로 대표위원으로 박웅배 의원님과 전직 행정공무원으로 경리 세입 분야에 다년간 경력을 가진 이종귀, 백명언, 최재경, 서원철 씨를 선임하고자 하는데 의원 여러분 이의 없으십니까? (『없습니다』하는 의원 있음) 이의가 없으므로 가결되었음을 선포합니다.',\n",
       " '제135회 전라북도 완주군의회(임시회) 제1호 본 회 의 회 의 록 완주 다음은 의사일정 제5항 휴회의 건을 상정합니다. 본 건은 상임위원회 및 특별위 원회 활동을 하기 위하여 5월 8일부터 5월 15일까지 8일간 본 회의를 휴회하고자 하는데 의원 여러분 이의 없으십니까? (『없습니다』하는 의원 있음) 이의가 없으므로 가결되었음을 선포합니다.',\n",
       " '제135회 전라북도 완주군의회(임시회) 제1호 본 회 의 회 의 록 완주 다음은 지방자치법 제64조 제2항과 회의규칙 제46조 제1항의 규정에 의하여 제135회 완주군의회 임시회 회의록에 서명하실 의원님을 선임하고자 합니다. 이번 임시회 회의록에 서명하실 의원님은 홍의환 의원님과 정성모 의원님을 선임하고자 하는데 의원 여러분 이의 없으십니까? (『없습니다』하는 의원 있음) 그러면 두 분 의원님이 회의록 서명의원으로 선임되었음을 선포합니다. 이상으로 제1차 본 회의를 마치고 제2차 본 회의는 5월 16일 오전 10시에 개의하겠습니다.',\n",
       " '성원이 되었으므로 지금부터 제313회 음성군의회 임시회 본회의를 개회하겠습니다. 금번 임시회는 김영호 의원 외 2인으로부터 소집요구가 있어 「지방자치법」제45조 규정에 따라 집회하게 되었습니다. 음성군수로부터는 7월 10일자로 음성군 지방공무원 복무 조례 일부개정조례안, 음성군 공무원 후생복지에 관한 조례 일부개정조례안, 음성군 군세 감면 조례 일부개정조례안이 접수되어 총 5건의 의안이 상정되었습니다.',\n",
       " '제313회 본회의 제1차(2019.07.16.) 음성 의사일정 제1항, 제313회 음성군의회 임시회 회기결정의 건을 상정합니다. 제313회 음성군의회 임시회 회기는 「음성군의회 회기와 그 운영 등에 관한 조례」제3조제2항의 규정과 의원님들께서 사전에 협의하여 주신대로 7월 16일 하루로 하고자 합니다. 그러면 배부해 드린 유인물과 같이 의사일정을 결정하고자 하는데, 의원 여러분! 이의 없으십니까? (「없습니다」하는 의원 있음) 이의가 없으므로 가결되었음을 선포합니다.',\n",
       " '제313회 본회의 제1차(2019.07.16.) 음성 의사일정 제2항, 회의록 서명의원 선출의 건을 상정합니다. 제313회 임시회 회의록 서명의원으로는 의원님들께서 사전에 양해하여 주신 대로 안해성 의원님, 서효석 의원님을 선출하고자 하는데, 의원 여러분! 이의 없으십니까? (「없습니다」하는 의원 있음) 이의가 없으므로 안해성 의원님, 서효석 의원님이 회의록 서명의원으로 선출되었음을 선포합니다. 두 분 의원님께서는 수고하여 주시기 바랍니다.',\n",
       " '제313회 본회의 제1차(2019.07.16.) 음성 의사일정 제3항, 음성군 영주귀국 사할린 한인 주민 지원에 관한 조례 일부개정조례안을 상정합니다. 존경하는 조천희 의장님 그리고 동료 의원 여러분! 본 의원이 대표발의한 음성군 영주귀국 사할린 한인 주민 지원에 관한 조례 일부개정조례안에 대하여 제안설명드리겠습니다. 본 조례안에 대한 개정이유는 영주귀국 사할린 한인의 복지지원금이 현실 생활비로는 부족함에 따라 특별생계비 지원근거를 마련함으로써 고국에서 안정된 생활이 가능하도록 하기 위하여 필요한 사항을 개정하려는 것입니다.',\n",
       " '제312회 제1차 정례회 주요사업 현지확인 특별위원회 위원장 안해성 의원입니다. 지난 제312회 제1차 정례회에 바쁘신 가운데도 2019년도 주요사업에 대한 현지확인 특별위원회 활동에 적극적으로 참여해 주신 동료 위원 여러분과 관계공무원 여러분께 감사를 드리며, 지금부터 현지확인 결과에 대하여 보고를 드리겠습니다. 2019년 주요사업 중 사업규모가 크거나 점검이 필요한 현안 사업을 대상으로 현장을 직접 방문ㆍ확인하여 사업 추진상에 도출된 제반 문제점에 대하여는 합리적인 개선책과 대안을 강구하고 차후 사업 추진에 반영하여 차질 없이 추진을 하기 바랍니다.',\n",
       " '제313회 본회의 제1차(2019.07.16.) 음성 의사일정 제5항, 음성군 지방공무원 복무 조례 일부개정조례안, 의사일정 제6항, 음성군 공무원 후생복지에 관한 조례 일부개정조례안을 일괄 상정합니다. 상위규정 개정사항 및 공무원 복지증진에 관한 사항을 반영하고자 본 조례를 개정하려는 것으로 원안대로 심의ㆍ의결하여 주시기 바랍니다. 개정이유는 공무원의 건강검진비, 장제용품 등 지원에 관한 사항을 명확히 하여 예산편성의 근거를 마련하고 직원들이 직무에 전념할 수 있는 환경을 제공하고자 함입니다.',\n",
       " '제313회 본회의 제1차(2019.07.16.) 음성 의사일정 제7항, 음성군 군세 감면 조례 일부개정조례안을 상정합니다. 개정이유는 「장애인복지법」 개정으로 2019년 7월 1일 시행하는 장애등급제 개편사항을 반영하여 조문을 정비하고자 합니다. 제안자 의견입니다. 「장애인복지법」 개정으로 장애등급제가 폐지됨에 따라 기존 시각장애 4급에 대한 감면 지속방안을 마련하기 위하여 본 조례를 개정하는 것으로 원안대로 심의ㆍ의결하여 주시기 바랍니다.',\n",
       " '성원이 되었으므로 지금부터 음성군의회 제248회 임시회 제1차 본회의를 개의하겠습니다. 먼저 의회사무과장으로부터 보고가 있겠습니다. 음성군수로부터 2013년 9월 13일자로 2013년도 제2회 세입ㆍ세출 추가경정예산안 및 기금운용계획 변경안이 접수되어 오늘 임시회를 개최하게 되었습니다.',\n",
       " '제248회 본회의 제1차(2013.09.24.) 음성 의사일정 제1항, 음성군의회 제248회 임시회 회기결정의 건을 상정합니다. 음성군의회 제248회 임시회 회기는 「음성군의회 회기와 그 운영 등에 관한 조례」제3조제2항의 규정과 의원님들께서 사전에 협의하여 주신 대로 9월 24일부터 9월 30일까지 7일간 하고자 합니다. 그리고 이번 임시회 주요 의사일정은 환경분야 현지확인 특위 구성 운영의 건과 음성군수로부터 제출된 2013년도 세입ㆍ세출 추가경정예산안 및 기금운용계획 변경안, 조례안 5건, 동의안, 의견 청취의 건 등의 안건이 있습니다.',\n",
       " '제248회 본회의 제1차(2013.09.24.) 음성 의사일정 제2항, 회의록 서명의원 선출의 건을 상정합니다. 제248회 임시회 회의록 서명의원으로는 의원님들이 사전에 양해하여 주신대로 정태완 의원님, 남궁유 의원님을 선출하고자 하는데, 의원 여러분! 이의가 없으십니까? (「없습니다」하는 의원 있음) 이의가 없으므로 정태완 의원님, 남궁유 의원님이 회의록 서명의원으로 선출되었음을 선포합니다. 두 분 의원님께서는 수고하여 주시기 바랍니다.',\n",
       " '강성택 부군수님께서 나오셔서 2013년도 제2회 세입ㆍ세출 추가경정예산안 및 기금운용계획 변경안에 대해서 제안설명해 주시기 바랍니다. 금번 제2회 추가경정예산안은 지역경제 활성화를 위한 사업과 소규모 주민숙원사업, 혁신도시 공공시설 건립을 위한 부지매입비 등 불가피한 당면 현안사업에 대하여 예산을 중점적으로 편성하였습니다. 이번 추가경정예산안의 총 규모는 4,640억 7,500만 원으로서 이는 기정예산액 4,481억 1,900만 원보다 159억 5,600만 원이 증가된 규모로 일반회계는 223억 6,300만 원을 증액하였으며, 특별회계는 64억 7백만 원을 감액하여 편성하였습니다.',\n",
       " '2013년도 제2회 세입ㆍ세출 추가경정예산안 및 기금운용계획 변경안 심의에 따른 예산결산특별위원회의 구성은 사전에 의원님들이 양해해 주신 대로 특별위원회를 구성하도록 하겠습니다. 먼저 예산결산특별위원회 위원으로는 이한철 의원님, 정태완 의원님, 남궁유 의원님, 조천희 의원님, 손달섭 의원님, 이대웅 의원님, 김순옥 의원님으로 구성하고자 합니다. 또한, 특별위원회 운영 기간은 9월 24일부터 9월 26일까지 3일간으로 하고자 합니다.',\n",
       " '제248회 임시회 제1차 본회의를 맞이하여 음성군 환경분야 현지확인을 발의하여 제안하게 되었습니다. 제안이유는 제241회 제2차 정례회 시 행정사무감사 현지확인 대상지로 선정하였으나 시간상 제약으로 확인시기를 조정하였던 골프장 농약 잔류검사를 환경분야 현지확인을 통해 실시하고자 하며, 문제점이 있는 경우 이에 대한 합리적 개선방안과 대책을 강구함으로써 피해를 최소화하여 깨끗하고 쾌적한 환경을 만들어 군민의 삶의 질을 높이고자 함입니다. 현지확인 기간은 9월 27일 하루 동안이며, 현지확인 대상은 삼성면 썬밸리 C.C, 생극면 레인보우힐스 C.C 2곳으로 담당 공무원과 함께 농약잔류량 검사용 시료를 채취하겠습니다.',\n",
       " '제248회 임시회 휴회의 건은 이번 회기 중 예산결산특별위원회를 구성하여 제2회 추가경정예산안을 심의하고 환경분야 현지확인 특별위원회를 구성, 운영하고자 하는 것으로 휴회의 건은 의사일정으로 갈음하고자 하오니 양해해 주시기 바랍니다. 제1차 본회의 산회 후 10시 40분부터 소회의실에서 예산결산특별위원회가 열리니 참고하여 주시기 바랍니다. 다른 의견 없으시면 음성군의회 제248회 임시회 제1차 본회의를 모두 마치고자 합니다.',\n",
       " \"제65회 전라북도 완주군의회 (정기회) 제6호 본 회 의 회 의 록 완주 성원이 되었으므로 제65회 완주군의회 정기회 제6차 본회의를 개의하겠습니다. 먼저 의사계장으로부터 보고사항이 있겠습니다. '98년 12월 23일 안성근 의원 외 12인으로부터 완주군의회구호채택안이 발의되었습니다. '98년 12월 28일 완주군수로부터 '98년도 제3회추가경정예산 안이 제출되어 당일 예산결산특별위원회로 회부하였습니다. 또한 '98년 12월 29일 김영석 의원 외 12인으로부터 완주군 사회복지시설 운영실태에 대한 행정사무조사 발의안이 제출되었습니다.\",\n",
       " \"제65회 전라북도 완주군의회 (정기회) 제6호 본 회 의 회 의 록 완주 의사일정 변경의 건을 상정합니다. 본 건은 '98년도 11월 25일 제1차 본회의 시 의결한 바 있는 의사일정 중 '98년도 제3회추가경정예산안이 회기 중에 제출되어 내무위원회에 회부되었고, '98년 12월 28일 홍의환 의원 외 12인으로부터 완주군 사회복지시설 운영실태에 대한 행정사무조사 발의안이 제출되어 12월 29일 제6차 본회의에서 처리하기 위해 의사일정을 변경코자하는데 의원 여러분 이의 없으십니까? (『없습니다』하는 의원 있음 ) 이의가 없으므로 가결되었음을 선포합니다.\",\n",
       " \"제65회 전라북도 완주군의회 (정기회) 제6호 본 회 의 회 의 록 완주 다음은 의사일정 제2항 '98년도 제3회추가경정예산안을 상정합니다. 제65회 완주군 의회 정기회의 예산결산 특별위원회 위원장 남대일 의원입니다. '98년도 제3추가경정예산안에 대하여 심사한 결과를 말씀드리겠습니다. '98년도 제3회 추가경정예산안의 총 규모는 제2회 추경예산대비 4억 원이 증액된 1,222억2천1십만1천원으로서 일반회계가 1,159억2,368만원으로 계상 되고 7개 특별회계는 증감 없이 62억9,642만1천원을 예산편성 의결 요구한바, 증액된 4억 원은 확정된 '98년도 특별교부세 세입 예산으로서 삼례 여고 및 충혼탑 진입로 개설공사 세출예산에 편성하여 명시 이월시킨 '98년도 제3회 추가경정예산안은 적정하게 편성된 예산이므로 집행기관에서 의결요구 된 원안대로 심사하였으며 '99년도에 이월한 명시이월 의결요구사업비는 65억2,043만1천원으로서 절대 공기부족으로 이월이 불가피하다고 판단되어 집행기관에서 의결 요구된 원안대로 심사하였습니다. 존경하는 의원동지 여러분 아무쪼록 당 위원회에서 심사한 '98년도 제3회 추가경정예산안은 적법 타당하게 편성된 예산이므로 집행기관에서 제출된 원안대로 가결토록 해 주시면 감사하겠습니다.\",\n",
       " \"제65회 완주군의회(정기회) 행정사무감사 특별위원회 위원장 조정석 의원입니다. '98년도 완주군 행정사무감사 결과보고를 말씀드리겠습니다. 지방자치법 제36조 및 시행령 제16조와 제19조의 규정에 의거 완주군 행정 전반에 관하여 비위발생 개연성이 많은 취약업무와 발생 빈도가 높은 사고의 위험을 가려내어 부정을 미연에 방지하고 부정 비리제거 및 회계질서 확립 및 자체 통제 전시정의 기풍을 조성하기 위하여 지난 11월 26일부터 12월 7일까지 7일간에 걸쳐 감사를 실시하였습니다. 금번 실시한 행정사무감사는 그 어느 때보다 위원님들의 다양하고도 구체적인 감사자료 요구와 분석 및 대안 강구를 위하여 많은 노력을 하셨으며 특히 지적을 위한 적발보다는 우리 완주군정 전반에 관하여 정책대안을 제시하는 등 많은 노력이 돋보이지 않았나 생각이 듭니다. 그러나 지난 '98년 10월 완주군 조직기구 개편이후 각 실과소장들의 인사이동으로 인하여 일부 간부 공무원은 아직도 자기 부서 업무에 관하여 파악이 제대로 안되어 퍽 아쉬웠으며 원만한 감사를 위하여 각 위원들께서 사전에 충분한 시간을 주어 감사자료를 집행기관에 요구하였음에도 불고하고 제때에 자료를 제출하지 않은 점은 앞으로 개선되어야할 형태라고 판단됩니다.\",\n",
       " \"제65회 전라북도 완주군의회 (정기회) 제6호 본 회 의 회 의 록 완주 다음은 의사일정 제4항 완주군 의회 구호 채택 안을 상정합니다. 먼저 제안이유를 말씀드리면 제3대 완주군의회가 출범함에 따라 군민의 대의기구로써의 위상을 정립하고 군민의 다양한 욕구를 수렴하여 군민과 함께 하는 미래 지향적인 의정활동의 의지를 상징하여 의회가 지향해야 할 실현성 있는 최고의 가치와 목표를 구호로 선정하여 대, 내외에 널리 표방하려는 것입니다. 구호는 '21세기 열린 의회 희망찬 새 완주'이며 구호의 의미는 군민의 의정 참여 확대를 통하여 주요시책 및 의정에 대한 다양한 여론을 수렴하여 의정에 반영함으로써 군정발전과 군민의 삶의 질 향상에 기여함으로써 군민의 기대에 부흥하겠다는 의지를 표명하고자 하는 것입니다.\",\n",
       " '제65회 전라북도 완주군의회 (정기회) 제6호 본 회 의 회 의 록 완주 다음은 의사일정 제5항 완주군 사회복지시설 운영 실태에 대한 행정사무조사 발의 안을 상정합니다. 발의 목적은 완주군에서 지원하고 있는 사회복지시설 중 일부시설에서 수용인원 및 환경시설이 사회적 물의가 야기되고 있어 이에 대한 진상규명과 실태를 정확히 파악하여 운영의 적정성을 확보하기 위함이며 완주군 사회복지시설의 운영실태조사 특별위원회를 구성하여 조사코자 합니다. 행정사무조사 발의이유는 수용인원, 운영실태 및 환경시설 등의 문제가 야기되고 있어 이에 대한 진상규명과 개선방안을 강구하고자 하는 것입니다.',\n",
       " '제65회 전라북도 완주군의회 (정기회) 제6호 본 회 의 회 의 록 완주 다음은 의사일정 제6항 완주군 사회복지시설의운영실태조특별위원회구성의 건을 상정합니다. 본 건은 완주군 사회복지시설 운영실태에 대한 행정사무조사를 실시하기 위하여 지방자치법 시행령 제17조 및 완주군의회 행정사무감사 및 조사에 관한 조례 제3조 제3항에 따라 조사특별위원회를 구성하여 조사하도록 하고자 하는데 의원 여러분 이의 없으십니까? (『없습니다』하는 의원 있음 ) 그러면 이의가 없으므로 완주군 사회복지시설의 운영실태조사 특별위원회 구성은 완주군의회 위원회 조례 제9조의 규정에 따라 이희창 의원, 안성근 의원, 소학영 의원, 함정구 의원, 이석환 의원, 홍의환 의원, 김영석 의원, 조정석 의원, 이진철 의원, 박용규 의원, 남대일 의원, 이상 열 한 분을 특위 위원으로 선임하고자 하는데 의원 여러분 이의 없으십니까? (『없습니다』하는 의원 있음 ) 이의가 없으므로 가결되었음을 선포합니다. 새해에는 의원 여러분의 가정과 임명환 군수님을 비롯하여 집행부 간부 여러분의 가정에도 행운이 함께 하시길 바라면서 회의를 모두 마치겠습니다.',\n",
       " '제117회 전라북도 완주군의회 (제2차 정례회) 제2호 본 회 의 회 의 록 완주 좌석을 정돈하여 주시기 바랍니다. 성원이 되었으므로 제117회 완주군의회 제2차 정례회 제2차 본회의 개의를 선포합니다. 먼저 의사담당으로부터 보고가 있겠습니다.',\n",
       " '제117회 전라북도 완주군의회 (제2차 정례회) 제2호 본 회 의 회 의 록 완주 의사일정 제1항 의사일정 변경의 건을 상정합니다. 본 건은 2004년 12월 1일 제1차 본 회의 시 의결한 바 있는 의사일정 중 2004년도제2회추가경정세입세출예산안이 회기중에 제출되어 금일 제2차 본회의에서 제안설명을 듣고자 하며, 의사일정 중 당초 12월 20일 제3차 본회의를 예산결산특별위원회 활동으로 12월 21일 제4차 본회의를 제3차 본회의로 각각 의사일정을 변경하고자 합니다. 의원 여러분 이의 없으십니까? (『없습니다』하는 의원 있음) 이의가 없으므로 가결되었음을 선포합니다.',\n",
       " '제117회 전라북도 완주군의회 (제2차 정례회) 제2호 본 회 의 회 의 록 완주 다음은 의사일정 제2항 2004년도제2회추가경정세입세출예산안을 상정합니다. 본 건에 대하여 기획감사실장님 나오셔서 제안설명 하여 주시기 바랍니다. 2004년도 제2회 추경예산안은 지방교부세와 지방양여금 조정, 특별교부세 사업 및 국도비 보조사업의 정리등에 중점을 두고 편성하였습니다.',\n",
       " '제117회 전라북도 완주군의회 (제2차 정례회) 제2호 본 회 의 회 의 록 완주 다음은 의사일정 제3항 2004년도공유재산관리계획변경계획승인안, 의사일정 제4항 완주군지역특화발전특구지정의견청취안 등 2건을 일괄 상정합니다. 완주군의회 자치행정위원회 위원장 이용칠 의원입니다. 제117회 완주군의회 제2차 정례회 기간중 완주군수로부터 제출된 2004년도공유재산관리계획승인안과 완주군지역특화발전특구지정의견청취안에 대한 예비 심사결과를 보고 드리겠습니다.',\n",
       " '제117회 전라북도 완주군의회 (제2차 정례회) 제2호 본 회 의 회 의 록 완주 다음은 의사일정 제5항 씨없는동상곶감특구의견청취안, 의사일정 제6항 포도주산업특구의견청취안 등 2건을 일괄 상정합니다. 완주군의회 산업·건설위원회 위원장 박웅배 의원입니다. 제117회 완주군의회 제2차 정례회 기간 중 집행부에서 제출한 산업·건설위원회 소관인 씨없는동상곶감특구지정신청의견청취안 등 2건의 의견청취안에 대한 예비심사 결과를 보고 드리겠습니다.',\n",
       " '제117회 전라북도 완주군의회 (제2차 정례회) 제2호 본 회 의 회 의 록 완주 다음은 의사일정 제7항 휴회의건을 상정합니다. 본 건은 상임위원회와 특별위원회 활동을 하기 위하여 12월 16일부터 12월 20일까지 5일간 본회의를 휴회하고자 하는데 의원 여러분 이의 없으십니까? (『없습니다』하는 의원 있음) 이의가 없으므로 가결되었음을 선포합니다. 오늘은 이것으로 산회를 선포합니다.',\n",
       " '｢청주시의회 위원회 조례｣ 제8조제2항에 따라 특별위원회 위원장이 선임될 때까지는 위원 중 최다선 의원이, 최다선 의원이 2명 이상인 경우에는 그중 연장자가 임시위원장을 맡아 회의를 진행하도록 되어 있습니다. 개의하기에 앞서 오늘은 위원장과 부위원장 선임을 위한 첫 회의인 관계로 아직 의석 배정 협의가 되지 않아 의석은 편의상 위원장석을 기준으로 오른쪽부터 위원님들 성명이 가나다순으로 배정되었으니 양해해 주시기 바랍니다. 성원이 되었으므로 제29회 청주시의회(임시회) 제1차 예산결산특별위원회 개의를 선포합니다.',\n",
       " '의사일정 제1항 예산결산특별위원회 위원장 선임의 건을 상정합니다. 특별위원회 위원장은 ｢청주시의회 위원회 조례｣ 제8조제1항에 따라 위원회에서 호선하여 본회의에 보고하게 되어 있습니다. 이의가 없으므로 전규식 위원이 위원장으로 선임된 것을 선포합니다.',\n",
       " '청주시의회 회의록 >제29회 제1호 예산결산특별위원회(2017.09.07 목요일) 청주 의사일정 제2항 예산결산특별위원회 부위원장 선임의 건을 상정합니다. 부위원장 후보로는 김성택 위원을 추천드리겠습니다. 앞으로 우리 위원회가 원활하고 내실 있게 운영될 수 있도록 여러 위원님들의 많은 협조를 부탁드리며 오늘 회의를 마치겠습니다.',\n",
       " '제114회 전라북도 완주군의회 (임시회) 제1호 본 회 의 회 의 록 완주 좌석을 정돈하여 주시기 바랍니다. 성원이 되었으므로 제114회 완주군의회 임시회 제1차 본회의 개의를 선포합니다. 먼저 의사담당으로부터 보고가 있겠습니다.',\n",
       " '제114회 전라북도 완주군의회 (임시회) 제1호 본 회 의 회 의 록 완주 의사일정 제1항 제114회 완주군의회임시회회기결정의건을 상정합니다. 제114회 완주군의회임시회회기결정의건에 대하여는 운영위원회 남준우 위원장 외 4인이 발의한대로 9월 14일부터 9월 23일까지 10일간으로 결정하고자 합니다. 의원 여러분 이의 없으십니까? (『없습니다』하는 의원 있음) 이의가 없으므로 가결되었음을 선포합니다.',\n",
       " '제114회 전라북도 완주군의회 (임시회) 제1호 본 회 의 회 의 록 완주 다음은 의사일정 제2항 군수및관계공무원출석요구의건을 상정합니다. 본 안건은 군정에 관한 질문과 집행부의 답변을 통하여 군정을 정확히 파악하고 군민을 대변하여 군민의 의사를 군정에 반영시키고자 지방자치법 제37조 제2항 및 완주군의회 회의규칙 제66조 제1항의 규정에 의하여 완주군수 및 관계공무원 본회의 출석을 요구하는 것입니다. 그러면 군수및관계공무원출석요구의건에 대하여 의원 여러분 이의 없으십니까? (『없습니다』하는 의원 있음) 이의가 없으므로 가결되었음을 선포합니다.',\n",
       " '제114회 전라북도 완주군의회 (임시회) 제1호 본 회 의 회 의 록 완주 다음은 의사일정 제3항 휴회의건을 상정합니다. 본 건은 상임위원회 활동을 하기 위하여 9월 15일부터 9월 20일까지 6일간 본 회의를 휴회하고자 하는데 의원 여러분 이의 없으십니까? (『없습니다』하는 의원 있음) 이의가 없으므로 가결되었음을 선포합니다. 이상으로 제1차 본회의를 마치고 제2차 본회의는 9월 21일 오전 10시에 개의하겠습니다.',\n",
       " '제114회 전라북도 완주군의회 (임시회) 제1호 본 회 의 회 의 록 완주 다음은 지방자치법 제64조제2항과 회의규칙 제46조제1항의 규정에 의하여 제114회 완주군의회 임시회 회의록에 서명하실 의원님을 선임하고자 합니다. 이번 임시회 회의록에 서명하실 의원님은 박웅배 의원님과 김순길 의원님을 선임하고자 하는데 의원 여러분 이의 없으십니까? (『없습니다』하는 의원 있음) 그러면 두분 의원님이 회의록 서명의원으로 선임되었음을 선포합니다. 이상으로 제1차 본회의를 마치고 제2차 본회의는 9월 21일 오전 10시에 개의하겠습니다.',\n",
       " '제236회 완주군의회(임시회) 제1차 본 회 의 회 의 록 완주 의석을 정돈하여 주시기 바랍니다. 성원이 되었으므로 제236회 완주군의회 임시회 제1차 본회의 개의를 선포합니다. 먼저 의사팀장님으로부터 의회 관련 사항에 대한 보고가 있겠습니다.',\n",
       " '제236회 완주군의회(임시회) 제1차 본 회 의 회 의 록 완주 그럼, 의사일정 제1항 제236회 완주군의회 임시회 회기 결정의 건을 상정합니다. 제236회 완주군의회 임시회 회기는 운영위원회 협의 및 의원 간담회를 통해 협의해주신 대로 12월 26일부터 12월 28일까지 3일간으로 회기를 결정하고자 합니다. 의원 여러분 이의 있으십니까? (“없습니다” 하는 의원 있음) 이의가 없으므로 가결되었음을 선포합니다.',\n",
       " '제236회 완주군의회(임시회) 제1차 본 회 의 회 의 록 완주 의사일정 제2항 제236회 완주군의회 임시회 회의록 서명의원 선출의 건을 상정합니다. 회의록 서명의원으로 윤수봉 의원님과 유의식 의원님을 선출하고자 하는데 의원 여러분 이의 있습니까? (“없습니다” 하는 의원 있음) 이의가 없으므로 가결되었음을 선포합니다. 그럼 두 분 의원님들께서는 본 회기동안 수고하여 주시기 바랍니다.',\n",
       " '제236회 완주군의회(임시회) 제1차 본 회 의 회 의 록 완주 의사일정 제3항 완주군 민간위탁기관 전반에 관한 행정사무조사특별위원회 중간보고 및 활동기간 연장의 건을 상정합니다. 완주군이 위탁하여 추진하고 있는 민간위탁기관 전반에 대하여 운영 실태 및 문제점을 파악하여 개선책을 마련하고자 지난 10월 26일 제234회 임시회에서 특별위원회가 구성된 이후 10월 29일부터 아홉 차례의 회의를 통해 자료 수집 및 분석, 현지 방문, 그리고 민간위탁기관 센터장 및 관계 공무원을 증인으로 출석시켜서 민간위탁기관 전반에 대한 조사 활동을 전개해 왔습니다. 하지만 특위에서 검토한 결과, 완주군 사무의 민간위탁 관리에 관한 조례 제7조의 민간위탁기관 적격심사위원회 위원 구성 등 기준이 불명확하고 일부 위탁기관의 지출 증빙 서류 미첨부, 기관별 시간외수당과 출장 여비 등 직원 보수에 대한 지급 기준이 상이하고 민간위탁기관에 대한 지도·감독 소홀 등의 문제점이 발견되어서 사실 관계에 대한 충분한 자료 검토와 효율적이고 다각적인 조사가 필요하다고 사료됩니다. 따라서 당초 12월 31일까지로 본회의 승인을 얻었던 행정사무조사 활동기간을 2019년 2월 28일까지 두 달간 연장하고자 합니다.',\n",
       " '제236회 완주군의회(임시회) 제1차 본 회 의 회 의 록 완주 다음은 의사일정 제4항 완주군 폐기물 매립장에 관한 행정사무조사 발의, 의사일정 제5항 완주군 폐기물 매립장에 관한 행정사무조사특별위원회 구성 결의안, 2건을 일괄 상정합니다. 본 건에 대하여 대표 발의하신 서남용 의원님 나오셔서 일괄 제안설명 해주시기 바랍니다. 행정사무조사 발의 사유는 완주 테크노밸리 제2일반산업단지 폐기물 매립장 설치와 관련하여 입지 선정 과정에서의 주민 의견 수렴 여부 및 시설 용량과 폐기물 매립량의 적정성 등 문제점과 진상을 파악하고, 그린밸리 폐기물 매립장의 인허가 및 폐기물 처리 과정에 대한 행정의 지도·감독 등 실태 파악을 위해 지방자치법 제41조 및 같은법 시행령 제39조와 완주군의회 행정사무감사 및 조사에 관한 조례 제3조에 따라 행정사무조사를 실시하고자 합니다.',\n",
       " '제236회 완주군의회(임시회) 제1차 본 회 의 회 의 록 완주 다음은 의사일정 제6항 완주군 민간위탁기관 전반에 관한 행정사무조사특별위원회 위원 구성 변경 및 사임의 건을 상정합니다. 서남용 의원님 외 4명의 의원님으로부터 완주군 폐기물 매립장에 관한 행정사무조사가 발의되어 특별위원회가 구성됨에 따라 사안의 시급함을 고려해 현재 활동 중인 완주군 민간위탁기관 전반에 관한 행정사무조사특별위원회와 사전에 충분히 논의한 바와 같이 민간위탁기관에 대한 행정사무조사는 서류 검토 및 현장 조사 등 중요한 일정이 어느 정도 마무리됨에 따라 현행 10명의 위원으로 구성된 완주군 민간위탁기관 전반에 관한 행정사무조사특별위원회를 5명의 위원으로 축소 변경하며, 이에 따라 완주군 민간위탁기관 전반에 관한 행정사무조사특별위원회의 서남용 위원님, 임귀현 위원님, 김재천 위원님, 이인숙 위원님, 소완섭 위원님, 이상 다섯 분의 위원님을 위원직 사임에 대하여 허가하고자 하는데 의원 여러분 이의 있습니까? (“없습니다” 하는 의원 있음) 이의가 없으므로 가결되었음을 선포합니다.',\n",
       " '제236회 완주군의회(임시회) 제1차 본 회 의 회 의 록 완주 다음은 의사일정 제7항 완주군 폐기물 매립장에 관한 행정사무조사특별위원회 위원 선임의 건을 상정합니다. 특별위원회 위원 선임은 완주군의회 위원회 조례 제9조에 따라 의장이 추천하여 본회의 의결로 선임토록 되어있으므로 상임위원 중에서 위원을 호명하도록 하겠습니다. 완주군 폐기물 매립장에 관한 행정사무조사특별위원회에서는 완주군의회 위원회 조례 제8조 및 제11조에 따라 위원장 및 간사 호선 결과를 본회의에 보고하여 주시기 바랍니다.',\n",
       " '제236회 완주군의회(임시회) 제1차 본 회 의 회 의 록 완주 끝으로 의사일정 제8항 본회의 휴회의 건을 상정합니다. 특별위원회 의정활동 등을 위하여 12월 27일, 하루 본회의를 휴회하고자 하는데 의원 여러분 이의 있습니까? (“없습니다” 하는 의원 있음) 이의가 없으므로 가결되었음을 선포합니다. 다음 제2차 본회의는 12월 28일 오전 10시에 개의하겠습니다.',\n",
       " '성원이 되었으므로 지금부터 음성군의회 제291회 음성군의회 임시회 제1차 본회의를 개의하겠습니다. 2017년 6월 15일 제1차 본회의에서 의결하여 집행부로 이송한 음성군 행정기구 설치 조례 일부개정조례, 음성군 지방공무원 정원 조례 일부개정조례, 음성군 사무의 읍면 위임 조례 일부개정조례, 음성군 국내ㆍ외 교류 활성화 및 협력증진에 관한 조례 전부개정조례, 음성군 소셜미디어 관리 및 운영에 관한 조례, 음성군 군세 기본 조례 전부개정조례, 음성군 군세 징수 조례, 음성군 군세 감면 조례 전부개정조례, 음성군 금고지정 및 운영에 관한 조례 일부개정조례, 음성군 제증명 등 수수료 징수 조례 일부개정조례, 음성군 새마을주민소득지원기금 운영관리 조례 폐지조례, 음성군 자연휴양림 운영 관리 조례 전부개정조례, 음성군 공동주택 관리지원 조례 전부개정조례는 6월 26일자로 공포되었고, 음성군의회에 출석ㆍ답변할 수 있는 관계공무원의 범위에 관한 조례 일부개정조례안은 7월 5일자로 공포되었습니다. 6월 12일자로 김윤희 의원 외 2인의 의원으로부터 음성군 여성친화도시 조성에 관한 기본 조례안이 접수되었으며, 음성군수로부터는 7월 6일자로 음성군 안전관리민관협력위원회 구성 및 운영 조례안, 음성군 노인복지관 설치 및 운영 조례 일부개정조례안, 2017년도 수시분 공유재산 관리계획안이 접수되었고, 7월 7일자로 음성군 관광진흥 조례 일부개정조례안이 접수되어 오늘 임시회를 개최하게 되었습니다.',\n",
       " '제291회 본회의 제1차(2017.07.13.) 음성 의사일정 제1항, 제291회 음성군의회 임시회 회기결정의 건을 상정합니다. 제291회 음성군의회 임시회 회기는 「음성군의회 회기와 그 운영 등에 관한 조례」제3조제2항의 규정과 의원님들께서 사전에 협의하여 주신 대로 7월 13일 하루로 하고자 합니다. 그러면 배부하여 드린 유인물과 같이 의사일정을 결정하고자 하는데, 의원 여러분! 이의 없으십니까? (「없습니다」하는 의원 있음) 이의가 없으므로 가결되었음을 선포합니다.',\n",
       " '제291회 본회의 제1차(2017.07.13.) 음성 의사일정 제2항, 회의록 서명의원 선출의 건을 상정합니다. 제291회 임시회 회의록 서명의원으로는 사전에 양해하여 주신 대로 이상정 의원님, 조천희 부의장님을 선출하고자 하는데, 의원 여러분! 이의 없으십니까? (「없습니다」하는 의원 있음) 이의가 없으므로 이상정 의원님, 조천희 부의장님이 회의록 서명의원으로 선출되었음을 선포합니다. 두 분 의원님께서는 수고하여 주시기 바랍니다.',\n",
       " '제291회 본회의 제1차(2017.07.13.) 음성 의사일정 제3항, 음성군 여성친화도시 조성에 관한 기본 조례안을 상정합니다. 본 조례안에 대한 제정이유는 지역정책 발전과정에 양성이 평등하게 참여하고 여성이 지역 전반에 능동적으로 참여할 수 있도록 보장함으로써 여성의 성장과 안전을 구현하고자 제정하려는 것입니다. 여성친화도시 조성에 따른 근거 규정을 마련하고자 제정하려는 것으로 원안대로 심의ㆍ의결하여 주시기 바랍니다.',\n",
       " '제291회 본회의 제1차(2017.07.13.) 음성 의사일정 제4항, 음성군 안전관리민관협력위원회 구성 및 운영 조례안을 상정합니다. 안전총괄과에서 제출한 의안번호 제316호, 음성군 안전관리민관협력위원회 구성 및 운영 조례안에 대해서 설명드리겠습니다. 음성군 안전관리민관협력위원회 구성 및 운영을 위해 본 조례를 제정하는 것으로 원안대로 심의ㆍ의결하여 주시기 바랍니다.',\n",
       " '제291회 본회의 제1차(2017.07.13.) 음성 의사일정 제5항, 음성군 노인복지관 설치 및 운영 조례 일부개정조례안을 상정합니다. 개정이유는 조례 조문 중 불합리한 내용을 정비하여 현실에 맞게 일부 개정하고 「사회복지사업법 시행규칙」 개정으로 사회복지시설 위탁기간이 5년으로 확대됨에 따라 상위법령 개정사항을 반영하고자 하는 것입니다. 음성군 노인복지관을 운영함에 있어 이용자의 편의 등 제공을 위한 근거를 마련하고, 사회복지시설 위탁기간을 5년으로 확대함에 따라 상위법령 개정사항을 반영하기 위해 본 조례를 개정하고자 하는 것으로 원안대로 심의ㆍ의결하여 주시기 바랍니다.',\n",
       " '제291회 본회의 제1차(2017.07.13.) 음성 의사일정 제6항, 음성군 관광진흥 조례 일부개정조례안을 상정합니다. 개정이유는 「관광진흥법 시행령」이 개정되어서 도시지역의 경우 조례로 정하는 30% 이하의 비율만큼 휴양콘도미니엄의 미취사 객실을 허용하도록 휴양콘도미니엄업의 등록기준을 완화함에 따라 상위법령 개정사항 반영입니다. 상위법령 개정사항을 반영하기 위해서 본 조례를 개정하는 것으로 원안대로 심의ㆍ의결하여 주시기 바랍니다.',\n",
       " '제291회 본회의 제1차(2017.07.13.) 음성 의사일정 제7항, 2017년도 수시분 공유재산 관리계획안을 상정합니다. 설명드릴 안건은 2건으로 첫째, 미래전략담당관 소관 오감만족 새싹들의 체험교육 사업 공유재산 취득 계획안, 두 번째 안건으로 환경위생과 소관 비점오염 저감사업 추진에 따른 공유재산 취득(변경) 계획안입니다. 제안사유는 음성ㆍ진천ㆍ괴산ㆍ증평 등 중부4군이 미래세대의 주역인 유아들에게 오감만족 체험교육장 조성 및 프로그램을 개발하여 유아의 신체, 정서, 사회성, 언어 및 인지발달을 도모할 수 있는 체험공간을 조성코자 함입니다.',\n",
       " '성원이 되었으므로 제160회 완주군의회 임시회 제1차 본회의 개의를 선포합니다. 2010년 3월 22일 운영위원회 이재만 위원장 외 네분 의원으로부터 임시회 집회요구가 있어 지방자치법 제45조 제2항의 규정에 의하여 3월 30일 집회공고를 하고 오늘 제160회 임시회를 개회하게 되었습니다. 다음은 의안 접수 및 회부사항을 보고 드리겠습니다.',\n",
       " '제160회 전라북도 완주군의회(임시회) 제1호 본 회 의 회 의 록 완주 의사일정 제1항, 제160회 완주군의회 임시회 회기 결정의 건을 상정합니다. 제160회 완주군의회 임시회 회기 결정의 건에 대해서는 운영위원회 이재만 위원장 외 4인이 발의 한대로 4월 6일부터 4월 8일까지 3일간으로 결정하고자 합니다. 의원 여러분 이의 있으십니까? (『없습니다』하는 의원 있음) 이의가 없으므로 가결되었음을 선포합니다.',\n",
       " '제160회 전라북도 완주군의회(임시회) 제1호 본 회 의 회 의 록 완주 의사일정 제2항, 2009회계연도 세입 세출 결산검사위원 선임의 건을 상정합니다. 본 건은 지방자치법 제134조 및 시행령 제83조와 완주군 결산검사 위원 선임 및 운영에 관한 조례 제2조 및 제3조의 규정에 의하여 3인 이상 5인 이하의 위원을 의장이 추천하여 의회에서 선임하도록 되어있습니다. 본 안건에 대해서는 의석에 배부해 드린 자료와 같이 대표위원으로 이재만 의원님과, 전직 행정공무원으로 경리 세입세출 분야에 다년간 경력을 가진 최재경씨, 최산천씨, 서원철씨, 노한씨 등 다섯 분을 선임하고자 하는데 의원 여러분 이의 있으십니까? (『없습니다』하는 의원 있음) 이의가 없으므로 방금 호명한 다섯 분을 결산검사 위원으로 선임되었음을 선포합니다.',\n",
       " '제160회 전라북도 완주군의회(임시회) 제1호 본 회 의 회 의 록 완주 다음은 의사일정 제3항, 휴회의 건을 상정합니다. 본 건은 상임위원회 활동을 하기 위하여 4월 7일 1일간 본 회의를 휴회하고자 하는데 의원 여러분 이의 있으십니까? (『없습니다』하는 의원 있음) 이의가 없으므로 가결되었음을 선포합니다. 이상으로 제1차 본 회의를 마치고 제2차 본 회의는 4월 8일 오전 10시에 개의하겠습니다.',\n",
       " '제160회 전라북도 완주군의회(임시회) 제1호 본 회 의 회 의 록 완주 다음은 지방자치법 제72조 제2항과 회의규칙 제46조 제1항의 규정에 의하여 제160회 완주군의회 임시회 회의록에 서명하실 의원님을 선임하고자 합니다. 이번 임시회 회의록에 서명하실 의원님은 박웅배 의원님과 박종관 의원님을 선임하고자 하는데 의원 여러분 이의 있으십니까? (『없습니다』하는 의원 있음) 그러면 두 분 의원님이 회의록 서명의원으로 선임되었음을 선포합니다. 이상으로 제1차 본 회의를 마치고 제2차 본 회의는 4월 8일 오전 10시에 개의하겠습니다.',\n",
       " '제105회 본회의 제1차(2001.04.10.) 음성 의석을 정돈하여 주시기 바랍니다. 성원이 되었으므로 지금부터 제105회 음성군의회 임시회 제1차 본회의를 개의하겠습니다. 먼저 의사과장으로부터 보고가 있겠습니다.',\n",
       " '제105회 본회의 제1차(2001.04.10.) 음성 의사일정 제1항 제105회 음성군의회임시회회기결정의건을 상정합니다. 제105회 음성군의회 임시회 회기는 여러 의원님들이 사전에 양해하여 주신 것과 같이 4월 10일부터 4월 13일까지 4일간으로 하고자 합니다. 그리고 배부하여 드린 유인물과 같이 의사일정을 결정하고자 하는데 의원 여러분! 이의 없으십니까? (「없습니다」하는 의원 있음) 이의가 없으므로 가결되었음을 선포합니다.',\n",
       " '제105회 본회의 제1차(2001.04.10.) 음성 의사일정 제2항 회의록서명의원선출의건을 상정합니다. 제105회 임시회 회의록 서명 의원으로는 여러 의원님들이 사전에 양해하여 주신대로 진의장 의원님, 김천봉 의원님을 선출하고자 하는데 의원 여러분! 이의 없으십니까? (「없습니다」하는 의원 있음) 이의가 없으므로 진의장 의원님, 김천봉 의원님이 회의록 서명 의원으로 선출되었음을 선포합니다. 두 분 의원님께서는 수고하여 주시기 바랍니다.',\n",
       " '제105회 본회의 제1차(2001.04.10.) 음성 의사일정 제3항 음성군공인조례개정조례안을 상정합니다. 음성군공인조례개정조례안에 대하여 제안설명 올리겠습니다. 개정이유는 지난 2월 14일 사무관리 규정에 따른 전자 이미지 공인 등록, 관리규정 신설 등 현실에 맞게 공인 조례를 정비하여 공인을 효율적으로 관리코자 합니다.',\n",
       " '제105회 임시회를 맞이하여 2000년도 이월및계속비사업현지확인특별위원회구성결의안에 대하여 제안설명을 드리겠습니다. 먼저, 주문으로 2000년도 이월 및 계속비 사업에 대한 현지확인을 통하여 사업의 완벽한 시공을 도모하고 사업추진 실태와 문제점을 파악하여 부실공사의 근원적 예방과 성실한 공사문화를 확립해 나가고자 합니다. 제안이유로는 2000년도 예산 편성된 사업으로 완공이 되지 않고 이월된 사업과 연차적인 계속비 사업에 대하여 직접 현장을 방문하여 사업 추진상의 문제점을 도출하여 군정에 반영함은 물론, 설계에 의한 정확한 시공을 촉진하여 내실 있고 견실한 공사로 사업의 성과를 높이고자 제안하게 되었습니다.',\n",
       " '지난 제104회 임시회 회기 내에 실시한 선진 시·군 비교 견학 결과에 대하여 김천봉 의원님 나오셔서 보고하여 주시기 바랍니다. 지난 104회 임시회 기간중인 3월 12일부터 3월 16일까지 5일간 실시한 선진시·군 비교 견학 결과를 보고 드리겠습니다. 희망찬 21세기를 맞아 우리 지역의 현안 문제 해결을 위해 제104회 임시회 기간 중 실시한 선진 시·군 비교 견학 결과 우리 지역에 접목시킬 수 있는 우수사례를 지역 특성과 실정에 맞게 보완하여 접목시키고, 잘못된 사례는 문제점을 도출하여 이를 반성의 거울로 삼아 유사한 사업을 시행시 면밀히 분석하여 사업을 추진해야 할 것입니다.',\n",
       " '그리고 2000년도 이월 및 계속비 사업 현지확인 특별위원회 활동과 관련하여 본 회의가 끝나는 대로 소회의실에서 특별위원회 회의를 개최하오니 참고하여 주시기 바랍니다. 별다른 의견이 없으시면 제105회 제1차 본회의를 마치고자 합니다. 별다른 의견이 없으십니까? (「없습니다」하는 의원 있음) 산회를 선포합니다.(10시 32분 산회)',\n",
       " '제61회 본회의 제1차(1996.11.25.) 음성 의석을 정돈하여 주시기 바랍니다. 성원이 되었으므로 지금부터 제61회 음성군의회 정기회 제1차 본회의를 개의 하겠습니다. 먼저 의사과장으로부터 보고가 있겠습니다.',\n",
       " '제61회 본회의 제1차(1996.11.25.) 음성 의사일정 제1항 제61회 음성군의회정기회회기결정의건을 상정합니다. 제61회 음성군의회 정기회는 지방자치법 제38조 및 제41조 제2항의 규정에 의하여 11월25일부터 12월 24일까지 30일간으로 하고 배부하여 드린 유인물과 같이 의사일정으로 결하고자 하는데 의원여러분! 이의 없으십니까? (「없습니다」하는 의원 있음) 이의가 없으므로 가결되었음을 선포합니다.',\n",
       " '제61회 본회의 제1차(1996.11.25.) 음성 의사일정 제2항 회의록서명의원선출의건을 상정합니다. 의원님들께서 사전 양해하여 주신대로 금번정기회 회의록 서명의원으로는 김천봉 의원님,최관식 의원님을 선출하고자 하는데 이의 없으십니까? (「없습니다」하는 의원 있음) 이의가 없으므로 회의록 서명의원으로는 김천봉 의원님과 최관식 의원님이 선출되었음을 선포합니다. 두 분 의원님께서는 수고하여 주시기 바랍니다.',\n",
       " '제61회 본회의 제1차(1996.11.25.) 음성 의사일정 제4항 행정사무감사특별위원회구성결의안을 상정합니다. 지방자치법 제36조 및 음성군의회 행정사무감사 및 조사에 관한 조례 제2조 제1항 및 제2항의 규정에 의하면 행정사무감사는 매년 정기회 기간 중 7일이내로 감사특별위원회가 감사계획서를 작성하여 본회의 승인을 얻어 확정된 감사계획서에 의하여 행정사무감사를 실시하는 것으로 규정 하고 있습니다. 또한 의원님들께서 여덟 분으로 특별위원회를 구성하는 것으로 의견이 모아졌습니다.',\n",
       " '제61회 본회의 제1차(1996.11.25.) 음성 의사일정 제5항 예산결산 특별위원회 구성 결의안을 상정합니다. 특별위원회 의원은 여덟 분의 의원으로 구성하도록 협의된바 사회자인 본인이 특별위원회 의원을 지명하겠습니다. 그리고 특별위원회 운영기간은 본 정기회 기간 중 의사일정에 따라 ‘95년도 세입·세출 결산심사와 ‘97년도 예산심의 및 ‘96년도 제3회 추가경정 예산을 심의하고자 합니다.',\n",
       " '따라서 행정사무감사 특별위원회 회의는 내일 오전 10시에 소회의실에서 개의하고자 하며 제2차 본회의는 행정사무감사 계획서 승인을 위해 11월 27일 오전 10시에 개의하겠습니다. 별다른 의견이 없으시면 오늘 회의를 모두 마치도록 하겠습니다. 산회를 선포합니다. (10시56분 산회)',\n",
       " '성원이 되었으므로 지금부터 제218회 음성군의회 임시회 제1차 본회의를 개의하겠습니다. 먼저 의회사무과장으로부터 보고가 있겠습니다. 10월 6일부터 10월 8일까지 우수시ㆍ군 비교견학을 하기 위하여 오늘 임시회를 개최하게 되었습니다.',\n",
       " '제218회 본회의 제1차(2010.10.05.) 음성 의사일정 제1항, 음성군의회 제218회 임시회 회기결정의 건을 상정합니다. 음성군의회 제218회 임시회 회기는 「음성군의회 회기와 그 운영 등에 관한 조례」제3조제2항의 규정과 의원님들께서 사전에 협의하여 주신 바와 같이 10월 5일부터 10월 8일까지 4일간 하고자 합니다. 그리고 이번 임시회 주요의사일정은 현재 음성군 현안사업에 대한 비교견학을 실시하고자 합니다.',\n",
       " '제218회 본회의 제1차(2010.10.05.) 음성 의사일정 제2항, 회의록 서명의원 선출의 건을 상정합니다. 제218회 임시회 회의록 서명의원으로는 의원님들이 사전에 양해하여 주신대로 조천희 의원님, 손달섭 의원님을 선출하고자 하는데, 의원 여러분! 이의가 없으십니까? (「없습니다」하는 의원 있음) 이의가 없으므로 조천희 의원님, 손달섭 의원님이 회의록 서명의원으로 선출되었음을 선포합니다. 두 분 의원님께서는 수고하여 주시기 바랍니다.',\n",
       " '제218회 임시회 제1차 본회의를 맞이하여 타 자치단체의 시설을 비교견학하고 우수시책을 발굴하여 음성군 현안 사업에 반영하고자 본 계획안을 발의하여 제안하게 되었습니다. 먼저, 추진방향은 현재 음성군에서 추진하고 있는 현안사업을 우선 비교견학하고 우수시설에서 시행하고 있는 정책을 벤치마킹하여 음성군의 경쟁력을 강화하고자 합니다. 아무쪼록 본 계획안을 의원 여러분께서 만장일치로 의결하여 주시길 당부 드리며, 우수 시ㆍ군 비교견학 계획안에 대한 제안설명을 마치도록 하겠습니다.',\n",
       " '제218회 임시회 휴회의 건은 금번 회기 중 우수 시ㆍ군 비교견학을 하고자 하는 것으로 휴회의 건은 의사일정으로 갈음하고자 합니다. 그리고 본회의 종료 후 특별위원회 회의를 개의하고자 하오니 참고하여 주시기 바랍니다. 별다른 의견이 없으시면 음성군의회 제218회 임시회 제1차 본회의를 모두 마치고자 합니다.',\n",
       " '제102회 본회의 제1차(2000.12.01.) 음성 의석을 정돈하여 주시기 바랍니다. 성원이 되었으므로 지금부터 제102회 음성군의회 제2차 정례회 제1차 본회의를 개의하겠습니다. 먼저 의사과장으로부터 보고가 있겠습니다.',\n",
       " '제102회 본회의 제1차(2000.12.01.) 음성 의사일정 제1항 제102회 음성군의회제2차정례회회기결정의건을 상정합니다. 제102회 음성군의회 제2차 정례회 회기는 음성군의회정례회의운영에관한조례 제4조 제2항의 규정에 의하여 12월 1일부터 12월 25일까지 25일간으로 하고자 합니다. 그리고 배부하여 드린 유인물과 같이 의사일정을 결정하고자 하는데 의원 여러분, 이의가 없으십니까? (「없습니다」하는 의원 있음) 이의가 없으므로 가결되었음을 선포합니다.',\n",
       " '제102회 본회의 제1차(2000.12.01.) 음성 의사일정 제2항 회의록서명의원선출의건을 상정합니다. 제102회 제2차 정례회 회의록 서명 의원으로는 여러 의원님들이 사전에 양해하여 주신대로 고재협 의원님, 김성채 의원님을 선출하고자 하는데 의원 여러분, 이의 없으십니까? (「없습니다」하는 의원 있음) 이의가 없으므로 고재협 의원님, 김성채 의원님이 회의록 서명의원으로 선출되었음을 선포합니다. 두 분 의원님께서는 수고하여 주시기 바랍니다.',\n",
       " '제102회 본회의 제1차(2000.12.01.) 음성 의사일정 제4항 행정사무감사특별위원회구성안을 상정합니다. 지방자치법 제36조 및 음성군의회행정사무감사및조사에관한조례제2조제1항 및 제2항의 규정에 의거 행정사무감사는 매년 제2차 정례회 기간 중 7일 이내로 감사특별위원회를 구성하여 협의된 감사계획서를 작성, 본회의의 승인을 얻어 행정사무감사를 실시하는 것으로 규정되어 있습니다. 따라서 동 조례 규정에 의하여 구성하게 될 2000년도 행정사무감사특별위원회 구성은 의원 여러분들께서 저에게 위임하여 주신 사항으로 여덟 명의 의원으로 특별위원회를 구성하고자 합니다.',\n",
       " '제102회 본회의 제1차(2000.12.01.) 음성 의사일정 5항 예산결산특별위원회 구성결의안을 상정합니다. 예산결산특별위원회 구성은 저에게 위임하여 주신 사항으로 여덟 명의 위원으로 구성하도록 협의된바 사회자인 제가 특별위원회 위원을 지명하겠습니다. 예산결산특별위원회 위원으로는 최관식 의원님, 남궁 유 의원님, 김우식 의원님, 고재협 의원님, 김성채 의원님, 진의장 의원님, 이준구 의원님, 김천봉 의원님으로 구성하고자 합니다.',\n",
       " '오늘 제102회 제2차 정례회를 맞아 본 건의안을 동료의원과 함께 발의하여 제안설명을 드리게 된 것을 매우 뜻 깊게 생각합니다. 농가부채 해결을 위한 건의안을 채택하여 대통령, 기획예산처 장관, 농림부장관, 국회 의장, 새천년민주당 대표, 한나라당 총재, 자유민주연합 총재권한대행에게 건의하고자 합니다. 방금 제안설명을 들으신 바와 같이 본 건의문을 채택하여 관계기관에 건의하고자 하는데 의원 여러분! 이의가 없으십니까? (「없습니다」하는 의원 있음) 이의가 없으므로 본 건의문은 채택되었음을 선포합니다.',\n",
       " '제102회 본회의 제1차(2000.12.01.) 음성 의사일정 제7항 제102회 음성군의회 제2차 정례회 휴회의 건은 방금 의결한 행정사무감사 특별위원회 활동을 위해서 12월 2일 본 회의를 휴회하여 감사계획서 작성 등 위원회 활동을 하고자 합니다. 따라서 본회의 휴회의 건은 의사일정으로 갈음하겠으니 의원님들 양해하여 주시기 바랍니다. 그리고 특별위원회 활동과 관련하여 내일 오전 10시에 소회의실에서 특별위원회 회의를 개최하오니 참고하여 주시기 바랍니다.',\n",
       " '성원이 되었으므로 지금부터 음성군의회 제263회 제2차 정례회 제2차 본회의를 개의하겠습니다. 먼저 사무과장으로부터 보고가 있겠습니다. 조천희 의원 외 2인 의원으로부터 2014년 11월 17일자로 음성군 장애인복지관 설치 및 운영 조례안이 접수되었으며, 음성군수로부터는 12월 1일자로 음성군 수입증지조례 전부개정조례안, 음성군 식품진흥기금 운용 조례 일부개정조례안이, 12월 4일자로는 2014년도 제3차 수시분 공유재산 관리계획안, 2015년도 정기분 공유재산 관리계획안이 각각 접수되었습니다.',\n",
       " '제263회 본회의 제2차(2014.12.05.) 음성 의사일정 제1항, 음성군 장애인복지관 설치 및 운영 조례안을 상정합니다. 먼저 본 조례안의 제정이유는 음성군 장애인의 지역사회 생활에 필요한 종합적인 재활서비스 제공사업과 장애인 복지증진을 위하여 「장애인복지법」제59조에 따라 설치한 장애인복지관의 운영에 관한 사항을 규정하기 위함입니다. 본 조례안은 장애인의 종합적인 재활서비스 제공사업과 장애인 복지증진을 위하여 장애인복지관의 운영에 관한 사항을 규정하고자 하는 것으로 사전 의원간담회에서 의견을 수렴하여 제정하고자 하는 것이니 원안대로 심의ㆍ의결하여 주시기 바랍니다.',\n",
       " '재무과장께서는 나오셔서 3건의 안건에 대해서 일괄 제안설명해주시기 바랍니다. 국민권익위원회의 공공기관의 수입증지 등 각종 수수료 납부제도 개선 권고와 행정자치부의 민원 수수료의 종이수입증지 사용 폐지 방안이 시달됨에 따라서 종이수입증지 납부제도를 폐지하고 전자수입증지 형태로 전환하기 위해서 관련 조례를 개정하고자 하는 것입니다. 종이수입증지의 폐지에 따라서 본 조례를 개정하고자 하는 것으로 원안대로 심의ㆍ의결하여 주시기 바랍니다.',\n",
       " '제263회 본회의 제2차(2014.12.05.) 음성 의사일정 제5항, 음성군 식품진흥기금 운용 조례 일부개정조례안을 상정합니다. 법령용어를 순화하여 정비하고, 조례에 명기된 직능단체 명칭의 변경된 사항을 반영하는 한편 식품진흥기금심의위원회의 심의로 확정된 운용 계획에 따라 사용하는 기금에 대하여 기금을 사용할 때마다 다시 심의를 하게 하는 불합리한 근거 조문을 삭제하여 효과적이고 능률적으로 업무를 추진하고자 하는 데 있습니다. 안 제4조제3호에 기금의 사용용도를 추가하였고, 안 제5조에는 조문 제목을 변경하였으며, 안 제5조제3항에는 직능단체의 변경된 명칭을 반영하였습니다.',\n",
       " '휴회의 건은 이번 회기 중 내년도 본예산 심사를 위하여 예산결산특별위원회를 운영하고자 12월 8일부터 12월 15일까지 휴회하고자 하는데, 의원 여러분! 이의 없으십니까? (「없습니다」하는 의원 있음) 이의가 없으므로 가결되었음을 선포합니다. 3차 본회의는 12월 16일 오전 10시에 개의하겠습니다. 다른 의견이 없으시면 음성군의회 제263회 제2차 정례회 제2차 본회의를 모두 마치고자 합니다.',\n",
       " '성원이 되었으므로 제243회 완주군의회 임시회 제1차 본회의 개의를 선포합니다. 먼저 의사팀장으로부터 의회 관련 사항에 대한 보고가 있겠습니다. 완주군 행정기구 설치 조례 일부개정 조례안 등 조례안 4건, 2019년도 2차 수시분 공유재산관리계획안, 까만콩 카페 공유재산 사용료 감면 동의안, 도시재생(삼례, 용진읍) 활성화계획안 의견 청취의 건, 이상 총 7건이 제출되어 해당 상임위원회로 회부하였습니다.',\n",
       " '제243회 완주군의회(임시회) 제1차 본 회 의 회 의 록 완주 다음은 의사일정 제1항 제243회 완주군의회 임시회 회기 결정의 건을 상정합니다. 제243회 완주군의회 임시회 회기는 운영위원회 협의 및 의원 간담회를 통해 협의해주신 대로 7월 16일부터 7월 25일까지 10일간으로 회기를 결정하고자 합니다. 의원 여러분 이의 있습니까? (“없습니다” 하는 의원 있음) 이의가 없으므로 가결되었음을 선포합니다.',\n",
       " '제243회 완주군의회(임시회) 제1차 본 회 의 회 의 록 완주 다음은 의사일정 제2항 제243회 완주군의회 임시회 회의록 서명의원 선출의 건을 상정합니다. 회의록 서명의원으로 이인숙 의원님과 소완섭 의원님을 선출하고자 하는데 의원 여러분 이의 있습니까? (“없습니다” 하는 의원 있음) 이의가 없으므로 가결되었음을 선포합니다. 그럼 두 분 의원님들께서는 본 회기동안 수고하여 주시기 바랍니다.',\n",
       " '제243회 완주군의회 임시회 기간 중 완주군수 및 관계 공무원 출석 요구의 건에 대한 제안 설명을 드리겠습니다. 본 안건은 지방자치법 제42조제2항 및 완주군의회 회의규칙 제66조 규정에 따른 것으로 이번 임시회 기간 중 실시되는 군정질문에 대한 집행부 측의 책임있는 답변을 듣고자 오는 7월 17일 제2차 본회의에 완주군수 등 관계 공무원의 출석을 요구하는 것입니다. 군정질문은 집행부가 추진중인 주요 현안사업 등에 관한 질문으로, 본 의원은 금번 회기에 완주군 폐기물 매립장 운용에 관한 의혹을 해소하고 실태와 경위를 파악하기 위한 내용으로 군정질문을 하고자 합니다.',\n",
       " '성원이 되었으므로 지금부터 제204회 음성군의회 제1차 정례회 제1차 본회의를 개의하겠습니다. 먼저 의회사무과장으로부터 보고가 있겠습니다. 다음은 제204회 제1차 정례회 제1차 본회의와 관련하여 보고 드리겠습니다. 「지방자치법」제44조에 의거 정례회를 개최하고자 6월 16일자로 집회공고를 하였으며, 지난 5월 27일 이월사업 현지확인 특별위원회에서는 위원장에는 최임순 의원님이, 간사에는 윤창규 의원님이 선임되었습니다.',\n",
       " '제204회 본회의 제1차(2009.06.22.) 음성 의사일정 제1항, 제204회 음성군의회 제1차 정례회 회기결정의 건을 상정합니다. 제204회 음성군의회 제1차 정례회 회기는 「음성군 의회 회기와 그 운영 등에 관한 조례」제3조제1항의 규정 및 의원님들께서 사전에 협의하여 주신 바와 같이 6월 22일부터 6월 30일까지 9일 동안으로 하고자 합니다. 그리고 이번 정례회 주요의사일정은 군정에 대한 질문과 답변, 그리고 2008 예비비 지출, 2008회계 세입ㆍ세출 결산, 2009년도 하반기 주요업무계획 등을 보고받고자 하는 것입니다.',\n",
       " '제204회 본회의 제1차(2009.06.22.) 음성 의사일정 제2항, 회의록 서명의원 선출의 건을 상정합니다. 제204회 제1차 정례회 회의록 서명의원으로는 의원님들이 사전에 양해하여 주신대로 반광홍 의원님, 이한철 의원님을 선출하고자 하는데, 의원 여러분! 이의가 없으신지요? (「없습니다」하는 의원 있음) 이의가 없으므로 반광홍 의원님, 이한철 의원님이 회의록 서명의원으로 선출되었음을 선포합니다. 두 분 의원님께서는 수고하여 주시기 바랍니다.',\n",
       " '제204회 본회의 제1차(2009.06.22.) 음성 의사일정 제3항, 예산결산특별위원회 구성의 건을 상정합니다. 예산결산특별위원회 위원으로는 반광홍 의원님, 이한철 의원님, 정태완 의원님, 윤병승 의원님, 정지태 의원님, 윤창규 의원님, 최임순 의원님으로 구성하고자 합니다. 그리고 본 특별위원회 운영기간은 6월 24일 하루 동안 운영하고자 하며, 2008 예비비 지출 승인안, 2008회계 세입ㆍ세출 결산 승인안, 그리고 2008회계 기금운용 성과분석 보고 등을 회부하여 의사일정에 따라 심사토록 하고자 합니다.',\n",
       " '2008년도 이월사업 현지확인 특별위원회 위원장 최임순 의원입니다. 지난 203회 임시회 시 바쁘신 가운데도 2008년도 이월사업에 대한 현지확인 특별위원회 활동에 적극적으로 참여하여 주신 동료의원 여러분과 관계공무원 여러분에게 감사를 드리며, 지금부터 현지확인 결과에 대하여 보고를 드리겠습니다. 이월 및 계속비사업 현지확인 결과 67건 중 현재 추진중인 사업이 53건에 79%를 차지하고 있고, 설계중이거나 보상금 지급중에 있어 미착공된 사업이 10건으로 15%를, 준공된 것이 4건으로 6%를 차지하고 있어 대체로 양호하게 사업이 추진되고 있다고 판단되나, 장마철 집중호우를 대비하여 조속히 준공이 될 수 있도록 특단의 대책을 강구하기 바랍니다.',\n",
       " '제204회 제1차 정례회를 맞이하여 상정된 군정질문에 대한 집행부의 답변을 듣고자 본인이 발의한 관계 공무원 출석요구안에 대하여 간략하게 설명을 드리겠습니다. 먼저 주문으로 군정의 현안 문제와 주요 관심사항에 대한 질문을 통하여 의회의 의견 수렴과 군민의 알권리를 충족시키고자 하는 것으로 질문에 대한 답변은 군수님과 실과소장님으로부터 듣고자 관계공무원의 출석을 요구하는 것입니다. 이에 우리 의회에서는 군민을 대변하는 기관으로서 군민이 요구하는 사항을 군정질문을 통해 군민의 알권리를 충족시킴과 동시에 군민의 여론을 반영한 군정추진이 되도록 하기 위하여 군수 및 관계공무원의 출석을 요구하는 것입니다.',\n",
       " '제204회 본회의 제1차(2009.06.22.) 음성 의사일정 제6항, 음성군 농공단지관리 및 조성사업자금관리 특별회계설치 및 운영조례 일부개정조례안을 상정합니다. 주요내용으로는 음성군 농공단지관리 및 조성사업자금관리 특별회계 예산의 세출 세부항목에 ‘일반회계 전출금’을 추가코자 하오며, 자금의 전용금지 규정을 삭제하고자 합니다. 아홉 번째 제안자 의견으로는 비상경제대책의 일환으로 추진 중인 조기집행의 원활한 추진과 음성군 일반회계 예산 및 농공단지 조성사업 특별회계 예산의 원활한 운영을 위하여 세출관련 규정을 개정하려는 것으로 원안대로 심의ㆍ의결하여 주시기 바랍니다.',\n",
       " '제204회 본회의 제1차(2009.06.22.) 음성 의사일정 제7항, 음성군 도시계획세 부과지역 변경승인안을 상정합니다. 주요내용은 음성군 도시계획구역으로 결정고시된 전 지역을 도시계획세 부과지역으로 변경고시하고자 하는 것입니다. 도시계획세 부과지역을 변경고시하여 부과징수할 수 있도록 절차를 이행하는 것으로 원안대로 의결하여 주시기 바랍니다.',\n",
       " '건설교통과에서 신청한 의안번호 262호인 공유재산 사용수익허가에 따른 사용료의 면제심의안에 대해서 제안설명을 드리겠습니다. 제안이유는 「공유재산 및 물품관리법」제20조제2항, 제24조제1항4호 및 동법시행령 제17조제4항제4호, 제13조제3항제8호의 규정에 의해서 감곡농촌마을 종합개발사업 준공에 따른 시설물과 토지 등 행정재산에 대한 공유재산 사용수익허가 사용료의 면제에 대하여 의회의 동의를 얻고자 하는 것입니다. 주요내용은 감곡면 오궁리 514-9번지 일원의 공유재산 사용 수익허가에 따른 사용료의 면제가 되겠습니다.',\n",
       " '성원이 되었으므로 지금부터 제177회 음성군의회 임시회 제1차 본회의를 개의하겠습니다. 2006년 12월 19일 제7차 본회의에서 원안 의결하여 동일자로 집행부로 이송한 음성군 이장의 임무와 실비 변상에 관한 조례 일부개정조례안과 음성군 이장 신원보증조례 전부개정조례안은 2007년 1월 4일자로 음성군조례 제1849호 내지 제1850호로 공포하였다는 결과를 접수하였습니다. 반광홍 의원님 외 2인의 의원님으로부터 지방자치법 제39조제2항의 규정에 의하여 임시회의 소집요구가 있어 지방자치법 제39조제3항의 규정에 따라 1월 29일 집회공고를 하였으며, 2월 2일 윤창규 의원님 외 2인의 의원님으로부터 사회복지시설 보조사업 현지확인 특별위원회 구성결의안이 제출되어 오늘 개의하게 되었습니다.',\n",
       " '제177회 본회의 제1차(2007.02.06.) 음성 의사일정 제1항, 제177회 음성군의회 임시회 회기결정의 건을 상정합니다. 제177회 음성군의회 임시회는 음성군의회 회기와 그 운영에 관한 조례에 의하여 의원님들께서 사전에 협의하여 주신 것과 같이 오늘부터 2월 12일까지 7일간으로 하고자 합니다. 그리고 금번 임시회 의사일정은 2006년 행정사무감사 시정요구사항에 대한 조치결과보고와 사회복지시설 보조사업 현지확인 특별위원회 활동을 하는 것이 오늘의 주요의사일정으로 배부하여 드린 유인물과 같이 의사일정을 결정하고자 하는데, 의원님들 이의가 없으신지요? (「없습니다」하는 의원 있음) 이의가 없으므로 가결되었음을 선포합니다.',\n",
       " '제177회 본회의 제1차(2007.02.06.) 음성 의사일정 제2항, 회의록 서명의원 선출의 건을 상정합니다. 제177회 음성군의회 임시회 회의록 서명의원으로는 여러 의원님들께서 사전에 양해하여 주신대로 이한철 부의장님, 반광홍 의원님을 선출하고자 하는데, 의원 여러분! 이의가 없으십니까? (「없습니다」하는 의원 있음) 의원님들의 이의가 없으므로 이한철 부의장님, 반광홍 의원님이 회의록 서명 의원으로 선출되었음을 선포합니다. 두 분 의원님께서는 수고하여 주시기 바랍니다.',\n",
       " '제177회 음성군의회 2007년도 제1차 본회의를 맞이하여 사회복지시설 보조사업 현지확인 특별위원회 구성결의안에 대하여 제안설명을 드리겠습니다. 먼저 주문으로 2004년부터 2006년까지 민간인에 대하여 지원된 주요사회복지시설에 대한 현지확인을 통한 심도 있는 점검으로 보조사업의 적정한 추진 여부를 파악하고 아울러 향후 보조사업의 건실한 기반을 마련하고자 합니다. 금번 현지확인특별위원회 운영결과는 보고서를 작성하여 제178회 임시회에 보고하여 채택한 후 집행기관에 이송 시책에 반영하고자 합니다.',\n",
       " '제177회 본회의 제1차(2007.02.06.) 음성 의사일정 제4항, 음성군 기업 및 투자유치 촉진조례안을 상정합니다. 음성군 기업 및 투자유치 촉진조례안에 대해서 설명을 드리겠습니다. 제정이유로는 국가균형발전특별법 및 외국인투자유치촉진법에서 위임된 사항의 시행과 활발한 기업투자가 촉진될 수 있도록 지원근거를 마련하기 위하여 제정하려는 것입니다.',\n",
       " '근거법령이던 의료법 제62조 의료촉탁 조항이 2002년 1월 10일 삭제되었기에 본 군에서도 동 관련 조례를 폐지코자 2006년 12월 4일 조례폐지 방침 결정 및 폐지조례안을 공고하였고 2007년 1월 11일 음성군 조례규칙 심의위원회를 개최하였으며 2007년 1월 16일 의원간담회 설명을 하고 2월 6일 의회에 상정하게 되었습니다. 다만 본 폐지조례안을 비롯하여 의회에서 군정질문, 행정사무감사, 간담회 등 여러 차례 자치법규에 대한 수시 및 일제정비를 지적하고 주문한 바 있으나 자치법규에 대한 담당공무원의 연찬 기회가 부족하고 신규직원에 대한 교육실시 미흡 등의 이유로 정비실적이 부진한 실정에 있습니다. 집행부에서는 금번 추진하고 있는 자치법규 일제 정비계획과 병행하여 사문화 또는 휴면자치법규는 없는지 면밀하게 검토하시고 이를 폐지하거나 자치법규에 의한 지방행정을 차질없이 수행하는데 심혈을 기울여야 할 것입니다.',\n",
       " '제112회 본회의 제5차(2001.12.19.) 음성 의석을 정돈하여 주시기 바랍니다. 성원이 되었으므로 지금부터 제112회 제2차 정례회 제5차 본회의를 개의하겠습니다. 먼저 사무과장으로부터 보고가 있겠습니다.',\n",
       " '예산결산특별위원회에서 2002년도 세입·세출 예산안에 대하여 그동안 심의하신 심사결과에 대한 보고가 있겠습니다. 지난 12월 13일부터 12월 18일까지 4일간에 걸쳐 2002년도 세입·세출예산안을 심의한 결과에 대하여 보고 드리겠습니다. 계속되는 경기 침체로 인하여 지역경제 활성화를 도모하고 계속 사업과 어려운 계층에 대한 사업은 적극 지원하고 신규사업과 각종 행사는 가급적 축소ㆍ통합토록 유도하였으며, 사업의 효과를 엄격히 재검토하여 예산의 낭비요인을 과감히 삭감함으로써 재정의 투명성과 탄력성을 제고토록 심도 있게 심의하였다고 생각합니다.',\n",
       " '지난 12월 17일 심의한 2002년도기금 운용계획안에 대한 심사결과에 대하여 보고 드리겠습니다. 2002년도 기금 운용 계획은 음성군에서 관리하고 있는 여덟 개의 기금운용 계획안이 제출되어, 본 위원회에서는 기금 운용 계획안에 대하여 심층적인 심의를 하였습니다. 2002년도 기금 운용 계획은 적정하게 편성되어 제출된 계획으로 상시적 또는 장기적으로 발생하는 여유자금의 관리에 철저를 기여야 할 것이며, 따라서 사업성의 효과를 높이고 행정의 능률성을 제고하기 위하여 집행기관에서 제출된 원안대로 의결하기로 하였습니다.',\n",
       " '제112회 본회의 제5차(2001.12.19.) 음성 의사일정 제3항, 음성군인터넷시스템설치및운영에관한조례안을 상정합니다. 음성군 인터넷시스템 설치 및 운영에 관한 조례안에 대하여 설명 드리겠습니다. 제안이유는 정보화시대를 맞이하여 음성군의 인터넷 시스템 및 홈페이지 구축이 완료되고 활성화됨에 따라 주민에게 양질의 인터넷 서비스 제공을 위한 기반을 조성하고, 인터넷 시스템의 종합적이고 체계적인 운영을 위해, 이와 관련된 제반사항을 규정하는 제도적 근거 마련하기 위하여 본 조례를 제정코자 합니다.',\n",
       " '제112회 본회의 제5차(2001.12.19.) 음성 의사 일정 제4항, 음성군 정기시장관리및사용조례중개정조례안을 상정합니다. 제안이유는 음성군정기시장관리및사용조례 중 임시시장의 개설방법과 시설 기준 및 관리 운영에 관한 조항을 신설하여 임시시장 내에서 품질 미표시, 상표 위조 및 가격 미표시 행위 등을 지도·단속하여 소비자 피해를 예방하는 근거를 마련하고자 개정하게 되었습니다. 제안이유는 유통산업발전법 제16조 제2항의 규정에 의거 음성군정시기장관리 및 사용조례 중 개정으로 지방자치법 제15조 규정에 따라 개정코자 합니다.',\n",
       " '제112회 본회의 제5차(2001.12.19.) 음성 의사일정 제5항, 음성군 준농림지역내식품접객업소설치에관한조례안을 상정합니다. 제안이유는 국토이용관리법시행령 제14조 제1항 제4조 규정에 의하여 준농림지역의 수질오염 및 경관 훼손의 우려가 없는 지역에 대하여 식품접객업소 설치를 허용함으로써 국토의 균형 있는 발전을 도모하고 자연환경을 보전하기 위함입니다. 동 조례안은 국토의 효율적 운영과 주민 생업과 관련된 조례로 주민의 권리 제한 사항은 상위법률의 위임이 있어야 하므로 관련 법령을 철저히 준수하여야 할 것이며, 지방자치법 제35조의 규정에 의거 지방의회의 의결사항으로 동법시행령 제10조의 19 규정에 따라 심의·의결한 후 제출된 것으로 검토되었습니다.',\n",
       " '제112회 본회의 제5차(2001.12.19.) 음성 의사일정 제6항, 감곡도시계획재정비안에대한의견제시의건을 상정합니다. 제안이유 도시계획법 제22조 제5항 및 동법 시행령 제22조 제7항 규정에 의거 감곡 도시계획재정비안의 변경결정을 위한 지방의회 의견 청취입니다. 입안사유는 기존 도시계획의 불합리한 용도지역 및 도시계획시설을 재정비하여 무질서한 개발을 방지하고, 도시미래상에 부담되는 도시 공간구조의 합리적인 재편이 요구됨에 따라 도시개발이 용이한 지역으로의 구역 확장을 수반하여 도시의 건전한 발전과 토지이용의 효율성을 제고하고자 합니다.',\n",
       " '제112회 본회의 제5차(2001.12.19.) 음성 의사일정 제7항, 제112회 제2차정례회휴회의건은 금년도 제3회 추경안 심의를 위하여 예산결산 특별위원회 활동을 하고자 하는 것으로, 본회의 휴회의 건은 의사일정으로 갈음하겠으니 의원님들 양해하여 주시기 바랍니다. 그리고 내일 10시에 소회의실에서 예산결산 특별위원회 회의를 개최하오니 참고하여 주시기 바라며, 별다른 의견이 없으시면 제112회 제2차 정례회 제5차 본회의를 모두 마치고자 합니다. 별다른 의견이 없으십니까? (「없습니다」하는 의원 있음) 산회를 선포합니다.(10시 44분 산회)',\n",
       " '제229회 본회의 제1차(2011.11.10.) 음성 의석을 정돈하여 주시기 바랍니다. 성원이 되었으므로 지금부터 음성군의회 제229회 임시회 제1차 본회의를 개의하겠습니다. 안건 처리에 앞서서 김순옥 의원님께서 5분발언을 신청하셨습니다.',\n",
       " '제229회 본회의 제1차(2011.11.10.) 음성 의사일정 제1항, 음성군의회 제229회 임시회 회기결정의 건을 상정합니다. 음성군의회 제229회 임시회 회기는 「음성군의회 회기와 그 운영 등에 관한 조례」제3조제2항의 규정과 의원님들께서 사전에 협의하여 주신 바와 같이 11월 10일부터 11월 17일까지 8일간 하고자 합니다. 그리고 이번 임시회 주요의사일정은 군정에 대한 질문과 답변의 건과 비교견학, 음성군수로부터 제출된 2012년도 공유재산 관리계획안이 있습니다.',\n",
       " '제229회 본회의 제1차(2011.11.10.) 음성 의사일정 제2항, 회의록 서명의원 선출의 건을 상정합니다. 제229회 임시회 회의록 서명의원으로는 의원님들이 사전에 양해하여 주신대로 이대웅 의원님, 김순옥 의원님을 선출하고자 하는데, 의원 여러분! 이의가 없으신지요? (「없습니다」하는 의원 있음) 이의가 없으므로 이대웅 의원님, 김순옥 의원님이 회의록 서명의원으로 선출되었음을 선포합니다. 두 분 의원님께서는 수고하여 주시기 바랍니다.',\n",
       " '제229회 본회의 제1차(2011.11.10.) 음성 의사일정 제3항, 군정질문ㆍ답변에 따른 지방자치단체의 장 및 관계공무원 출석요구의 건을 상정합니다. 본 안건은 11월 11일부터 15일까지 군정에 관한 질문ㆍ답변을 듣고자 음성군수 및 관계공무원의 출석을 요구하고자 하는 것입니다. 본 출석요구에 대한 구체적인 내용은 배부하여 드린 유인물로 갈음하고 곧바로 안건을 의결하고자 하는데, 의원 여러분! 이의 없으십니까? (「없습니다」하는 의원 있음) 이의가 없으므로 의사일정 제3항, 군정질문ㆍ답변에 따른 지방자치단체의 장 및 관계공무원 출석요구의 건은 가결되었음을 선포합니다.',\n",
       " '안건명은 대소 생활체육공원 조성사업 부지 매입을 위한 공유재산 취득입니다. 상정이유는 「공유재산 및 물품관리법」제16조와 「음성군 공유재산 관리 조례」제5조의 규정에 의거 음성군 공유재산심의회 심의를 거친 대소 생활체육공원 조성사업 부지매입을 위한 공유재산 취득 계획과 관련하여 「공유재산 및 물품관리법」제10조와 같은 법 시행령 제7조의 규정에 의한 공유재산의 취득에 앞서 음성군의회의 의결을 받고자 하는 사항으로, 상정안건은 대소면 생활체육공원 부지매입을 위한 공유재산 취득입니다. 체육시설이 부족한 대소면에 생활체육공원 조성을 위한 부지를 매입하여 체육공원을 조성함으로써 주민들의 건강증진 및 생활체육 활성화로 활력있는 복지 음성 실현을 위한 사업으로 원안대로 의결하여 주시기 바랍니다.',\n",
       " '제101회 본회의 제4차(2000.11.13.) 음성 의석을 정돈하여 주시기 바랍니다. 성원이 되었으므로 지금부터 제101회음성군의회 임시회 제4차 본회의를 개의하겠습니다. 먼저 의사과장의 보고가 있겠습니다.',\n",
       " '기획감사실장께서는 본 조례안에 대하여 제안 설명하여 주시기 바랍니다. 농림과장이 부친상이 있어서 제가 두 가지 조례안에 대해서 제안 설명을 올리겠습니다. 제안 사유는 음성군의 특화 작목인 청결고추 등 농산물을 이용한 가공 제품 생산으로 부가 가치와 지역 이미지를 높이기 위하여 설치한 특화 작목 가공 시설에 대한 위탁 운영을 실시함에 있어 필요한 사항을 규정하고 운영의 효율성과 관리 체계를 마련하기 위하여 제정한 사항이 되겠습니다.',\n",
       " '오늘 제101회 임시회를 맞아 혐오 시설 운영 실태와 농·특산 단지 조성 사업 등 지역 현안 문제에 대한 선진 시·군 비교 견학을 통하여 타 시·군의 우수 사례를 찾아 우리 군에 접목시켜 관내 시설의 문제점을 해결하기 위한 방안을 강구하고자 본 계획안을 발의하여 제안하게 되었습니다. 추진 방침으로는 제101회 임시회 회기 기간 동안으로 지역 경제 활성화를 위한 시책 개발과 관내 현안 사업의 완벽한 추진을 위하여 해당 시설을 사전에 견학하고자 하며, 견학 결과를 차기 제102회 제2차 정례회시 보고하여 의정 활동의 기초자료 및 군 행정에 접목시켜 나가고자 합니다. 추진 계획으로는 혐오 시설과 농·특산 단지 시설관광지 개발 사업 등을 선정하여 11월 13일부터 11월 17일까지 5일간으로 계획하였으며, 견학 인원은 총 14명으로 의원 9명과 의사과 직원 5명으로 첨부된 대상자 명단을 참고하여 주시기 바랍니다.',\n",
       " '제101회 본회의 제4차(2000.11.13.) 음성 의사일정 제4항 제101회 임시회휴회의건은 금번 회기 중 선진 시·군 비교 견학 활동을 하고자 하는 것으로 휴회의 건은 의사일정으로 갈음하겠으니 의원님들 양해하여 주시기 바랍니다. 별다른 의견이 없으시면 제101회 임시회를 모두 마치고자 합니다. 별다른 의견이 없으십니까? (「없습니다」하는 의원 있음) 산회를 선포합니다.(09시 51분 산회)',\n",
       " '성원이 되었으므로 지금부터 제332회 음성군의회 임시회 제1차 본회의를 개의하겠습니다. 안건 처리에 앞서 서형석 의원님께서 5분 자유발언을 신청하셨습니다. 서형석 의원님께서는 나오셔서 발언하여 주시기 바랍니다.',\n",
       " '제332회 본회의 제1차(2021.02.18.) 음성 의사일정 제1항, 제332회 음성군의회 임시회 회기결정의 건을 상정합니다. 제332회 음성군의회 임시회 회기는 「음성군의회 기본 조례」제8조제2항의 규정과 의원님들께서 사전에 협의해 주신 대로 2월 18일부터 2월 25일까지 8일간으로 하고자 합니다. 그러면 배부해 드린 유인물과 같이 의사일정을 결정하고자 하는데, 의원 여러분! 이의 없으십니까? (「없습니다」하는 의원 있음) 이의가 없으므로 가결되었음을 선포합니다.',\n",
       " '제332회 본회의 제1차(2021.02.18.) 음성 의사일정 제2항, 회의록 서명의원 선출의 건을 상정합니다. 제332회 임시회 회의록 서명의원으로는 의원님들께서 사전에 양해해 주신 대로 김영호 의원님, 김영섭 의원님을 선출하고자 하는데, 의원 여러분! 이의 없으십니까? (「없습니다」하는 의원 있음) 이의가 없으므로 김영호 의원님, 김영섭 의원님이 회의록 서명의원으로 선출되었음을 선포합니다. 두 분 의원님께서는 수고하여 주시기 바랍니다.',\n",
       " '제332회 본회의 제1차(2021.02.18.) 음성 의사일정 제3항, 2020회계연도 결산검사위원 선임 및 검사기간 결정의 건을 상정합니다. 결산검사위원은 「지방자치법 시행령」제83조와 「음성군 결산검사위원 선임 및 운영에 관한 조례」제3조에 따라 선임하고자 합니다. 의원님들께서 협의해 주신 대로 대표위원으로는 조천희 의원님, 위원으로는 김영일 강동대 교수, 청석세무회계사무소 김종태 회계사, 한동희 전 행정복지국장, 조남설 전 소이면장을 선임하고자 하며, 결산검사기간은 4월 9일부터 4월 27일까지 19일간으로 하고자 합니다.',\n",
       " '제332회 본회의 제1차(2021.02.18.) 음성 의사일정 제4항, 음성군 학교급식 지원에 관한 조례 일부개정조례안을 상정합니다. 본 조례안에 대한 개정이유는 조문 수정을 통한 조례의 명확화와 학교급식심의위원회 위원의 범위를 명료화하기 위하여 필요한 사항을 개정하려는 것입니다. 본 조례안은 조문 수정을 통한 조례의 명확화와 학교급식심의위원회의 농민대표 해석 범위에 생산자단체의 대표를 추가하여 위원으로 구성될 수 있도록 참여기회를 확대하고, 지역 내 우수한 농산물의 안정적인 공급으로 성장기 학생의 심신발달에 기여하고자 개정하는 안으로 원안대로 심의ㆍ의결하여 주시기 바랍니다.',\n",
       " '기획감사실에서 제출한 의안번호 제823호, 음성군 재정안정화기금 설치 및 운용 조례 전부개정조례안에 대하여 제안설명 드리겠습니다. 개정이유는 상위법령인 「지방재정법」과 「지방치단체 기금관리기본법」의 개정에 따라서 현행 재정안정화기금을 통합재정안정화기금으로 변경하여 운용하고자 함입니다. 본 조례안은 「지방재정법」 등 상위법령 개정에 따라 회계연도 간의 재정수입 불균형을 조정하고 동일 회계연도 내에서 재원을 효율적으로 활용하기 위해 각종 회계기금의 여유자금을 통합적으로 관리하는 통합재정안정화기금으로 변경하여 재정을 안정적으로 운용ㆍ관리하고자 개정하는 것으로 원안대로 의결함이 타당하다고 판단됩니다.',\n",
       " '제332회 본회의 제1차(2021.02.18.) 음성 의사일정 제6항, 음성군 이장자녀 장학금 지급 조례 전부개정조례안, 참좋은지방정부협의회 운영규약 일부개정 동의안을 일괄 상정합니다. 고교무상교육 전면 실시에 따라 정액지급으로 변경하고, 국민권익위원회의 이ㆍ통장 자녀장학금 제도 운영의 공정성 제고방안 권고에 따라 투명하고 구체적인 장학생 선발기준을 마련하고자 합니다. 조례ㆍ규칙심의회에서는 원안 가결되었습니다.',\n",
       " '제332회 본회의 제1차(2021.02.18.) 음성 의사일정 제8항, 음성군 청소년육성기금 설치 및 운용 조례 일부개정조례안을 상정합니다. 본 조례안은 「음성군 행정기구 설치 조례 시행규칙」 개정으로 청소년업무 담당부서가 사회복지과에서 평생학습과로 변경됨에 따라 기금운용심의위원회 설치에 따른 위원을 담당부서장이 할 수 있도록 개정하는 것으로 원안대로 의결함이 타당하다고 판단됩니다. 의사일정 제8항, 음성군 청소년육성기금 설치 및 운용 조례 일부개정조례안을 원안대로 의결하고자 하는데, 의원 여러분! 이의 없으십니까? (「없습니다」하는 의원 있음) 이의가 없으므로 음성군 청소년육성기금 설치 및 운용 조례 일부개정조례안이 원안대로 가결되었음을 선포합니다.',\n",
       " '제332회 본회의 제1차(2021.02.18.) 음성 의사일정 제9항, 음성군 골목형상점가 지정에 관한 조례안을 상정합니다. 제정이유는 「전통시장 및 상점가 육성을 위한 특별법」 일부개정에 따라 골목형상점가 지정기준을 마련하여 소상공인의 경쟁력 강화와 골목상권 활성화에 기여하고자 하는 데 있습니다. 다음은 본 안건에 대하여 전문위원으로부터 검토보고를 듣겠습니다.',\n",
       " '제332회 본회의 제1차(2021.02.18.) 음성 의사일정 제10항, 음성군 지역건설산업 활성화 지원 조례 일부개정조례안을 상정합니다. 개정이유는 음성군 내 산업단지 조성 및 도시개발사업 등이 추진됨에 따라 지역업체 참여를 통한 건설산업 활성화 및 지역경제의 발전을 도모하고, 지역건설 산업체에 관내 건설산업 참여를 적극 유도하기 위하여 참여 권장비율을 명시하여 건설산업 활성화를 촉진시키고자 함입니다. 음성군 지역건설산업 활성화를 위해 지역업체 참여를 통한 건설산업 활성화 및 지역경제 발전을 도모하고자 본 조례를 일부 개정하는 것으로 원안대로 심의ㆍ의결하여 주시기 바랍니다.',\n",
       " '제332회 본회의 제1차(2021.02.18.) 음성 의사일정 제11항, 음성군 간접흡연 피해방지에 관한 조례 일부개정조례안을 상정합니다. 개정이유는 금연구역의 지정 등에 관한 사항을 재정비 규정함으로써 간접흡연으로 인한 피해방지와 금연환경 조성으로 군민의 건강증진에 기여하고자 하는 데 있습니다. 주요 내용은 안 제2조에 조례에서 사용하는 용어 정비와 안 제3조에 금연구역의 지정 등을 정비하고, 안 제7조는 과태료를 부과하는 것으로 금연구역에서 흡연을 할 경우 과태료를 3만원에서 5만원으로 인상하였습니다.',\n",
       " '제332회 본회의 제1차(2021.02.18.) 음성 의사일정 제12항, 슬레이트 처리 지원사업 민간위탁 동의안을 상정합니다. 슬레이트 건축물의 노후화에 따른 석면 피해로부터 주민의 건강을 보호하고, 주거환경을 개선하기 위한 슬레이트 처리 지원사업을 추진함에 있어 안전성, 전문성, 효율성을 증대하고자 동 사업의 민간위탁에 대한 의회의 동의를 구하고자 합니다. 슬레이트 처리 지원사업을 추진함에 있어 공무원 조직 인력관리의 효율성을 기하고 전문적 기술력과 경험을 갖춘 법인 및 단체에 위탁하여 대민서비스의 질을 향상시키고자 「음성군 사무의 민간위탁 촉진 및 관리 조례」제9조에 의거 공개모집을 원칙으로 수탁자를 선정하여 민간위탁을 추진하고자 하오니 원안대로 동의하여 주시기 바랍니다.',\n",
       " '제332회 본회의 제1차(2021.02.18.) 음성 의사일정 제13항, 일반농산어촌개발사업 중간지원조직 설치 및 음성군 도시재생지원센터 통합운영 동의안을 상정합니다. 균형개발과 소관 일반농산어촌개발사업 중간지원조직 설치 및 음성군 도시재생지원센터 통합운영 동의안에 대해서 보고를 드리겠습니다. 우리 군의 경우 현재 도시재생지원센터를 운영 중이며, 일반농산어촌개발과의 업무협업을 통한 시너지 유발과 예산절감을 위해서 통합해서 운영코자 합니다.',\n",
       " '제332회 본회의 제1차(2021.02.18.) 음성 의사일정 제14항, 2021년도 군정 주요업무 보고의 건을 상정합니다. 오늘은 기획감사실, 자치행정과 순으로 보고를 듣겠습니다. 그럼 먼저 기획감사실장께서는 나오셔서 보고하여 주시기 바랍니다.',\n",
       " '기획감사실 소관 2021년도 주요업무 계획을 보고드리겠습니다. 사전에 양해해 주신 대로 일반현황부터 2020년 주요성과와 2021년도 정책방향은 유인물로 보고를 대신하겠습니다. (「2021년도 주요업무계획」 부록에 실음) 이상으로 기획감사실 소관 보고를 마치겠습니다. 보고를 들으시고 질의하실 의원님 계시면 질의하여 주시기 바랍니다.',\n",
       " '자치행정과 2021년 주요업무를 보고드리겠습니다. (「2021년도 주요업무계획」 부록에 실음) 이상으로 자치행정과 업무 보고를 마치겠습니다. 13쪽 관련해서 군민 소통ㆍ참여행정 추진으로 여러 가지 시책사업을 추진하고 있고 그중에 중간 정도 보면 내실 있는 주민참여포인트제 운영으로 주민참여 확대방안 강구라고 했는데 주민참여포인트제를 우리가 언제부터 운영하고 있죠? 예. 그런데 2017년도에 처음 이 프로그램을 만들고 이렇게 계획을 해서 실행이 본 의원이 파악한 바로는 9월에 처음 시행을 하고 본격적으로 시행한 게 2018년인 것 같습니다.',\n",
       " '또한 지방자치법 제39조 제1항의 규정에 의하여 7월 3일 음성군수로부터 집회요구와 집회공고가 있어서 오늘 제118회 음성군의회 임시회를 소집하게 되었습니다. 그리고 제1차 본회의를 가진 후에 오후 2시부터 이 자리에서 개원식을 개최하도록 하겠습니다. 성원이 되었으므로 지금부터 제118회 임시회 제1차 본회의를 개의하겠습니다.',\n",
       " '제118회 본회의 제1차(2002.07.10.) 음성 의사일정 제1항, 의장ㆍ부의장선거의건을 상정합니다. 지방자치법 제42조 제1항 및 음성군의회회의규칙 제8조 제1항의 규정에 의하여 의장 1인을 무기명으로 선출한 후에 부의장 1인을 같은 방법으로 각각 선출하도록 하겠습니다. 투표는 본회의실 우측에 마련된 직원석에서 명패를 받으시고 감표위원석에서 투표용지를 받으신 다음 본회의실 좌측에 마련된 기표소에 가셔서 투표용지 뒷면의 기명란에 의장으로 선출하실 의원님의 성명을 한글로 써 주시면 되겠습니다.',\n",
       " '제118회 본회의 제1차(2002.07.10.) 음성 의사일정 제2항, 제118회음성군의회임시회회기결정의건을 상정합니다. 제118회 음성군의회 임시회 회기는 여러 의원님들께서 사전에 양해하여 주신 것과 같이 7월 10일 하루로 하고자 합니다. 그리고 배부하여 드린 유인물과 같이 의사일정을 결정하고자 하는데 의원 여러분, 이의 없으십니까? (「없습니다」하는 의원 있음) 이의가 없으므로 가결되었음을 선포합니다.',\n",
       " '제118회 본회의 제1차(2002.07.10.) 음성 의사일정 제3항, 회의록서명의원선출의건을 상정합니다. 제118회 임시회 회의록 서명의원으로는 여러 의원님들이 사전에 양해하여 주신대로 이한철 의원님과 윤병승 의원님을 선출하고자 하는데 의원 여러분, 이의가 없으십니까? (「없습니다」하는 의원 있음) 이의가 없으므로 이한철 의원님과 윤병승 의원님이 회의록 서명의원으로 선출되었음을 선포합니다. 이상으로 1차 본회의를 마치고, 개원식은 오늘 14시에 이 자리에서 갖고자 하오니 의원 여러분께서는 한 분도 빠짐없이 참석하여 주시기 바랍니다.',\n",
       " '제327회 본회의 제4차(2020.08.28.) 음성 의석을 정돈하여 주시기 바랍니다. 성원이 되었으므로 지금부터 제327회 음성군의회 임시회 제4차 본회의를 개의하겠습니다.',\n",
       " '제327회 본회의 제4차(2020.08.28.) 음성 의사일정 제1항, 2020년도 주요 현안사업 보고의 건을 상정합니다. 오늘은 건설교통과, 도시과, 건축과, 농업기술센터, 수도사업소, 시설관리사업소 순으로 보고를 받겠습니다. 그럼 먼저 건설교통과장께서는 나오셔서 보고하여 주시기 바랍니다.',\n",
       " '제327회 본회의 제4차(2020.08.28.) 음성 건설교통과장입니다. 김영호 의원님 질의하여 주시기 바랍니다. 삼성~대소 간 4차선 확포장사업을 지금 진행을 하고 계시는데 삼성 쪽에만 공사를 지금 하고 있고 또 금년도에 진행과정이 지난하다 보니까 사업비도 반납하는 상황이 벌어진 것으로 알고 있어요.',\n",
       " '제327회 본회의 제4차(2020.08.28.) 음성 도시과장 김태흥입니다. 도시과 소관 주요 현안사업 추진상황을 보고드리겠습니다. 그러다 보니까 공원의 필요성이 상당히, 대소 같은 경우에는 가장 필요로 하는 게 공원인데 망가래공원이 보상이 한 부분만 남고 거의 다 된 것으로 알고 있습니다.',\n",
       " '제327회 본회의 제4차(2020.08.28.) 음성 건축과장 윤동준입니다. 건축과 소관 주요 현안사업에 대하여 보고드리겠습니다. 회의는 오후 1시 30분에 시작하기로 하고 정회를 선포합니다. (11시18분 회의중지)(13시31분 계속개의) 의석을 정돈하여 주시기 바랍니다.',\n",
       " '제327회 본회의 제4차(2020.08.28.) 음성 농업기술센터소장입니다. 기본현황과 2020년도 상반기 주요업무 추진실적은 서면으로 대체하고 2020년도 군정 주요 현안사업을 보고드리겠습니다. (「2020년도 주요 현안사업」 부록에 실음) 이상으로 농업기술센터 2020년 주요 현안사업 보고를 마치겠습니다. 보고를 들으시고 질의하실 의원님 계시면 질의하여 주시기 바랍니다.',\n",
       " '제327회 본회의 제4차(2020.08.28.) 음성 수도사업소장입니다. 수도사업소 2020년 군정 주요 현안사업을 보고드리겠습니다. 기본현황과 2020년도 상반기 주요업무 추진실적은 서면으로 대체하고, 2020년도 군정 주요 현안사업을 보고드리겠습니다. (「2020년도 주요 현안사업」 부록에 실음) 이상으로 수도사업소 주요 현안사업보고를 마치겠습니다.',\n",
       " '제327회 본회의 제4차(2020.08.28.) 음성 시설관리사업소장 이재규입니다. 시설관리사업소 소관 2020년도 주요 현안사업을 보고드리겠습니다. 보고를 들으시고 질의하실 의원님 계시면 질의해 주시기 바랍니다.',\n",
       " '성원이 되었으므로 지금부터 제333회 음성군의회 임시회 제2차 본회의를 개의하겠습니다. 먼저 의회에서는 2021년 3월 23일자로 안해성 위원장으로부터 2021년도 제1회 세입ㆍ세출 추가경정예산안 및 2021년도 기금운용계획 변경안 심사결과를 보고하시겠다는 통보를 받았습니다. 그리고 음성군수로부터는 2021년 3월 17일자로 음성군 공직자 윤리위원회 구성과 운영에 관한 조례 일부개정조례안, 음성군 공유재산 관리 조례 일부개정조례안, 음성군 자연휴양림 운영 관리 조례 일부개정조례안, 음성군 장애인복지관 민간위탁 추진계획안, 2021년도 수시분 공유재산 관리계획안이 접수되어 총 7건의 의안이 상정되었습니다.',\n",
       " '기획감사실에서 제출한 의안번호 제841호, 음성군 공직자 윤리위원회 구성과 운영에 관한 조례 일부개정조례안에 대하여 제안설명드리겠습니다. 개정이유는 상위법인 「공직자윤리법」의 개정에 따라 우리 군 조례 중 공직자 윤리위원회 위원의 정원 규정을 개정하고자 함입니다. 본 조례안은 「알기 쉬운 법령 정비기준」 반영과 상위법령 개정으로 공직자 윤리위원회의 구성인원을 확대하여 구성ㆍ운영하고자 하는 안으로 원안대로 의결함이 타당하다고 판단됩니다.',\n",
       " '개정이유는 「공유재산 및 물품 관리법 시행령」 개정사항을 반영하여 대부료 등의 분할납부 횟수를 확대하고, 납부 유예 규정을 삭제하고자 합니다. 주요 내용으로는 대부료 등의 분할납부 횟수 확대와, 대부료 등의 납부 유예 규정 삭제입니다. 제안자 의견입니다. 「공유재산 및 물품 관리법 시행령」 개정사항을 반영하고자 본 조례를 개정하려는 것으로 원안대로 심의ㆍ의결하여 주시기 바랍니다.',\n",
       " '제333회 본회의 제2차(2021.03.24.) 음성 의사일정 제4항, 음성군 자연휴양림 운영 관리 조례 일부개정조례안을 상정합니다. 개정이유는 음성군 자연휴양림의 1인당 객실면적이 인근 지자체에 비해 작아서 객실별 기준인원수를 조정하여 안전하고 쾌적하게 휴양림을 이용하도록 하고자 함입니다. 주요내용은 객실별 기준인원수 변경을 위해서 수레의산자연휴양림은 1인당 1.4평에서 2.1평으로, 백야자연휴양림은 1.5평에서 2.2평으로 변경하는 내용입니다.',\n",
       " '제333회 본회의 제2차(2021.03.24.) 음성 의사일정 제5항, 음성군 장애인복지관 민간위탁 추진계획안을 상정합니다. 음성군 장애인복지관 위탁기간이 금년도 7월 4일로 만료됨에 따라 장애인복지 증진을 위하여 공개모집을 통한 전문지식과 경험을 갖춘 수탁기관을 선정하는 사항으로 음성군의회의 동의를 받고자 합니다. 2021년 기준 예산은 13억 300만원으로 전액 군비로 운영되고 있으며, 주요 업무와 기능은 장애인 및 가족에 대한 각종 상담ㆍ지도에 관한 사항과 장애인의 역량 강화 및 권익 옹호에 관한 사항 등입니다.',\n",
       " '예산결산특별위원회에서 지난 3월 18일부터 3월 23일까지 심사한 2021년도 제1회 세입ㆍ세출 추가경정예산안 및 기금운용계획 변경안에 대한 심사결과 보고를 듣겠습니다. 지난 3월 18일부터 23일까지 6일간에 걸쳐 실시한 2021년도 제1회 세입ㆍ세출 추가경정예산안 및 기금운용계획 변경안에 대하여 심사결과를 보고드리겠습니다. 본 위원회에서 심사한 2021년도 제1회 추가경정예산안 총예산규모는 7,480억 8,179만 2천원으로 일반회계 세입ㆍ세출 예산액은 6,742억 9,273만 1천원이며, 16개 특별회계 예산은 737억 8,906만 1천원으로 편성하였습니다.',\n",
       " '청주시의회 회의록 >제54회 제2호 본회의(2020.06.25 목요일) 청주 의석을 정돈해 주시기 바랍니다. 성원이 되었으므로 제54회 청주시의회(2020년도제1차정례회) 제2차 본회의 개의를 선포합니다.',\n",
       " '청주시의회 회의록 >제54회 제2호 본회의(2020.06.25 목요일) 청주 의안 상정에 앞서 5분자유발언을 신청하신 의원님께 발언의 기회를 드리도록 하겠습니다. 본 의원은 청주시 의원임에도 불구하고 본 의회에서 의장을 선출하기도 전에 벌써 의장으로 선출된 의원의 기사와 부의장은 누가 될 것이며, 상임위원장은 언제, 누가 선출될 것이라는 기사를 보고 지금 돌아가는 의회 사정을 알았습니다. 아직 의장ㆍ부의장의 선거 시작도 하지 않은 시점에 의장과 부의장이 이미 선출되었다고 하는 것에 대해 시민들이 얼마나 공감하고 있을까요?',\n",
       " '청주시의회 회의록 >제54회 제2호 본회의(2020.06.25 목요일) 청주 의안 상정에 앞서 5분자유발언을 신청하신 의원님께 발언의 기회를 드리도록 하겠습니다. 본 의원은 청주시 의원임에도 불구하고 본 의회에서 의장을 선출하기도 전에 벌써 의장으로 선출된 의원의 기사와 부의장은 누가 될 것이며, 상임위원장은 언제, 누가 선출될 것이라는 기사를 보고 지금 돌아가는 의회 사정을 알았습니다. 아직 의장ㆍ부의장의 선거 시작도 하지 않은 시점에 의장과 부의장이 이미 선출되었다고 하는 것에 대해 시민들이 얼마나 공감하고 있을까요?',\n",
       " '계속해서 의사일정 제2항 제2대 청주시의회 후반기 부의장 선거의 건을 상정합니다. 부의장 선거 역시 의장 선거와 같은 방법으로 진행하도록 하겠습니다. 정견발언 할 의원님이 계시지 않으므로 의사일정을 진행하겠습니다.',\n",
       " '예산결산특별위원회 및 상임위원회 활동을 위하여 6월 26일부터 28일까지 3일간 휴회를 하고자 하는데 의원 여러분, 이의 없으십니까? 제3차 본회의는 6월 29일 오전 10시에 개의하여 시정에 관한 질문과 답변을 듣도록 하겠습니다. 이상으로 제54회 청주시의회(2020년도제1차정례회) 제2차 본회의 산회를 선포합니다.',\n",
       " '성원이 되었으므로 지금부터 제190회 음성군의회 임시회 제1차 본회의를 개의하겠습니다. 먼저 의회사무과장으로부터 보고가 있겠습니다. 먼저 지난 제189회 임시회 제1차 본회의 시 처리된 안건에 대하여 보고 드리겠습니다.',\n",
       " '제190회 본회의 제1차(2008.04.23.) 음성 의사일정 제1항, 제190회 음성군의회 임시회 회기결정의 건을 상정합니다. 제190회 음성군의회 임시회 회기는 음성군의회 회기와 그 운영 등에 관한 조례 제3조제2항의 규정과 의원님들께서 사전에 협의하여 주신 바와 같이 4월 23일 오늘 하루 동안으로 하고자 합니다. 그리고 오늘 임시회 주요의사일정은 건의문 3건이 발의되어 의결하고자 하는 것입니다.',\n",
       " '제190회 본회의 제1차(2008.04.23.) 음성 의사일정 제2항, 회의록 서명의원 선출의 건을 상정합니다. 제190회 음성군의회 임시회 회의록 서명의원으로는 의원님들이 사전에 양해하여 주신대로 윤창규 의원님, 최임순 의원님을 선출하고자 하는데, 의원 여러분! 이의가 없으신지요? (「없습니다」하는 의원 있음) 이의가 없으므로 윤창규 의원님, 최임순 의원님이 회의록 서명의원으로 선출되었음을 선포합니다. 두 분 의원님께서는 수고하여 주시기 바랍니다.',\n",
       " '제190회 본회의 제1차(2008.04.23.) 음성 충북 음성ㆍ진천 혁신도시의 성공을 위한 건의문 채택의 건을 상정합니다. 본 안건은 사전에 의원님들이 협의하여 주신 사항으로 충북 음성ㆍ진천 혁신도시 성공을 위한 건의문으로 의원님들을 대표하여 발의하신 정태완 의원님께서는 나오셔서 제안설명을 하여 주시기 바랍니다. 충북 음성ㆍ진천 혁신도시의 성공을 위한 건의문에 대해서 제안설명을 드리겠습니다.',\n",
       " '수도권 규제완화 정책 반대를 위한 건의문에 대해서 제안설명을 드리겠습니다. 먼저 제안사유로는 수도권 규제완화 정책은 새 정부 출범 이후 경제우선의 논리와 규제 개혁, 효율성 제고 등 가치 기준에 따라 충분한 공론화와 행정절차 과정도 없이 수도권 대기업의 첨단산업 공장 신ㆍ증축 허용 등 규제 완화 정책을 시행하고 있어 비수도권 침체와 지방의 경제위기를 초래하고 있는 실정입니다. 그리고 수도권 과밀억제 정책을 80년대 이후 일관 되게 시행하고 있는 현실과 현재 수도권의 집중현상 즉 인구, 제조업체 수, 금융, 100대 기업 본사 등의 전체 50% 이상이 편중된 현실을 고려할 때 수도권과 비수도권의 격차는 날로 심각한 문제로 대두하는 바 관계기관에 건의문을 전달하여 뜻을 관철하고자 제안하게 되었습니다.',\n",
       " '제190회 본회의 제1차(2008.04.23.) 음성 의사일정 제5항, 농업기술의 산실 농촌진흥청 폐지 반대를 위한 건의문 채택의 건을 상정합니다. 농업기술의 산실 농촌진흥청 폐지 반대를 위한 건의문에 대해서 제안설명을 드리겠습니다. 먼저 제안이유로 우리 농민의 가장 가까운 곳에서 농민의 현실을 가장 잘 이해하는 농민의 대부로서 또한 농가 소득을 한 단계 올려놓는 견인차 역할로 농촌의 최일선을 사수하여 온 농촌진흥청을 폐지하고 출연연구기관으로 전환한다고 하는 것은 350만 농민의 미래를 망치는 처사이며 농심은 천심이라고 하는데 천심을 저버리는 처사라고 생각해 봅니다.',\n",
       " '제127회 본회의 제1차(2003.04.22.) 음성 의석을 정돈하여 주시기 바랍니다. 성원이 되었으므로 지금부터 제127회 음성군의회 임시회 제1차 본회의를 개의하겠습니다. 먼저 사무과장으로부터 보고가 있겠습니다.',\n",
       " '제127회 본회의 제1차(2003.04.22.) 음성 의사일정 제1항, 제127회음성군의회임시회회기결정의건을 상정합니다. 제127회 음성군의회 임시회 회기는 여러 의원님들께서 사전에 양해하여 주신 것과 같이 4월 22일부터 4월 25일까지 4일간으로 하고자 합니다. 그리고 배부하여 드린 유인물과 같이 의사일정을 결정하고자 하는데, 의원 여러분! 이의가 없으십니까? (「없습니다」하는 의원 있음) 의원 여러분들의 이의가 없으시므로 가결되었음을 선포합니다.',\n",
       " '제127회 본회의 제1차(2003.04.22.) 음성 의사일정 제2항, 회의록서명의원선출의건을 상정합니다. 제127회 임시회 회의록 서명의원으로는 여러 의원님들이 사전에 양해하여 주신대로 반광홍 의원님과 안병일 의원님을 선출하고자 하는데, 의원님들의 이의가 없으십니까? (「없습니다」하는 의원 있음) 의원님들의 이의가 없으시므로 반광홍 의원님과 안병일 의원님께서 회의록 서명의원으로 선출되었음을 선포합니다. 두 분 의원님께서는 수고하여 주시기 바랍니다.',\n",
       " '제127회 본회의 제1차(2003.04.22.) 음성 의사일정 제3항, 음성군제증명등수수료징수조례중개정조례안을 상정합니다. 음성군제증명등수수료징수조례중개정조례안에 대해서 제안설명을 드리겠습니다. 먼저 제안이유로는 인감증명업무를 전산화하여 전국의 읍면동사무소 어디에서나 인감증명을 발급 받을 수 있도록 인감증명법이 개정되고, 인감증명법시행령의 수수료 규정이 개정됨에 따라 현행 제도의 운영상의 미비점을 개선·보완하고 상위법령의 개정내용을 반영하려는 것입니다.',\n",
       " '제127회 본회의 제1차(2003.04.22.) 음성 의사일정 제4항 음성군인감업무담당공무원보험·공제등의가입조례안을 상정합니다. 음성군인감업무담당공무원보험·공제등의가입조례안에 대해서 제안설명을 드리겠습니다. 2003년 3월 26일부터 시행되는 인감증명의 전국온라인 발급에 따라 인감업무담당공무원의 인감사고로 인한 피해상황에 대비하기 위해 보험및공제가입을위한조례를 개정코자 함에 있습니다.',\n",
       " '제127회 본회의 제1차(2003.04.22.) 음성 의사일정 제5항, 2003년도공유재산관리계획변경계획안을 상정합니다. 오늘 설명드릴 안건은 장애인복지관 건립부지변경과 공·사유림 교환 건이 되겠습니다. 먼저 제안이유를 말씀드리면 지방재정법 제78조의 규정에 의거 재산의 취득·처분에 대한 자문을 구하기 위하여 음성군공유재산심의회 심의를 거친 장애인복지관건립부지변경및공·사유림교환계획안에 대하여 지방재정법 제77조 및 동법시행령 제84조의 규정에 의거 사업 시행에 앞서 음성군의회의 의결을 받고자 본 안을 상정하게 되었습니다.',\n",
       " '제127회 본회의 제1차(2003.04.22.) 음성 의사일정 제6항, 관내주요시설및현장방문결과보고의건을 상정합니다. 의원님들께서 지난 126회 임시회 회기 중 현지 활동을 하신 관내주요시설 및 현장방문 결과보고를 듣도록 하겠습니다. 지난 126회 임시회의시 바쁘신 가운데에서도 관내주요시설 및 현장에 대한 현지 활동에 적극적으로 참여해 주신 동료의원 여러분과 관계공무원 여러분에게 감사를 드리며, 지금부터 현지 확인결과에 대하여 보고 드리겠습니다.',\n",
       " '우리 지역 주민의 기대욕구 및 예상되는 지역현안사업에 대한 문제점을 찾아 해결방안에 대한 타시군 비교견학을 통하여 우수한 사례의 비교분석과 지역현안문제에 슬기롭게 대처하고자 본 계획안을 발의하여 제안하게 되었습니다. 먼저 타시군 견학의 목적은 선진시설 비교견학을 통하여 관내 현안사업에 대한 자료를 비교 분석하여 주민의 기대욕구와 예상되는 지역현안문제에 슬기롭게 대처하고 주민자치센터기능 전환사례를 분석하여 우리지역에 접목시켜 발전적인 방안을 강구해 나가고자합니다. 추진계획으로는 특수시책의 발굴 및 우수추진사례, 지역특산품의 상품화 운영, 각종시설건립 및 운영현황 등을 선정하여 4월 23일부터 4월 25일까지 3일각 당해 시설을 비교견학하기로 하였으며, 견학 인원은 총 14명으로 의원 9명과 사무과 직원 5명으로 첨부된 대상자 명단을 확인하여 주시기 바랍니다.',\n",
       " '이상으로 오늘에 계획된 의사일정을 모두 마쳤습니다. 별다른 의견이 없으시면 제127회 임시회를 모두 마치고자 합니다. 별다른 의견이 없으십니까? (「없습니다」하는 의원 있음) 산회를 선포합니다. (12시 13분 산회)',\n",
       " '제126회 전라북도 완주군의회(임시회) 제2호 본 회 의 회 의 록 완주 좌석을 정돈하여 주시기 바랍니다. 성원이되었으므로 제126회 완주군의회임시회 제2차 본회의 개의를 선포합니다. 먼저, 의사담당으로부터 보고가 있겠습니다.',\n",
       " '제126회 전라북도 완주군의회(임시회) 제2호 본 회 의 회 의 록 완주 의사일정 제1항 의사일정변경의 건을 상정합니다. 본 건은 2006년 1월 19일 제1차 본회의 시 의결한 바 있는 의사일정 중 완주군세감면조례 일부개정조례안과 완주군 부동산 투기지역 지정 철회 건의안이 회기중에 제출되어 금일 제2차 본 회의에서 제안설명을 듣고 동 안건을 처리하기 위하여 의사일정을 변경하고자 합니다. 의원 여러분 이의 없으십니까? (『없습니다』하는 의원 있음) 이의가 없으므로 가결되었음을 선포합니다.',\n",
       " '제126회 전라북도 완주군의회(임시회) 제2호 본 회 의 회 의 록 완주 의사일정 제2항 완주군세감면조례 일부개정조례안을 상정합니다. 제126회 완주군의회 임시회 기간 중 완주군수로부터 제출된 완주군세감면조례 일부개정조례안에 대한 심사결과를 보고 드리겠습니다. 완주군세감면조례 일부개정조례안은 지방세 감면관련 개별법 자동차관리법, 임대주택법, 지방세법 개정에 따라 관련조문을 정비하고 감면규정을 명확히 하여 과세의 공평을 기하고자 개정하려는 것으로 화물적재 면적 2㎡미만인 승용 자동차를 감면규정에 포함시키고 임대주택의 임대 의무기간이 분리되어 규정된 사항 반영 및 터미널용 토지에 대한 분리과세 규정 신설에 따라 터미널용 토지에 대한 감면규정 등을 정비하는 사안으로 집행부에서 제출한 원안대로 심사 의결하였습니다.',\n",
       " '제126회 전라북도 완주군의회(임시회) 제2호 본 회 의 회 의 록 완주 다음은 의사일정 제3항 완주군 부동산 투기지역 지정 철회 건의안을 상정합니다. 이에 10만여 군민을 대변하는 우리 완주군의회 의원 일동은 부동산 투기가 국가경제를 좀먹는 행위라는 것을 모르는 바 아니나, 완주군은 물론 군민 어느 누구와도 단 한마디 협의없이 일방적으로 완주군 전 지역을 부동산 투기지역으로 지정한데 대하여 분노를 금할 길이 없다. 만약 본 건의사항이 관철되지 않을 시 우리 완주군의회 의원 일동은 10만여 군민을 대표하여 강력한 투쟁을 전개할 것을 건의하는 바이다. 2006. 1. 26 완주군의회 의원일동 수고 하셨습니다.',\n",
       " '성원이 되었으므로 지금부터 제137회 제2차 정례회 제7차 본회의를 개의하겠습니다. 먼저 조류독감 방역을 위해 강추위 속에서 불철주야 노고가 많으신 박수광 군수님을 비롯한 군 산하 공무원 여러분께 따뜻한 위로와 격려의 말씀을 드립니다. 아무쪼록 조속한 시일 내 본 사태가 수습되어 군 관내 축산농가뿐 아니라 군민들에게 더 이상 마음의 상처를 주지 않았으면 하여 바람입니다.',\n",
       " '제137회 본회의 제7차(2003.12.20.) 음성 의사일정 제1항, 음성군사무의읍·면위임조례중개정조례안을 상정합니다. 본 상정 안건은 지난 12월 5일, 제5차 본회의에서 보류된 조례안으로 제안설명 및 검토보고는 생략하고 배부하여 드린 유인물로 갈음하고자 합니다. 의사일정 제1항, 음성군사무의읍·면조례중개정조례안을 원안대로 의결하고자 하는데, 의원 여러분! 이의 없으십니까? (「없습니다」하는 의원 있음) 이의가 없으시므로 본 조례안은 원안대로 가결되었음을 선포합니다.',\n",
       " '예산결산특별위원회에서 심의하신 2004년도 세입·세출예산승인안에 대하여 심의하신 심사결과 보고가 있겠습니다. 지난 12월 15일부터 12월 19일까지 5일간에 걸쳐 2004년도 세입·세출예산안 심사 결과를 보고 드리겠습니다. 계속되는 경기침체로 인하여 지역경제 활성화를 도모하고자 계속사업과 어려운 계층에 대한 사업은 적극 지원하고 신규사업과 각종행사는 가급적 축소, 통합토록 유도하였으며 사업의 성과를 면밀히 재검토하여 예산의 낭비요인을 과감히 제거함으로써 재정의 투명성과 탄력성을 제고토록 심도 있게 심의하였다고 생각합니다.',\n",
       " '제137회 본회의 제7차(2003.12.20.) 음성 의사일정 제3항, 2004년도 기금운용계획승인안을 상정합니다. 지난 12월 15일부터 12월 19일까지 5일간 심의한 2004년도 기금운용계획안에 대한 심사결과에 대하여 보고 드리겠습니다. 심사결과보고서의 세부적인 내용은 보고를 생략하고, 총 규모와 기금 운용 계획 심사결과에 대하여 보고를 드리겠습니다.',\n",
       " '제137회 본회의 제7차(2003.12.20.) 음성 의사일정 제4항, 제137회 제2차 정례회 휴회의건은 금년도제4회 추경안 심의를 위하여 예산결산특별위원회 활동을 하고자 하는 것으로 본회의 휴회의 건은 의사일정으로 하겠으니 의원님들 양해하여 주시기 바랍니다. 그리고 12월 22일 10시에 소회의실에서 2003년도 제4회 세입·세출추가경정예산안 심의를 위한 예산결산특별위원회 회의를 개최하오니 참고하여 주시기 바라며, 별다른 의견이 없으시면 제137회 제2차 정례회 제7차 본회의를 모두 마치고자 합니다. 별다른 의견이 없으십니까? (「없습니다」하는 의원 있음) 의원님들의 이의가 없으시므로 산회를 선포합니다.(10시 23분 산회)',\n",
       " '성원이 되었으므로 제175회 완주군의회 임시회 제1차 본회의 개의를 선포합니다. 먼저 의사담당으로부터 집회요구 및 의안접수사항에 대한 보고가 있겠습니다. 2011년 10월 11일 제174회 완주군의회 임시회 폐회이후 집회 요구 및 의안 접수사항을 보고 드리겠습니다.',\n",
       " '제175회 완주군의회임시회 제 1 차 본회의회의록 완주 의사일정 제1항 제175회 완주군의회 임시회 회기결정의 건을 상정합니다. 제175회 완주군의회 임시회 회기 결정의 건에 대하여는 운영위원회 김상식 위원장 외 4인의 의원이 발의 한대로 11월 1일부터 11월 4일까지 4일간으로 회기를 결정하고자 합니다. 의원 여러분 이의 있으십니까? (『없습니다』하는 의원 있음) 이의가 없으므로 가결되었음을 선포합니다.',\n",
       " '제175회 완주군의회임시회 제 1 차 본회의회의록 완주 의사일정 제2항 제175회 완주군의회 임시회 회의록 서명의원 선출의 건을 상정합니다. 제175회 임시회 회의록 서명의원은 조정석 부의장님과 송지용 의원님을 선출하고자 하는데 의원 여러분 이의 있으십니까? (『없습니다』하는 의원 있음) 이의가 없으므로 가결되었음을 선포합니다. 그럼 두 분 의원님께서는 본 회기동안 수고하여 주시기 바랍니다.',\n",
       " '제175회 완주군의회임시회 제 1 차 본회의회의록 완주 다음은 의사일정 제3항 완주군의회 행정사무감사 특별위원회 구성 결의안을 상정합니다. 행정사무감사 특별위원회는 의장님을 제외한 9인의 위원으로 구성하고자 하며, 활동기간은 2011년 11월 29일부터 12월 7일까지 9일간 실시하고자 합니다. 그러면 완주군의회 행정사무감사 특별위원회 구성 결의안은 이의가 없으면 원안대로 채택하고자 합니다.',\n",
       " '제175회 완주군의회임시회 제 1 차 본회의회의록 완주 다음은 의사일정 제4항 한ㆍ미 FTA 독소조항 해결과 피해대책 없는 비준 반대 결의안을 상정합니다. 송 현중 의원입니다 한·미 FTA 독소조항 해결과 피해 대책 없는 비준 반대 결의안에 대하여 제안설명을 드리겠습니다 지난 10월 12일 한·미 자유무역협정 이행법안이 미국 의회를 최종 통과함에 따라, 정부와 한나라당은 이번 기회에 한ㆍ미 자유무역협정 이행법안을 강행처리하겠다고 공헌하고 있습니다.',\n",
       " '제175회 완주군의회임시회 제 1 차 본회의회의록 완주 다음은 의사일정 제5항 본회의 휴회의 건을 상정합니다. 상임위원회와 특별위원회 의정활동을 위하여 11월 2일부터 11월 3일까지 2일간 본회의를 휴회하고자 하는데 의원 여러분 이의 있으십니까? (『없습니다』하는 의원 있음) 이의가 없으므로 가결되었음을 선포합니다. 이상으로 제175회 임시회 제1차 본회의를 마치겠습니다.',\n",
       " '성원이 되었으므로 지금부터 제191회 음성군의회 임시회 제1차 본회의를 개의하겠습니다. 먼저 의회사무과장으로부터 보고가 있겠습니다. 먼저 지난 제190회 임시회 제1차 본회의 시 처리된 안건에 대하여 보고 드리겠습니다.',\n",
       " '제191회 본회의 제1차(2008.05.22.) 음성 의사일정 제1항, 제191회 음성군의회 임시회 회기결정의 건을 상정합니다. 제191회 음성군의회 임시회 회기는 음성군의회 회기와 그 운영 등에 관한 조례 제3조 제2항의 규정과 의원님들께서 사전에 협의하여 주신 바와 같이 5월 22일부터 27일까지 6일 동안으로 하고자 합니다. 그리고 이번 임시회 주요 의사일정사항은 이월사업 현지확인 특별위원회 운영과 집행부 조례안 5건에 대해 심의를 하고자 하는 것입니다.',\n",
       " '제191회 본회의 제1차(2008.05.22.) 음성 의사일정 제2항, 회의록 서명의원 선출의 건을 상정합니다. 제191회 음성군의회 임시회 회의록 서명의원으로는 의원님들이 사전에 양해하여 주신대로 이한철 부의장님, 반광홍 의원님을 선출하고자 하는데, 의원 여러분! 이의가 없으신지요? (「없습니다」하는 의원 있음) 이의가 없으므로 이한철 부의장님, 반광홍 의원님이 회의록 서명의원으로 선출되었음을 선포합니다. 두 분 의원님께서는 수고하여 주시기 바랍니다.',\n",
       " '제191회 본회의 제1차(2008.05.22.) 음성 의사일정 제3항, 급수시설 현지확인 특별위원회 결과보고서 채택의 건을 상정합니다. 지난 189회 임시회 때는 바쁘신 데도 불구하고 급수시설 현지확인 특별위원회 활동에 적극적으로 참여하여 주신 동료의원 여러분과 관계 공무원 여러분에게 감사를 드리면서 지금부터 현지확인 결과에 대하여 보고를 드리겠습니다. 먼저, 총평을 말씀드리면 광역상수도보다 상대적으로 취약한 관내 마을상수도와 소규모 급수시설, 약수터에 대하여 현지확인을 실시하여 시설물의 관리 운영실태, 주민 불편사항, 기타 시설이용에 대한 전반적인 사항에 대하여 면밀히 파악하여 수범사례는 더욱 발전시키고, 도출된 문제점에 대하여는 개선책을 마련하여 군민들이 물을 안심하고 먹을 수 있는 급수시설을 마련하고자 특위 활동을 실시하였습니다.',\n",
       " '제191회 본회의 제1차(2008.05.22.) 음성 의사일정 제4항, 이월사업 현지확인 특별위원회 구성결의안을 상정합니다. 주문으로 2007년도 이월 및 계속사업에 대한 확인점검이 필요한 시기라 사료되며 올해도 벌써 5개월이 지나는 시점에서 이들 사업의 추진상황 전반에 대한 세밀한 점검으로 사업추진 실태와 문제점을 정확히 파악하여 부실공사의 사전예방과 문제점에 대한 대책을 강구하여 성실한 공사풍토를 조성하고자 합니다. 제안이유로는 2007년도 이월 및 계속비 사업 중 사업규모가 큰 주요사업을 대상으로 현장을 직접 방문 확인 점검하여 사업추진상 도출된 제반 문제점에 대하여는 합리적인 대책을 연구하고 설계에 의한 정확한 시공을 촉구하여 차후 사업추진에 반영하여 완벽한 시공으로 내실 있고 견실한 공사로 이끌어 사업의 성과를 높이고자 제안하게 되었습니다.',\n",
       " '제191회 본회의 제1차(2008.05.22.) 음성 의사일정 제5항, 2007년도 세입ㆍ세출 결산검사위원 선임 및 검사기간 결정의 건을 상정합니다. 의원님들께서 잘 아시는 바와 같이 결산검사위원은 지방자치법 시행령 제83조에 의거 3인 이상 5인 이내로 선임하도록 규정하고 있습니다. 그동안 의원 여러분께서 협의하시고 양해하여 주신대로 대표위원에는 정지태 의원님, 위원에는 극동정보대학 이재춘 교수님, 남기홍 세무사님, 음성군 주요 계장을 역임하셨던 박상윤님, 전 산림조합 과장이었던 홍기태님을 선임하고자 합니다.',\n",
       " '제191회 본회의 제1차(2008.05.22.) 음성 의사일정 제6항, 음성군 저소득주민자녀 장학금 지급조례 일부개정조례안과 의사일정 제7항, 음성군 기초생활보장기금 설치 및 운용조례 일부개정조례안을 일괄 상정합니다. 저소득 주민자녀의 학업을 장려하고 저소득주민의 재정적 부담을 덜어주기 위한 조례로 원안대로 심의ㆍ의결하여 주시기 바랍니다. 다음은 음성군 기초생활보장기금 설치 및 운용조례 일부개정조례안에 대해서 제안설명을 드리겠습니다.',\n",
       " '제191회 본회의 제1차(2008.05.22.) 음성 의사일정 제8항, 음성군 여비조례 일부개정조례안을 상정합니다. 국내여비의 실비정산제도의 비효율성으로 말미암아 국내여행의 경우 운임과 숙박비에 대한 지급기준을 정함으로써 현행 규정의 문제점을 개선ㆍ보완하려는 것입니다. 지방자치단체 공무원이 공무로 국내여행을 할 때 운임과 숙박비는 별표의 기준에 의하여 지급한다고 규정하고, 실비정산에 필요한 정부구매카드는 준용하지 않는다와 운임 및 숙박비 지급기준도 별표로 신설하는 사항입니다.',\n",
       " '제191회 본회의 제1차(2008.05.22.) 음성 의사일정 제9항, 음성군 하수도 사용조례 전부개정조례안을 상정합니다. 상하수도사업소 소관 개정 안건에 대해서 제안설명을 드리겠습니다. 개정이유로는 「오수ㆍ분뇨 및 축산폐수의 처리에 관한 법률」중 오수ㆍ분뇨에 관하여 「하수도법」으로 통합되어 개정ㆍ공포되어 시행됨에 따라서 동법에서 위임한 사항과 그 시행에 필요한 사항을 조례로 정하고, 현행 조례 운영상 나타난 일부 미비점을 개선ㆍ정비하려는 것입니다.',\n",
       " '제191회 본회의 제1차(2008.05.22.) 음성 의사일정 제10항, 2008년도 공유재산 관리계획 변경계획안을 상정합니다. 안건명은 친환경 축산관리실 설치에 따른 공유재산 취득, 두 번째 삼성 체육공원 조성에 따른 공유재산 취득이 되겠습니다. 재원은 총 6억 5천만원으로서 수질개선특별회계에서 3억 9천만원, 군비가 2억 6천만원이 되겠습니다.',\n",
       " '제191회 임시회 휴회의 건은 내일부터 이월사업 현지확인 특별위원회를 구성하여 활동할 계획으로 휴회의 건은 의사일정으로 갈음하고자 하오니 양해하여 주시기 바랍니다. 오늘 13시에 이월사업 현지확인 특별위원회 활동을 위한 제1차 회의를 소회의실에서 개최할 예정이오니 참고하여 주시기 바랍니다. 우리 음성군도 각종 행사와 축제가 우리나라를 대표하는 지역축제로 발전할 수 있도록 열정을 가지고 노력하여 주실 것을 당부 드립니다.',\n",
       " '제236회 음성군의회 임시회 집회에 관하여 보고 드리겠습니다. 「지방자치법」제45조제3항의 규정에 의하여 6월 29일 집회공고를 하고 오늘 제236회 음성군의회 임시회를 소집하게 되었습니다. 오늘 의사일정은 의장ㆍ부의장 선거의 건, 회기 결정의 건, 회의록 서명의원 선출의 건입니다. 성원이 되었으므로 지금부터 음성군의회 제236회 임시회 제1차 본회의를 개의하겠습니다.',\n",
       " '의장ㆍ부의장 선거는 「지방자치법」제48조제1항 및 「음성군의회 회의규칙」제8조제1항의 규정에 의하여 무기명 비밀투표로 실시하겠습니다. 그리고 의장 선거 후 부의장 1인을 같은 방법으로 선출하도록 하겠습니다. 의회사무과장으로부터 투표방법에 대하여 설명을 듣고 나서 바로 투표를 진행하도록 하겠습니다.',\n",
       " '제236회 본회의 제1차(2012.07.06.) 음성 의사일정 제2항, 제236회 음성군의회 임시회 회기결정의 건을 상정합니다. 제236회 음성군의회 임시회 회기는 여러 의원님들께서 사전에 양해하여 주신대로 7월 6일 오늘 하루 동안 하고자 합니다. 그리고 배부하여 드린 유인물과 같이 의사일정을 결정하고자 하는데, 의원 여러분! 이의가 없으십니까? (「없습니다」하는 의원 있음) 이의가 없으므로 가결되었음을 선포합니다.',\n",
       " '제236회 본회의 제1차(2012.07.06.) 음성 의사일정 제3항, 회의록 서명의원 선출의 건을 상정합니다. 제236회 임시회 회의록 서명의원으로는 여러 의원님들이 사전에 양해하여 주신대로 이대웅 의원님과 김순옥 의원님을 선출하고자 하는데, 의원 여러분! 이의가 없으십니까? (「없습니다」하는 의원 있음) 이의가 없으므로 이대웅 의원님과 김순옥 의원님이 회의록 서명의원으로 선출되었음을 선포합니다. 이상으로 음성군의회 제236회 제1차 본회의를 모두 마치고자 하는데, 의원님들 다른 의견이 없으십니까? (「없습니다」하는 의원 있음) 별다른 의견이 없으므로 산회를 선포합니다. (10시44분 산회)',\n",
       " '청주시의회 회의록 >제51회 제2호 본회의(2020.03.31 화요일) 청주 의석을 정돈해 주시기 바랍니다. 성원이 되었으므로 제51회 청주시의회(임시회) 제2차 본회의 개의를 선포합니다. 오늘 의사진행은 의석에 배부해 드린 유인물을 참고해 주시기 바랍니다.',\n",
       " '최근 코로나19 사태 대응을 위해 한마음 한뜻으로 이 자리에 함께해 주신 하재성 의장님과 동료의원 여러분 그리고 밤낮없이 시민들을 위해 애써 주시는 한범덕 시장님을 비롯한 공무원 여러분께 감사의 말씀을 드립니다. 이렇게 어려움을 겪는 시민들을 위해 청주시에서도 어느 때보다 비상한 각오로 시민들이 체감할 수 있는 전방위적 정책과 예산을 강구하고 있습니다. 본 의원은 얼마 전 청주시가 코로나19로 모든 것이 멈춘 예술계를 돕기 위해 전국 최초로 무관중 온라인 공연을 허용하기로 했다는 소식을 들었습니다.',\n",
       " '의사일정 제1항 2020년 제1회 추가경정 예산안을 상정합니다. 지금부터 청주시장으로부터 제출된 2020년 제1회 추가경정 예산안에 대한 심사경과 및 심사결과를 보고드리겠습니다. 2020년 제1회 추가경정 예산안은 2020년 3월 26일 청주시장으로부터 제출되어 각 상임위원회의 예비심사를 거쳐 2020년 3월 30일 본 위원회에 회부되었습니다.',\n",
       " '제200회 완주군의회(임시회) 제 1 차 본회의회의록 완주 성원이 되었으므로 제200회 완주군의회 임시회 제1차 본회의 개의를 선포합니다. 먼저 의사담당으로부터 집회요구 및 의안접수사항에 대한 보고가 있겠습니다. 전북 중추도시생활권 행정협의회 구성을 위한 규약안, 완주군 지방공무원 복무조례 일부개정조례안, 완주군 금고지정 및 운영에 관한 조례 일부개정 조례안, 완주군 물품관리 조례 일부개정조례안, 2015년 공유재산관리계획 승인안, 완주군 국민건강증진법 위반자 과태료 부과·징수 조례 폐지조례안, 제6기(2015~2018년)지역보건의료계획 승인안, 완주군 도시가스 공급사업 보조금 지원에 관한 조례 일부개정조례안, 완주군 보행안전 및 편의증진에 관한 조례안, 완주군 대중교통 소외지역 주민 교통복지 증진에 관한 조례안 등 총 10건의 의안을 접수하여 해당 상임위원회로 회부하였으며, 10월 20일 운영위원회 서남용 위원장 외 4인의 의원으로부터 2014년도 행정사무감사 특별위원회 구성결의안이 발의되었습니다.',\n",
       " '제200회 완주군의회(임시회) 제 1 차 본회의회의록 완주 의사일정 제1항 제200회 완주군의회 임시회 회기결정의 건을 상정합니다. 제200회 완주군의회 임시회 회기 결정의 건에 대하여는 의회운영위원회 서남용 위원장 외 4인의 의원이 발의한 대로 10월 27일부터 10월 31일까지 5일간으로 회기를 결정하고자 합니다. 의원 여러분 이의 있으십니까? (『없습니다』하는 의원 있음) 이의가 없으므로 가결되었음을 선포합니다.',\n",
       " '제200회 완주군의회(임시회) 제 1 차 본회의회의록 완주 다음은 의사일정 제2항 제200회 완주군의회 임시회 회의록 서명의원 선출의 건을 상정합니다. 제200회 임시회 회의록 서명의원은 김용찬 의원님과 서남용 의원님을 선출하고자 하는데 의원 여러분 이의 있으십니까? (『없습니다』하는 의원 있음) 이의가 없으므로 가결되었음을 선포합니다. 그럼 두 분 의원님께서는 본 회기동안 수고하여 주시기 바랍니다.',\n",
       " '제200회 완주군의회(임시회) 제 1 차 본회의회의록 완주 다음은 의사일정 제3항 2014년도 행정사무감사 특별위원회 구성결의안을 상정합니다. 행정사무감사 특별위원회는 의장님을 제외한 9인의 위원으로 구성하고자 하며, 감사기간은 2014년 11월 28일부터 12월 5일까지 8일간 실시하고자 합니다. 아무쪼록, 본 행정사무감사 특별위원회 구성결의안이 채택될 수 있도록 의원님들의 협조 부탁드립니다.',\n",
       " '제200회 완주군의회(임시회) 제 1 차 본회의회의록 완주 다음은 의사일정 제4항 본회의 휴회의 건을 상정합니다. 상임위원회 의정활동을 위하여 10월 28일부터 10월 30일까지 3일간 본회의를 휴회하고자 하는데 의원 여러분 이의 있으십니까? (『없습니다』하는 의원 있음) 이의가 없으므로 가결되었음을 선포합니다. 제2차 본회의는 10월 31일 오전 10시에 개의하겠습니다.',\n",
       " '제226회 완주군의회(제2차 정례회) 제4차 본 회 의 회 의 록 완주 의석을 정돈하여 주시기 바랍니다. 성원이 되었으므로 제226회 완주군의회 제2차 정례회 제4차 본회의 개의를 선포합니다. 먼저 의사팀장으로부터 의회 관련 사항에 대한 보고가 있겠습니다.',\n",
       " '제226회 완주군의회(제2차 정례회) 제4차 본 회 의 회 의 록 완주 먼저, 의사일정 제1항 슬러지 자원화 처리시설 민간위탁 관리 동의안을 상정합니다. 금번 제226회 완주군의회 제2차 정례회 기간 중 산업건설위원회에서 심사한 민간위탁 동의안에 대하여 심사결과를 보고드리겠습니다. 본 동의안은 완주군 슬러지 자원화 처리시설 민간위탁 계약기간이 금년 12월 31일로 만료됨에 따라 전문적인 기술력 확보를 위하여 재 위탁하고자 완주군 사무의 민간위탁 관리에 관한 조례 제4조 및 완주군 공공하수처리시설 위탁 관리·운영에 관한 조례 제3조 규정에 따라 의회의 동의를 득하고자 하는 것으로 원안 가결하였습니다.',\n",
       " '제226회 완주군의회(제2차 정례회) 제4차 본 회 의 회 의 록 완주 다음은 의사일정 제2항 2017년도 제2회 추가경정 예산안, 의사일정 제3항 2018년도 예산안, 2건을 일괄 상정합니다. 완주군의회 예산결산특별위원회 위원장 이인숙 의원입니다. 특히 금번 예산심사 시 주안점으로 군민의 복지증진과 지역경제 활성화 등 역점사업이 적극적으로 지원되고 있는지, 효과적이고 효율적으로 예산이 편성되어 있는지, 사업의 필요성과 정당성을 감안하여 혈세가 낭비되지 않도록 중점을 두고 심사를 하였다는 말씀을 드립니다.',\n",
       " '제226회 완주군의회(제2차 정례회) 제4차 본 회 의 회 의 록 완주 다음은 의사일정 제4항 2018년도 기금운용계획안을 상정합니다. 이번 제226회 완주군의회 제2차 정례회 기간 중 자치행정위원회에서 심사한 2018년도 기금운용계획안에 대한 심사결과를 보고드리겠습니다. 보고드린 사항 이외의 상세한 내용은 모니터 심사결과 보고 자료를 참고하여 주시고, 본 위원회에서 심사한 원안대로 의결될 수 있도록 의원 여러분들의 협조를 당부드리겠습니다.',\n",
       " '제226회 완주군의회(제2차 정례회) 제4차 본 회 의 회 의 록 완주 다음은 의사일정 제5항 2017년도 행정사무감사 결과보고서 채택의 건을 상정합니다. 금번 감사결과 시정 및 처리 요구사항과 건의사항 등 감사결과 처리 의견은 총 224건으로 집계되었습니다. 아무쪼록 2017년도 행정사무감사 결과보고서가 원안대로 채택될 수 있도록 의원님들의 협조를 부탁드리며, 자세한 사항은 전자모니터 감사 결과를 참고하여 주시기 바랍니다.',\n",
       " '제226회 완주군의회(제2차 정례회) 제4차 본 회 의 회 의 록 완주 다음은 의사일정 제6항 농민의 권리와 농업의 가치 반영을 위한 개헌 건의안을 상정합니다. 특히 이번 개헌은 1987년 이후 UR협상과 WTO, 한·칠레 FTA 등을 비롯한 자유무역협정으로 늘어만 가는 농업분야의 피해와 도·농간 소득격차로 인한 양극화, 인구 노령화와 농업인구 감소, 농촌 공동화로 붕괴 위기에 처한 농업농촌의 문제를 풀 수 있는 의제가 반드시 포함되어야 합니다. 이에 완주군의회는 농민의 기본권 보장과 식량주권 확립을 바라는 10만여 완주군민의 뜻을 담아 다음과 같이 건의합니다.',\n",
       " '제226회 완주군의회(제2차 정례회) 제4차 본 회 의 회 의 록 완주 그럼 의사일정 제7항 완주군의회 부의장 사임의 건을 상정합니다. 완주군의회 회의규칙 제11조제1항의 규정에 따라 부의장은 의회의 동의를 얻어 그 직을 사임할 수 있으므로 사임을 요청하신 이향자 부의장님의 의사를 존중하여 사임에 동의하고자 합니다. 의사일정 제7항 완주군의회 부의장 사임의 건에 대하여 의원 여러분 이의 있으십니까? (“없습니다” 하는 의원 있음) 이의가 없으므로 가결되었음을 선포합니다.',\n",
       " '성원이 되었으므로 지금부터 음성군의회 제245회 임시회 제1차 본회의를 개의하겠습니다. 먼저 사무과장으로부터 보고가 있겠습니다. 먼저 지난 제244회 임시회 제2차 본회의에서 의결하여 이송한 안건에 대해서 보고를 드리겠습니다.',\n",
       " '제245회 본회의 제1차(2013.05.31.) 음성 의사일정 제1항, 음성군의회 제245회 임시회 회기결정의 건을 상정합니다. 음성군의회 제245회 임시회 회기는 「음성군의회 회기와 그 운영 등에 관한 조례」제3조제2항의 규정과 의원님들께서 사전에 협의하여 주신 대로 2013년 5월 31일 하루로 하고자 합니다. 그리고 이번 임시회 주요의사일정은 음성군수로부터 제출된 조례안 4건, 동의안 등 7건의 안건이 있습니다.',\n",
       " '제245회 본회의 제1차(2013.05.31.) 음성 의사일정 제2항, 회의록 서명의원 선출의 건을 상정합니다. 제245회 임시회 회의록 서명의원으로는 의원님들이 사전에 양해하여 주신대로 남궁유 의원님, 조천희 의원님을 선출하고자 하는데, 의원 여러분! 이의가 없으십니까? (「없습니다」하는 의원 있음) 이의가 없으므로 남궁유 의원님, 조천희 의원님이 회의록 서명의원으로 선출되었음을 선포합니다. 두 분 의원님께서는 수고하여 주시기 바랍니다.',\n",
       " '제245회 본회의 제1차(2013.05.31.) 음성 의사일정 제3항, 음성군 청소년 문화의 집 관리 운영 조례 일부개정조례안, 의사일정 제4항, 금왕 청소년 문화의 집 시설 운영에 관한 민간위탁 동의안을 계속해서 일괄 상정합니다. 개정이유는 청소년들에게 문화체험 기회 확대 및 건전한 청소년 육성을 위한 금왕 청소년문화의 집 건립 공사가 마무리 단계로 시설 운영에 앞서 조례를 개정하고자 함입니다. 금왕 청소년 문화의 집 건립에 따라 청소년 문화의 집 관리 운영에 있어 조례를 개정하고자 하오니, 원안대로 심의ㆍ의결하여 주시기 바랍니다.',\n",
       " '제245회 본회의 제1차(2013.05.31.) 음성 의사일정 제5항, 음성군 지방공무원 정원 조례 일부개정조례안을 상정합니다. 개정이유는 2013년 총액인건비 기준 증원에 따른 정원의 증원과 기능직의 일반직 전환에 따라 「지방자치단체의 행정기구와 정원기준에 관한 규정」에 의거 기관별 직급정원을 변경하고자 본 조례를 개정하려는 것입니다. 2013년 총액인건비 기준정원 증원에 따른 정원의 증원 및 기능직의 일반직으로 전환에 따라 군정사업의 효율적인 추진을 위하여 본 조례를 개정하고자 하는 것으로 원안대로 심의ㆍ의결하여 주시기 바랍니다.',\n",
       " '제245회 본회의 제1차(2013.05.31.) 음성 의사일정 제6항, 음성군 복지회관 설치 및 운영조례 폐지조례안, 의사일정 제7항, 2013년도 공유재산 관리계획 변경안을 계속해서 일괄 상정합니다. 재무과에서 제출한 음성군 복지회관 설치 및 운영조례 폐지조례안, 2013년도 공유재산 관리계획 변경안에 대해서 제안설명드리겠습니다. 2013년 1월 4일 자로 음성군 복지회관을 철거함에 따라 불필요한 「음성군 복지회관 설치 및 운영조례」를 폐지하고자 하오니 원안대로 심의ㆍ의결하여 주시기 바랍니다.',\n",
       " '제245회 본회의 제1차(2013.05.31.) 음성 의사일정 제8항, 음성군 농기계 임대사업 운영 조례 일부개정조례안을 상정합니다. 농업기술센터에서 제출한 음성군 농기계 임대사업 운영 조례 일부개정조례안에 대해서 설명을 드리겠습니다. 이 사업은 공공서비스 차원으로 본래의 사업 목적에 부합하고 농촌의 일손 부족현상과 적기영농의 어려움을 겪고 있는 농가들에게 기계화 영농의 효율성을 높이고자 하는 것으로써 원안대로 심의·의결하여 주시기 바랍니다.',\n",
       " '제245회 본회의 제1차(2013.05.31.) 음성 의사일정 제9항, 음성군 관리계획(용도지역) 결정(변경)에 따른 의회 의견 제시의 건을 상정합니다. 본 안건은 5월 7일 의원간담회 시 설명을 드린 바와 같이 원남산업단지의 구역변경으로 산업단지에서 제척되는 일부 토지가 일반 공업지역에서 미세분관리지역으로 환원되어 환원된 관리지역의 세분화를 위하여 군 관리계획을 변경 결정하는 사항으로서 「국토의 계획 및 이용에 관한 법」제28조에 따라 의회 의견을 청취하고자 하는 것입니다. 본 안건은 미세분관리지역에 대한 세분화로서 도시관리계획 수립 지침에 따르면 1단위 토지면적이 1만㎡ 미만인 경우에는 인근의 토지와 용도지역을 같게 하도록 규정하고 있으므로 인근의 용도지역인 계획관리지역으로 군 관리계획을 변경 결정하고자 하오니 원안대로 심의ㆍ의결하여 주시기 바랍니다.',\n",
       " '성원이 되었으므로 제254회 완주군의회 임시회 제1차 본회의 개의를 선포합니다. 그럼 본 의사일정을 상정하기에 앞서 완주군의회 회의규칙 제41조제2항에 따라 5분 자유발언을 신청하신 유의식 의원님, 임귀현 의원님, 이경애 의원님으로부터 발언을 듣도록 하겠습니다. 우석대학교에서 삼례터미널 사거리로 이어지는 삼례 명품 가로수길 조성사업이 드디어 마무리 단계에 접어들었습니다.',\n",
       " '제254회 완주군의회(임시회) 제1차 본 회 의 회 의 록 완주 먼저 의사일정 제1항 제254회 완주군의회 임시회 회기 결정의 건을 상정합니다. 제254회 완주군의회 임시회 회기 결정의 건에 대하여는 운영위원회에서 협의해 주신대로 9월 2일부터 9월 11일까지 10일간으로 회기를 결정하고자 합니다. 의원 여러분 이의 있으십니까? (“없습니다” 하는 의원 있음) 이의가 없으므로 가결되었음을 선포합니다.',\n",
       " '제254회 완주군의회(임시회) 제1차 본 회 의 회 의 록 완주 다음은 의사일정 제2항 제254회 완주군의회 임시회 회의록 서명의원 선출의 건을 상정합니다. 회의록 서명의원으로 서남용 의원님과 최찬영 의원님을 선출하고자 하는데 의원 여러분 이의 있으십니까? (“없습니다” 하는 의원 있음) 이의가 없으므로 가결되었음을 선포합니다. 그럼 두 분 의원님들께서는 본 회기동안 수고하여 주시기 바랍니다.',\n",
       " '제254회 완주군의회(임시회) 제1차 본 회 의 회 의 록 완주 다음은 의사일정 제3항 완주군 폐기물 매립장에 관한 행정사무조사특별위원회 위원 사·보임의 건을 상정합니다. 제8대 후반기 의장에 본 의원이 선출됨에 따라 완주군 폐기물 매립장에 관한 행정사무조사특별위원회에서 본 의원은 사임하고 최등원 의원을 보임하고자 합니다. 의원 여러분 이의 있으십니까? (“없습니다” 하는 의원 있음) 이의가 없으므로 가결되었음을 선포합니다.',\n",
       " '제254회 완주군의회(임시회) 제1차 본 회 의 회 의 록 완주 다음은 의사일정 제4항 본회의 휴회의 건을 상정합니다. 상임위원회 등 의정활동을 위하여 9월 3일부터 9월 10일까지 8일 동안 본회의를 휴회하고자 하는데 의원 여러분 이의 있으십니까? (“없습니다” 하는 의원 있음) 이의가 없으므로 가결되었음을 선포합니다. 다음 제2차 본회의는 9월 11일 오전 10시에 개의하겠습니다.',\n",
       " '제133회 본회의 제1차(2003.09.16.) 음성 의석을 정돈하여 주시기 바랍니다. 성원이 되었으므로 지금부터 제133회 음성군의회 임시회 제1차 본회의를 개의하겠습니다. 먼저 사무과장으로부터 보고가 있겠습니다.',\n",
       " '제133회 본회의 제1차(2003.09.16.) 음성 의사일정 제1항, 제133회 음성군의회 임시회 회기결정의건을 상정합니다. 제133회 음성군의회 임시회 회기는 여러 의원님들께서 사전에 양해하여 주신 것과 같이 9월 16일로 하고자 합니다. 그리고 배부하여 드린 유인물과 같이 의사일정을 결정하고자 하는데, 의원 여러분! 이의가 없으십니까? (「없습니다」하는 의원 있음) 의원 여러분들의 이의가 없으시므로 가결되었음을 선포합니다.',\n",
       " '제133회 본회의 제1차(2003.09.16.) 음성 의사일정 제2항, 회의록서명의원선출의건을 상정합니다. 제133회 임시회 회의록 서명의원으로는 여러 의원님들이 사전에 양해하여 주신대로 정지태 의원님과 이한철 의원님을 선출하고자 하는데, 의원님들의 이의가 없으십니까? (「없습니다」하는 의원 있음) 의원님들의 이의가 없으시므로 정지태 의원님과 이한철 의원님께서 회의록 서명의원으로 선출되었음을 선포합니다. 두 분 의원님들께서는 수고하여 주시기 바랍니다.',\n",
       " '제133회 본회의 제1차(2003.09.16.) 음성 의사일정 제3항, 음성군오수·분뇨및축산폐수의처리에관한조례중개정조례안을 상정합니다. 제안이유로는 상위법의 폐지 및 제정됨에 따라 오수·분뇨및축산폐수의처리에관한법률에서 조례로 위임된 관련 조문을 개정하고자 함입니다. 다음은 본 조례안에 대하여 전문위원의 검토보고를 듣도록 하겠습니다.',\n",
       " '제133회 본회의 제1차(2003.09.16.) 음성 의사일정 제4항, 음성군제2건국범국민추진위원회조례폐지조례안을 상정합니다. 대통령에 의하여 설치한 제2의건국범국민추진위원회의 활동이 2003년 8월 31일로 종료되고 제2의건국범국민추진위원회 규정이 폐지됨에 따라 본 조례를 더 이상 존치할 필요가 없기에 폐지하고자 하오니 원안대로 의결해 주시기 바랍니다. 본 조례안의 상위법인 대통령령, 제2의건국법국민추진위원회규정이 2003년 8월 31일에 폐지되어 제2의건국범국민추진위원회의 활동이 종료됨에 따라, 이를 하위법인 조례에 반영하려는 것으로 원안 가결됨이 타당하다고 사료됩니다.',\n",
       " '제133회 본회의 제1차(2003.09.16.) 음성 의사일정 제5항 2003년도공유재산관리계획변경계획안을 상정합니다. 오늘 상정안건은 삼성면 선정리 보건진료소 이전신축사업 건과 공·사유림 교환 건 등 2건이 되겠습니다. 제안이유를 말씀드리면 지방재정법 제78조의 규정에 의거 음성군 공유재산심의회 심의를 거쳐서 삼성면 선정리 보건진료소 이전 신축사업 및 공·사유림 교환과 관련하여 지방재정법 제77조 및 동법 시행령 제84조의 규정에 의한 공유재산의 취득과 지방재정법시행령 제101조의 규정에 의한 공유임야의 교환에 앞서 음성군의회의 의결을 받고자 본 안건을 상정하게 되었습니다.',\n",
       " '성원이 되었으므로 지금부터 제176회 음성군의회 제2차 정례회 제1차 본회의를 개의하겠습니다. 2006년 11월 14일 제1차 본회의에서 원안대로 의결한 음성군 지방공무원 정원조례 일부개정조례안, 음성군 주민자치센터 설치 및 운영조례 일부개정조례안, 음성군 폐기물처리시설 설치 촉진 및 주변지역 지원 등에 관한 조례안, 음성군 주차장 조례 일부개정조례안, 음성군 자연재해 위험지구 안에서의 행위제한에 관한 조례안, 음성군 옥외광고물 등 관리조례 일부개정조례안 등 총 6건은 음성군의회 회의규칙 제27조 규정에 의해서 2006년 11월 16일자로 집행기관에 이송하였습니다. 지방자치법 제38조 및 동법시행령 제19조의4와 음성군의회 회기와 그 운영 등에 관한 조례 제4조제2항의 규정에 의하여 11월 20일 집회공고를 하고 오늘 개의하게 되었습니다.',\n",
       " '제176회 본회의 제1차(2006.11.28.) 음성 의사일정 제1항, 제176회 음성군의회 제2차 정례회 회기결정의 건을 상정합니다. 제176회 음성군의회 제2차 정례회 회기는 지방자치법 제38조 및 동법시행령 제19조의 4와 음성군의회 정례회의 운영에 관한 조례 제4조제2항의 규정에 의하여 11월 28일부터 12월 22일까지 25일간으로 하고자 합니다. 그리고 금번 정례회 의사일정은 군정질문 및 답변, 2007년도 당초예산안 심사 등이 주요의사일정으로 배부하여 드린 유인물과 같이 의사일정을 결정하고자 하는데, 의원님들 이의가 없으신지요? (「없습니다」하는 의원 있음) 이의가 없으므로 가결되었음을 선포합니다.',\n",
       " '제176회 본회의 제1차(2006.11.28.) 음성 의사일정 제2항, 회의록 서명의원 선출의 건을 상정합니다. 제176회 음성군의회 제2차 정례회 회의록 서명의원으로는 여러 의원님들께서 사전에 양해하여 주신대로 윤창규 의원님, 최임순 의원님을 선출하고자 하는데, 의원 여러분! 이의가 없으십니까? (「없습니다」하는 의원 있음) 의원님들의 이의가 없으므로 윤창규 의원님, 최임순 의원님이 회의록 서명 의원으로 선출되었음을 선포합니다. 두 분 의원님께서는 수고하여 주시기 바랍니다.',\n",
       " '제176회 본회의 제1차(2006.11.28.) 음성 의사일정 제4항, 예산결산특별위원회 구성결의안을 상정합니다. 예산결산 특별위원회 위원은 이한철 부의장님, 반광홍 의원님, 정태완 의원님, 정지태 의원님, 박희남 의원님, 윤창규 의원님, 최임순 의원님으로 구성을 하고자 합니다. 그리고 본 특별위원회 운영은 금번 정례회 기간 중 음성군수로부터 제출된 2007년도 당초예산안과 2007년도 기금운용계획안, 그리고 2006년도 제3회 추가경정예산안을 회부하여 의사일정에 따라 심사토록 하고자 합니다.',\n",
       " '제176회 본회의 제1차(2006.11.28.) 음성 의사일정 제5항, 군정에 관한 질문과 답변에 따른 군수 및 관계공무원 출석요구의 건을 상정합니다. 먼저 주문으로 제176회 제2차 정례회의에서 군정 전반에 관한 의원님들의 질문에 대하여 집행기관의 답변을 듣고자 군수님을 비롯한 관계공무원의 출석을 요구하고자 하는 것입니다. 그리고 제안이유는 군정 전반에 대하여 집행기관의 추진현황과 향후계획 등을 듣고 답변을 구하여 군정을 올바르게 파악하고 이해함과 동시에 군민을 대표하는 우리 군의회의 의견을 군정에 반영을 하고자 제안을 하게 되었습니다.',\n",
       " '제176회 본회의 제1차(2006.11.28.) 음성 의사일정 제6항, 음성군 주민참여 예산제 운영조례안을 상정합니다. 제정사유는 예산편성과정에서부터 조례범위 내에서 제출된 주민의 의견수렴과 그 결과의 인터넷공개 등 주민이 적극적으로 참여할 수 있도록 제도화하기 위한 법적 장치를 마련하려는 것입니다. 개정 주요내용은 주민의 권리로 주민은 누구나 이 조례가 정한 범위 안에서 군의 예산편성과 관련된 의견을 제출할 수 있는 권리를 조례안 제5조로, 운영계획 수립 및 공고로 군수는 예산편성방향, 주민참여 예산의 범위 주민의견수렴 절차 및 방법 등 주민참여 예산운영계획을 수립하여 일정 기간 동안 군보, 인터넷 홈페이지, 게시판 등을 통하여 이를 공고하도록 조례안 제6조로, 의견수렴 절차로 군수는 예산편성에 대한 주민들의 의견수렴을 위해 설명회, 공청회, 토론회 등을 개최할 수 있도록 하였으며, 군수는 필요시 주요사업에 대한 서면 또는 인터넷 설문조사 및 사업 공모 등을 통해 의견을 수렴토록 하는 것이 조례안 제7조에, 의견제출은 군 예산편성관련 의견을 제출하고자 하는 자는 제6조의 규정에 따라 군수가 수립한 주민참여 예산 운영계획에서 정하는 바에 따라 의견을 제출하도록 하는 것이 조례안 제8조에, 결과 공개는 군수가 제8조의 규정에 의해 제출된 의견수렴 결과를 인터넷 홈페이지 등을 통해 공개토록 하는 것이 조례안 제9조에, 위원회 운영은 군수는 예산편성에 대한 주민들의 의견을 수렴하고 주민참여예산제도의 도입에 따른 효율적 운영을 위해 위원회, 협의회, 연구회 등을 둘 수 있도록 한 것이 조례안 제10조에 있습니다.',\n",
       " '제176회 본회의 제1차(2006.11.28.) 음성 의사일정 제7항, 음성군 금고지정 및 운영에 관한 조례안, 의사일정 제8항, 음성군 제증명 등 수수료 징수조례 일부개정조례안을 일괄 상정합니다. 음성군 금고지정 및 운영에 관한 조례안에 대해서 설명 드리겠습니다. 제안이유는 지방재정법 제77조 및 동법시행령 제102의 규정에 의하여 지방자치단체 금고지정기준이 제정됨에 따라 음성군 금고 지정 및 운영에 관한 사항을 조례로 제정코자 합니다.',\n",
       " '제176회 본회의 제1차(2006.11.28.) 음성 의사일정 제9항, 음성군 수돗물 수질평가위원회 운영조례 일부개정조례안을 상정합니다. 수도법이 개정되면서 위원회 명칭이 수돗물 수질평가위원회에서 수돗물 평가위원회로 변경되어 위원회 명칭을 변경하고자 하오며, 위원회의 기능이 수질관리기술의 자문에서 수질관리 및 수도시설 운영에 관한 자문으로 확대하고자 합니다. 수도법 개정법령에 따라 불합리한 조례명과 위원회 기능을 개정함으로써 주민의 안전한 수돗물 공급을 도모하자고 개정하는 것으로 원안대로 심의·의결함이 타당하다고 사료 됩니다.',\n",
       " '제187회 완주군의회(임시회) 제 1 차 본회의회의록 완주 성원이 되었으므로 (○ 의원 박종관 의석에서 - 잠깐만요..잠깐만요.. 의장님이 여기와 계신데 안계시면 몰라도 의장님이 여기 의원석에 앉아계신데 그대로 회의진행하면 되겠습니까?...) (청취불능) 원활한 진행을 위하여 잠시 정회를 선포합니다. 회의를 속개하겠습니다. 성원이 되었으므로 제187회 완주군의회 임시회 제1차 본회의 개의를 선포합니다.',\n",
       " '제187회 완주군의회(임시회) 제 1 차 본회의회의록 완주 의사일정 제1항 제187회 완주군의회 임시회 회기결정의 건을 상정합니다. 제187회 완주군의회 임시회 회기 결정의 건에 대하여는 운영위원회 정성모 위원장 외 4인의 의원이 발의 한대로 2월 26일부터 2월 28일까지 3일간으로 회기를 결정하고자 합니다. 의원 여러분 이의 있으십니까? (『없습니다』하는 의원 있음) 이의가 없으므로 가결되었음을 선포합니다.',\n",
       " '제187회 완주군의회(임시회) 제 1 차 본회의회의록 완주 다음은 의사일정 제2항 제187회 완주군의회 임시회 회의록 서명의원 선출의 건을 상정합니다. 제187회 임시회 회의록 서명의원은 조정석 의원님과 이향자 의원님을 선출하고자 하는데 의원 여러분 이의 있으십니까? (『없습니다』하는 의원 있음) 이의가 없으므로 가결되었음을 선포합니다. 그럼 두 분 의원님께서는 본 회기동안 수고하여 주시기 바랍니다.',\n",
       " '제187회 완주군의회(임시회) 제 1 차 본회의회의록 완주 다음은 의사일정 제3항 완주ㆍ전주 통합반대 특별위원회 구성결의안을 상정합니다. 2012년 4월 30일 전라북도 지사, 전주시장, 완주군수 등 완주ㆍ전주 통합 추진 공동건의서가 지방행정체제 개편위원회에 제출되었으나 통합에 관한 주민들의 충분한 의견수렴 미흡과 통합으로 인해 우려되는 지역 내 다양한 문제점에 대한 심층적인 분석 및 연구 검토를 통해 통합의 부당성 및 불필요성을 지역주민들에게 정보를 제공하고, 주민들의 알권리 충족은 물론 우리 지역 실정에 부합되는 지방자치를 실현하기 위하여 완주ㆍ전주 통합 반대 특별위원회를 구성하여 운영하고자 하는 것입니다. 명칭은 완주ㆍ전주 통합 반대 특별위원회이며, 구성 위원으로는 7인 이내로 하고, 활동기간은 오늘부터 2013년도 완주ㆍ전주 통합에 관한 주민투표 종료시까지 하도록 하겠습니다.',\n",
       " '제187회 완주군의회(임시회) 제 1 차 본회의회의록 완주 다음은 의사일정 제4항 본회의 휴회의 건을 상정합니다. 상임위원회 의정활동을 위하여 2월 27일 1일간 본회의를 휴회하고자 하는데 의원 여러분 이의 있으십니까? (『없습니다』하는 의원 있음) 이의가 없으므로 가결되었음을 선포합니다. 제2차 본회의는 2월 28일 오전 10시에 개의하겠습니다.',\n",
       " '제157회 전라북도 완주군의회(임시회) 제1호 본 회 의 회 의 록 완주 성원이 되었으므로 제157회 완주군의회 임시회 제1차 본회의 개의를 선포합니다. 2009년 12월 29일 운영위원회 이재만 위원장 외 7인으로부터 임시회 집회요구가 있어, 지방자치법 제45조 제2항의 규정에 의하여 12월 29일 집회 공고를 하고 오늘 제157회 임시회를 개회하게 되었습니다. 다음은 의안 접수사항을 보고 드리겠습니다.',\n",
       " '제157회 전라북도 완주군의회(임시회) 제1호 본 회 의 회 의 록 완주 의사일정 제1항, 제157회 완주군의회 임시회 회기 결정의 건을 상정합니다. 제157회 완주군의회 임시회 회기 결정의 건에 대하여는 운영위원회 이재만 위원장 외 7인이 발의 한대로 12월 31일 1일간으로 결정하고자 합니다. 의원 여러분 이의 없으십니까? (『없습니다』하는 의원 있음) 이의가 없으므로 가결되었음을 선포합니다.',\n",
       " '제157회 전라북도 완주군의회(임시회) 제1호 본 회 의 회 의 록 완주 다음은 지방자치법 제64조 제2항과 회의규칙 제46조 제1항의 규정에 의하여 제157회 완주군의회 임시회 회의록에 서명하실 의원님을 선임하고자 합니다. 이번 임시회 회의록에 서명하실 의원님은 정성모 의원님과 김상식 의원님을 선임하고자 하는데 의원 여러분 이의 없으십니까? (『없습니다』하는 의원 있음) 그러면 두분 의원님이 회의록 서명의원으로 선임되었음을 선포합니다. 두분 의원님께서는 본 회기동안 수고하여 주시기 바랍니다.',\n",
       " '제157회 전라북도 완주군의회(임시회) 제1호 본 회 의 회 의 록 완주 의사일정 제2항, 제5대 완주군의회 후반기 의장 사임 동의 건을 상정합니다. 본 건은 2009년 12월 29일 제5대 후반기 의장인 임원규 의장이 사직서를 제출함에 따라 완주군의회 회의규칙 제11조 제2항의 규정에 의하여 토론을 하지 않고 의결하도록 하겠습니다. 그러면 의사일정 제2항, 제5대 완주군의회 후반기 의장 사임 동의 건에 대하여 의여 여러분 이의 없으십니까? (『없습니다』하는 의원 있음) 이의가 없으므로 가결되었음을 선포합니다.',\n",
       " '제157회 전라북도 완주군의회(임시회) 제1호 본 회 의 회 의 록 완주 의사일정 제3항, 제5대 완주군의회 후반기 의장 보궐선거를 상정합니다. 금번 완주군의회 의장 보궐선거는 지방자치법 제53조 및 완주군의회 회의규칙 제8조 규정에 선거하게 되며, 지방자치법 제48조 규정에 의하여 무기명 투표로 선거하게 되겠습니다. 당선자 결정은 완주군의회 회의규칙 제8조의 각항의 규정에 의하여 재적의원 과반수의 출석과 출석의원 과반수의 득표로 당선되며, 1차 투표에서 과반수 득표자가 없을 때에는 2차 투표를 하고, 2차 투표에서도 과반수 득표자가 없을 때에는 최고 득표자가 1인이면 최고 득표자와 차점자에 대하여, 최고 득표자가 2인 이상이면, 최고 득표자에 대하여 결선 투표를 함으로서 다수 득표자가 당선됩니다.',\n",
       " '제166회 전라북도 완주군의회(제2차 정례회) 제1호 본 회 의 회 의 록 완주 성원이 되었으므로 제166회 완주군의회 제2차 정례회 제1차 본회의 개의를 선포합니다. 2010년 11월 2일 제165회 완주군의회 임시회 폐회이후 집회에 관한 보고 및 의안 접수상황을 보고 드리겠습니다. 완주군의회 회기와 그 운영에 관한 조례 제4조의 규정에 “제2차 정례회는 매년 11월 27일에 집회한다”고 되어 있고, “집회일이 공휴일인 때에는 그 다음 관공서의 정상근무일에 집회한다”고 되어 있어 11월 17일 집회공고를 하고, 오늘 집회를 갖게 되었습니다.',\n",
       " '제166회 전라북도 완주군의회(제2차 정례회) 제1호 본 회 의 회 의 록 완주 의사일정 제1항 제166회 완주군의회 제2차 정례회 회기 결정의 건을 상정합니다. 제166회 완주군의회 제2차 정례회 회기 결정의 건에 대하여는 운영위원회 김상식 위원장 외 7인의 의원이 발의한대로 11월 29일부터 12월 17일까지 19일간으로 회기를 결정하고자 합니다. 의원 여러분 이의 있으십니까? (『없습니다』하는 의원 있음) 이의가 없으므로 가결되었음을 선포합니다.',\n",
       " '제166회 전라북도 완주군의회(제2차 정례회) 제1호 본 회 의 회 의 록 완주 의사일정 제2항 제166회 완주군의회 제2차 정례회 회의록 서명의원 선출의 건을 상정합니다. 제166회 제2차 정례회 회의록 서명의원은 조정석 의원님과 송지용 의원님을 선출하고자 하는데 의원 여러분 이의 있으십니까? (『없습니다』하는 의원 있음) 이의가 없으므로 가결되었음을 선포합니다. 그럼 두 분 의원님께서는 본 회기동안 수고하여 주시기 바랍니다.',\n",
       " '제166회 전라북도 완주군의회(제2차 정례회) 제1호 본 회 의 회 의 록 완주 의사일정 제3항 2011년도 군정계획 보고의 건을 상정합니다. 존경하는 박종관 의장님, 그리고 의원 여러분! 오늘 제166회 완주군의회 제2차 정례회 회의를 맞이해서 민선5기 원년인 2011년도 군정계획에 대해서 설명 드리게 된 것을 매우 뜻깊게 생각합니다. 내년도 군정은 민선 5기 위대한 도약과 미래 창조도시 완주를 비젼으로 6대 군정 목표와 27대 중점과제를 실천해 나감으로써 군민들에게 꿈과 희망을 드리는 행정을 펼쳐 나가도록 하겠습니다.',\n",
       " '다음은 의사일정 제4항 2011년도 세입세출 예산안에 대한 제안설명의 건을 상정합니다. 2011년도 예산안 편성방향은 첫 번째 재정의 건전성 확보에 최우선 목표를 세우고 경상경비 및 선심성 전시성 예산은 최대한 절감 편성하는 한편, 유사 중복사업은 통 폐합하는 등 재정의 효율화에 중점을 두고 편성하였습니다. 두 번째로 일자리 창출 확대와 취약계층을 중심으로 한 맞춤형 고용지원, 마을회사 육성 및 커뮤니티 비즈니스 사업, 로컬 푸드를 통한 지역공동체 활성화 사업에 최우선 투자를 하였습니다.',\n",
       " '제166회 전라북도 완주군의회(제2차 정례회) 제1호 본 회 의 회 의 록 완주 다음은 의사일정 제5항 중기지방재정계획 보고의 건을 상정합니다. 내년도는 정치 사회적 변화에 따른 세출소요가 지속적으로 증가가 예상되고, 정부의 재정정책 변화에 따른 추가 재정소요 발생으로 지방재정의 건전성과 안전성에 대한 대책이 필요한 시점입니다. 중기 지방재정계획은 자치단체의 발전계획과 수요를 중 장기적으로 전망하여 반영한 다년도 예산으로서 효율적인 재원배분을 통한 계획적인 지방재정 운용을 위해 수립하는 5년간의 연동화 계획으로 지방재정법 제33조 및 동법시행령 제45조의 규정에 근거하고 있습니다.',\n",
       " '다음은 의사일정 제6항 본회의 휴회의 건을 상정합니다. 특별위원회와 상임위원회 의정활동을 위하여 11월 30일부터 12월 12일까지 13일간 본회의를 휴회하고자 하는데 의원 여러분 이의 있으십니까? (『없습니다』하는 의원 있음) 이의가 없으므로 가결되었음을 선포합니다. 이상으로 제166회 제2차 정례회 제1차 본회의를 마치고, 제2차 본회의는 12월 13일 오전 10시에 개의하겠습니다.',\n",
       " '성원이 되었으므로 지금부터 제157회 음성군의회 임시회 제4차 본회의를 개의하겠습니다. 먼저 의회사무과장의 보고가 있겠습니다. 7월 1일 음성군수로부터 음성군 문화예술공간 및 미술장식의 설치조례안, 음성군 지방공무원 정원조례 일부개정조례안, 음성군 행정기구 설치조례 일부조례안, 음성군사무의 읍면위임조례 일부개정조례안, 음성군 지역사회복지협의체 설치 및 운영조례안, 음성군 재난안전대책본부 운영조례안이 제출되었습니다.',\n",
       " '제157회 본회의 제4차(2005.07.08.) 음성 제157회 음성군의회 임시회 의사일정 변경의 건을 상정합니다. 모든 것은 의원님들 의사에 따라서 결정을 하는 사항이기 때문에 의원님들의 의견을 따라 하겠습니다. 이 문제는 간담회 때 보고를 받은 사실도 있고, 이준구 의원님께서 말씀하시는 것도 틀린 말씀은 아닌데, 순서만 바뀐 것이니까 의장님께서 이준구 의원님께 양해를 구하시고 의사일정대로 처리를 해주세요.',\n",
       " '제157회 본회의 제4차(2005.07.08.) 음성 의사일정 제2항, 음성군 문화예술공간 및 미술장식의 설치조례안을 상정합니다. 음성군 문화예술공간 및 미술장식의 설치조례안에 대해서 설명을 드리겠습니다. 먼저 제안이유로는 대통령령이 정하는 종류 또는 규모 이상의 건축물을 건축하고자 하는 자에 대하여 건축비용의 일정비율에 해당하는 금액을 회화·조각·공예 등 미술장식의 설치·관리에 의무를 다하도록 하기 위함입니다.',\n",
       " '제157회 본회의 제4차(2005.07.08.) 음성 의사일정 제3항, 음성군 지방공무원 정원조례 일부개정조례안, 의사일정 제4항, 음성군 행정기구설치조례 일부개정조례안, 의사일정 제5항 음성군 사무의 읍면 위임조례 일부개정조례안을 일괄 상정합니다. 제안이유는 최근 생계형 사건·사고의 증가 등으로 사회복지문제가 이슈화됨에 따라 사회복지 전담체계의 개선에 따른 조정기능을 보강하는 데 따른 인력과 비정규직으로 운영되던 보건진료소 정원이 승인되었기에 제안을 하게 되었습니다. 개정 주요내용은 정원은 현재 607명에서 10명이 증가된 617명이 되겠습니다.',\n",
       " '제157회 본회의 제4차(2005.07.08.) 음성 의사일정 제6항, 음성군 지역사회복지협의체 설치 및 운영조례안을 상정합니다. 제정이유는 지역의 복지문제를 해결하기 위하여 민주적 의사소통구조를 확립하고 수요자 우선의 통합적 복지서비스 제공기반을 마련하여 지역사회의 복지자원의 효율적 활용 측면을 위한 음성군 지역사회복지협의체 구성 및 운영에 관하여 필요한 사항을 규정하여 본 조례를 제정코자 합니다. 제안자 의견으로 지역의 복지 문제 해결을 위한 민주적 의사소통구조를 확립하고 수요자중심의 통합적 복지서비스 제공기반을 마련하여 지역사회 복지자원의 효율적 활용체계를 위한 음성군 지역 사회복지협의체 구성 및 운영에 대한 필요한 사항을 규정하기 위하여 본 조례를 원안대로 의결하여 주시면 감사하겠습니다.',\n",
       " '제157회 본회의 제4차(2005.07.08.) 음성 의사일정 제7항, 음성군 재난안전대책본부 운영조례안을 상정합니다. 음성군 재난안전대책본부 운영조례안을 설명을 드리겠습니다. 첫 번째 제안이유는 각종재난으로부터 군민의 생명과 재난을 보호하기 위하여 재난 및 안전관리기본법 제16조의 규정에 의하여 음성군 재난안전대책본부의 구성·운영 및 상황관리에 관하여 필요한 사항을 규정하고자 합니다.',\n",
       " '제89회 본회의 제1차(1999.11.11.) 음성 의석을 정돈하여 주시기 바랍니다. 성원이 되었으므로 지금부터 제89회 음성군의회 임시회 제1차 본회의를 개의하겠습니다.',\n",
       " '제89회 본회의 제1차(1999.11.11.) 음성 의사일정 제1항 제89회 음성군의회 임시회 회기결정의건을 상정합니다. 제89회 음성군의회 임시회 회기는 여러 의원님들께서 사전에 양해하여 주신 것과 같이 11월 11일부터 11월 13일까지 3일간으로 하고자 합니다. 그리고 배부하여 드린 유인물과 같이 의사일정을 결정하고자 하는데 의원 여러분! 이의 없습니까? (「없습니다」하는 의원 있음) 의원 여러분들의 이의가 없으므로 가결되었음을 선포합니다.',\n",
       " '제89회 본회의 제1차(1999.11.11.) 음성 의사일정 제2항 회의록서명의원선출의건을 상정합니다. 제89회 임시회 회의록 서명의원으로는 여러 의원님들께서 사전에 양해하여 주신대로 김우식 의원님, 김천봉 의원님을 선출하고자 하는데 의원여러분! 이의 없으십니까? (「없습니다」하는 의원 있음) 이의가 없으므로 김우식 의원님, 김천봉 의원님이 회의록서명의원으로 선출되었음을 선포합니다. 두 분 의원님께서는 수고하여 주시기 바랍니다.',\n",
       " '제89회 본회의 제1차(1999.11.11.) 음성 의사일정 제3항 1999행정사무감사자료준비특별위원회구성안을 상정합니다. 제89회 임시회를 맞이하여 1999행정사무감사 자료준비 특별위원회 구성안에 대한 제안설명을 드리게 된 것을 영광스럽게 생각하면서 제안설명을 드리겠습니다. 제안이유로는 1999행정사무감사의 원활한 추진에 만전을 기하고자 감사 자료준비 특별위원회를 구성하여 상호 정보 교환 및 감사목록 작성 등 사전준비 활동을 하고자 제안하게 되었습니다.',\n",
       " '제89회 본회의 제1차(1999.11.11.) 음성 의사일정 제4항 타시·군비교견학결과보고의건을 상정합니다. 지난 제88회 임시회 기간 중 10월 18일부터 10월 22일까지 실시한 타시·군 비교견학 결과를 보고 드리겠습니다. 50여일 밖에 남지않은 20세기를 알차게 마무리하고, 새천년에는 우리 음성군이 중부권의 거점도시로 발전할 수 있는 21세기형 경영행정체제를 구축하고자 제88회 임시회 기간 중에 전남지역과 제주일원의 우수시설을 비교 견학한 결과 지방자치 단체별로 새로운 시책 개발과 생활 현장 속으로 달려가는 양질의 민원서비스 시책을 비롯하여 완벽한 환경오염방지시스템을 구축하고 매립장 주변을 푸른 숲으로 조성하여 혐오시설에 대한 이미지 불식과 주민의 환경학습장화에 끊임없이 노력하고 있는 것을 엿볼 수 있었습니다.',\n",
       " '제89회 본회의 제1차(1999.11.11.) 음성 의사일정 제5항 음성군지방공무원정원조례중개정조례안을 상정합니다. 제안이유는 사회복지전문요원의 사기진작과 저소득층의 기초생활보장 업무를 원활히 추진하기 위하여 기존의 사회복지 전문요원 8명, 7급 상당 6명, 8급 상당 2명을 사회복지직으로 일반직화하고 사회복지전문요원이 배치되지 않은 맹동면에 사회복지직 정원1명을 보강토록 정원이 승인되었기 관련 조례를 개정코자 합니다. 주요골자는 정원의 증원은 현재 539명에서 540명으로 하고 현 별정직 8명을 일반직 사회복지직으로 하고 1명은 신규임용하며 사회복지직 직급별 승인인원은 7급 3명, 8급 3명, 9급 3명입니다.',\n",
       " '제89회 본회의 제1차(1999.11.11.) 음성 의사일정 제6항 환경오염 현지확인결과에 따른 조치결과 보고의건을 상정합니다. 지금부터 환경오염 현지확인결과 지적사항에 대한 조치결과를 보고 드리겠습니다. 지난 9월 30일부터 10월 2일까지 3일간 환경오염방지시설에 대한 현지 확인결과 19개소 중 총12개소에 환경관련법상 문제점이 도출되어 9개소는 조치 완료하였고 3개소는 추진 중에 있습니다.',\n",
       " '제89회 본회의 제1차(1999.11.11.) 음성 의사일정 제7항 제89회 임시회 휴회의건은 금번 회기중 1999행정사무감사자료준비특별위원회 활동을 하고자 하는 것으로 휴회의건은 의사일정으로 갈음하겠으니 양해하여 주시기 바랍니다. 1999행정사무감사자료준비특별위원회는 내일 오전 10시 소회의실에서 개최하오니 참고하여 주시기 바라며 별다른 의견이 없으시면 제89회 임시회 제1차 본회의를 모두 마치겠습니다. 산회를 선포합니다.(10시 55분 산회)',\n",
       " '제56회 본회의 제1차(1996.05.28.) 음성 의석을 정돈하여 주시기 바랍니다. 성원이 되었으므로 지금부터 제56회 음성군의회 임시회 제1차 본회의를 개의하겠습니다. 먼저 의사과장으로부터 보고가 있겠습니다.',\n",
       " '제56회 본회의 제1차(1996.05.28.) 음성 의사일정 제1항 제56회음성군의회임시회회기결정의건을 상정합니다. 제56회 음성군의회 임시회 회기는 여러 의원님들이 사전 양해하여 주신 것과 같이 5월 28일부터 6월 1일까지 5일간으로 하고자 합니다. 그리고 배부하여 드린 유인물과 같이 의사일정을 결정하고자 하는데 의원여러분! 이의 없습니까? (「없습니다」하는 의원 있음) 이의가 없으므로 가결되었음을 선포합니다.',\n",
       " '제56회 본회의 제1차(1996.05.28.) 음성 의사일정 제2항 회의록서명의원 선출의건을 상정합니다. 제56회 임시회 회의록 서명 의원으로는 여러 의원님들이 사전에 양해하여 주신대로 강대식 의원님, 박희남 의원님을 선출하고자 하는데 의원여러분! 이의 없습니까? (「없습니다」하는 의원 있음) 이의가 없으므로 강대식의원님, 박희남의원님이 회의록 서명 의원으로 선출되였음을 선포합니다. 두 분의원님께서는 수고하여 주시기 바랍니다.',\n",
       " '제56회 본회의 제1차(1996.05.28.) 음성 의사일정 제3항 1996년도제1회세입ㆍ세출추가경정예산안을 상정합니다. 금번 우리 군에서 편성한 1996년도 제1회추가경정예산안에 대하여 중요한 내용위주로 제안 설명을 드리겠습니다. 이와 같이 편성된 우리군의 재정 규모는 기정예산 1,404억2천6백만원보다 127억8천만원 9.2% 증액된 1,532억6백만원이 되겠습니다.',\n",
       " '제56회 본회의 제1차(1996.05.28.) 음성 의사일정 제4항 예산결산특별위원회구성결의안을 상정합니다. 제1회추경예산안에 대하여는 예산결산특별위원회를 구성하여 심의하기로 하고 의원님들께서 사전에 양해하여 주신대로 바로 특별위원회를 구성하도록 하겠습니다. 예산결산특별위원회 구성은 의원님께서 7인으로 특별위원회를 구성하는 것으로 의견이 모아진 사항으로 사회자인 본인이 특별위원회 위원을 지명하겠습니다.',\n",
       " '제56회 본회의 제1차(1996.05.28.) 음성 의사일정 제5항 음성군폐기물관리조례제정조례안을 상정합니다. 이에 따라서 저희들 군에서 적용할 폐기물관리 조례가 전반적으로 재검토 되어서 제정해야 될 필요가 있게 되었습니다. 주요내용을 말씀드리면 먼저 기존에 음성군일반폐기물의배출방법및수수료등의부과.징수에관한조례와 음성군과태료부과징수에관한조례를 폐지하고 이조례에서 규정하고 있던 내용들을 통합해서 음성군폐기물관리조례를 제정하는 것으로 되어있습니다.',\n",
       " '제56회 본회의 제1차(1996.05.28.) 음성 의사일정 제6항 음성군지역농업개발센터설치운영조례제정조례안을 상정합니다. 첫 번째 주요골자에 세 번째 시설 및 장비의 확보기준을 정하고 운영결과 정립된 새 기술과 우량종묘는 농가에 신속히 보급하고자 하는데 그 주요한 내용이 되겠습니다. 다음 지역농업개발센터설치운영조례안의 중요한 내용만 보고를 드리면 제3조 기능에 있어서는 시설과 포장의 연중활용으로 다수 농업인의 편익을 제공하고 영농헌장에서 발생하는 애로 기술을 신속하게 해결하며 농업인의 필요한 영농 상담을 한자리에서 할 수 있도록 하여 지역농업 개발의 중추적 역할을 수행하도록 하였고 제5조 교육에 있어서는 교육을 희망하는 농업인을 대상으로 실기, 실습, 교육 위주로 편성 운영하고 제6조 시설 및 장비확보 기준으로는 첫째 새 기술 실증시범포입니다.',\n",
       " '제56회 본회의 제1차(1996.05.28.) 음성 의사일정 제7항 음성군사무의읍면위임조례중개정조례안을 상정합니다. 첫 번째 개정사유로는 지방화 시대를 맞아서 자치행정의 내실을 기하고자 지난 2월중 행정기구를 개편하여 업무를 추진하고 있으나, 기구 변동 후 개편된 기구의 명칭과 업무의 소관이 현행 위임조례의 내역과 상이한 사항이 있어서 이를 현직제와 일치되게 정비하고자 관련 조례를 개정하려는 사항입니다. 주요골자는 행정기구 개편에 따라 변경된 실과별 명칭을 정비하고 실 과간 업무 조정에 따른 조례상의 관련 업무를 현직제와 일치토록 관련 조항을 정비해서 개정되는 조례에 의해 신규로 삽입되거나 삭제되는 업무는 없습니다.',\n",
       " '제56회 본회의 제1차(1996.05.28.) 음성 의사일정 제8항 음성군세조례중개정조례안을 상정합니다. 개정사유로는 1996년도부터 시행되는 개정 지방세법 법령에 따라 음성군세조례 중 개정할 사항 및 현행 조례운영상 미비점을 보완코자 하는 사항입니다. 다음은 동 조례 제15조 제1항 제1호에 개인은 군내에 주소를 둔 개인은 1천원으로 명시되고 군내에 사업장을 둔 개인 5만원까지로 신설하는 사항입니다.',\n",
       " '제56회 본회의 제1차(1996.05.28.) 음성 의사일정 제9항 음성군노인복지기금설치및운용관리조례중개정조례안을 상정합니다. 개정사유는 “기부금품모집금지법”이 “기부금품모집규제법”으로 1995. 12. 30일 개정 공포되면서 기부금품 모집 허가대상이 축소됨에 따라 관계법령에 위반되는 사항이 있어 관련 조례를 개정하고자 하는 사항입니다. 개정 주요골자는 현행 조례 중 적립기금은 음성군의 출연금, 노인단체 등의 출연금, 기관단체 독지가가 기탁한 성금 또는 물품, 기타재산, 기금운용으로 생기는 수익금 등의 재원으로 조성하는 것으로 되었으나, 이중 기관단체, 독지가가 기탁한 성금 또는 물품, 기타재산은 기부금품 모집 규제법에 위배하므로 삭제하고자 하는 사항입니다.',\n",
       " '제56회 본회의 제1차(1996.05.28.) 음성 의사일정 제10항 음성군실내체육관건립계획승인안을 상정합니다. 사업개요는 사업추진 목적으로 군민의 체육증진을 위한 시설로 건립과 대규모행사를 실내에서 전천후 가능토록 추진하고 문화체육 및 군민 복지 공간 조성하는데 있습니다. 사업비는 39억3천6백만원 정도로 예상하고 있으며 이중 국. 도비가 9억5천4백만원, 군비 29억8천2백만원으로 계획하고 있습니다.',\n",
       " '제56회 본회의 제1차(1996.05.28.) 음성 의사일정 제11항 1995년이월사업현지확인결과보고의건을 상정합니다. 의원님들께서 지난 55회 임시회 회기 내 특별위원회 활동을 하신 1995이월사업현지확인결과보고를 듣도록 하겠습니다. 1995이월사업의 추진실태를 파악하여 문제점을 도출하고 필요한 조치를 강구하여 부실공사를 사전에 예방함은 물론사업의 성과를 높이는데 기여하고자 이월사업 88건 중 23개소를 표본 추출하여 현지확인을 실시한 결과 완전한 지방자치 시대를 맞아 관계공무원들이 책임감을 가지고 열심히 설계에 의한 완벽한 시공과 공기 내 공사추진을 위해 공사독려와 지도 감독을 실시하여 대체적으로 활발하게 공사가 추진되고 있었으나 현지 방문 시 연계사업 등의 사유로 인하여 미 착공된 사업장도 3개소가 있었습니다.',\n",
       " '제56회 본회의 제1차(1996.05.28.) 음성 제56회 임시회 본회의 휴회의건은 금번 회기 중 예산 결산특별위원회 활동을 하고자 하는 것으로 휴회의건은 의사일정으로 갈음하겠으니 양해하여 주시기 바랍니다. 예산결산특별위원회 활동과 관련하여 금일 14시에 소회의실에서 예산결산특별위원회 회의가 개최되며 제2차 본회의는 6월 1일 11시에 개의하고자 하오니 의원여러분께서는 참고하여 주시기 바랍니다. 별다른 의견이 없으시면 제56회 임시회 제1차 본회의를 모두 마치고자 합니다.',\n",
       " '제138회 전라북도 완주군의회(임시회) 제2호 본 회 의 회 의 록 완주 의석을 정돈하여 주시기 바랍니다. 성원이 되었으므로 제138회 완주군의회 임시회 제2차 본회의 개의를 선포합니다. 먼저 의사담당으로부터 보고가 있겠습니다.',\n",
       " '제138회 전라북도 완주군의회(임시회) 제2호 본 회 의 회 의 록 완주 의사일정 제1항, 의사일정변경의 건을 상정합니다. 본 건은 2007년 9월 11일 제1차 본회의 시 의결한 바 있는 의사일정 중 완주군부동산투기지역지정철회재촉구건의안이 회기 중에 제출되어 금일 제2차 본회의에서 제안설명을 듣고 처리하기 위하여 의사일정을 변경하고자 합니다. 의원 여러분 이의 없으십니까? (『없습니다』하는 의원 있음) 이의가 없으므로 가결되었음을 선포합니다.',\n",
       " '제138회 전라북도 완주군의회(임시회) 제2호 본 회 의 회 의 록 완주 다음은 의사일정 제2항 완주군 지방별정직공무원의 범위에 관한 조례 일부개정조례안을 상정합니다. 제138회 완주군의회 임시회 기간 중 완주군수로부터 제출된 완주군 지방별정직 공무원의 범위에 관한 조례 일부 개정조례안에 대한 심사 결과를 보고 드리겠습니다. 아무쪼록 본 위원회에서 충분한 질의답변과 심도있는 검토 및 토론을 거쳐 심사 의결한 완주군 지방별정직 공무원의 범위에 관한 조례 일부 개정조례안을 원안대로 심사의결하여 주시기를 부탁드립니다.',\n",
       " '완주군의회 산업 건설위원회 위원장 김상식 의원입니다. 제138회 완주군의회 임시회 중 집행부에서 제출한 산업 건설위원회 소관인 완주군 도시계획조례 일부개정조례안에 대한 심사 결과를 보고 드리겠습니다. 본 개정조례안은 국토의 계획 및 이용에 관한 법률 시행령 개정으로 관리지역 계획관리지역 안에서 부지면적 1만 제곱미터 미만의 소규모 공장을 군 계획위원회의 심의를 거쳐 제한적으로 허용하고 도시지역 안에서만 토지분할에 대한 개발행위허가를 받았으나 도시지역 외의 지역도 관계법령에 의한 인 허가 등을 받지 아니하고 토지를 분할하는 경우 분할제한 면적을 녹지지역에서는 200제곱미터 이상, 보전지역에서는 60제곱미터 이상은 개발 행위허가를 받도록 규정하였으며, 준공업지역에 노인복지주택이 과다하게 설치되면 산업기반이 잠식되어 생산기능이 떨어지는 문제가 발생되므로 제한하였으며, 주거지역 상업지역 안에서 토지의 형질변경과 주거 상업지역 안에서 1만 제곱미터이상, 공업지역 안에서 3만 제곱미터 이상은 군 계획 위원회 심의를 받도록 하였으나 법률에 명시되어 있으므로 삭제하고, 건축법시행령의 개정으로 건축물 용도분류 체계가 변경됨에 따라 용도지역 용도지구 용도구역 안에서 건축 가능한 건축물의 용도를 변경된 건축물의 용도분류 체계에 맞추어 정비하기 위한 조례안으로서 집행부에서 제출한 원안대로 심사 의결하였습니다.',\n",
       " '제138회 전라북도 완주군의회(임시회) 제2호 본 회 의 회 의 록 완주 다음은 의사일정 제4항 완주군부동산투기지역지정철회재촉구건의안을 상정합니다. 그러나 정부에서는 우리 완주군 이서면이 혁신도시로 지정됨에 따라 지가 상승 우려감으로 완주군 전 지역인 13개 읍면 전 지역을 지난 2006년 1월 20일 토지투기지역으로 지정한 바 있다. 완주군 지역이 토지투기지역으로 지정된 이후 토지거래가 급감하는 등 지역경제가 위축되고 있으며 토지투기지역 지정에 따른 부동산 투기지역이라는 대외 이미지 훼손 등으로 기업투자가 잘 이루어지지 않아 지역발전에 큰 장애 요인이 되고 있는 현실에 참여정부가 추진하고 있는 지역균형발전에 크나큰 저해요소로 전락하고 말았다.',\n",
       " '성원이 되었으므로 지금부터 제187회 음성군의회 임시회 제1차 본회의를 개의하겠습니다. 먼저 의회사무과장으로부터 보고가 있겠습니다. 2008년 1월 22일 제1차 본회의에서 원안 의결하였던 음성군의회 위원회조례 일부개정조례안, 음성군 기본계획수립에 대한 의견 제시의 건, 음성중앙성심병원 보건위생시설 조성에 따른 도시관리계획결정 의견 제시의 건 등 3개의 안건은 1월 24일자로 집행부에 이송하였으며, 음성군의회 회의규칙 일부개정규칙안도 동일자로 군보에 게재하여 줄 것을 의뢰하였습니다.',\n",
       " '제187회 본회의 제1차(2008.02.12.) 음성 의사일정 제1항, 제187회 음성군의회 임시회 회기결정의 건을 상정합니다. 제187회 음성군의회 임시회 회기는 음성군의회 회기와 그 운영 등에 관한 조례 제3조제2항의 규정 및 의원님들께서 사전에 협의하여 주신 것과 같이 2월 12일부터 2월 15일까지 4일 동안으로 하고자 합니다. 그리고 이번 임시회 주요 의사일정은 2007년도 행정사무감사 시정요구사항 조치결과보고의 건과 조례 개정안 1건이 접수되었습니다.',\n",
       " '제187회 본회의 제1차(2008.02.12.) 음성 의사일정 제2항, 회의록 서명의원 선출의 건을 상정합니다. 제187회 음성군의회 임시회 회의록 서명의원으로는 여러 의원님들께서 사전에 양해하여 주신대로 이한철 부의장님, 최임순 의원님을 선출하고자 하는데, 의원 여러분! 이의가 없으신지요? (「없습니다」하는 의원 있음) 의원님들의 이의가 없으므로 이한철 부의장님, 최임순 의원님이 회의록 서명의원으로 선출되었음을 선포합니다. 두 분 의원님께서는 수고하여 주시기 바랍니다.',\n",
       " '제187회 본회의 제1차(2008.02.12.) 음성 의사일정 제3항, 음성군 여비 조례 일부개정조례안을 상정합니다. 음성군 여비 조례 일부개정조례안에 대해서 제안설명을 드리겠습니다. 개정이유는 2008년도부터는 실비정산제 도입으로 음성군 여비 조례의 준용법인 「공무원여비규정」이 개정됨에 따라서 이에 맞게 개정하고 그밖에 현행 규정의 일부 미비점을 개선ㆍ보완하려는 것입니다.',\n",
       " '제246회 완주군의회(제2차 정례회) 제1차 본 회 의 회 의 록 완주 의석을 정돈하여 주시기 바랍니다. 성원이 되었으므로 제246회 완주군의회 제2차 정례회 제1차 본회의 개의를 선포합니다. 먼저 의사팀장으로부터 의회 관련 사항에 대한 보고가 있겠습니다.',\n",
       " '제246회 완주군의회(제2차 정례회) 제1차 본 회 의 회 의 록 완주 의사일정 제1항 제246회 완주군의회 제2차 정례회 회기 결정의 건을 상정합니다. 제246회 완주군의회 제2차 정례회 회기는 운영위원회 협의 및 의원 간담회를 통해 협의해주신 대로 11월 12일부터 12월 11일까지 30일간으로 회기를 결정하고자 합니다. 의원 여러분 이의 있습니까? (“없습니다” 하는 의원 있음) 이의가 없으므로 가결되었음을 선포합니다.',\n",
       " '제246회 완주군의회(제2차 정례회) 제1차 본 회 의 회 의 록 완주 의사일정 제2항 제246회 완주군의회 제2차 정례회 회의록 서명의원 선출의 건을 상정합니다. 회의록 서명의원으로 윤수봉 의원님과 유의식 의원님을 선출하고자 하는데 의원 여러분 이의 있습니까? (“없습니다” 하는 의원 있음) 이의가 없으므로 가결되었음을 선포합니다. 그럼 두 분 의원님들께서는 본 회기 동안 수고하여 주시기 바랍니다.',\n",
       " '제246회 완주군의회(제2차 정례회) 제1차 본 회 의 회 의 록 완주 의사일정 제3항 완주군수 및 관계 공무원 출석 요구의 건을 상정합니다. 제246회 완주군의회 정례회 기간 중 완주군수 및 관계 공무원 출석 요구의 건에 대해 제안 설명을 드리겠습니다. 본 안건은 지방자치법 제42조제2항 및 완주군의회 회의규칙 제75조에 따른 것으로, 이번 정례회 기간 중 실시되는 군정질문에 대한 집행부 측의 책임 있는 답변을 듣고자 오는 12월 3일 제3차 본회의에 완주군수 등 관계 공무원의 출석을 요구하는 것입니다.',\n",
       " '제246회 완주군의회(제2차 정례회) 제1차 본 회 의 회 의 록 완주 의사일정 제4항 본회의 휴회의 건을 상정합니다. 행정사무감사 등 특위 활동을 위하여 11월 13일부터 11월 21일까지 9일 동안 본회의를 휴회하고자 하는데 의원 여러분 이의 있습니까? (“없습니다” 하는 의원 있음) 이의가 없으므로 가결되었음을 선포합니다. 제2차 본회의는 11월 22일 오전 10시에 개의하겠습니다.',\n",
       " '방금 전 제278회 임시회 제1차 본회의에서 주요사업 현지확인 특별위원회 위원으로 일곱 분이 선출되셨습니다. 선출되신 일곱 분 모두 참석하시어 정족수에 달하였으므로 「음성군의회 위원회 조례」제3조제2항의 규정에 따라 다선위원 중 연장위원이신 조천희 위원님의 사회로 위원장을 선출하겠습니다. 지금부터 주요사업 현지확인 특별위원회 제1차 회의를 개회하겠습니다.',\n",
       " '제278회 주요사업현지확인특별위원회 제1차(2016.05.16.) 음성 의사일정 제1항, 위원장ㆍ간사 선임의 건을 상정합니다. 특별위원회 위원장과 간사의 선임은 「음성군의회 위원회 조례」제3조제1항 및 제6조제2항에 따라 위원회에서 호선하여 본회의에 보고하게 되어 있습니다. 이번 특별위원회의 현지확인은 수레울권역단위 종합정비사업, 감곡 사곡지구 재해예방사업, 금왕 공공하수처리장 처리시설 등 총 7개소를 19일부터 20일까지 이틀 동안 확인하겠습니다.',\n",
       " '제278회 주요사업현지확인특별위원회 제1차(2016.05.16.) 음성 의사일정 제2항, 주요사업 현지확인 특별위원회 운영계획안을 상정합니다. 계획안에 대하여 위원 여러분! 이의 없으십니까? (「없습니다」하는 위원 있음) 이의가 없으므로 주요사업 현지확인 특별위원회 운영 계획안은 원안대로 가결되었음을 선포합니다. 주요사업 현지확인은 19일 오전 10시에 수레울권역단위 종합정비사업부터 시작할 예정이며, 곧이어 오후 2시 45분부터 정례 의원간담회가 개최되오니 참석하여 주시기 바랍니다.',\n",
       " '청주시의회 회의록 >제31회 제1호 본회의(2017.11.28 화요일) 청주 의석을 정돈해 주시기 바랍니다. 성원이 되었으므로 제31회 청주시의회(2017년도제2차정례회) 제1차 본회의 개의를 선포하겠습니다.',\n",
       " '청주시의회 회의록 >제31회 제1호 본회의(2017.11.28 화요일) 청주 회의 진행에 앞서 이범석 시장권한대행으로부터 11월 인사이동에 따른 승진 및 전보된 간부공무원에 대한 소개가 있겠습니다. 지난 11월 9일 청주시장 궐위 상황이 발생한 것과 관련하여 저를 비롯한 3,500여 공직자는 현 상황의 엄중함을 깊이 인식하고 본연의 업무에 전념하여 청주시정이 흔들림 또한, 한 달여밖에 남지 않은 2017년 우리 시가 당면한 여러 현안과 추진 중인 사업들을 성공적으로 마무리하고 다가오는 2018년에도 시민을 위한 새로운 사업들을 더 역동적으로 추진할 수 있도록 황영호 의장님과 의원님들의 많은 관심과 협조를 부탁드리면서 지난 11월 1일 자로 인사이동 된 간부공무원을 소개해 드리겠습니다.',\n",
       " '｢지방자치법｣ 제44조 및 같은 법 시행령 제54조, ｢청주시의회 회기운영 등에 관한 조례｣ 제3조에 의거 2017년 11월 23일 집회공고를 하고, 금일 제31회 청주시의회(2017년도제2차정례회) 제1차 본회의를 개의하게 되었습니다. 의장으로부터 제31회 청주시의회(2017년도제2차정례회) 회기결정의 건이 제의되었습니다. 다음은 의원 발의 의안으로 이재길 의원님이 대표 발의하신 청주시장 및 관계공무원 출석요구의 건, 박상돈 의원님이 대표 발의하신 ｢청주시 에너지 기본 조례 일부개정조례안｣, 이우균 의원님이 대표 발의하신 ｢청주시 도시가스 공급사업 보조금 지원 조례 일부개정조례안｣, ｢청주시 외국 지방자치단체 간 교류협력에 관한 조례 일부개정조례안｣, ｢청주시 지방보조금 관리 조례 일부개정조례안｣, 이유자 의원님이 대표 발의하신 ｢청주시 임산부 전용주차구역 설치 및 운영에 관한 조례안｣, 유재곤 의원님이 대표 발의하신 ｢청주시 폐기물처리시설 주민지원기금 운용 조례 일부개정조례안｣, 김현기 의원님이 대표 발의하신 ｢청주시 각종 위원회 설치 및 운영 조례 일부개정조례안｣, ｢청주시 자치법규 입법에 관한 조례 일부개정조례안｣, ｢청주시 제안 운영 조례 일부개정조례안｣, ｢청주시 공공조형물 건립 및 관리 등에 관한 조례 일부개정조례안｣, 신언식 의원님이 대표 발의하신 ｢청주시 경관 조례 일부개정조례안｣, ｢청주시 금강수계 주민지원사업 시행절차 등에 관한 조례 일부개정조례안｣, 김태수 의원님이 대표 발의하신 ｢청주시 옥외광고물 등 관리 조례 전부개정조례안｣, ｢청주시 시유재산찾기 지원 조례안｣, ｢청주시 도시 및 주거환경정비 조례 일부개정조례안｣, 한병수 의원님이 대표 발의하신 ｢청주시 녹색사업육성기금 설치 및 운용 조례 일부개정조례안｣, 박현순 의원님이 대표 발의하신 ｢청주시 소규모급수시설 관리 조례 일부개정조례안｣, 변종오 의원님이 대표 발의하신 ｢청주랜드 시설운영 및 관리에 관한 조례 일부개정조례안｣, 박정희 의원님이 대표 발의하신 ｢청주시 읍ㆍ면복지회관 설치ㆍ운영 조례 일부개정조례안｣, 이재길 의원님이 대표 발의하신 ｢청주시 행정동ㆍ리, 통ㆍ반 설치 및 동장ㆍ이장 정수 조례 일부개정조례안｣, 최진현 의원님이 대표 발의하신 ｢청주시 공동주택 관리 조례 일부개정조례안｣ 등 모두 22건의 의원 발의 안건이 접수되었습니다.',\n",
       " '의사일정 제1항 제31회 청주시의회(2017년도제2차정례회) 회기결정의 건을 상정합니다. 이번 정례회 회기는 의회운영위원회와 협의한 바와 같이 11월 28일부터 12월 19일까지 22일간으로 하고자 하는데 의원 여러분, 이의 없으십니까? 이의가 없으므로 가결되었음을 선포합니다.',\n",
       " '제302회 본회의 제5차(2018.07.20.) 음성 의석을 정돈하여 주시기 바랍니다. 성원이 되었으므로 지금부터 제302회 음성군의회 제5차 본회의를 개의하겠습니다.',\n",
       " '제302회 본회의 제5차(2018.07.20.) 음성 의사일정 제1항, 2018년 하반기 주요업무 보고의 건을 상정합니다. 오늘은 보건소, 농업기술센터 순으로 보고를 받겠습니다. 그러면 먼저 보건소장께서는 나오셔서 보고하여 주시기 바랍니다.',\n",
       " '본 의원이 질의할 것은 21쪽 모자건강관리 및 지원사업에 대해서 질의를 하겠습니다. 지금 현재 15만 음성시 건설을 위한 일환으로 음성군에서도 인구 늘리기를 시행하고 있습니다. 인구증가시책에 관심을 가져주신 의원님께 먼저 감사를 드리면서 저희가 현재 인구증가시책으로 출산장려금제도를 실시하고 있습니다.',\n",
       " '제302회 본회의 제5차(2018.07.20.) 음성 농업기술센터소장 전만동입니다. 농업기술센터 2018년도 하반기 주요업무 계획을 보고드리겠습니다. (「2018년도 하반기 주요업무 보고」 부록에 실음) 이상으로 농업기술센터 2018년 하반기 주요업무계획 보고를 마치겠습니다. 음성군이 좋은 조건의 농업군으로 해서 귀농ㆍ귀촌이 많이 늘어나고 있는데 도시농업팀 하나가 더 만들어졌으면 좋겠고요.',\n",
       " '성원이 되었으므로 지금부터 제161회 음성군의회 임시회 제2차 본회의를 개의하겠습니다. 먼저 의회사무과장으로부터 보고가 있겠습니다. 그리고 지난 10월 4일 예산·결산 특별위원회 제1차 본회의에서 위원장에는 강연수 의원님을 위원장으로 이준구 의원님을 간사위원으로 선임하여 10월 4일부터 3일간에 걸쳐 심의한 제2차 세입·세출 추가경정예산안 및 동 예산안에 대한 수정예산안에 대해서 심사결과를 보고하시겠다는 강연수 위원장님의 통보가 있었습니다.',\n",
       " '제161회 본회의 제2차(2005.10.07.) 음성 의사일정 제1항, 제161회 음성군의회 의사일정 변경의 건을 상정합니다. 지난 제1차 본회의에서 결정된 의사일정 중 금일 일정을 의원님들이 사전에 양해하여 주신대로 배부하여 드린 유인물과 같이 의사일정을 변경하고자 하는데 의원 여러분, 이의가 없으십니까? (「없습니다」하는 의원 있음) 이의가 없으시므로 가결되었음을 선포합니다.',\n",
       " '예산·결산특별위원회에서 그동안 심의하신 2005년도 제2회 추가경정예산안에 대한 심사결과 보고가 있겠습니다. 예산·결산특별위원회 위원장 강연수 의원입니다. 지난 10월 4일부터 10월 6일까지 3일간에 걸쳐 2005년도 제2회 세입·세출 추가경정예산안을 심의한 결과를 보고 드리겠습니다.',\n",
       " '음성군 행정기구 설치조례 일부개정조례안을 설명 드리겠습니다. 제안이유는 정책추진팀과 서울사무소 신설 및 수상레저안전법 공포에 따른 사무를 분장하기 위해서 제안을 하게 되었습니다. 제안자 의견은 정책추진팀과 서울사무소를 신설을 해서 군의 새로운 대형정책을 추진을 하고 현안사업에 필요한 국비확보와 중앙정부와의 원활한 대화창구를 개설을 해서 군정의 발전을 도모하고 수상레저안전사무를 신설해서 분장하고자 하는 사항으로는 원안대로 심의·의결하여 주시면 대단히 감사하겠습니다.',\n",
       " '제안이유로는 2005년도 개별공시지가 공시일의 변경으로 과세표준의 2개년 상승분이 일시에 반영되어 군민부담이 증가함에 따라서 지가가 상승된 토지에 한해서 세부담을 감면 해 주는 내용이 되겠습니다. 개정 주요내용으로는 2005년도 토지에 대한 재산세의 과제표준을 적용함에 있어서 2005년도에 공시된 개별공시지가가 2004년도에 공시된 개별공시지가보다 상승한 경우에는 그 공시지가상승분의 100분의 50을 경감한 후 가액을 2005도의 개별공시지가로 적용하는 주요 내용이 되겠습니다. 2005년도에 토지에 대한 재산세의 과표 표준을 적용함에 있어 2005년에 공시된 개별공시지가가 2004년도에 공시된 개별공시지가보다 상승한 경우에는 그 공시지가상승분의 100분의 50을 경감한 후에 가액을 2005년도 개별공시지가로 적용한다, 이렇게 신설하는 내용이 되겠습니다.',\n",
       " '제161회 본회의 제2차(2005.10.07.) 음성 의사일정 제6항, 2005년도 공유재산 관리계획 변경계획안을 상정합니다. 안건은 소이면 청사 증축계획과 감곡면 청사 증축계획, 대소 미곡1리 마을정비사업에 따른 부지매입이 되겠습니다. 제안이유로는 지방재정법 제78조에 규정에 의거 음성군 공유재산심의회 심의를 거친 소이면 청사 증축과 감곡면 청사 증축, 대소미곡1리 마을정비사업에 따른 부지매입 계획과 관련하여 지방재정법 제77조 및 동법시행령 제84조의 규정에 의한 공유재산의 취득에 앞서 음성군의회의 의결을 받고자 하는 내용이 되겠습니다.',\n",
       " '제122회 본회의 제2차(2002.10.31.) 음성 의석을 정돈하여 주시기 바랍니다. 성원이 되었으므로 지금부터 제122회 음성군의회 임시회 제2차 본회의를 개의하겠습니다. 먼저 사무과장으로부터 보고가 있겠습니다.',\n",
       " '제122회 본회의 제2차(2002.10.31.) 음성 의사일정 제1항, 2002년 공유재산관리계획변경계획안을 상정합니다. 2002년도공유재산관리계획변경계획안에 대한 설명을 드리겠습니다. 금왕 다목적운동장 조성공사, 음성문화예술회관건립부지취득의건, 음성지구노인종합복지회관증축계획변경안, 삼성어린이집증축계획변경의건 등 4건이 되겠습니다.',\n",
       " '제122회 본회의 제2차(2002.10.31.) 음성 의사일정 제2항, 2002년도세입·세출추가경정예산안을 상정합니다. 지난 10월 28일부터 10월 30일까지 3일간에 걸쳐 2002년도 제2회 세입·세출 추가경정예산안을 심의한 결과에 대하여 보고 드리겠습니다. 제2회세입·세출추가경정예산안에대한수정예산안이 10월 28일 제출되어 제2회 추경예산과 함께 심의를 하였으며, 수정예산은 당초예산 2,062억 9,868만 3천원보다 3억 3천만원이 증액된 2,066억 2,868만 3천원으로 제출되었습니다.',\n",
       " '제90회 본회의 제5차(1999.12.16.) 음성 의석을 정돈하여 주시기 바랍니다. 성원이 되었으므로 지금부터 제90회 음성군 의회 정기회 제5차 본회의를 개의하겠습니다. 먼저 의사과장으로부터 보고가 있겠습니다.',\n",
       " '제90회 본회의 제5차(1999.12.16.) 음성 의사일정 제1항 1998년도 세입.세출결산및예비비지출승인안을 상정합니다. 1998년도 세입·세출결산및예비비지출승인안에 대해 본 위원회에서 심사를 마치고 그 결과를 보고 드리겠습니다. 결산심사는 예산결산특별위원회에서 1998년도 일반회계와 상수도 특별회계 외 7개 특별회계로 세입·세출결산안 및 예비비 지출승인안을 1999년 12월 9일에 심도있게 심의하였습니다.',\n",
       " '예산결산특별위원회에서 2000년도 세입.세출예산안에 대하여 그동안 심의하신 심사결과에 대한 보고가 있겠습니다. 지난 11월 18일 음성군수로부터 제출되어 심사한 2000년도 세입·세출 예산안은 일반회계 및 8개 특별회계로 편성 제출되어 지난 12월 9일부터 12월 15일까지 6일 동안 본 의원을 포함하여 여덟 분의 의원과 실과소장이 참석한 가운데 그 어느 때보다도 진지하고 심도있게 본 예산을 심의 하였습니다. 세입여건은 내년에도 크게 나아지기 어려울 전망으로서 계속사업과 공공근로 사업등 어려운 계층에 대한 사회안전망 확충사업은 적극 지원하되, 신규사업과 연례적인 각종 행사는 가급적 축소, 통합토록 유도하였고 특정 목적으로 별도 관리하는 각종 기금에 대해서는 사업의 효과를 엄격히 재검토하여 예산의 낭비요인을 과감히 제거함으로서 재정의 투명성과 탄력성을 제고토록 심도 있게 심의하였습니다.',\n",
       " '오늘 제90회 정기회에서 본 건의안을 동료의원과 함께 발의하여 제안설명을 드리고자 이 자리에 나왔습니다. 선거구 획정에 따른 건의안을 채택하여 대통령, 국민회의총재 권한대행, 자유민주연합총재, 한나라당 총재에게 건의하고자 합니다. 제안이유로는 선거구 획정을 함에 음성군이 독립선거구인 괴산군보다 인구수가 많음에도 불구하고 진천군과 한선거구로 획정됨은 큰 모순이어서 음성군을 단일선거구로 조정하여 줄 것을 건의하고자 합니다.',\n",
       " '제90회 본회의 제5차(1999.12.16.) 음성 의사일정 제4항 관계공무원 출석요구의 건을 상정합니다. 경진년 새해에는 군민의 기대에 부응하는 참실천 행정이 펼쳐지기를 기대하면서 제안 설명을 드리겠습니다. 먼저 주문으로 제90회 정기회에서 군정전반에 관한 의원들의 질문에 대한 답변을 듣고자 군수 및 관계공무원의 출석을 요구하는 것이며, 제안사유로는 군정질문에 대한 답변을 통하여 군정을 파악하고 이해하며 군민의 의사를 군정에 반영시키기 위해서 제안하는 것입니다.',\n",
       " '제90회 본회의 제5차(1999.12.16.) 음성 의사일정 제5항 달천댐건설 반대건의안을 상정합니다. 제반 정황으로 볼 때 달천댐 건설이 현실화 될 가능성이 매우 큰 것으로 판명되고 있어 달천댐이 건설될 경우 우리 음성지역도 피해가 예상됨에 따라 달천댐 건설을 중지하여 줄 것을 대통령, 국무총리, 건설부장관, 수자원공사 사장에게 건의하고자 합니다. 제안이유로는 기존의 충주댐과 대청댐 건설로 인하여 자연환경의 변화에 따른 우리 지역의 피해가 극심한 상황에서 또다시 달천댐을 건설 한다는 것은 우리지역을 도외시 하는 처사로 묵과 할 수 없는 일이며 달천댐 건설 계획이 계속 추진된다면 군민 모두는 인근 시군 및 민간단체 등과 연대하여 반대운동을 전개하고자 합니다.',\n",
       " '제90회 본회의 제5차(1999.12.16.) 음성 의사일정 제6항 호남고속철도 오송기점역설치를위한건의안을 상정합니다. 제90회 정기회도 이젠 중턱을 넘어 새천년을 보름 앞두고 있습니다. 제안이유로 호남고속철도 오송기점역을 설치하여 국가 전체의 획기적인 균형발전을 촉진하고 발전에 소외된 충북지역의 발전을 앞당기기 위하여 천안기점을 재검토하여 줄 것을 건의 하고자 하는 것입니다.',\n",
       " '제90회 본회의 제5차(1999.12.16.) 음성 의사일정 제7항 음성군준농림지역내음식,숙박시설설치에관한조례안을 상정합니다. 경진년 새해에는 군민 모두에게 참행정이 펼쳐지기를 기대하면서 제안설명을 드리겠습니다. 먼저 제정이유로는 준농림지역내에서수질오염및경관훼손의 우려가 없는 범위내에서 음식.숙박업등의 설치를 허용함으로서 국토이용의 효율화를 이루고자 본 조례를 제정하고자 합니다.',\n",
       " '제90회 본회의 제5차(1999.12.16.) 음성 의사일정 제8항 의회기및 의원배지에관한규칙중개정규칙안을 상정합니다. 음성군의회기및의원배지에관한규칙중개정 규칙안에 대한 제안설명을 드리겠습니다. 개정이유로는 음성군 CI개발 완료에 따라 의회기의 규격, 모형, 문장이 변경되어 개정하고자 합니다.',\n",
       " '제90회 본회의 제5차(1999.12.16.) 음성 의사일정 제9항 음성군수질개선특별회계설치및운영조례안을 상정합니다. 음성군 수질개선특별회계설치및운영조례안에 대하여 제안 설명드리겠습니다. 제정이유로는 한강수계 상수원 수질개선과 주민지원사업의 효율적인 추진을 위하여 한강수계상수원수질개선및주민지원등에관한법률 제16조의 규정에 의한 수질개선특별회계의 설치 및 운영에 관하여 필요한 사항을 규정코자 조례를 제정코자 합니다.',\n",
       " '제90회 본회의 제5차(1999.12.16.) 음성 의사일정 제10항 1999공유재산관리계획변경안을 상정합니다. 제안이유는 지방재정법 제78조의 규정에 의거 재산의 취득, 처분 등의 자문을 위해 공유재산심의회의 심의를 거쳐 지방재정법 제77조의 규정에 의하여 군 의회의 의결을 받고자 하는 사항입니다. 본건은 군보건소와 맹동보건지소의 이전 신축에 따른 토지 및 건물의 취득과 꽃동네 구역내에 위치하고 있어 활용가치가 떨어진 토지를 매각하기 위한 군유재산의 변경사항이 되겠습니다.',\n",
       " '성원이 되었으므로 지금부터 제308회 음성군의회 임시회 본회의를 개의하겠습니다. 금번 임시회는 서효석 의원 외 2인의 의원으로부터 집회 소집요구가 있어 「지방자치법」제45조 규정에 따라 집회하게 되었습니다. 먼저 의회에서는 2019년 2월 12일자로 서형석 의원 외 7인의 의원으로부터 금왕테크노밸리산업단지 내 폐기물매립장 설치 반대 결의안이 접수되었으며, 음성군수로부터는 2019년 1월 21일 제307회 임시회에서 의결한 음성군의회 의원 의정활동비 등 지급에 관한 조례 일부개정조례안에 대하여 2019년 2월 1일 음성군수의 재의요구에 따라 오늘 본회의에 상정하게 되었습니다.',\n",
       " '제308회 본회의 제1차(2019.02.14.) 음성 의사일정 제1항, 제308회 음성군의회 임시회 회기결정의 건을 상정합니다. 제308회 음성군의회 임시회 회기는 「음성군의회 회기와 그 운영 등에 관한 조례」제3조제2항의 규정과 의원님들께서 사전에 협의하여 주신 대로 2월 14일부터 2월 20일까지 7일간으로 하고자 합니다. 그러면 배부하여 드린 유인물과 같이 의사일정을 결정하고자 하는데, 의원 여러분! 이의 없으십니까? (「없습니다」하는 의원 있음) 이의가 없으므로 가결되었음을 선포합니다.',\n",
       " '제308회 본회의 제1차(2019.02.14.) 음성 의사일정 제2항, 회의록 서명의원 선출의 건을 상정합니다. 제308회 임시회 회의록 서명의원으로는 의원님들께서 사전에 양해하여 주신 대로 김영섭 부의장님, 김영호 의원님을 선출하고자 하는데, 의원 여러분! 이의 없으십니까? (「없습니다」하는 의원 있음) 이의가 없으므로 김영섭 부의장님, 김영호 의원님이 회의록 서명의원으로 선출되었음을 선포합니다. 두 분 의원님께서는 수고하여 주시기 바랍니다.',\n",
       " '제308회 본회의 제1차(2019.02.14.) 음성 의사일정 제3항, 금왕테크노밸리산업단지 내 폐기물매립장 설치 반대 결의안을 상정합니다. 이에 음성군의회에서는 다음과 같이 강력히 반대하는 결의안을 채택하고자 합니다. 충북 음성군 금왕읍 일대는 일제 강점기부터 금광을 개발하여 지하에는 폐갱도가 거미줄처럼 얽혀 있고 지금도 파악되지 않은 폐갱도가 무수히 산재해 있다.',\n",
       " '제308회 본회의 제1차(2019.02.14.) 음성 의사일정 제5항, 2019년도 군정 주요업무 보고의 건을 상정합니다. 오늘은 기획감사실, 자치행정과 순으로 보고를 받겠습니다. 원활한 회의 진행을 위하여 2018년 주요 성과는 유인물로 갈음하고자 하오니 의원 여러분께서는 양해하여 주시기 바랍니다.',\n",
       " '제308회 본회의 제1차(2019.02.14.) 음성 기획감사실장 송동주입니다. 예, 전국에서 이런 도시브랜드 슬로건을 많이 개발해서 사용하고 있는데 저희 군도 시기적으로는 조금 늦었지만 이번에 개발을 제대로 해서 음성군을 전국에 알릴 수 있는 그런 브랜드로 개발토록 하겠습니다. 서효석 의원님 질의해 주시기 바랍니다.',\n",
       " '제308회 본회의 제1차(2019.02.14.) 음성 자치행정과장 이순원입니다. 2019년 군정 주요업무계획에 대해 보고드리겠습니다. (「2019년도 주요업무 계획」 부록에 실음) 이상으로 자치행정과 주요업무 보고를 마치겠습니다. 17쪽 보시면 내 고장 음성사랑 한마음 행사 추진 해서 5개 주요 단체장과 읍면장 및 담당부서장이 참여하는 화합행사 식으로 해서 화합과 소통을 이끌어내기 위해서 하신다고 하셨는데 지금 읍면에 기관ㆍ사회단체장 회의라든가 모임을 다달이 1번씩 하지 않나요?',\n",
       " '제98회 본회의 제1차(2000.08.31.) 음성 의석을 정돈하여 주시기 바랍니다. 성원이 되었으므로 지금부터 제98회 음성군의회 임시회 제1차 본회의를 개의하겠습니다. 먼저 의사과장으로부터 보고가 있겠습니다.',\n",
       " '제98회 본회의 제1차(2000.08.31.) 음성 의사일정 제1항 제98회 음성군의회임시회회기결정의건을 상정합니다. 제98회 음성군의회 임시회 회기는 여러 의원님들이 사전에 양해하여 주신 것과 같이 8월 31일 1일간으로 하고자 합니다. 그리고 배부하여 드린 유인물과 같이 의사일정을 결정하고자 하는데 의원여러분! 이의 없으십니까? (「없습니다」하는 의원 있음) 이의가 없으므로 가결되었음을 선포합니다.',\n",
       " '제98회 본회의 제1차(2000.08.31.) 음성 회의록서명의원선출의 건을 상정합니다. 제98회 임시회 회의록 서명 의원으로는 여러 의원님들이 사전에 양해하여 주신대로 김우식 의원님, 고재협 의원님을 선출하고자 하는데 의원 여러분! 이의 없으십니까? (「없습니다」하는 의원 있음) 이의가 없으므로 김우식 의원님, 고재협 의원님이 회의록 서명의원으로 선출되었음을 선포합니다. 두 분 의원님께서는 수고하여 주시기 바랍니다.',\n",
       " '제98회 본회의 제1차(2000.08.31.) 음성 의사일정 제3항 음성군군민대상에관한조례중개정조례안을 상정합니다. 제안사유는 음성군군민대상 본상 부분에 대한 수상분야를 시대의 변화에 맞게 새롭게 지정하여 군민대상의 위상과 의미를 더욱 높이고 출향인사 중 음성지역 발전에 크게 공헌한 자에 대하여 특별상을 수여함으로서 출향인사에 대한 사기를 북돋아 주고자 합니다. 음성군군민대상에관한조례중개정조례안을 검토한 바 음성군군민대상 시상부문을 시대의 변화에 맞게 재조정하여 군민대상의 위상을 높이고 소득증대에 기여함은 물론 출향인사에게도 애향심을 유도하여 사기를 북돋아 줌으로써 지역사회 발전에 동참하는 계기를 마련하고자 조례를 개정하는 것입니다.',\n",
       " '제98회 본회의 제1차(2000.08.31.) 음성 의사일정 제4항 2000년도공유재산관리계획변경계획안을 상정합니다. 제안사유는 벼 병해충 예찰포를 설치·운영하여 각종 병해충 발생을 조기에 예찰하고 방제대책 자료 및 보도 자료 등으로 활용하기 위한 예찰답을 취득하기 위해 공유재산심의회의 심의를 거친 바 지방재정법 제77조의 규정에 의하여 군의회의 의결을 받고자 하는 사항입니다. 제안자 의견으로는 벼 병해충 예찰업무 수행에 만전을 기하고자 사유지를 매입하기 위한 것으로써 원안대로 의결하여 주실 것을 부탁 올리겠습니다.',\n",
       " '제98회 본회의 제1차(2000.08.31.) 음성 의사일정 제5항 음성군산림욕장다목적시설설치및운영조례안을 상정합니다. 제안사유로는 삼림욕장 다목적 시설 운영 방법을 조례로 정하여 관리 및 이용객에 대하여 편의를 제공하고 주요골자로는 다목적 시설 이용에 대하여 전부 또는 일부를 민간인에게 위탁할 수 있는 근거를 마련했습니다. 음성군산림욕장다목적시설설치및운영조례안을 검토한 바 음성군은 경제적으로 높은 소득은 올리고 있으나 군민을 위한 휴식 공간 시설이 매우 부족한 실정이므로 아름다운 자연환경과 삼림욕로, 쉼터와 정자 등이 어우러져 있는 봉화골 산림욕장에 매점, 전시실 및 회의실 등 다목적 시설을 신축하여 군민의 여가활용과 정서 함양에 기여하고자 하는 것입니다.',\n",
       " '지난 7월 10일 제182회 완주군의회 제1차 정례회 제1차 본회의 의결로 의장님을 제외한 아홉분의 의원님이 완주군의회 예산결산특별위원회 위원으로 선임되었습니다. 오늘은 그중 제1차 회의로 먼저 예산결산특별위원회 위원장과 간사를 선임하겠고, 이어서 2011회계연도 완주군 세입세출 결산 승인안 및 예비비사용 승인안에 대한 심사를 진행하도록 하겠습니다. 본 특별위원회에서는 위원장이 선임될때까지 「완주군의회 위원회 조례」 제8조 제2항의 규정에 따라 위원중 최다선 위원이, 최다선 위원이 2인 이상일 경우에는 그중 연장자가 직무를 대행하도록 되어 있으므로 최다선 위원 중 연장위원이신 박종관 위원께서 위원장 직무를 대행하도록 하겠습니다.',\n",
       " '성원이 되었으므로 제182회 완주군의회 제1차 정례회 예산결산특별위원회 제1차 회의를 개의하겠습니다. 먼저 의사일정 제1항 위원장 및 간사 선임의 건을 상정합니다. 저는 예결특위 위원장으로서 재정 운영 전반에 대해 꼼꼼히 살펴 예산이 낭비되지 않고 군민의 삶의 질 향상과 완주발전의 원동력이 될 수 있도록 관련 안건 심사에 최선을 다하겠습니다.',\n",
       " '제182회 완주군의회(제1차정례회) 제 1 차 예산결산특별위원회회의록 완주 다음은 의사일정 제2항 2011회계연도 세입세출결산 승인안 심사의 건을 상정합니다. 전문위원 나오셔서 2011회계연도 완주군 세입세출결산 승인안과 2011회계연도 예비비사용 승인안에 대하여 일괄 검토보고 해주시기 바랍니다. 2011회계연도 세입세출결산 및 예비비사용 승인안에 대하여 일괄적으로 검토보고 드리겠습니다.',\n",
       " '기획감사실장께서는 나오셔서 2011년도 예비비사용 승인안에 대하여 제안설명 해주시기 바랍니다. 2011년도 예비비는 316억 3,200만원으로써 일반회계가 201억 2,200만원, 특별회계가 115억 8,300만원입니다. 이상으로 제182회 완주군의회 제1차 정례회 예산결산특별위원회 제1차 회의를 마치고 제2차 회의는 2012년 7월 19일 목요일 오전 10시에 개의하도록 하겠습니다.',\n",
       " '제209회 완주군의회(제2차정례회) 제 2 차 본회의회의록 완주 의석을 정돈하여 주시기 바랍니다. 성원이 되었으므로 제209회 완주군의회 제2차 정례회 제2차 본회의 개의를 선포합니다. 먼저 의사팀장으로부터 의회관련 사항에 대한 보고가 있겠습니다.',\n",
       " '존경하는 정성모 의장님 그리고 의원 여러분 오늘 제209회 완주군의회 제2차 정례회를 맞이하여 2016년도 군정운영방향에 대해 설명드리게 된 것을 매우 뜻깊게 생각합니다. 2015년도 군정 성과는 민선 6기 원년인 올해 완주군 개청 80주년을 맞는 뜻깊은 해로써 소통, 변화, 열정을 원칙으로 완전한 고을 완주의 내실 다지기와 외형 키우기를 통해 대한민국 으뜸도시 완주를 향한 힘찬 전진을 한 해였다고 생각합니다. 먼저 내년도 군정은 완전한 완주 대한민국 으뜸도시 완주의 발전을 가속화하기 위하여 더 크고 원대한 미래성장동력을 확충하는데 역점을 두었습니다.',\n",
       " '2016년도 예산안은 완주군의회 회의규칙 제61조의 규정에 의거 각 상임위원회로 회부하오니 각 상임위원회에서는 예비심사결과를 12월 7일까지 보고하여 주시기 바랍니다. 다음 의사일정 제3항 본회의 휴회의 건을 상정합니다. 이상으로 제209회 2차 정례회 제2차 본회의를 마치고 제3차 본회의는 12월 7일 오전 10시에 개의를 하겠습니다.',\n",
       " '성원이 되었으므로 지금부터 제150회 제2차 정례회 제1차 본회의를 개의하겠습니다. 먼저 사무과장으로부터 보고가 있겠습니다. 지방자치법 제38조 및 동법시행령 제19조4항, 음성군의회정례회의운영에관한조례 제4조의 규정에 의거 11월 23일 집행공고를 하고 오늘 소집하게 되었습니다.',\n",
       " '제150회 본회의 제1차(2004.11.29.) 음성 의사일정 제1항, 제150회 음성군의회 제2차 정례회 회기결정의건을 상정합니다. 제150회 음성군의회 제2차 정례회 회기는 음성군의회정례회의운영에관한조례 제4조제2항의 규정에 의하여 11월 29일부터 12월 24일까지 26일간으로 하고자 합니다. 그리고 배부하여 드린 유인물과 같이 의사일정을 결정하고자 하는데, 의원 여러분! 이의가 없으십니까? (「없습니다」하는 의원 있음) 이의가 없으므로 가결되었음을 선포합니다.(「의사일정」부록에 실음)',\n",
       " '제150회 본회의 제1차(2004.11.29.) 음성 의사일정 제2항, 회의록서명의원선출의건을 상정합니다. 제150회 제2차 정례회 회의록 서명 의원으로는 여러 의원님들께서 사전에 양해하여 주신대로 박희남 의원님, 강연수 의원님을 선출하고자 하는데, 의원 여러분! 이의가 없으십니까? (「없습니다」하는 의원 있음) 의원님들의 이의가 없으므로 박희남 의원님, 강연수 의원님이 회의록 서명 의원으로 선출되었음을 선포합니다. 두 분 의원님께서는 수고하여 주시기 바랍니다.',\n",
       " '제150회 제2차 정례회를 맞이하여 군정질문에관한관계공무원출석요구의건에 대하여 제안설명을 드리겠습니다. 먼저 주문으로 제150회 제2차 정례회에서 군정 전반에 관한 의원님들의 질문에 대한 답변을 듣고자 군수를 비롯한 관계 공무원의 출석을 요구하는 것입니다. 제안 이유로는 군정질문에 대한 답변을 통하여 군정을 올바로 파악하고 이해함과 동시에 군민의 고견을 군정에 반영하고자 제안하게 되었습니다.',\n",
       " '지방자치법 제36조 음성군의회 행정사무감사및조사에관한조례 제2조제1항 및 제2항의 규정에 의거 행정사무감사는 매년 제2차 정례회 기간중에 7일 이내로 행정사무감사특별위원회를 구성하여 협의된 감사계획서를 작성, 본회의의 승인을 얻어 행정사무감사를 실시하는 것으로 규정되어 있습니다. 따라서 동 조례 규정에 의하여 구성하게 될 2004년도 행정사무감사 특별위원회 구성은 의원 여러분께서 저에게 위임하여 주신 사항으로 일곱 분의 의원님으로 특별위원회를 구성하고자 합니다. 행정사무감사 특별위원회 위원으로는 이한철 의원님, 윤병승 의원님, 반광홍 의원님, 박희남 의원님, 강연수 의원님, 이준구 의원님, 정지태 의원님으로 구성하고자 합니다.',\n",
       " '제150회 본회의 제1차(2004.11.29.) 음성 의사일정 제6항, 예산결산특별위원회구성안을 상정합니다. 예산결산특별위원회 위원으로는 이한철 의원님, 윤병승 의원님, 반광홍 의원님, 박희남 의원님, 강연수 의원님, 이준구 의원님, 정지태 의원님으로 구성하고자 합니다. 그리고 특별위원회 운영기간은 제2차 정례회 기간 중 의사일정에 따라 2005년도 세입·세출예산안 및 기금운용계획안 심의와 2004년도 제3회 추가경정예산안을 심의하고자 합니다.',\n",
       " '제150회 본회의 제1차(2004.11.29.) 음성 의사일정 제7항, 음성군공중화장실설치및관리조례안을 상정합니다. 안건은 음성군공중화장실설치및관리조례안이고, 제안이유는 음성군공중화장실에대한관한 법률 제18조에서 위임한 사항과 그 시행에 필요한 사항을 규정하고 주민의 위생 편의와 복지증진을 목적으로 함이 이 조례의 제정이유입니다. 주요내용은 공중화장실을 설치·관리하는 자는 화장실을 항상 깨끗하고 위생적으로 유지·관리하고 편의용품 비치와 최적의 시설상태를 유지하도록 안 제4조에 규정되어 있습니다.',\n",
       " '제150회 본회의 제1차(2004.11.29.) 음성 의사일정 제8항, 음성군공유재산관리계획변경계획안을 상정합니다. 안건은 대소국민체육센터 건립이 되겠습니다. 앞으로 추진계획은 이번에 의원님들께서 변경계획안을 의결을 해주시면 12월에는 유연분묘 40기, 무연분묘 47기 총 87기에 대한 이장절차를 마치고, 내년도 1월 달에는 사유 토지를 취득할 계획입니다.',\n",
       " '따라서 본회의 휴회의 건은 의사일정으로 갈음하겠으니, 양해하여 주시기 바랍니다. 그리고 특별위원회 활동과 관련하여 오늘 11시 15분에 소회의실에서 특별위원회 회의를 개최하오니 참고하여 주시기 바랍니다. 별다른 의견이 없으십니까? (「없습니다」하는 의원 있음) 별다른 의견이 없으므로 산회를 선포합니다. (11시 02분 산회)',\n",
       " '성원이 되었으므로 지금부터 제200회 음성군의회 임시회 제2차 본회의를 개의하겠습니다. 윤병승 의원님 외 2인의 의원님으로부터 2월 10일 「지방자치법」제45조제2항의 규정에 의하여 임시회의 소집요구가 있어서 「지방자치법」 제45조제3항의 규정에 따라서 2월 10일자로 집회공고를 하였습니다. 음성군수로부터는 2008년도 행정사무감사 시정요구사항 조치결과 보고와 음성군 군민대상에 관한 조례 일부개정조례안, 음성군 공설운동장 설치 및 운영조례 폐지 조례안, 음성군 공동주택 관리지원조례 일부개정조례안 등 4건의 안건이 2월 10일자로 접수되어 오늘 임시회를 개최하게 되었습니다.',\n",
       " '음성군민대상은 권위와 가치가 있어야 함에도 매년 시상하다 보니 수상자 선정 등 분야별 추천인물이 빈약하여 군민대상의 취지를 살리지 못하고 있다는 주민 여론이 팽배합니다. 제15회 음성군 군민대상 심사위원회에서 시상시기와 산업, 경제부문 수상에 대한 문제점을 개선하자는 의견과 건의가 있어서 조례를 일부 개정하고자 합니다. 음성군 군민대상의 권위를 높여 수상자의 명예를 높이 평가하여 군민들로부터 자긍심과 긍지를 갖도록 하고 기업체 종사자에 대한 시상으로 음성군에 대한 관심과 공헌을 할 수 있도록 유도하여 지역경제 활성화를 도모하고자 하는 것으로 본 개정조례안을 상정하오니 심의ㆍ의결하여 주시기 바랍니다.',\n",
       " '제200회 본회의 제2차(2009.02.18.) 음성 의사일정 제2항, 음성군 공설운동장 설치 및 운영조례 폐지 조례안을 상정합니다. 음성군 공설운동장 설치 및 운영조례 폐지 조례안에 대해서 설명을 드리겠습니다. 개정이유는 음성군 공설운동장 설치 및 운영조례는 1989년 음성공설운동장 및 금왕공설운동장의 관리 및 운영을 규정한 조례로 음성공설운동장은 1990년 설성공원 조성부지로 편입되었으며, 금왕공설운동장은 2004년 금왕생활체육공원 대체 건립비로 매각 처분되어 음성군 공설운동장 설치 및 운영조례는 사실상 불필요한 조례로 폐지코자 하는 사항입니다.',\n",
       " '제200회 본회의 제2차(2009.02.18.) 음성 의사일정 제3항, 음성군 공동주택 관리지원 조례 일부개정조례안을 상정합니다. 도시건축과에서 제출ㆍ상정한 음성군 공동주택 관리지원 조례 일부개정조례안에 대한 설명을 드리겠습니다. 먼저 개정이유는 음성군 공동주택 관리지원 조례의 운영상 미비점을 보완하여 체계적이고 효율적인 공동주택 주거관리를 추진하기 위한 음성군 공동주택 관리지원 조례를 일부 개정해서 쾌적한 주거 환경 및 주거 수준 향상을 도모하고자 합니다.',\n",
       " '제200회 본회의 제2차(2009.02.18.) 음성 의사일정 제4항, 2008년도 행정사무감사 시정요구사항 조치결과 보고의 건을 상정합니다. 작년 제2차 정례회의 시 실시한 행정사무감사 지적사항에 대한 조치결과를 오늘부터 보고를 듣도록 하겠습니다. 오늘은 기획감사실, 주민생활복지과, 행정과, 문화공보과, 재무과, 종합민원과, 환경보호과, 농정과, 보건소 순으로 보고를 듣도록 하겠습니다.',\n",
       " '제198회 음성군의회 제2차 정례회 시 보고 드린 2008년도 행정사무감사에 대한 시정 및 건의사항에 대한 조치결과를 보고 드리겠습니다. 2쪽 총괄사항으로 공통사항 및 현지확인 외 시정요구사항을 포함하여 총 78건 중 시정조치 37건, 건의 29건, 자료제출 12건으로 자세한 내용은 각 실과소장으로 하여금 보고토록 하겠습니다. 당초예산 및 제1회 추경예산에 사업비를 확보해놓고 예산을 사장시키는 사례가 있는 바 사업을 조기에 발주토록 하라는 시정요구사항 조치결과로는 2009년도 지방재정 조기집행을 위해 상반기 발주 90%, 집행률 60%를 우리 군정의 최우선 목표로 설정하여 추진하고 있으며, 상반기 중 집중적인 재정투자로 지역경제 활성화에 만전을 기함은 물론 예산이 사장되는 일이 없도록 하겠습니다.',\n",
       " '저희 과에서 2008년도 행정사무감사에 시정요구사항이 4건입니다. 공통사항으로 공용재산 및 기업용 재산 관리 철저에 대해서 행정재산 중 공용재산 및 기업용 재산이 여러 필지로 되어 있는 부지에 대하여 하나의 지번으로 통합하여 관리에 철저를 기하기 바란다는 요구사항에 대해서 저희가 경로당을 관리하는데 삼성면 2필지를 1필지로 합병시켰으며, 감곡면 왕장리 3필지를 1필지로 합병을 시켰습니다. 민간단체 및 민간인에 대하여 선진 지식 습득 및 자질향상을 위해 해외연수를 실시하고 있는바, 해외연수 목적에 맞게 대상지를 적의 선정하여 효과성을 극대화하라는 건의사항에 대해서는 저희가 2009년도 예산에 보육시설관리자 해외연수와 위생협회 직원들 연수는 예산이 삭감됐는데 차후에 해외선진지 견학 시에는 연수목적에 적합한 대상지를 선정하도록 추진하겠습니다.',\n",
       " '이 내용은 1인 1혁신 제안제도를 운용함에 있어 22건 접수에 1건을 채택 시행하고 있는바, 해당 실과에서는 접수된 제안제도에 대하여 시행 가능한지 여부를 면밀히 검토하여 군정에 반영하는 등 사후관리에 철저를 기하라는 내용입니다. 부서검토를 통한 장기 추진과제 4건 등 시행 가능한 제안은 지속적으로 군정에 반영해서 추진하겠습니다. 또 국민신문고 제안시스템 상시 활용과 부서장 책임하에 제안채택 심사를 강화하고 우수제안자와 실시자 간에 공동포상 및 인센티브 부여로 제안채택 및 제도 활성화를 하도록 하겠습니다.',\n",
       " '2008년도 행정사무감사 시정요구사항 및 조치결과에 대해서 보고 드리도록 하겠습니다. 행정재산 중 공용재산 및 기업용 재산이 여러 필지로 되어 있는 부지에 대하여 하나의 지번으로 통합하여 관리에 철저를 기하기 바란다는 시정요구사항에 대해서 문화공보과 행정재산 중 관리재산은 종합운동장 외 6개소로서 무극전적국민관광지와 문화예술회관 2개소에 대하여는 합병 조치를 완료하였습니다. 그리고 현재 사업추진 중인 대소국민체육센터, 소이 소규모체육공원, 금왕생활체육공원은 사업 완료 후 합병조치토록 하겠습니다.',\n",
       " '재무과 소관 2008년도 행정사무감사 시정요구사항에 대한 조치결과는 총 7건으로 공동사항이 2건, 건의사항이 2건, 시정이 3건입니다. 국도비 반환금 및 불용액 최소화에 노력으로 실과소별로 국도비 반환금 및 불용액이 너무 많이 발생하고 있는데 사업추진 후 집행잔액을 반납하는 사례도 있지만, 사업대상자가 사업을 포기하거나 사업량을 과다 계상하여 사업비를 반환 및 불용처리하고 있어, 당초 사업계획 수립 및 검토를 철저히 하여 반납을 최소화하는데 최선의 노력을 다하기 바란다는 지적사항에 대해서 재무과의 2007년도 국유재산관리 도비보조금 집행현황은 예산액이 3,750만 5천원, 집행액이 2,193만 9,450원, 반납액이 1,556만 5,550원으로 다소 많았습니다. 지방세 및 세외수입 체납액 일소에 대책을 마련하라는 지적사항에 대해서는 지방세 체납액이 4만 4,578건에 52억 3,100만원이고, 세외수입은 31억 4,800만원으로 체납액이 많이 발생하고 있는바, 징수독려반을 편성하여 체납액 일소에 최선의 노력을 다하기 바람과 특히, 저소득주민 생활안정기금의 징수율을 보면 49.5%로 특별회계의 체납액이 많이 발생하고 있는바, 관련 부서와 협의하여 징수대책을 수립하기 바란다는 시정사항입니다.',\n",
       " '2008년도 행정사무감사 시정요구사항 조치결과를 보고 드리겠습니다. 저희 감사지적사항이 무주부동산 및 일본인 명의 토지 관리 철저입니다. 무주부동산 및 일본인 명의 토지에 대하여 적법한 절차에 맞는 토지대장 등 소유권이 정리될 수 있도록 해당 실과에 통보하여 관리하기 바란다는 의견을 주셔서 저희가 무주부동산 63건은 재무과 소관 10건, 건설교통과 소관 53건으로 작년도 12월 5일 무주부동산 현황을 통보하여 해당 부서에서 정리하도록 조치하였습니다.',\n",
       " '2008년도 환경보호과에 시정요구하신 사항이 총 4건으로 공통사항이 1건, 시정이 1건, 건의사항이 2건이 되겠습니다. 그리고 음성군 음성농공단지 폐수종말처리장 운영 및 비용 부담에 관한 조례를 2009년 2월 6일 조례 제1956호로 개정해서 환경보호과 소관 조례, 규칙 등을 모두 정비 완료하였습니다. 24쪽 응천 자연형 하천 정화사업 추진과 관련한 국도비 지원대책에 대한 조치결과입니다.',\n",
       " '공용재산 및 기업용재산 관리를 철저히 하라는 시정요구사항입니다. 행정재산 중 공용재산 및 기업용 재산이 여러 필지로 되어 있는 부지에 대하여 하나의 지번으로 통합하여 관리에 철저를 기하라는 내용입니다. 조치결과로 사업 초기 사업계획 수립 및 대상자 선정에 철저를 기하고 지도반을 편성하여 농가이해도를 높이는 등 포기자 발생 및 과다사업량이 책정되는 일이 없도록 적극적으로 추진 반환금 및 불용액 최소화에 노력하겠습니다.',\n",
       " '제200회 본회의 제2차(2009.02.18.) 음성 보건소장 홍형기입니다. 보건소 2008년도 행정사무감사 시정요구사항 및 건의사항 조치결과를 보고 드리겠습니다. 시정요구 및 건의사항은 총 5건으로 시정사항 2건, 건의사항 3건으로 3건은 완료고, 2건은 추진중에 있습니다.',\n",
       " '제308회 본회의 제2차(2019.02.15.) 음성 의석을 정돈하여 주시기 바랍니다. 성원이 되었으므로 지금부터 제308회 음성군의회 임시회 제2차 본회의를 개의하겠습니다.',\n",
       " '제308회 본회의 제2차(2019.02.15.) 음성 의사일정 제1항, 2019년도 주요업무 보고의 건을 상정합니다. 오늘은 미디어정보과, 평생학습과, 주민지원과, 사회복지과, 문화체육과, 균형개발과 순으로 보고를 받겠습니다. 원활한 회의 진행을 위하여 2018년 주요성과는 유인물로 갈음하고자 하오니 의원님들께서는 양해하여 주시기 바랍니다.',\n",
       " '제308회 본회의 제2차(2019.02.15.) 음성 미디어정보과장 김경호입니다. 음성군에서 금년에 미디어정보과를 신설을 한 것은 자치단체 활동이라든가 이런 것을 적극적으로 홍보를 해서 음성군의 위상을 조금 더 높이고 각 마을이라든가 우리 음성군 내에 어떤 문화시설이라든가 관광시설을 홍보하기 위해 한 걸로 알고 있습니다. 지난해 사실은 뉴스를 정기적으로 한 24회, 그다음에 마을탐방 외 나머지 영상을 한 36회 정도 제작하는 걸로 해서 계획은 잡혀 있는데, 실질적으로 뉴스는 월 2회 정기적으로 해서 24회를 한 것에 비해서 마을탐방이라든가 기업탐방, 부서탐방은 실제로 10회밖에 안했습니다.',\n",
       " '제308회 본회의 제2차(2019.02.15.) 음성 평생학습과장입니다. 평생학습과 소관 2019년도 주요업무를 보고드리겠습니다. (「2019년도 주요업무 계획」 부록에 실음) 이상으로 2019년도 평생학습과 주요업무 보고를 마치겠습니다. 15쪽 평생학습과 함께하는 음성행복교육ㆍ자유학기제 지원 거기 추진계획에 보면 민ㆍ관ㆍ학 연계 마을학교 공모사업이 있는데 이 사업은 어떤 사업이죠?',\n",
       " '제308회 본회의 제2차(2019.02.15.) 음성 주민지원과장입니다. 주민지원과 2019년도 주요업무를 보고드리겠습니다. (「2019년도 주요업무 계획」 부록에 실음) 이상으로 주민지원과 2019년도 주요업무 보고를 마치겠습니다. 서효석 의원님 질의하여 주시기 바랍니다.',\n",
       " '사회복지과 2019년 주요업무를 보고드리겠습니다. 실제로 경로당 노인회 회원 수라든지 마을 주민의 숫자를 계산해서 음성군에서 자부담 없이 신축을 해줄 수 있는 계획을 세울 수 없는지 그것에 대해서 질의를 드리고 싶고. 경로당이 일단 신축이 되고 나면 그다음에 에어컨이라든지 이런 부분을 또다시 지원을 해야 되지 않습니까? 과장님이 말씀하신 대로 3,500만원의 예산이 늘어났는데도 불구하고 실제로는 경로당을 신축하려면 5천만원 이상, 그 외로 알파가 필요한 그런 사항입니다.',\n",
       " '제308회 본회의 제2차(2019.02.15.) 음성 문화체육과장 안은숙입니다. 보고를 들으시고 질의하실 의원님 계시면 질의하여 주시기 바랍니다. 그런데 어떻게 하면 이용을 할 수 있나 이런 부분이 아직 홍보가 덜 된 것 같아요.',\n",
       " '제308회 본회의 제2차(2019.02.15.) 음성 균형개발과장입니다. 2019년도 주요업무 계획을 보고드리겠습니다. (「2019년도 주요업무 계획」 부록에 실음) 이상 균형개발과 2019년 주요업무 보고를 마치겠습니다. 서효석 의원님 질의하여 주시기 바랍니다.',\n",
       " '제132회 본회의 제5차(2003.07.18.) 음성 의석을 정돈하여 주시기 바랍니다. 성원이 되었으므로 지금부터 제132회 제1차 정례회 제5차 본회의를 개의하겠습니다. 먼저 사무과장의 보고가 있겠습니다.',\n",
       " '제132회 본회의 제5차(2003.07.18.) 음성 의사일정 제1항, 2002년도세입·세출결산및예비비지출승인의건을 상정합니다. 2002년도세입·세출결산및예비비지출승인안에 대하여 본 위원회에서 심사를 마치고 그 결과에 대하여 보고를 드리겠습니다. 세입·세출 결산의 총규모는 일반회계 1,823억 2,630만 7천원과 특별회계 575억 3,793만 5천원으로 총규모는 2,398억 6,424만2천원이며, 순세계잉여금은 824억 6,264만 8천원이 발생하였습니다.',\n",
       " '제132회 본회의 제5차(2003.07.18.) 음성 의사일정 제2항, 음성군건축조례중개정조례안을 상정합니다. 제안이유에 대해서는 건축법, 건축법시행령 개정과 국토의계획및이용에관한법률이 제정됨에 따라 재해위험구역안의 건축물의 건축제한 등 및 건축물과의 관계규정 중 건폐율, 용적율 등 관련규정을 폐지하고, 그 동안 운영과정에서 나타난 미비점을 개선 보완하려는 것입니다. 사 번, 재해위험구역안의 건축물은 건축법개정으로 삭제하고 충청북도 건축조례에 해당항목의 신설될 때까지 종전의 규정에 따르도록 부칙으로 정했습니다.',\n",
       " '제109회 본회의 제1차(2001.09.04.) 음성 의석을 정돈하여 주시기 바랍니다. 성원이 되었으므로 지금부터 제109회 음성군의회 임시회 제1차 본회의를 개의하겠습니다. 먼저 사무과장으로부터 보고가 있겠습니다.',\n",
       " '제109회 본회의 제1차(2001.09.04.) 음성 의사일정 제1항, 제109회 음성군의회임시회회기결정의건을 상정합니다. 제109회 음성군의회 임시회 회기는 여러 의원님들이 사전에 양해하여 주신 것과 같이 9월 4일부터 9월 10일까지 7일간으로 하고자 합니다. 그리고 배부하여 드린 유인물과 같이 의사일정을 결정하고자 하는데 의원 여러분! 이의 없으십니까? (「없습니다」하는 의원 있음) 이의가 없으므로 가결되었음을 선포합니다.',\n",
       " '제109회 본회의 제1차(2001.09.04.) 음성 의사일정 제2항, 회의록서명의원선출의건을 상정합니다. 제109회 임시회 회의록 서명 의원으로는 여러 의원님들이 사전에 양해하여 주신대로 남궁유 의원님, 김천봉 의원님을 선출하고자 하는데 의원 여러분, 이의 없으십니까? (「없습니다」하는 의원 있음) 이의가 없으므로 남궁유 의원님, 김천봉 의원님이 회의록 서명 의원으로 선출되었음을 선포합니다. 두 분 의원님께서는 수고하여 주시기 바랍니다.',\n",
       " '제109회 임시회를 맞이하여 2001년도 주요사업 현지 확인 특별위원회 구성결의안에 대하여 제안설명 드리겠습니다. 먼저, 주문으로 2001년도 주요사업에 대한 현지 확인을 통하여 사업의 완벽한 시공을 도모하고 사업추진 실태와 문제점을 파악하여 부실공사의 근원적 예방과 성실한 공사문화를 확립해 나가고자 합니다. 제안이유로는 2001년도 예산 편성된 사업에 대하여 직접 현장을 방문, 사업 추진상의 문제점을 도출하여 군정에 반영함은 물론, 설계에 의한 정확한 시공을 촉진하여 내실 있고 건실한 공사로 사업의 성과를 높이고자 제안하게 되었습니다.',\n",
       " '제109회 본회의 제1차(2001.09.04.) 음성 의사일정 제4항, 제109회임시회휴회의건은 금번 회기 중 주요사업 현지확인 특별위원회 활동을 하고자 하는 것으로 휴회의 건은 의사일정으로 갈음하겠으니 양해하여 주시기 바랍니다. 그리고 주요사업 현지 확인 특별위원회 활동과 관련하여 본 회의가 끝나는 대로 소회의실에서 특별위원회 회의를 개최하오니 참고하여 주시기 바랍니다. 별다른 의견이 없으십니까? (「없습니다」하는 의원 있음) 산회를 선포합니다.(10시 30분 산회)',\n",
       " '제68회 본회의 제1차(1997.09.24.) 음성 의석을 정돈하여 주시기 바랍니다. 성원이 되었으므로 지금부터 제68회 음성군의회 임시회 제1차 본회의를 개의하겠습니다. 먼저 의사과장으로부터 보고가 있겠습니다.',\n",
       " '제68회 본회의 제1차(1997.09.24.) 음성 의사일정 제1항 제68회 음성군 의회 임시회 회기결정의건을 상정 합니다. 제68회 음성군의회 임시회 회기는 여러 의원님들이 사전 양해하여 주신 것과 같이 9월 24일부터 9월 29일까지 6일간으로 하고자 합니다. 그리고 배부하여 드린 유인물과 같이 의사일정을 결정하고자 하는데 의원 여러분! 이의 없습니까? (「없습니다」하는 의원 있음) 이의가 없으므로 가결되었음을 선포합니다.',\n",
       " '제68회 본회의 제1차(1997.09.24.) 음성 의사일정 제2항 회의록 서명의원 선출의 건을 상정합니다. 제68회 임시회 회의록 서명의원으로는 여러 의원님들이 사전에 양해하여 주신대로 박희남 의원님, 권영득 의원님을 선출하고자 하는데 의원 여러분! 이의 없습니까? (「없습니다」하는 의원 있음) 이의가 없으므로 박희남 의원님, 권영득 의원님이 회의록 서명의원으로 선출되었음을 선포합니다. 두 분 의원께서는 수고하여 주시기 바랍니다.',\n",
       " '제68회 본회의 제1차(1997.09.24.) 음성 의사일정 제3항 1997년도 제2회 세입·세출추가경정예산안을 상정 합니다. 이번에 상정한 1997년도 제2회 추가경정 예산안 편성의 기본방향에 대하여 말씀드리면 첫째, 자체수입 목표액 초과 징수액의 추가 계상과 당초예산에 확보한 인건비 및 경상경비의 면밀한 재검토를 통한 잉여금을 소규모 주민숙원 사업비로 재투자하였고 둘째, 『님비현상』으로 지역 이기주의가 팽배하고 있는 이시기에 우리 관내에서도 야기되고 있는 지역민원을 해소하기 위한 대책사업의 추가확보와 셋째, 우리의 고장과 특산품에 대한 전국인지도를 높이고 지역 주민에 대한 행정서비스의 질을 개선하기 위한 사업비를 일부 계상하였으며, 넷째 계속사업 및 현재 추진 중인 시책사업 중에서 사업비의 부족이 예상되는 사업과 국. 도비 보조사업에서의 군비부담분과 특별교부세 사업도 계상하였습니다. 이와 같이 편성된 우리 군의 재정 규모는 기정예산 1,652억8천6백만원보다 39억1천1백만원이 증액된 1,691억9천8백만원이 되겠습니다.',\n",
       " '제68회 본회의 제1차(1997.09.24.) 음성 의사일정 제4항 예산결산특별위원회구성결의안을 상정합니다. 제2회 추경예산안에 대해서는 예산결산특별위원회를 구성해서 심의하기로 하고 의원님들께서 사전에 양해하여 주신대로 바로 특별위원회를 구성하도록 하겠습니다. 예산결산특별위원회 구성은 의원님들께서 8인으로 특별위원회를 구성하는 것으로 의견이 모아진 사항으로 사회자인 본인이 특별위원회 의원을 지명하겠습니다.',\n",
       " '제68회 본회의 제1차(1997.09.24.) 음성 의사일정 제5항, 음성군공유재산관리조례중개정조례안을 상정합니다. 먼저 제안사유로는 지방재정법과 동법시행령에 따라 지방자치단체가 공유재산관리 조례와 동 조례 시행규칙을 운영하고 있는바 국유재산법 시행령상의 국유재산 제도와 공유재산관리조례상의 공유재산 제도가 불균형하여 운영상의 일부 미비점을 보완하는 사항입니다. 주요골자를 말씀드리면 현행 생활보호법에 의한 보호대상자 및 영세농가에게 토지 매각 시 천재지변으로 인한 불가항력의 사고발생시, 폐천 부지를 대부받은 자에게 매각 시, 농경지를 대부받은 실경작자에게 매각 시 등에 적용하던 매각대금의 분할납부 대상을 확대하여 아파트형 공장용지, 산업단지개발 사업용지 중소기업자의 공장용지, 지방자치단체가 조성한 농공단지 및 유치한 공장용지로 매각하는 경우에도 매각대금을 분할 납부할 수 있도록 신설된 사항입니다.',\n",
       " '제68회 본회의 제1차(1997.09.24.) 음성 의사일정 제6항 음성군청소년수련원설치및운영조례중개정조례안을 상정합니다. 음성군 청소년 수련원 설치 및 운용 조례 중 개정 조례 안에 대하여 보고 드리겠습니다. 개정사유는 1996년 8월 3일 개원 이후 음성청소년수련원을 운영하고 있으나 일부 시설 이용료가 부적합하고 형평성이 결여되어 이를 시정하고 청소년 수련원 이용자들에게 균형 있고 형평성 있는 이용료를 적용하여 청소년 수련원 운영에 효율을 기하고자 개정하게 되었습니다.',\n",
       " '제68회 본회의 제1차(1997.09.24.) 음성 의사일정 제7항, 음성군정기시장관리및사용조례중개정조례안을 상정 합니다. 음성군 정기시장관리 및 사용조례중개정조례안에 대한 제안 설명을 드리겠습니다. 제안사유는 지난 7월 1일 공포 시행된 유통산업발전법이 제정되면서 종전에 시장관리 상위법인 도, 소매 진흥법이 폐지됨에 따라 상위법에 저촉되는 음성군 정기 시장관리 및 사용 조례를 개정하여 적법하게 추진하고자 함에 있습니다.',\n",
       " '성원이 되었으므로 지금부터 제270회 음성군의회 임시회 제2차 본회의를 개의하겠습니다. 2015년 8월 24일 예산결산특별위원회 제1차 회의에서 위원장에는 김윤희 위원이, 간사위원에는 우성수 위원이 선임되었으며, 김윤희 위원장으로부터 8월 24일부터 8월 27일까지 심사한 2015년도 제2회 세입·세출 추가경정예산안 및 기금운용계획 변경안 심사결과를 보고하겠다는 통보를 받았습니다. 2015년 8월 18일 우성수 의원 외 2인의 의원으로부터 음성군의회기 및 의원배지에 관한 규칙 일부개정규칙안, 음성군의회 의원 신분증 규칙 일부개정규칙안이, 같은 날짜로 이대웅 의원 외 2인의 의원으로부터 군정 질문·답변에 따른 군수 및 관계공무원 출석요구의 건이 각각 접수되었으며, 음성군수로부터는 8월 19일자로 음성군 장애인복지기금 설치 및 운용조례 일부개정조례안, 음성군 긴급복지지원에 관한 조례안, 음성군 노인복지기금 설치 및 운용관리 조례 일부개정조례안, 음성군 보육 조례 일부개정조례안, 음성군 문화예술공간 및 미술장식의 설치 조례 폐지 조례안, 음성군 공유재산 관리 조례 일부개정조례안이 각각 접수되어 오늘 임시회를 개최하게 되었습니다.',\n",
       " '제270회 본회의 제2차(2015.08.28.) 음성 의사일정 제1항, 2015년도 제2회 세입ㆍ세출 추가경정예산안 승인의 건, 의사일정 제2항, 2015년도 기금운용계획 변경안 승인의 건을 일괄 상정합니다. 그럼, 예산결산특별위원회에서 지난 8월 24일부터 8월 27일까지 심사한 2015년도 제2회 세입ㆍ세출 추가경정예산안 및 기금운용계획 변경안에 대한 심사결과보고를 듣겠습니다. 본 위원회에서 심사한 2015년도 제2회 추가경정예산안 총 예산규모는 5,068억 7,926만 3천원으로 일반회계 세입ㆍ세출예산은 4,232억 9,086만 8천원이고 11개 특별회계 예산은 835억 8,839만 5천원으로 편성되었으며, 3페이지부터 9페이지까지 일반회계 및 특별회계, 기금 세부사항은 유인물로 갈음하겠습니다.',\n",
       " '제270회 본회의 제2차(2015.08.28.) 음성 의사일정 제3항, 음성군의회기 및 의원배지에 관한 규칙 일부개정규칙안, 의사일정 제4항, 음성군의회 의원 신분증 규칙 일부개정규칙안을 일괄 상정합니다. 우성수 의원님께서 대표발의하신 본 안건에 대한 제안설명은 배부하여 드린 유인물로 설명을 갈음하고자 하며, 사전 의원간담회에서 충분히 협의한바 바로 의결하고자 합니다. 의사일정 제3항, 음성군의회기 및 의원배지에 관한 규칙 일부개정규칙안을 원안대로 의결하고자 하는데, 의원 여러분! 이의 없으십니까? (「없습니다」하는 의원 있음) 이의가 없으므로 음성군의회기 및 의원배지에 관한 규칙 일부개정규칙안은 원안대로 가결되었음을 선포합니다.',\n",
       " '제270회 본회의 제2차(2015.08.28.) 음성 의사일정 제5항, 군정 질문ㆍ답변에 따른 군수 및 관계공무원 출석요구의 건을 상정합니다. 본 안건은 제271회 임시회 기간 중 3일 동안 군정에 관한 질문ㆍ답변을 듣고자 군수 및 관계공무원의 출석을 요구하고자 하는 것으로 구체적인 내용은 배부하여 드린 유인물로 갈음하고 바로 의결하고자 하는데, 의원 여러분! 이의 없으십니까? (「없습니다」하는 의원 있음) 이의가 없으므로 의사일정 제5항, 군정 질문ㆍ답변에 따른 군수 및 관계공무원 출석요구의 건은 가결되었음을 선포합니다.',\n",
       " '제270회 본회의 제2차(2015.08.28.) 음성 의사일정 제6항, 음성군 장애인복지기금 설치 및 운영 조례 일부개정조례안, 의사일정 제7항, 음성군 긴급복지지원에 관한 조례안을 일괄 상정합니다. 주민생활지원과에서 제출한 음성군 장애인복지기금 설치 및 운용 조례 일부개정조례안 등 2건에 대하여 일괄 제안설명드리겠습니다. 음성군 장애인복지기금 운용의 목적 달성과 효율성 제고를 위하여 기금 운용 방법을 일부 개정하고자 하는 것으로 원안대로 심의ㆍ의결하여 주시기 바랍니다.',\n",
       " '제270회 본회의 제2차(2015.08.28.) 음성 의사일정 제8항, 음성군 노인복지기금 설치 및 운용관리 조례 일부개정조례안, 의사일정 제9항, 음성군 보육 조례 일부개정조례안을 일괄 상정합니다. 이자율이 계속 하락하여 사업추진이 어려우며 기금을 사장시키는 결과를 초래하고 있어 관련 조례를 현실에 맞게 개정하는 것으로 원안대로 심의ㆍ의결하여 주시기 바랍니다. 신규로 확충된 공립어린이집의 명칭과 위치를 별표에 추가하기 위하여 개정하는 것으로 원안대로 심의ㆍ의결하여 주시기 바랍니다.',\n",
       " '제270회 본회의 제2차(2015.08.28.) 음성 의사일정 제10항, 음성군 문화예술공간 및 미술장식의 설치 조례 폐지 조례안을 상정합니다. 폐지이유는 「문화예술진흥법」제9조 및 같은 법 시행령 제13조에 건축물에 대한 미술작품의 설치에 관한 위임사항이 시도지사에게 신청하도록 개정되었으며, 「충청북도 문화예술진흥에 관한 조례」가 상기 위임사항을 포함하여 개정됨에 따라 본 조례를 폐지하고자 하는 것입니다. 의사일정 제10항, 음성군 문화예술공간 및 미술장식의 설치 조례 폐지 조례안을 원안대로 의결하고자 하는데, 의원 여러분! 이의 없으십니까？ (「없습니다」하는 의원 있음) 이의가 없으므로, 음성군 문화예술공간 및 미술장식의 설치 조례 폐지 조례안은 원안대로 가결되었음을 선포합니다.',\n",
       " '제270회 본회의 제2차(2015.08.28.) 음성 의사일정 제11항, 음성군 공유재산 관리 조례 일부개정조례안을 상정합니다. 의안번호 제127호, 회계과에서 제출한 음성군 공유재산 관리 조례 일부개정조례안에 대하여 제안설명드리겠습니다. 상위법령의 개정에 따라 효율적인 공유재산 관리를 위하여 본 조례의 일부를 개정하는 것으로 원안대로 심의ㆍ의결하여 주시기 바랍니다.',\n",
       " '제270회 본회의 제2차(2015.08.28.) 음성 의사일정 제12항, 휴회의 건을 상정합니다. 제270회 임시회 휴회의 건은 이번 회기 중 비교견학을 위하여 8월 31일부터 9월 1일까지 휴회하고자 하는 것인데, 의원 여러분! 이의 없으십니까？ (「없습니다」하는 의원 있음) 이의가 없으므로, 가결되었음을 선포합니다. 의원 여러분! 다른 의견 없으십니까? (「없습니다」하는 의원 있음) 다른 의견이 없으므로 산회를 선포합니다.(11시42분 산회)',\n",
       " '성원이 되었으므로 지금부터 제287회 음성군의회 임시회 제3차 본회의를 개의하겠습니다. 안건 처리에 앞서 한동완 의원님께서 5분 자유발언을 신청하셨습니다. 한동완 의원님께서는 나오셔서 발언하여 주시기 바랍니다.',\n",
       " '본 의원은 성본산단과 관련하여 수차례 의원간담회에서 성본산단 문제를 거론하였습니다. 오늘은 성본산단 진행의 불법성을 중심으로 말씀드리겠습니다. 첫째, 2015년 3월 진행한 정부의 투ㆍ융자심사의 불법성에 대해서 말씀드리겠습니다.',\n",
       " '제287회 본회의 제3차(2017.03.17.) 음성 의사일정 제1항 음성군 노인일자리 창출 및 지원 조례안을 상정합니다. 본 조례안에 대한 제정이유는 최근 급격히 급증하고 있는 노인인구가 사회문제로 대두되고 있는데 근로능력과 의욕은 있지만 일자리를 얻지 못하여 경제적인 어려움은 물론 사회적 관심 밖에서 외롭게 여생을 보내고 있는 많은 노인분들의 문제를 더 이상 방관할 수 없어 이들을 위하여 적합한 직종의 개발과 보급을 통하여 사회참여와 근로소득 기회를 제공하고자 제정하는 것입니다. 노인분들이 안정적인 노후생활과 활기찬 노후를 보낼 수 있도록 제정하고자 하는 것으로 원안대로 심의ㆍ의결해 주시기 바랍니다.',\n",
       " '제287회 본회의 제3차(2017.03.17.) 음성 의사일정 제2항, 2016회계연도 결산검사위원 선임 및 검사기간 결정의 건을 상정합니다. 결산검사위원은 「지방자치법 시행령」제83조와 「음성군 결산검사위원 선임 및 운영에 관한 조례」제3조에 따라 선임하고자 합니다. 의원님들께서 협의하여 주신 대로 대표위원으로는 한동완 의원님, 위원으로는 손수종 전 음성군의회 의장님, 안용섭 전 기획감사실장님, 김종태 청석세무회계사무소장님, 황언구 님을 선임하고자 하며, 결산검사 기간은 4월 3일부터 4월 21일까지 19일간으로 하고자 합니다.',\n",
       " '제287회 본회의 제3차(2017.03.17.) 음성 의사일정 제3항, 원남산업단지 내 매립 폐기물 조사에 관한 청원을 상정합니다. 존경하는 의장님, 그리고 동료 의원 여러분! 본 의원이 대표로 원남산업단지 내 매립 폐기물 조사에 관한 청원에 대한 취지를 설명드리겠습니다. 원남산업단지는 음성군의 경제발전 및 인구유입 차원에서 조성되었는데 이러한 원남산업단지 내에서 폐기물처리업체가 불법으로 산업폐기물을 매립하였다는 원남면 주민뿐만 아니라 음성읍, 소이면 주민들의 조사 요청이 있었습니다.',\n",
       " '제287회 본회의 제3차(2017.03.17.) 음성 의사일정 제4항, 음성군 부동산평가위원회 조례 전부개정조례안을 상정합니다. 민원과에서 제출한 의안번호 제274호, 음성군 부동산 평가위원회 조례 전부개정조례안에 대하여 제안설명드리겠습니다. 이번 민원과에서 제출한 개정 조례안은 상위법령 개정에 따른 동 조례안을 전부개정하고자 하는 것이며, 가격공시제도를 명확히 함으로써 감정평가사의 업무와 분리하여 제도의 발전과 운영상 미비점을 보완하고자 본 조례를 개정하고자 하는 것으로 원안대로 심의ㆍ의결하여 주시기 바랍니다.',\n",
       " '제287회 본회의 제3차(2017.03.17.) 음성 의사일정 제5항, 전국 농어촌지역 군수협의회 규약 동의안을 상정합니다. 제안이유는 농어촌의 지역특성을 공유하고 있는 전국의 군 상호 간의 연대와 협력을 통하여 관련된 현안사항 및 사무를 보다 발전적으로 처리함으로써 농어촌지역의 경쟁력 강화 및 공동발전, 주민 삶의 질 향상 등을 추구하고자 전국 농어촌지역 군수협의회를 구성하였으며, 「지방자치법」제152조제2항에 따라 행정협의회의 규약을 정하여 의회의 의결을 얻고자 하는 것입니다. 주요 내용으로 명칭은 전국 농어촌지역 군수협의회이며, 구성은 전국 군 단위 지방자치단체가 그 대상이 됩니다.',\n",
       " '제287회 본회의 제3차(2017.03.17.) 음성 의사일정 제6항, 고려인삼 시군협의회 규약 동의안을 상정합니다. 고려인삼 종주국의 위상 확립과 인삼산업 위기 공동대응 및 상생과 공동발전을 위하여 고려인삼 시군협의회의 협력 방안을 모색하기 위해 규약을 마련하는 것으로서 지난 3월 7일 정례 의원간담회 시 보고드린 사항으로 원안대로 승인하여 주시기 바랍니다. 본 동의안은 2017년 3월 7일 의원간담회에서 사전설명이 있었으며, 「지방자치법」제39조의 규정에 의한 지방의회의 의결사항입니다.',\n",
       " '제287회 본회의 제3차(2017.03.17.) 음성 의사일정 제7항, 「음성군 가축분뇨공공처리시설 설치사업」 음성 군관리계획 결정(변경)(안)을 상정합니다. 제안근거는 「국토의 계획 및 이용에 관한 법률」제28조 규정에 따라 의회 의견을 청취하고자 하는 사항이며, 제안이유는 음성군에서 발생하는 가축분뇨가 음식물류 폐기물을 안정적으로 처리하고 환경오염 방지에 기여하기 위하여 가축분뇨공공처리시설을 설치하고자 하는 사항으로 군계획시설인 수질오염 방지시설 결정과 용도지역을 농림지역에서 계획관리지역으로 변경하고자 하는 사항입니다. 본 안건은 음성군 관내 가축분뇨와 음식물폐기물을 안정적으로 처리하기 위하여 가축분뇨공공처리시설을 수질오염 방지시설로 결정하고, 농업진흥지역 내 음식물폐기물 처리시설의 설치가 불가함에 따라 농업진흥지역을 해제하여 사업대상자의 용도지역을 계획관리지역으로 변경하고자 하는 사항으로 원안대로 의결하여 주시기 바랍니다.',\n",
       " '성원이 되었으므로 지금부터 제174회 음성군의회 임시회 제2차 본회의를 개의하겠습니다. 먼저 의회사무과장으로부터 보고가 있겠습니다. 2006년 10월 10일 제1차 본회의에서 의결한 음성군 자원봉사활동 지원조례안과 음성군 자연재난 인명피해 심의위원회 구성 및 운영조례 폐지조례안, 그리고 음성군 지방공기업 상수도사업 설치조례안은 10월 10일자로 집행기관에 이송하였습니다.',\n",
       " '제174회 본회의 제2차(2006.10.16.) 음성 의사일정 제1항, 제174회 음성군의회 임시회 회기 연장의 건을 상정합니다. 제174회 음성군의회 임시회 회기는 당초 지난 10월 10일부터 오늘까지 7일간으로 결정되었으나 금번 임시회에서 구성되어 운영중인 농협 축산물공판장 이전관련 현지확인 특별위원회에서 위원회 활동기간의 연장안을 발의·제의함에 따라 사전에 의원님들께서 협의하여 주신대로 10월 20일까지 4일간 연장의 건을 음성군의회 회의규칙 제12조제1항에 의거 제의하고자 합니다. 그리고 금번 임시회 회기연장에 따른 임시회 의사일정 변경안은 배부하여 유인물과 같이 의사일정을 결정하고자 하는데, 의원 여러분! 이의가 없으신지요? (「없습니다」하는 의원 있음) 이의가 없으므로 가결되었음을 선포합니다.',\n",
       " '제174회 본회의 제2차(2006.10.16.) 음성 의사일정 제2항, 농협 축산물공판장 이전관련 현지확인 특별위원회 활동기간 연장의 건을 상정합니다. 특별위원회를 대표하여 정태완 위원장님께서는 나오셔서 발의하신 본 연장안에 대하여 제안설명하여 주시기 바랍니다. 따라서 이러한 특위 활동 과정에서 도출된 모든 내용들을 면밀히 분석하여 보충자료를 추가로 수집·검토하여 토론하는 등 충분한 활동기간을 확보하여 최선의 결론을 내리고자 활동기간을 추가로 연장하여 심사에 보다 더 심혈을 기울이고자 하는 것입니다.',\n",
       " '제174회 본회의 제2차(2006.10.16.) 음성 의사일정 제3항, 음성군 대소도서관 관리운영 조례안을 상정합니다. 문화공보과에서 제출한 음성군 대소도서관 관리운영조례안에 대하여 설명 드리도록 하겠습니다. 제안자 의견으로는 군민의 정서함양 및 면학공간 확충과 평생교육 기반을 조성하기 위하여 신축된 대소도서관의 효율적인 관리·운영에 필요한 조례를 마련하려는 것으로 원안대로 제정·심의하여 주시면 고맙겠습니다.',\n",
       " '지역보건의료계획은 지역보건법 제3조 및 동법시행령 제5조에 의거 4년마다 수립하도록 규정되어 있고 2007년부터 2010년까지 4년 계획입니다. 본 계획은 보건사업의 원활한 추진과 의료기관 및 사회복지시설과 연계하여 보건의료혜택이 균등하고 포괄적으로 제공되어 주민의 건강한 삶을 영위할 수 있도록 함에 기본목적이 있습니다. 2006년 5월 음성군 지역보건의료계획심의위원회를 정비하고, 지역보건 의료계획 수립팀을 구성하여 우리 지역의 보건의료분야에 대한 현황과 자료를 수집하고 주민의견을 반영하고자 주민설문조사를 실시하였습니다.']"
      ]
     },
     "execution_count": 29,
     "metadata": {},
     "output_type": "execute_result"
    }
   ],
   "source": [
    "ext_result[:10]"
   ]
  },
  {
   "cell_type": "code",
   "execution_count": 31,
   "metadata": {
    "id": "JZWYf38x3izU"
   },
   "outputs": [],
   "source": [
    "submission = pd.read_csv('/content/drive/MyDrive/DACON_LG/data/sample_submission.csv')"
   ]
  },
  {
   "cell_type": "code",
   "execution_count": 32,
   "metadata": {
    "colab": {
     "base_uri": "https://localhost:8080/",
     "height": 419
    },
    "id": "LF0rDOZo9wrw",
    "outputId": "5bc118a7-b8e2-44d4-9332-f99b5edc8b03"
   },
   "outputs": [
    {
     "data": {
      "text/html": [
       "<div>\n",
       "<style scoped>\n",
       "    .dataframe tbody tr th:only-of-type {\n",
       "        vertical-align: middle;\n",
       "    }\n",
       "\n",
       "    .dataframe tbody tr th {\n",
       "        vertical-align: top;\n",
       "    }\n",
       "\n",
       "    .dataframe thead th {\n",
       "        text-align: right;\n",
       "    }\n",
       "</style>\n",
       "<table border=\"1\" class=\"dataframe\">\n",
       "  <thead>\n",
       "    <tr style=\"text-align: right;\">\n",
       "      <th></th>\n",
       "      <th>uid</th>\n",
       "      <th>summary</th>\n",
       "    </tr>\n",
       "  </thead>\n",
       "  <tbody>\n",
       "    <tr>\n",
       "      <th>0</th>\n",
       "      <td>id_2000-AGENDA_1</td>\n",
       "      <td>요약문</td>\n",
       "    </tr>\n",
       "    <tr>\n",
       "      <th>1</th>\n",
       "      <td>id_2000-AGENDA_2</td>\n",
       "      <td>요약문</td>\n",
       "    </tr>\n",
       "    <tr>\n",
       "      <th>2</th>\n",
       "      <td>id_2000-AGENDA_3</td>\n",
       "      <td>요약문</td>\n",
       "    </tr>\n",
       "    <tr>\n",
       "      <th>3</th>\n",
       "      <td>id_2000-AGENDA_4</td>\n",
       "      <td>요약문</td>\n",
       "    </tr>\n",
       "    <tr>\n",
       "      <th>4</th>\n",
       "      <td>id_2000-AGENDA_5</td>\n",
       "      <td>요약문</td>\n",
       "    </tr>\n",
       "    <tr>\n",
       "      <th>...</th>\n",
       "      <td>...</td>\n",
       "      <td>...</td>\n",
       "    </tr>\n",
       "    <tr>\n",
       "      <th>501</th>\n",
       "      <td>id_2096-AGENDA_2</td>\n",
       "      <td>요약문</td>\n",
       "    </tr>\n",
       "    <tr>\n",
       "      <th>502</th>\n",
       "      <td>id_2096-AGENDA_3</td>\n",
       "      <td>요약문</td>\n",
       "    </tr>\n",
       "    <tr>\n",
       "      <th>503</th>\n",
       "      <td>id_2096-AGENDA_4</td>\n",
       "      <td>요약문</td>\n",
       "    </tr>\n",
       "    <tr>\n",
       "      <th>504</th>\n",
       "      <td>id_2096-AGENDA_5</td>\n",
       "      <td>요약문</td>\n",
       "    </tr>\n",
       "    <tr>\n",
       "      <th>505</th>\n",
       "      <td>id_2096-AGENDA_6</td>\n",
       "      <td>요약문</td>\n",
       "    </tr>\n",
       "  </tbody>\n",
       "</table>\n",
       "<p>506 rows × 2 columns</p>\n",
       "</div>"
      ],
      "text/plain": [
       "                  uid summary\n",
       "0    id_2000-AGENDA_1     요약문\n",
       "1    id_2000-AGENDA_2     요약문\n",
       "2    id_2000-AGENDA_3     요약문\n",
       "3    id_2000-AGENDA_4     요약문\n",
       "4    id_2000-AGENDA_5     요약문\n",
       "..                ...     ...\n",
       "501  id_2096-AGENDA_2     요약문\n",
       "502  id_2096-AGENDA_3     요약문\n",
       "503  id_2096-AGENDA_4     요약문\n",
       "504  id_2096-AGENDA_5     요약문\n",
       "505  id_2096-AGENDA_6     요약문\n",
       "\n",
       "[506 rows x 2 columns]"
      ]
     },
     "execution_count": 32,
     "metadata": {},
     "output_type": "execute_result"
    }
   ],
   "source": [
    "submission"
   ]
  },
  {
   "cell_type": "code",
   "execution_count": 33,
   "metadata": {
    "id": "bzp74H80_5hb"
   },
   "outputs": [],
   "source": [
    "ext_result = pd.Series(ext_result)"
   ]
  },
  {
   "cell_type": "code",
   "execution_count": 34,
   "metadata": {
    "id": "EkjY_8TMFQyU"
   },
   "outputs": [],
   "source": [
    "submission['summary'] = ext_result"
   ]
  },
  {
   "cell_type": "code",
   "execution_count": 35,
   "metadata": {
    "colab": {
     "base_uri": "https://localhost:8080/"
    },
    "id": "9ThFMdJIE3am",
    "outputId": "6719cd44-df1b-4d4f-f40e-56b306f68909"
   },
   "outputs": [
    {
     "data": {
      "text/plain": [
       "506"
      ]
     },
     "execution_count": 35,
     "metadata": {},
     "output_type": "execute_result"
    }
   ],
   "source": [
    "len(submission)"
   ]
  },
  {
   "cell_type": "code",
   "execution_count": 43,
   "metadata": {
    "colab": {
     "base_uri": "https://localhost:8080/"
    },
    "id": "6lR46LTLU4Ol",
    "outputId": "485bd67f-d26e-41e7-81c3-1d73b6c40315"
   },
   "outputs": [
    {
     "data": {
      "text/plain": [
       "0      성원이 되었으므로 지금부터 음성군의회 제235회 제1차 정례회 제1차 본회의를 개의...\n",
       "1      제235회 본회의 제1차(2012.06.21.) 음성 의사일정 제1항, 음성군의회 ...\n",
       "2      제235회 본회의 제1차(2012.06.21.) 음성 의사일정 제2항, 회의록 서명...\n",
       "3      제235회 본회의 제1차(2012.06.21.) 음성 의사일정 제3항, 예산결산특별...\n",
       "4      제235회 제1차 정례회 제1차 본회의를 맞이하여 음성군 환경분야 현지확인을 발의하...\n",
       "                             ...                        \n",
       "501    제174회 본회의 제2차(2006.10.16.) 음성 의사일정 제1항, 제174회 ...\n",
       "502    제174회 본회의 제2차(2006.10.16.) 음성 의사일정 제2항, 농협 축산물...\n",
       "503    제174회 본회의 제2차(2006.10.16.) 음성 의사일정 제3항, 음성군 대소...\n",
       "504    지역보건의료계획은 지역보건법 제3조 및 동법시행령 제5조에 의거 4년마다 수립하도록...\n",
       "505    0    제174회 임시회 휴회의 건은 농협축산물공판장 이전관련 현지확인 특별위원회...\n",
       "Name: summary, Length: 506, dtype: object"
      ]
     },
     "execution_count": 43,
     "metadata": {},
     "output_type": "execute_result"
    }
   ],
   "source": [
    "submission"
   ]
  },
  {
   "cell_type": "code",
   "execution_count": 45,
   "metadata": {
    "id": "dbP4pKHo6gpR"
   },
   "outputs": [],
   "source": [
    "submission.to_csv('/content/drive/MyDrive/DACON_LG/data/dacon_pororo_extract.csv', index=False)"
   ]
  },
  {
   "cell_type": "code",
   "execution_count": null,
   "metadata": {
    "id": "XTsk35tQGQoJ"
   },
   "outputs": [],
   "source": []
  }
 ],
 "metadata": {
  "accelerator": "GPU",
  "colab": {
   "collapsed_sections": [],
   "machine_shape": "hm",
   "name": "LG-Summarization-Pororo.ipynb",
   "provenance": []
  },
  "hide_input": false,
  "kernelspec": {
   "display_name": "Python 3",
   "language": "python",
   "name": "python3"
  },
  "language_info": {
   "codemirror_mode": {
    "name": "ipython",
    "version": 3
   },
   "file_extension": ".py",
   "mimetype": "text/x-python",
   "name": "python",
   "nbconvert_exporter": "python",
   "pygments_lexer": "ipython3",
   "version": "3.8.8"
  },
  "latex_envs": {
   "LaTeX_envs_menu_present": true,
   "autoclose": false,
   "autocomplete": true,
   "bibliofile": "biblio.bib",
   "cite_by": "apalike",
   "current_citInitial": 1,
   "eqLabelWithNumbers": true,
   "eqNumInitial": 1,
   "hotkeys": {
    "equation": "Ctrl-E",
    "itemize": "Ctrl-I"
   },
   "labels_anchors": false,
   "latex_user_defs": false,
   "report_style_numbering": false,
   "user_envs_cfg": false
  },
  "toc": {
   "base_numbering": 1,
   "nav_menu": {},
   "number_sections": true,
   "sideBar": true,
   "skip_h1_title": false,
   "title_cell": "Table of Contents",
   "title_sidebar": "Contents",
   "toc_cell": false,
   "toc_position": {},
   "toc_section_display": true,
   "toc_window_display": false
  }
 },
 "nbformat": 4,
 "nbformat_minor": 1
}
